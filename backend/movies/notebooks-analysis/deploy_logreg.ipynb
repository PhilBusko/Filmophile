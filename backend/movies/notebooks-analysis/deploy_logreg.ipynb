{
 "cells": [
  {
   "cell_type": "markdown",
   "metadata": {},
   "source": [
    "# Analysis: Development\n",
    "\n",
    "Workflow: 9B\n",
    "\n",
    "Goal: Create classification code that can run on server, and store results to database."
   ]
  },
  {
   "cell_type": "code",
   "execution_count": 1,
   "metadata": {},
   "outputs": [],
   "source": [
    "import os, sys, time\n",
    "import pandas as PD\n",
    "import numpy as NP\n",
    "\n",
    "import sklearn.impute as IM\n",
    "import sklearn.preprocessing as PP\n",
    "import sklearn.decomposition as DC\n",
    "import sklearn.linear_model as LM"
   ]
  },
  {
   "cell_type": "code",
   "execution_count": 2,
   "metadata": {},
   "outputs": [],
   "source": [
    "from IPython.core.interactiveshell import InteractiveShell\n",
    "InteractiveShell.ast_node_interactivity = 'all'"
   ]
  },
  {
   "cell_type": "code",
   "execution_count": 3,
   "metadata": {},
   "outputs": [
    {
     "data": {
      "text/plain": [
       "'app_proj.settings'"
      ]
     },
     "execution_count": 3,
     "metadata": {},
     "output_type": "execute_result"
    }
   ],
   "source": [
    "os.chdir(os.getenv('PWD'))\n",
    "sys.path.insert(0, os.getenv('PWD'))\n",
    "os.environ.setdefault('DJANGO_SETTINGS_MODULE', 'settings.py')\n",
    "import django\n",
    "django.setup()"
   ]
  },
  {
   "cell_type": "code",
   "execution_count": 4,
   "metadata": {},
   "outputs": [],
   "source": [
    "import app_proj.settings as ST\n",
    "import movies.models.models as MD\n",
    "import movies.models.analysis as NL"
   ]
  },
  {
   "cell_type": "markdown",
   "metadata": {},
   "source": [
    "## Target & Features"
   ]
  },
  {
   "cell_type": "code",
   "execution_count": 5,
   "metadata": {},
   "outputs": [
    {
     "name": "stdout",
     "output_type": "stream",
     "text": [
      "<class 'pandas.core.frame.DataFrame'>\n",
      "RangeIndex: 17668 entries, 0 to 17667\n",
      "Columns: 605 entries, Movie_ID to Western\n",
      "dtypes: float64(5), int64(599), object(1)\n",
      "memory usage: 81.6+ MB\n"
     ]
    }
   ],
   "source": [
    "FEATURE_FILE = os.path.join(ST.BASE_DIR, NL.FEATURE_PATH)\n",
    "feature_all_df = PD.read_csv(FEATURE_FILE)\n",
    "feature_all_df.info()"
   ]
  },
  {
   "cell_type": "code",
   "execution_count": 6,
   "metadata": {
    "scrolled": true
   },
   "outputs": [
    {
     "name": "stdout",
     "output_type": "stream",
     "text": [
      "<class 'pandas.core.frame.DataFrame'>\n",
      "RangeIndex: 591 entries, 0 to 590\n",
      "Data columns (total 3 columns):\n",
      "Movie_ID    591 non-null int64\n",
      "User        591 non-null object\n",
      "Vote        591 non-null int64\n",
      "dtypes: int64(2), object(1)\n",
      "memory usage: 14.0+ KB\n"
     ]
    }
   ],
   "source": [
    "target_ls = MD.UserVotes.objects.values()\n",
    "target_df = PD.DataFrame(target_ls).drop(columns=['id'])\n",
    "target_df.info()"
   ]
  },
  {
   "cell_type": "code",
   "execution_count": 7,
   "metadata": {},
   "outputs": [
    {
     "name": "stdout",
     "output_type": "stream",
     "text": [
      "<class 'pandas.core.frame.DataFrame'>\n",
      "Int64Index: 591 entries, 27 to 17513\n",
      "Columns: 605 entries, Movie_ID to Western\n",
      "dtypes: float64(5), int64(599), object(1)\n",
      "memory usage: 2.7+ MB\n"
     ]
    }
   ],
   "source": [
    "feature_wtarget_df = feature_all_df.loc[feature_all_df['Movie_ID'].isin(target_df['Movie_ID'])==True]\n",
    "feature_wtarget_df.info()"
   ]
  },
  {
   "cell_type": "code",
   "execution_count": 8,
   "metadata": {
    "scrolled": true
   },
   "outputs": [
    {
     "name": "stdout",
     "output_type": "stream",
     "text": [
      "<class 'pandas.core.frame.DataFrame'>\n",
      "Int64Index: 17077 entries, 0 to 17667\n",
      "Columns: 605 entries, Movie_ID to Western\n",
      "dtypes: float64(5), int64(599), object(1)\n",
      "memory usage: 79.0+ MB\n"
     ]
    }
   ],
   "source": [
    "feature_topred_df = feature_all_df.loc[feature_all_df['Movie_ID'].isin(target_df['Movie_ID'])==False]\n",
    "feature_topred_df.info()"
   ]
  },
  {
   "cell_type": "markdown",
   "metadata": {},
   "source": [
    "## Train Algorithm"
   ]
  },
  {
   "cell_type": "code",
   "execution_count": 9,
   "metadata": {},
   "outputs": [
    {
     "data": {
      "text/plain": [
       "(591, 603)"
      ]
     },
     "execution_count": 9,
     "metadata": {},
     "output_type": "execute_result"
    },
    {
     "data": {
      "text/plain": [
       "(591,)"
      ]
     },
     "execution_count": 9,
     "metadata": {},
     "output_type": "execute_result"
    }
   ],
   "source": [
    "X_np = NP.array(feature_wtarget_df.drop(columns=['Movie_ID', 'Title']))\n",
    "y_np = NP.array(target_df['Vote'])\n",
    "\n",
    "X_np.shape\n",
    "y_np.shape"
   ]
  },
  {
   "cell_type": "code",
   "execution_count": 10,
   "metadata": {},
   "outputs": [
    {
     "data": {
      "text/plain": [
       "(591, 603)"
      ]
     },
     "execution_count": 10,
     "metadata": {},
     "output_type": "execute_result"
    }
   ],
   "source": [
    "imputer = IM.SimpleImputer(missing_values=NP.nan, strategy='mean')\n",
    "X_impute = imputer.fit_transform(X_np)\n",
    "X_impute.shape"
   ]
  },
  {
   "cell_type": "code",
   "execution_count": 11,
   "metadata": {},
   "outputs": [
    {
     "data": {
      "text/plain": [
       "(591, 603)"
      ]
     },
     "execution_count": 11,
     "metadata": {},
     "output_type": "execute_result"
    }
   ],
   "source": [
    "scaler = PP.StandardScaler()\n",
    "X_scale = scaler.fit_transform(X_impute)\n",
    "X_scale.shape"
   ]
  },
  {
   "cell_type": "code",
   "execution_count": 12,
   "metadata": {},
   "outputs": [
    {
     "data": {
      "text/plain": [
       "LogisticRegression(C=0.001, class_weight=None, dual=False, fit_intercept=True,\n",
       "                   intercept_scaling=1, l1_ratio=None, max_iter=2000,\n",
       "                   multi_class='auto', n_jobs=None, penalty='l1',\n",
       "                   random_state=None, solver='liblinear', tol=0.0001, verbose=0,\n",
       "                   warm_start=False)"
      ]
     },
     "execution_count": 12,
     "metadata": {},
     "output_type": "execute_result"
    }
   ],
   "source": [
    "MAX_ITER = 2000\n",
    "LAMBDA = 1e3\n",
    "\n",
    "logreg = LM.LogisticRegression(solver='liblinear', penalty='l1', C=(1/LAMBDA), multi_class='auto', max_iter=MAX_ITER)\n",
    "logreg.fit(X_scale, y_np)"
   ]
  },
  {
   "cell_type": "markdown",
   "metadata": {},
   "source": [
    "## Predict Unwatched Movies"
   ]
  },
  {
   "cell_type": "code",
   "execution_count": 13,
   "metadata": {
    "scrolled": true
   },
   "outputs": [
    {
     "data": {
      "text/plain": [
       "(17077, 603)"
      ]
     },
     "execution_count": 13,
     "metadata": {},
     "output_type": "execute_result"
    }
   ],
   "source": [
    "X_pred = NP.array(feature_topred_df.drop(columns=['Movie_ID', 'Title']))\n",
    "X_pred.shape"
   ]
  },
  {
   "cell_type": "code",
   "execution_count": 14,
   "metadata": {},
   "outputs": [
    {
     "data": {
      "text/plain": [
       "(17077, 603)"
      ]
     },
     "execution_count": 14,
     "metadata": {},
     "output_type": "execute_result"
    }
   ],
   "source": [
    "X_pred_impute = imputer.transform(X_pred)\n",
    "X_pred_scale = scaler.transform(X_pred_impute)\n",
    "X_pred_scale.shape"
   ]
  },
  {
   "cell_type": "code",
   "execution_count": 15,
   "metadata": {},
   "outputs": [
    {
     "data": {
      "text/plain": [
       "numpy.ndarray"
      ]
     },
     "execution_count": 15,
     "metadata": {},
     "output_type": "execute_result"
    },
    {
     "data": {
      "text/plain": [
       "(17077,)"
      ]
     },
     "execution_count": 15,
     "metadata": {},
     "output_type": "execute_result"
    }
   ],
   "source": [
    "predict_np = logreg.predict(X_pred_scale)\n",
    "type(predict_np)\n",
    "predict_np.shape"
   ]
  },
  {
   "cell_type": "code",
   "execution_count": 16,
   "metadata": {},
   "outputs": [
    {
     "name": "stdout",
     "output_type": "stream",
     "text": [
      "<class 'pandas.core.frame.DataFrame'>\n",
      "RangeIndex: 17077 entries, 0 to 17076\n",
      "Columns: 606 entries, index to Western\n",
      "dtypes: float64(5), int64(600), object(1)\n",
      "memory usage: 79.0+ MB\n"
     ]
    }
   ],
   "source": [
    "# reset index of target-to-predict so iterrows matches output of predict\n",
    "# pray that reset_index doesn't alter the order ...\n",
    "\n",
    "feature_tpreset_df = feature_topred_df.reset_index()\n",
    "feature_tpreset_df.info()"
   ]
  },
  {
   "cell_type": "code",
   "execution_count": 17,
   "metadata": {
    "scrolled": true
   },
   "outputs": [
    {
     "data": {
      "text/plain": [
       "[{'Movie_FK': <MasterMovie: MasterMovie object (152035)>,\n",
       "  'User': 'main',\n",
       "  'RecomLevel': 1},\n",
       " {'Movie_FK': <MasterMovie: MasterMovie object (152036)>,\n",
       "  'User': 'main',\n",
       "  'RecomLevel': 1}]"
      ]
     },
     "execution_count": 17,
     "metadata": {},
     "output_type": "execute_result"
    }
   ],
   "source": [
    "predict_ls = []\n",
    "for idx, row in feature_tpreset_df.iterrows():\n",
    "    movie_id = int(row['Movie_ID'])\n",
    "    # get movie by Movie_ID, since features aren't part of db yet, though Movie_ID is unique\n",
    "    movie_md = MD.MasterMovie.objects.get(Movie_ID=movie_id)\n",
    "    new_dx = {\n",
    "        'Movie_FK': movie_md,\n",
    "        'User': 'main',\n",
    "        'RecomLevel': predict_np[idx],\n",
    "    }\n",
    "    predict_ls.append(new_dx)\n",
    "\n",
    "predict_ls[:2]"
   ]
  },
  {
   "cell_type": "code",
   "execution_count": 18,
   "metadata": {},
   "outputs": [
    {
     "name": "stdout",
     "output_type": "stream",
     "text": [
      "<class 'pandas.core.frame.DataFrame'>\n",
      "RangeIndex: 17077 entries, 0 to 17076\n",
      "Data columns (total 3 columns):\n",
      "Movie_FK      17077 non-null object\n",
      "User          17077 non-null object\n",
      "RecomLevel    17077 non-null int64\n",
      "dtypes: int64(1), object(2)\n",
      "memory usage: 400.4+ KB\n"
     ]
    }
   ],
   "source": [
    "predict_df = PD.DataFrame(predict_ls)\n",
    "predict_df.info()"
   ]
  },
  {
   "cell_type": "code",
   "execution_count": 19,
   "metadata": {},
   "outputs": [
    {
     "data": {
      "text/plain": [
       "1    17077\n",
       "Name: RecomLevel, dtype: int64"
      ]
     },
     "execution_count": 19,
     "metadata": {},
     "output_type": "execute_result"
    }
   ],
   "source": [
    "predict_df['RecomLevel'].value_counts()"
   ]
  },
  {
   "cell_type": "code",
   "execution_count": 20,
   "metadata": {},
   "outputs": [],
   "source": [
    "InteractiveShell.ast_node_interactivity = 'last'"
   ]
  },
  {
   "cell_type": "code",
   "execution_count": 21,
   "metadata": {
    "scrolled": false
   },
   "outputs": [
    {
     "data": {
      "text/plain": [
       "17077"
      ]
     },
     "execution_count": 21,
     "metadata": {},
     "output_type": "execute_result"
    }
   ],
   "source": [
    "# insert to db\n",
    "\n",
    "MD.UserRecommendations.objects.all().delete()\n",
    "data_obj_ls = [MD.UserRecommendations(**r) for r in predict_ls];\n",
    "MD.UserRecommendations.objects.bulk_create(data_obj_ls);\n",
    "MD.UserRecommendations.objects.count()"
   ]
  },
  {
   "cell_type": "code",
   "execution_count": null,
   "metadata": {},
   "outputs": [],
   "source": []
  }
 ],
 "metadata": {
  "kernelspec": {
   "display_name": "Django Shell-Plus",
   "language": "python",
   "name": "django_extensions"
  },
  "language_info": {
   "codemirror_mode": {
    "name": "ipython",
    "version": 3
   },
   "file_extension": ".py",
   "mimetype": "text/x-python",
   "name": "python",
   "nbconvert_exporter": "python",
   "pygments_lexer": "ipython3",
   "version": "3.7.5"
  }
 },
 "nbformat": 4,
 "nbformat_minor": 2
}
