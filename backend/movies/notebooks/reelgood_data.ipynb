{
 "cells": [
  {
   "cell_type": "markdown",
   "metadata": {},
   "source": [
    "# Reelgood Scraper\n",
    "\n",
    "Workflow: 2  \n",
    "\n",
    "Goal: Start with the list of reelgood movie urls and create a subsample set of scraped movies.   \n",
    "\n",
    "Result: The file ```reelgood_subsample.csv``` is created."
   ]
  },
  {
   "cell_type": "code",
   "execution_count": 1,
   "metadata": {},
   "outputs": [],
   "source": [
    "import os\n",
    "import time\n",
    "import pandas as PD"
   ]
  },
  {
   "cell_type": "code",
   "execution_count": 2,
   "metadata": {},
   "outputs": [],
   "source": [
    "from IPython.core.interactiveshell import InteractiveShell\n",
    "InteractiveShell.ast_node_interactivity = 'all'"
   ]
  },
  {
   "cell_type": "code",
   "execution_count": 3,
   "metadata": {},
   "outputs": [],
   "source": [
    "# can't reload script in a different folder\n",
    "\n",
    "import sys\n",
    "sys.path.append('../')\n",
    "import reelgood_scraper as RS "
   ]
  },
  {
   "cell_type": "markdown",
   "metadata": {},
   "source": [
    "## Scrape One Movie"
   ]
  },
  {
   "cell_type": "code",
   "execution_count": 4,
   "metadata": {},
   "outputs": [
    {
     "name": "stdout",
     "output_type": "stream",
     "text": [
      "<selenium.webdriver.firefox.webdriver.WebDriver (session=\"78582487-6ad3-f447-a869-a66c47b29b1a\")>\n",
      "https://reelgood.com/?login=true\n"
     ]
    }
   ],
   "source": [
    "scraper = RS.ReelgoodScraper()\n",
    "scraper.log_in()"
   ]
  },
  {
   "cell_type": "code",
   "execution_count": 5,
   "metadata": {
    "scrolled": false
   },
   "outputs": [
    {
     "data": {
      "text/plain": [
       "{'title': 'Star Wars: The Last Jedi',\n",
       " 'year': '2017',\n",
       " 'duration': 152,\n",
       " 'rating': '13+ (PG-13)',\n",
       " 'country': 'America',\n",
       " 'poster': 'https://img.reelgood.com/content/movie/be6f57cc-b68a-4fb0-aa3e-077cd1c6e51c/poster-780.jpg',\n",
       " 'genres': 'Action & Adventure, Fantasy, Science-Fiction',\n",
       " 'tags': 'Military, War, Space',\n",
       " 'imdb_score': '7.1',\n",
       " 'rt_score': '91%',\n",
       " 'synopsis': 'Rey develops her newly discovered abilities with the guidance of Luke Skywalker, who is unsettled by the strength of her powers. Meanwhile, the Resistance prepares to do battle with the First Order.',\n",
       " 'services': '{\"reelgood\": \"star-wars-the-last-jedi-2017\", \"netflix\": \"80192018\"}'}"
      ]
     },
     "execution_count": 5,
     "metadata": {},
     "output_type": "execute_result"
    }
   ],
   "source": [
    "t0 = time.time()\n",
    "movie_dx = scraper.get_movie_data('star-wars-the-last-jedi-2017')\n",
    "movie_dx"
   ]
  },
  {
   "cell_type": "code",
   "execution_count": 6,
   "metadata": {},
   "outputs": [
    {
     "name": "stdout",
     "output_type": "stream",
     "text": [
      "time: 5.62 secs\n"
     ]
    }
   ],
   "source": [
    "t1 = time.time()\n",
    "print(f'time: {(t1-t0):.2f} secs')"
   ]
  },
  {
   "cell_type": "code",
   "execution_count": 7,
   "metadata": {},
   "outputs": [],
   "source": [
    "scraper.close()"
   ]
  },
  {
   "cell_type": "markdown",
   "metadata": {},
   "source": [
    "## Scrape Movie Subsample "
   ]
  },
  {
   "cell_type": "code",
   "execution_count": 8,
   "metadata": {},
   "outputs": [
    {
     "data": {
      "text/html": [
       "<div>\n",
       "<style scoped>\n",
       "    .dataframe tbody tr th:only-of-type {\n",
       "        vertical-align: middle;\n",
       "    }\n",
       "\n",
       "    .dataframe tbody tr th {\n",
       "        vertical-align: top;\n",
       "    }\n",
       "\n",
       "    .dataframe thead th {\n",
       "        text-align: right;\n",
       "    }\n",
       "</style>\n",
       "<table border=\"1\" class=\"dataframe\">\n",
       "  <thead>\n",
       "    <tr style=\"text-align: right;\">\n",
       "      <th></th>\n",
       "      <th>title</th>\n",
       "      <th>year</th>\n",
       "      <th>reelgood_id</th>\n",
       "    </tr>\n",
       "  </thead>\n",
       "  <tbody>\n",
       "    <tr>\n",
       "      <th>0</th>\n",
       "      <td>1</td>\n",
       "      <td>2013</td>\n",
       "      <td>1-2013</td>\n",
       "    </tr>\n",
       "    <tr>\n",
       "      <th>1</th>\n",
       "      <td>10,000 BC</td>\n",
       "      <td>2008</td>\n",
       "      <td>10000-bc-2008</td>\n",
       "    </tr>\n",
       "    <tr>\n",
       "      <th>2</th>\n",
       "      <td>1000 Rupee Note</td>\n",
       "      <td>2016</td>\n",
       "      <td>1000-rupee-note-2016</td>\n",
       "    </tr>\n",
       "    <tr>\n",
       "      <th>3</th>\n",
       "      <td>1000 To 1</td>\n",
       "      <td>2014</td>\n",
       "      <td>1000-to-1-2014</td>\n",
       "    </tr>\n",
       "    <tr>\n",
       "      <th>4</th>\n",
       "      <td>$100 and a T-Shirt: A Documentary About Zines ...</td>\n",
       "      <td>2004</td>\n",
       "      <td>100-and-a-tshirt-a-documentary-about-zines-in-...</td>\n",
       "    </tr>\n",
       "  </tbody>\n",
       "</table>\n",
       "</div>"
      ],
      "text/plain": [
       "                                               title  year  \\\n",
       "0                                                  1  2013   \n",
       "1                                          10,000 BC  2008   \n",
       "2                                    1000 Rupee Note  2016   \n",
       "3                                          1000 To 1  2014   \n",
       "4  $100 and a T-Shirt: A Documentary About Zines ...  2004   \n",
       "\n",
       "                                         reelgood_id  \n",
       "0                                             1-2013  \n",
       "1                                      10000-bc-2008  \n",
       "2                               1000-rupee-note-2016  \n",
       "3                                     1000-to-1-2014  \n",
       "4  100-and-a-tshirt-a-documentary-about-zines-in-...  "
      ]
     },
     "execution_count": 8,
     "metadata": {},
     "output_type": "execute_result"
    },
    {
     "name": "stdout",
     "output_type": "stream",
     "text": [
      "<class 'pandas.core.frame.DataFrame'>\n",
      "RangeIndex: 18496 entries, 0 to 18495\n",
      "Data columns (total 3 columns):\n",
      "title          18496 non-null object\n",
      "year           18496 non-null int64\n",
      "reelgood_id    18496 non-null object\n",
      "dtypes: int64(1), object(2)\n",
      "memory usage: 433.6+ KB\n"
     ]
    }
   ],
   "source": [
    "URL_FILE = '../data/reelgood_url.csv'\n",
    "url_df = PD.read_csv(URL_FILE)\n",
    "url_df.head()\n",
    "url_df.info()"
   ]
  },
  {
   "cell_type": "code",
   "execution_count": 9,
   "metadata": {},
   "outputs": [
    {
     "data": {
      "text/html": [
       "<div>\n",
       "<style scoped>\n",
       "    .dataframe tbody tr th:only-of-type {\n",
       "        vertical-align: middle;\n",
       "    }\n",
       "\n",
       "    .dataframe tbody tr th {\n",
       "        vertical-align: top;\n",
       "    }\n",
       "\n",
       "    .dataframe thead th {\n",
       "        text-align: right;\n",
       "    }\n",
       "</style>\n",
       "<table border=\"1\" class=\"dataframe\">\n",
       "  <thead>\n",
       "    <tr style=\"text-align: right;\">\n",
       "      <th></th>\n",
       "      <th>title</th>\n",
       "      <th>year</th>\n",
       "      <th>reelgood_id</th>\n",
       "    </tr>\n",
       "  </thead>\n",
       "  <tbody>\n",
       "    <tr>\n",
       "      <th>0</th>\n",
       "      <td>1</td>\n",
       "      <td>2013</td>\n",
       "      <td>1-2013</td>\n",
       "    </tr>\n",
       "    <tr>\n",
       "      <th>57</th>\n",
       "      <td>13 Times Evil</td>\n",
       "      <td>2016</td>\n",
       "      <td>13-times-evil-2016</td>\n",
       "    </tr>\n",
       "    <tr>\n",
       "      <th>114</th>\n",
       "      <td>21 Days</td>\n",
       "      <td>2014</td>\n",
       "      <td>21-days-2014</td>\n",
       "    </tr>\n",
       "    <tr>\n",
       "      <th>171</th>\n",
       "      <td>36 Hour Layover</td>\n",
       "      <td>2016</td>\n",
       "      <td>36-hour-layover-2016</td>\n",
       "    </tr>\n",
       "    <tr>\n",
       "      <th>228</th>\n",
       "      <td>666: Devilish Charm</td>\n",
       "      <td>2014</td>\n",
       "      <td>666-devilish-charm-2014</td>\n",
       "    </tr>\n",
       "  </tbody>\n",
       "</table>\n",
       "</div>"
      ],
      "text/plain": [
       "                   title  year              reelgood_id\n",
       "0                      1  2013                   1-2013\n",
       "57         13 Times Evil  2016       13-times-evil-2016\n",
       "114              21 Days  2014             21-days-2014\n",
       "171      36 Hour Layover  2016     36-hour-layover-2016\n",
       "228  666: Devilish Charm  2014  666-devilish-charm-2014"
      ]
     },
     "execution_count": 9,
     "metadata": {},
     "output_type": "execute_result"
    },
    {
     "data": {
      "text/plain": [
       "(325, 3)"
      ]
     },
     "execution_count": 9,
     "metadata": {},
     "output_type": "execute_result"
    }
   ],
   "source": [
    "# create subsample urls\n",
    "\n",
    "subsample_df = url_df.iloc[::57]\n",
    "subsample_df.head()\n",
    "subsample_df.shape"
   ]
  },
  {
   "cell_type": "code",
   "execution_count": 10,
   "metadata": {
    "scrolled": false
   },
   "outputs": [
    {
     "name": "stdout",
     "output_type": "stream",
     "text": [
      "<selenium.webdriver.firefox.webdriver.WebDriver (session=\"962fc565-4907-0d43-a1ce-5ee31bbbb7bf\")>\n",
      "https://reelgood.com/?login=true\n"
     ]
    }
   ],
   "source": [
    "scraper = RS.ReelgoodScraper()\n",
    "scraper.log_in()"
   ]
  },
  {
   "cell_type": "code",
   "execution_count": 11,
   "metadata": {
    "scrolled": false
   },
   "outputs": [
    {
     "name": "stdout",
     "output_type": "stream",
     "text": [
      "time: 25.36 mins\n"
     ]
    }
   ],
   "source": [
    "t0 = time.time()\n",
    "movie_ls = []\n",
    "\n",
    "for idx, row in subsample_df.iterrows():\n",
    "    rg_id = row['reelgood_id']\n",
    "    movie_ls.append(scraper.get_movie_data(rg_id))\n",
    "\n",
    "scraper.close()\n",
    "t1 = time.time()\n",
    "print(f'time: {(t1-t0)/60:.2f} mins')"
   ]
  },
  {
   "cell_type": "code",
   "execution_count": 12,
   "metadata": {
    "scrolled": false
   },
   "outputs": [
    {
     "data": {
      "text/html": [
       "<div>\n",
       "<style scoped>\n",
       "    .dataframe tbody tr th:only-of-type {\n",
       "        vertical-align: middle;\n",
       "    }\n",
       "\n",
       "    .dataframe tbody tr th {\n",
       "        vertical-align: top;\n",
       "    }\n",
       "\n",
       "    .dataframe thead th {\n",
       "        text-align: right;\n",
       "    }\n",
       "</style>\n",
       "<table border=\"1\" class=\"dataframe\">\n",
       "  <thead>\n",
       "    <tr style=\"text-align: right;\">\n",
       "      <th></th>\n",
       "      <th>title</th>\n",
       "      <th>year</th>\n",
       "      <th>duration</th>\n",
       "      <th>rating</th>\n",
       "      <th>country</th>\n",
       "      <th>poster</th>\n",
       "      <th>genres</th>\n",
       "      <th>tags</th>\n",
       "      <th>imdb_score</th>\n",
       "      <th>rt_score</th>\n",
       "      <th>synopsis</th>\n",
       "      <th>services</th>\n",
       "    </tr>\n",
       "  </thead>\n",
       "  <tbody>\n",
       "    <tr>\n",
       "      <th>0</th>\n",
       "      <td>1</td>\n",
       "      <td>2013</td>\n",
       "      <td>112.0</td>\n",
       "      <td>13+ (PG-13)</td>\n",
       "      <td>America</td>\n",
       "      <td>https://img.reelgood.com/content/movie/9b61df6...</td>\n",
       "      <td>Documentary, Mystery, Thriller, Science-Fictio...</td>\n",
       "      <td>Car, Racing</td>\n",
       "      <td>8</td>\n",
       "      <td>None</td>\n",
       "      <td>Set in the golden era of Grand Prix Racing '1'...</td>\n",
       "      <td>{\"reelgood\": \"1-2013\", \"amazon\": \"B0751Q3J8P\"}</td>\n",
       "    </tr>\n",
       "    <tr>\n",
       "      <th>1</th>\n",
       "      <td>13 Times Evil</td>\n",
       "      <td>2016</td>\n",
       "      <td>90.0</td>\n",
       "      <td>16+</td>\n",
       "      <td>None</td>\n",
       "      <td>https://img.reelgood.com/content/movie/9c932c9...</td>\n",
       "      <td>Documentary</td>\n",
       "      <td>None</td>\n",
       "      <td>5.3</td>\n",
       "      <td>None</td>\n",
       "      <td>History is replete with psychotic killers with...</td>\n",
       "      <td>{\"reelgood\": \"13-times-evil-2016\", \"amazon\": \"...</td>\n",
       "    </tr>\n",
       "    <tr>\n",
       "      <th>2</th>\n",
       "      <td>21 Days</td>\n",
       "      <td>2014</td>\n",
       "      <td>89.0</td>\n",
       "      <td>18+ (R)</td>\n",
       "      <td>None</td>\n",
       "      <td>https://img.reelgood.com/content/movie/96cf3fe...</td>\n",
       "      <td>Horror, Thriller, Mystery</td>\n",
       "      <td>None</td>\n",
       "      <td>4.5</td>\n",
       "      <td>None</td>\n",
       "      <td>Three filmmakers embark on a paranormal challe...</td>\n",
       "      <td>{\"reelgood\": \"21-days-2014\", \"amazon\": \"B01N9Z...</td>\n",
       "    </tr>\n",
       "    <tr>\n",
       "      <th>3</th>\n",
       "      <td>36 Hour Layover</td>\n",
       "      <td>2016</td>\n",
       "      <td>88.0</td>\n",
       "      <td>None</td>\n",
       "      <td>None</td>\n",
       "      <td>https://img.reelgood.com/content/movie/2674b38...</td>\n",
       "      <td>Comedy, Romance</td>\n",
       "      <td>None</td>\n",
       "      <td>5.9</td>\n",
       "      <td>None</td>\n",
       "      <td>This film is a romantic comedy about a steward...</td>\n",
       "      <td>{\"reelgood\": \"36-hour-layover-2016\", \"amazon\":...</td>\n",
       "    </tr>\n",
       "    <tr>\n",
       "      <th>4</th>\n",
       "      <td>666: Devilish Charm</td>\n",
       "      <td>2014</td>\n",
       "      <td>75.0</td>\n",
       "      <td>None</td>\n",
       "      <td>None</td>\n",
       "      <td>https://img.reelgood.com/content/movie/d525d8c...</td>\n",
       "      <td>Thriller, Horror, Mystery</td>\n",
       "      <td>None</td>\n",
       "      <td>3.4</td>\n",
       "      <td>None</td>\n",
       "      <td>When a cursed devil's charm' bracelet shows up...</td>\n",
       "      <td>{\"reelgood\": \"666-devilish-charm-2014\", \"amazo...</td>\n",
       "    </tr>\n",
       "  </tbody>\n",
       "</table>\n",
       "</div>"
      ],
      "text/plain": [
       "                 title  year  duration       rating  country  \\\n",
       "0                    1  2013     112.0  13+ (PG-13)  America   \n",
       "1        13 Times Evil  2016      90.0          16+     None   \n",
       "2              21 Days  2014      89.0      18+ (R)     None   \n",
       "3      36 Hour Layover  2016      88.0         None     None   \n",
       "4  666: Devilish Charm  2014      75.0         None     None   \n",
       "\n",
       "                                              poster  \\\n",
       "0  https://img.reelgood.com/content/movie/9b61df6...   \n",
       "1  https://img.reelgood.com/content/movie/9c932c9...   \n",
       "2  https://img.reelgood.com/content/movie/96cf3fe...   \n",
       "3  https://img.reelgood.com/content/movie/2674b38...   \n",
       "4  https://img.reelgood.com/content/movie/d525d8c...   \n",
       "\n",
       "                                              genres         tags imdb_score  \\\n",
       "0  Documentary, Mystery, Thriller, Science-Fictio...  Car, Racing          8   \n",
       "1                                        Documentary         None        5.3   \n",
       "2                          Horror, Thriller, Mystery         None        4.5   \n",
       "3                                    Comedy, Romance         None        5.9   \n",
       "4                          Thriller, Horror, Mystery         None        3.4   \n",
       "\n",
       "  rt_score                                           synopsis  \\\n",
       "0     None  Set in the golden era of Grand Prix Racing '1'...   \n",
       "1     None  History is replete with psychotic killers with...   \n",
       "2     None  Three filmmakers embark on a paranormal challe...   \n",
       "3     None  This film is a romantic comedy about a steward...   \n",
       "4     None  When a cursed devil's charm' bracelet shows up...   \n",
       "\n",
       "                                            services  \n",
       "0     {\"reelgood\": \"1-2013\", \"amazon\": \"B0751Q3J8P\"}  \n",
       "1  {\"reelgood\": \"13-times-evil-2016\", \"amazon\": \"...  \n",
       "2  {\"reelgood\": \"21-days-2014\", \"amazon\": \"B01N9Z...  \n",
       "3  {\"reelgood\": \"36-hour-layover-2016\", \"amazon\":...  \n",
       "4  {\"reelgood\": \"666-devilish-charm-2014\", \"amazo...  "
      ]
     },
     "execution_count": 12,
     "metadata": {},
     "output_type": "execute_result"
    },
    {
     "name": "stdout",
     "output_type": "stream",
     "text": [
      "<class 'pandas.core.frame.DataFrame'>\n",
      "RangeIndex: 325 entries, 0 to 324\n",
      "Data columns (total 12 columns):\n",
      "title         325 non-null object\n",
      "year          325 non-null object\n",
      "duration      319 non-null float64\n",
      "rating        138 non-null object\n",
      "country       121 non-null object\n",
      "poster        325 non-null object\n",
      "genres        318 non-null object\n",
      "tags          141 non-null object\n",
      "imdb_score    317 non-null object\n",
      "rt_score      97 non-null object\n",
      "synopsis      325 non-null object\n",
      "services      325 non-null object\n",
      "dtypes: float64(1), object(11)\n",
      "memory usage: 30.6+ KB\n"
     ]
    }
   ],
   "source": [
    "movie_df = PD.DataFrame(movie_ls)\n",
    "movie_df.head()\n",
    "movie_df.info()"
   ]
  },
  {
   "cell_type": "code",
   "execution_count": 13,
   "metadata": {},
   "outputs": [
    {
     "name": "stdout",
     "output_type": "stream",
     "text": [
      "time: 24.05 hrs\n"
     ]
    }
   ],
   "source": [
    "# projected scrape time\n",
    "\n",
    "print(f'time: {(t1-t0)/subsample_df.shape[0]*url_df.shape[0]/60/60:.2f} hrs')"
   ]
  },
  {
   "cell_type": "code",
   "execution_count": 14,
   "metadata": {},
   "outputs": [
    {
     "data": {
      "text/plain": [
       "'0.18 mb'"
      ]
     },
     "execution_count": 14,
     "metadata": {},
     "output_type": "execute_result"
    }
   ],
   "source": [
    "save_path = r'../data/reelgood_subsample.csv'\n",
    "movie_df.to_csv(save_path, index=False)\n",
    "f'{round(os.path.getsize(save_path) /1e6, 2)} mb'"
   ]
  }
 ],
 "metadata": {
  "kernelspec": {
   "display_name": "v5-kernel",
   "language": "python",
   "name": "v5-kernel"
  },
  "language_info": {
   "codemirror_mode": {
    "name": "ipython",
    "version": 3
   },
   "file_extension": ".py",
   "mimetype": "text/x-python",
   "name": "python",
   "nbconvert_exporter": "python",
   "pygments_lexer": "ipython3",
   "version": "3.7.5"
  }
 },
 "nbformat": 4,
 "nbformat_minor": 2
}
