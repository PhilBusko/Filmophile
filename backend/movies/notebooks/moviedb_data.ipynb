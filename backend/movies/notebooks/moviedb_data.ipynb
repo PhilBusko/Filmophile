{
 "cells": [
  {
   "cell_type": "markdown",
   "metadata": {},
   "source": [
    "# TMDB Get Data\n",
    "\n",
    "Workflow: 4  \n",
    "\n",
    "Goal: To start with the reelgood movie titles and get TMDB data for them all.   \n",
    "\n",
    "Result: The file ```moviedb_movie.csv``` is created.  "
   ]
  },
  {
   "cell_type": "code",
   "execution_count": 1,
   "metadata": {},
   "outputs": [],
   "source": [
    "import os\n",
    "import time\n",
    "import random as RD\n",
    "import pandas as PD"
   ]
  },
  {
   "cell_type": "code",
   "execution_count": 2,
   "metadata": {},
   "outputs": [],
   "source": [
    "from IPython.core.interactiveshell import InteractiveShell\n",
    "InteractiveShell.ast_node_interactivity = 'all'"
   ]
  },
  {
   "cell_type": "code",
   "execution_count": 3,
   "metadata": {},
   "outputs": [],
   "source": [
    "# can't reload script in a different folder\n",
    "\n",
    "import sys\n",
    "sys.path.append('../models')\n",
    "import moviedb_helper as MH "
   ]
  },
  {
   "cell_type": "markdown",
   "metadata": {},
   "source": [
    "## Get Data For One Movie "
   ]
  },
  {
   "cell_type": "code",
   "execution_count": 4,
   "metadata": {},
   "outputs": [
    {
     "data": {
      "text/html": [
       "<div>\n",
       "<style scoped>\n",
       "    .dataframe tbody tr th:only-of-type {\n",
       "        vertical-align: middle;\n",
       "    }\n",
       "\n",
       "    .dataframe tbody tr th {\n",
       "        vertical-align: top;\n",
       "    }\n",
       "\n",
       "    .dataframe thead th {\n",
       "        text-align: right;\n",
       "    }\n",
       "</style>\n",
       "<table border=\"1\" class=\"dataframe\">\n",
       "  <thead>\n",
       "    <tr style=\"text-align: right;\">\n",
       "      <th></th>\n",
       "      <th>title</th>\n",
       "      <th>year</th>\n",
       "      <th>reelgood_id</th>\n",
       "    </tr>\n",
       "  </thead>\n",
       "  <tbody>\n",
       "    <tr>\n",
       "      <th>0</th>\n",
       "      <td>1</td>\n",
       "      <td>2013</td>\n",
       "      <td>1-2013</td>\n",
       "    </tr>\n",
       "    <tr>\n",
       "      <th>1</th>\n",
       "      <td>10,000 BC</td>\n",
       "      <td>2008</td>\n",
       "      <td>10000-bc-2008</td>\n",
       "    </tr>\n",
       "    <tr>\n",
       "      <th>2</th>\n",
       "      <td>1000 Rupee Note</td>\n",
       "      <td>2016</td>\n",
       "      <td>1000-rupee-note-2016</td>\n",
       "    </tr>\n",
       "    <tr>\n",
       "      <th>3</th>\n",
       "      <td>1000 To 1</td>\n",
       "      <td>2014</td>\n",
       "      <td>1000-to-1-2014</td>\n",
       "    </tr>\n",
       "    <tr>\n",
       "      <th>4</th>\n",
       "      <td>$100 and a T-Shirt: A Documentary About Zines ...</td>\n",
       "      <td>2004</td>\n",
       "      <td>100-and-a-tshirt-a-documentary-about-zines-in-...</td>\n",
       "    </tr>\n",
       "  </tbody>\n",
       "</table>\n",
       "</div>"
      ],
      "text/plain": [
       "                                               title  year  \\\n",
       "0                                                  1  2013   \n",
       "1                                          10,000 BC  2008   \n",
       "2                                    1000 Rupee Note  2016   \n",
       "3                                          1000 To 1  2014   \n",
       "4  $100 and a T-Shirt: A Documentary About Zines ...  2004   \n",
       "\n",
       "                                         reelgood_id  \n",
       "0                                             1-2013  \n",
       "1                                      10000-bc-2008  \n",
       "2                               1000-rupee-note-2016  \n",
       "3                                     1000-to-1-2014  \n",
       "4  100-and-a-tshirt-a-documentary-about-zines-in-...  "
      ]
     },
     "execution_count": 4,
     "metadata": {},
     "output_type": "execute_result"
    },
    {
     "data": {
      "text/plain": [
       "(18496, 3)"
      ]
     },
     "execution_count": 4,
     "metadata": {},
     "output_type": "execute_result"
    }
   ],
   "source": [
    "URL_FILE = '../data/reelgood_url.csv'\n",
    "url_df = PD.read_csv(URL_FILE)\n",
    "url_df.head()\n",
    "url_df.shape"
   ]
  },
  {
   "cell_type": "code",
   "execution_count": 5,
   "metadata": {
    "scrolled": true
   },
   "outputs": [
    {
     "name": "stdout",
     "output_type": "stream",
     "text": [
      "No movies found: $100 and a T-Shirt: A Documentary About Zines in the Northwest (2004).\n",
      "movies: 99\n",
      "time: 2.41 mins\n"
     ]
    }
   ],
   "source": [
    "client = MH.MovieDBHelper()\n",
    "movie_ls = []\n",
    "t0 = time.time()\n",
    "\n",
    "for idx, row in url_df[:100].iterrows():\n",
    "    if idx % 500 == 0:\n",
    "        print(f'row: {idx}')\n",
    "\n",
    "    title = row['title']\n",
    "    year = row['year']\n",
    "    try:\n",
    "        movie_dx = client.get_movie_data(title, year)\n",
    "        movie_ls.append(movie_dx)\n",
    "    except Exception as ex:\n",
    "        print(ex)\n",
    "\n",
    "t1 = time.time()\n",
    "print(f'movies: {len(movie_ls)}')\n",
    "print(f'time: {(t1-t0)/60:.2f} mins')"
   ]
  },
  {
   "cell_type": "code",
   "execution_count": 6,
   "metadata": {},
   "outputs": [
    {
     "name": "stdout",
     "output_type": "stream",
     "text": [
      "projected time: 7.50 hrs\n"
     ]
    }
   ],
   "source": [
    "# projected time is rate * number\n",
    "\n",
    "print(f'projected time: {(t1-t0)/len(movie_ls)*url_df.shape[0]/60/60:.2f} hrs')"
   ]
  },
  {
   "cell_type": "code",
   "execution_count": 7,
   "metadata": {
    "scrolled": false
   },
   "outputs": [
    {
     "data": {
      "text/html": [
       "<div>\n",
       "<style scoped>\n",
       "    .dataframe tbody tr th:only-of-type {\n",
       "        vertical-align: middle;\n",
       "    }\n",
       "\n",
       "    .dataframe tbody tr th {\n",
       "        vertical-align: top;\n",
       "    }\n",
       "\n",
       "    .dataframe thead th {\n",
       "        text-align: right;\n",
       "    }\n",
       "</style>\n",
       "<table border=\"1\" class=\"dataframe\">\n",
       "  <thead>\n",
       "    <tr style=\"text-align: right;\">\n",
       "      <th></th>\n",
       "      <th>title</th>\n",
       "      <th>original_title</th>\n",
       "      <th>year</th>\n",
       "      <th>rating</th>\n",
       "      <th>companies</th>\n",
       "      <th>country</th>\n",
       "      <th>language</th>\n",
       "      <th>runtime</th>\n",
       "      <th>crew</th>\n",
       "      <th>cast</th>\n",
       "      <th>genres</th>\n",
       "      <th>collection</th>\n",
       "      <th>synopsis</th>\n",
       "      <th>budget</th>\n",
       "      <th>gross</th>\n",
       "      <th>tmdb_score</th>\n",
       "      <th>tmdb_votes</th>\n",
       "      <th>tmdb_id</th>\n",
       "      <th>imdb_id</th>\n",
       "    </tr>\n",
       "  </thead>\n",
       "  <tbody>\n",
       "    <tr>\n",
       "      <th>0</th>\n",
       "      <td>1</td>\n",
       "      <td>1</td>\n",
       "      <td>2013</td>\n",
       "      <td>None</td>\n",
       "      <td>Exclusive Media, Flat-Out Films</td>\n",
       "      <td>United States of America</td>\n",
       "      <td>English</td>\n",
       "      <td>112.0</td>\n",
       "      <td>Paul Crowder, Mark Monroe, Michael Shevloff</td>\n",
       "      <td>Niki Lauda, Michael Schumacher, Lewis Hamilton</td>\n",
       "      <td>Documentary</td>\n",
       "      <td>None</td>\n",
       "      <td>Set in the golden era of Grand Prix Racing '1'...</td>\n",
       "      <td>NaN</td>\n",
       "      <td>NaN</td>\n",
       "      <td>7.4</td>\n",
       "      <td>59</td>\n",
       "      <td>217316</td>\n",
       "      <td>tt2518788</td>\n",
       "    </tr>\n",
       "    <tr>\n",
       "      <th>1</th>\n",
       "      <td>10,000 BC</td>\n",
       "      <td>10,000 BC</td>\n",
       "      <td>2008</td>\n",
       "      <td>None</td>\n",
       "      <td>Centropolis Entertainment, Legendary Entertain...</td>\n",
       "      <td>United States of America</td>\n",
       "      <td>English</td>\n",
       "      <td>109.0</td>\n",
       "      <td>Roland Emmerich, Sarah Bradshaw, Tom Karnowski</td>\n",
       "      <td>Steven Strait, Camilla Belle, Cliff Curtis</td>\n",
       "      <td>Adventure, Action, Drama, Fantasy</td>\n",
       "      <td>None</td>\n",
       "      <td>A prehistoric epic that follows a young mammot...</td>\n",
       "      <td>105000000.0</td>\n",
       "      <td>266000000.0</td>\n",
       "      <td>5.3</td>\n",
       "      <td>1765</td>\n",
       "      <td>7840</td>\n",
       "      <td>tt0443649</td>\n",
       "    </tr>\n",
       "    <tr>\n",
       "      <th>2</th>\n",
       "      <td>1000 Rupee Note</td>\n",
       "      <td>Ek Hazarachi Note</td>\n",
       "      <td>2016</td>\n",
       "      <td>None</td>\n",
       "      <td>None</td>\n",
       "      <td>India</td>\n",
       "      <td>Marathi (Marāṭhī)</td>\n",
       "      <td>89.0</td>\n",
       "      <td>Shrihari Sathe, Shrikant Bojewar</td>\n",
       "      <td>Sandeep Pathak</td>\n",
       "      <td>Drama</td>\n",
       "      <td>None</td>\n",
       "      <td>Poor Parobudhi receives a thousand rupee note ...</td>\n",
       "      <td>NaN</td>\n",
       "      <td>NaN</td>\n",
       "      <td>6.9</td>\n",
       "      <td>7</td>\n",
       "      <td>318654</td>\n",
       "      <td>tt2937158</td>\n",
       "    </tr>\n",
       "    <tr>\n",
       "      <th>3</th>\n",
       "      <td>1000 To 1</td>\n",
       "      <td>1000 To 1</td>\n",
       "      <td>2014</td>\n",
       "      <td>None</td>\n",
       "      <td>None</td>\n",
       "      <td>United States of America</td>\n",
       "      <td>English</td>\n",
       "      <td>99.0</td>\n",
       "      <td>Michael Levine</td>\n",
       "      <td>David Henrie, Hannah Marks, Luke Kleintank</td>\n",
       "      <td>Drama</td>\n",
       "      <td>None</td>\n",
       "      <td>Cory Weissman is a college basketball player w...</td>\n",
       "      <td>NaN</td>\n",
       "      <td>NaN</td>\n",
       "      <td>5.9</td>\n",
       "      <td>19</td>\n",
       "      <td>268245</td>\n",
       "      <td>tt2391950</td>\n",
       "    </tr>\n",
       "    <tr>\n",
       "      <th>4</th>\n",
       "      <td>100% arabica</td>\n",
       "      <td>100% arabica</td>\n",
       "      <td>1997</td>\n",
       "      <td>None</td>\n",
       "      <td>None</td>\n",
       "      <td>None</td>\n",
       "      <td>French</td>\n",
       "      <td>NaN</td>\n",
       "      <td>Mahmoud Zemmouri</td>\n",
       "      <td>None</td>\n",
       "      <td>Drama</td>\n",
       "      <td>None</td>\n",
       "      <td>The movie takes place in a poverty-stricken, r...</td>\n",
       "      <td>NaN</td>\n",
       "      <td>NaN</td>\n",
       "      <td>6.0</td>\n",
       "      <td>1</td>\n",
       "      <td>99800</td>\n",
       "      <td>tt0156245</td>\n",
       "    </tr>\n",
       "  </tbody>\n",
       "</table>\n",
       "</div>"
      ],
      "text/plain": [
       "             title     original_title  year rating  \\\n",
       "0                1                  1  2013   None   \n",
       "1        10,000 BC          10,000 BC  2008   None   \n",
       "2  1000 Rupee Note  Ek Hazarachi Note  2016   None   \n",
       "3        1000 To 1          1000 To 1  2014   None   \n",
       "4     100% arabica       100% arabica  1997   None   \n",
       "\n",
       "                                           companies  \\\n",
       "0                    Exclusive Media, Flat-Out Films   \n",
       "1  Centropolis Entertainment, Legendary Entertain...   \n",
       "2                                               None   \n",
       "3                                               None   \n",
       "4                                               None   \n",
       "\n",
       "                    country           language  runtime  \\\n",
       "0  United States of America            English    112.0   \n",
       "1  United States of America            English    109.0   \n",
       "2                     India  Marathi (Marāṭhī)     89.0   \n",
       "3  United States of America            English     99.0   \n",
       "4                      None             French      NaN   \n",
       "\n",
       "                                             crew  \\\n",
       "0     Paul Crowder, Mark Monroe, Michael Shevloff   \n",
       "1  Roland Emmerich, Sarah Bradshaw, Tom Karnowski   \n",
       "2                Shrihari Sathe, Shrikant Bojewar   \n",
       "3                                  Michael Levine   \n",
       "4                                Mahmoud Zemmouri   \n",
       "\n",
       "                                             cast  \\\n",
       "0  Niki Lauda, Michael Schumacher, Lewis Hamilton   \n",
       "1      Steven Strait, Camilla Belle, Cliff Curtis   \n",
       "2                                  Sandeep Pathak   \n",
       "3      David Henrie, Hannah Marks, Luke Kleintank   \n",
       "4                                            None   \n",
       "\n",
       "                              genres collection  \\\n",
       "0                        Documentary       None   \n",
       "1  Adventure, Action, Drama, Fantasy       None   \n",
       "2                              Drama       None   \n",
       "3                              Drama       None   \n",
       "4                              Drama       None   \n",
       "\n",
       "                                            synopsis       budget  \\\n",
       "0  Set in the golden era of Grand Prix Racing '1'...          NaN   \n",
       "1  A prehistoric epic that follows a young mammot...  105000000.0   \n",
       "2  Poor Parobudhi receives a thousand rupee note ...          NaN   \n",
       "3  Cory Weissman is a college basketball player w...          NaN   \n",
       "4  The movie takes place in a poverty-stricken, r...          NaN   \n",
       "\n",
       "         gross  tmdb_score  tmdb_votes  tmdb_id    imdb_id  \n",
       "0          NaN         7.4          59   217316  tt2518788  \n",
       "1  266000000.0         5.3        1765     7840  tt0443649  \n",
       "2          NaN         6.9           7   318654  tt2937158  \n",
       "3          NaN         5.9          19   268245  tt2391950  \n",
       "4          NaN         6.0           1    99800  tt0156245  "
      ]
     },
     "execution_count": 7,
     "metadata": {},
     "output_type": "execute_result"
    },
    {
     "name": "stdout",
     "output_type": "stream",
     "text": [
      "<class 'pandas.core.frame.DataFrame'>\n",
      "RangeIndex: 99 entries, 0 to 98\n",
      "Data columns (total 19 columns):\n",
      "title             99 non-null object\n",
      "original_title    99 non-null object\n",
      "year              99 non-null object\n",
      "rating            0 non-null object\n",
      "companies         58 non-null object\n",
      "country           71 non-null object\n",
      "language          99 non-null object\n",
      "runtime           89 non-null float64\n",
      "crew              99 non-null object\n",
      "cast              90 non-null object\n",
      "genres            99 non-null object\n",
      "collection        11 non-null object\n",
      "synopsis          99 non-null object\n",
      "budget            18 non-null float64\n",
      "gross             8 non-null float64\n",
      "tmdb_score        99 non-null float64\n",
      "tmdb_votes        99 non-null int64\n",
      "tmdb_id           99 non-null int64\n",
      "imdb_id           98 non-null object\n",
      "dtypes: float64(4), int64(2), object(13)\n",
      "memory usage: 14.8+ KB\n"
     ]
    }
   ],
   "source": [
    "movie_df = PD.DataFrame(movie_ls)\n",
    "movie_df.head()\n",
    "movie_df.info()"
   ]
  },
  {
   "cell_type": "code",
   "execution_count": 8,
   "metadata": {},
   "outputs": [
    {
     "data": {
      "text/plain": [
       "'0.05 mb'"
      ]
     },
     "execution_count": 8,
     "metadata": {},
     "output_type": "execute_result"
    }
   ],
   "source": [
    "save_path = r'../data/moviedb_movie.csv'\n",
    "movie_df.to_csv(save_path, index=False)\n",
    "f'{round(os.path.getsize(save_path) /1e6, 2)} mb'"
   ]
  }
 ],
 "metadata": {
  "kernelspec": {
   "display_name": "v5-kernel",
   "language": "python",
   "name": "v5-kernel"
  },
  "language_info": {
   "codemirror_mode": {
    "name": "ipython",
    "version": 3
   },
   "file_extension": ".py",
   "mimetype": "text/x-python",
   "name": "python",
   "nbconvert_exporter": "python",
   "pygments_lexer": "ipython3",
   "version": "3.7.5"
  }
 },
 "nbformat": 4,
 "nbformat_minor": 2
}
