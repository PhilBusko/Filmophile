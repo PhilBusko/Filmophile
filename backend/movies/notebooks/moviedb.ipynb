{
 "cells": [
  {
   "cell_type": "markdown",
   "metadata": {},
   "source": [
    "# TMDB Scraper\n",
    "\n",
    "Workflow: 4  \n",
    "\n",
    "Goal: Start with the list of reelgood movie titles and get their data from the TMDB.   \n",
    "\n",
    "Result: The file ```reelgood_subsample.csv``` is created."
   ]
  },
  {
   "cell_type": "code",
   "execution_count": 1,
   "metadata": {},
   "outputs": [],
   "source": [
    "import os\n",
    "import time\n",
    "import pandas as PD"
   ]
  },
  {
   "cell_type": "code",
   "execution_count": 2,
   "metadata": {},
   "outputs": [],
   "source": [
    "from IPython.core.interactiveshell import InteractiveShell\n",
    "InteractiveShell.ast_node_interactivity = 'all'"
   ]
  },
  {
   "cell_type": "code",
   "execution_count": 3,
   "metadata": {},
   "outputs": [],
   "source": [
    "# can't reload script in a different folder\n",
    "\n",
    "import sys\n",
    "sys.path.append('../models')\n",
    "import moviedb_scraper as RS "
   ]
  },
  {
   "cell_type": "markdown",
   "metadata": {},
   "source": [
    "## Scrape One Movie"
   ]
  },
  {
   "cell_type": "code",
   "execution_count": 4,
   "metadata": {},
   "outputs": [
    {
     "name": "stdout",
     "output_type": "stream",
     "text": [
      "<selenium.webdriver.firefox.webdriver.WebDriver (session=\"0930a45e-a474-2440-8afd-60c535d3e6c2\")>\n",
      "https://reelgood.com/?login=true\n"
     ]
    }
   ],
   "source": [
    "scraper = RS.ReelgoodScraper()\n",
    "scraper.log_in()"
   ]
  },
  {
   "cell_type": "code",
   "execution_count": 5,
   "metadata": {
    "scrolled": false
   },
   "outputs": [
    {
     "data": {
      "text/plain": [
       "{'title': 'Star Wars: The Last Jedi',\n",
       " 'year': '2017',\n",
       " 'duration': 152,\n",
       " 'rating': '13+ (PG-13)',\n",
       " 'country': 'America',\n",
       " 'poster': 'https://img.reelgood.com/content/movie/be6f57cc-b68a-4fb0-aa3e-077cd1c6e51c/poster-780.jpg',\n",
       " 'genres': 'Action & Adventure, Fantasy, Science-Fiction',\n",
       " 'tags': 'Military, War, Space',\n",
       " 'imdb_score': '7.1',\n",
       " 'rt_score': '91%',\n",
       " 'synopsis': 'Rey develops her newly discovered abilities with the guidance of Luke Skywalker, who is unsettled by the strength of her powers. Meanwhile, the Resistance prepares to do battle with the First Order.',\n",
       " 'services': '{\"reelgood\": \"star-wars-the-last-jedi-2017\", \"netflix\": \"80192018\"}'}"
      ]
     },
     "execution_count": 5,
     "metadata": {},
     "output_type": "execute_result"
    }
   ],
   "source": [
    "t0 = time.time()\n",
    "movie_dx = scraper.get_movie_data('star-wars-the-last-jedi-2017')\n",
    "movie_dx"
   ]
  },
  {
   "cell_type": "code",
   "execution_count": 6,
   "metadata": {},
   "outputs": [
    {
     "name": "stdout",
     "output_type": "stream",
     "text": [
      "time: 6.13 secs\n"
     ]
    }
   ],
   "source": [
    "t1 = time.time()\n",
    "print(f'time: {(t1-t0):.2f} secs')"
   ]
  },
  {
   "cell_type": "code",
   "execution_count": 7,
   "metadata": {},
   "outputs": [],
   "source": [
    "scraper.close()"
   ]
  },
  {
   "cell_type": "markdown",
   "metadata": {},
   "source": [
    "## Scrape Movie Subsample "
   ]
  },
  {
   "cell_type": "code",
   "execution_count": 8,
   "metadata": {},
   "outputs": [
    {
     "data": {
      "text/html": [
       "<div>\n",
       "<style scoped>\n",
       "    .dataframe tbody tr th:only-of-type {\n",
       "        vertical-align: middle;\n",
       "    }\n",
       "\n",
       "    .dataframe tbody tr th {\n",
       "        vertical-align: top;\n",
       "    }\n",
       "\n",
       "    .dataframe thead th {\n",
       "        text-align: right;\n",
       "    }\n",
       "</style>\n",
       "<table border=\"1\" class=\"dataframe\">\n",
       "  <thead>\n",
       "    <tr style=\"text-align: right;\">\n",
       "      <th></th>\n",
       "      <th>title</th>\n",
       "      <th>year</th>\n",
       "      <th>reelgood_id</th>\n",
       "    </tr>\n",
       "  </thead>\n",
       "  <tbody>\n",
       "    <tr>\n",
       "      <th>0</th>\n",
       "      <td>1</td>\n",
       "      <td>2013</td>\n",
       "      <td>1-2013</td>\n",
       "    </tr>\n",
       "    <tr>\n",
       "      <th>1</th>\n",
       "      <td>10,000 BC</td>\n",
       "      <td>2008</td>\n",
       "      <td>10000-bc-2008</td>\n",
       "    </tr>\n",
       "    <tr>\n",
       "      <th>2</th>\n",
       "      <td>1000 Rupee Note</td>\n",
       "      <td>2016</td>\n",
       "      <td>1000-rupee-note-2016</td>\n",
       "    </tr>\n",
       "    <tr>\n",
       "      <th>3</th>\n",
       "      <td>1000 To 1</td>\n",
       "      <td>2014</td>\n",
       "      <td>1000-to-1-2014</td>\n",
       "    </tr>\n",
       "    <tr>\n",
       "      <th>4</th>\n",
       "      <td>$100 and a T-Shirt: A Documentary About Zines ...</td>\n",
       "      <td>2004</td>\n",
       "      <td>100-and-a-tshirt-a-documentary-about-zines-in-...</td>\n",
       "    </tr>\n",
       "  </tbody>\n",
       "</table>\n",
       "</div>"
      ],
      "text/plain": [
       "                                               title  year  \\\n",
       "0                                                  1  2013   \n",
       "1                                          10,000 BC  2008   \n",
       "2                                    1000 Rupee Note  2016   \n",
       "3                                          1000 To 1  2014   \n",
       "4  $100 and a T-Shirt: A Documentary About Zines ...  2004   \n",
       "\n",
       "                                         reelgood_id  \n",
       "0                                             1-2013  \n",
       "1                                      10000-bc-2008  \n",
       "2                               1000-rupee-note-2016  \n",
       "3                                     1000-to-1-2014  \n",
       "4  100-and-a-tshirt-a-documentary-about-zines-in-...  "
      ]
     },
     "execution_count": 8,
     "metadata": {},
     "output_type": "execute_result"
    },
    {
     "name": "stdout",
     "output_type": "stream",
     "text": [
      "<class 'pandas.core.frame.DataFrame'>\n",
      "RangeIndex: 18496 entries, 0 to 18495\n",
      "Data columns (total 3 columns):\n",
      "title          18496 non-null object\n",
      "year           18496 non-null int64\n",
      "reelgood_id    18496 non-null object\n",
      "dtypes: int64(1), object(2)\n",
      "memory usage: 433.6+ KB\n"
     ]
    }
   ],
   "source": [
    "URL_FILE = '../data/reelgood_url.csv'\n",
    "url_df = PD.read_csv(URL_FILE)\n",
    "url_df.head()\n",
    "url_df.info()"
   ]
  },
  {
   "cell_type": "code",
   "execution_count": 9,
   "metadata": {},
   "outputs": [
    {
     "data": {
      "text/html": [
       "<div>\n",
       "<style scoped>\n",
       "    .dataframe tbody tr th:only-of-type {\n",
       "        vertical-align: middle;\n",
       "    }\n",
       "\n",
       "    .dataframe tbody tr th {\n",
       "        vertical-align: top;\n",
       "    }\n",
       "\n",
       "    .dataframe thead th {\n",
       "        text-align: right;\n",
       "    }\n",
       "</style>\n",
       "<table border=\"1\" class=\"dataframe\">\n",
       "  <thead>\n",
       "    <tr style=\"text-align: right;\">\n",
       "      <th></th>\n",
       "      <th>title</th>\n",
       "      <th>year</th>\n",
       "      <th>reelgood_id</th>\n",
       "    </tr>\n",
       "  </thead>\n",
       "  <tbody>\n",
       "    <tr>\n",
       "      <th>0</th>\n",
       "      <td>1</td>\n",
       "      <td>2013</td>\n",
       "      <td>1-2013</td>\n",
       "    </tr>\n",
       "    <tr>\n",
       "      <th>3000</th>\n",
       "      <td>Caged No More</td>\n",
       "      <td>2016</td>\n",
       "      <td>caged-no-more-2016</td>\n",
       "    </tr>\n",
       "    <tr>\n",
       "      <th>6000</th>\n",
       "      <td>George A. Romero Presents: Deadtime Stories, V...</td>\n",
       "      <td>2010</td>\n",
       "      <td>george-a-romero-presents-deadtime-stories-vol-...</td>\n",
       "    </tr>\n",
       "    <tr>\n",
       "      <th>9000</th>\n",
       "      <td>Love Games</td>\n",
       "      <td>2016</td>\n",
       "      <td>love-games-2016</td>\n",
       "    </tr>\n",
       "    <tr>\n",
       "      <th>12000</th>\n",
       "      <td>Roller Dreams</td>\n",
       "      <td>2017</td>\n",
       "      <td>roller-dreams-2017</td>\n",
       "    </tr>\n",
       "  </tbody>\n",
       "</table>\n",
       "</div>"
      ],
      "text/plain": [
       "                                                   title  year  \\\n",
       "0                                                      1  2013   \n",
       "3000                                       Caged No More  2016   \n",
       "6000   George A. Romero Presents: Deadtime Stories, V...  2010   \n",
       "9000                                          Love Games  2016   \n",
       "12000                                      Roller Dreams  2017   \n",
       "\n",
       "                                             reelgood_id  \n",
       "0                                                 1-2013  \n",
       "3000                                  caged-no-more-2016  \n",
       "6000   george-a-romero-presents-deadtime-stories-vol-...  \n",
       "9000                                     love-games-2016  \n",
       "12000                                 roller-dreams-2017  "
      ]
     },
     "execution_count": 9,
     "metadata": {},
     "output_type": "execute_result"
    },
    {
     "data": {
      "text/plain": [
       "(7, 3)"
      ]
     },
     "execution_count": 9,
     "metadata": {},
     "output_type": "execute_result"
    }
   ],
   "source": [
    "# create subsample urls\n",
    "\n",
    "subsample_df = url_df.iloc[::3000]\n",
    "subsample_df.head()\n",
    "subsample_df.shape"
   ]
  },
  {
   "cell_type": "code",
   "execution_count": 10,
   "metadata": {
    "scrolled": false
   },
   "outputs": [
    {
     "name": "stdout",
     "output_type": "stream",
     "text": [
      "<selenium.webdriver.firefox.webdriver.WebDriver (session=\"ae7558d4-a4dc-594e-80fe-1d9e734d4328\")>\n",
      "https://reelgood.com/?login=true\n"
     ]
    }
   ],
   "source": [
    "scraper = RS.ReelgoodScraper()\n",
    "scraper.log_in()"
   ]
  },
  {
   "cell_type": "code",
   "execution_count": 11,
   "metadata": {
    "scrolled": false
   },
   "outputs": [
    {
     "name": "stdout",
     "output_type": "stream",
     "text": [
      "time: 0.58 mins\n"
     ]
    }
   ],
   "source": [
    "t0 = time.time()\n",
    "movie_ls = []\n",
    "\n",
    "for idx, row in subsample_df.iterrows():\n",
    "    rg_id = row['reelgood_id']\n",
    "    movie_ls.append(scraper.get_movie_data(rg_id))\n",
    "\n",
    "scraper.close()\n",
    "t1 = time.time()\n",
    "print(f'time: {(t1-t0)/60:.2f} mins')"
   ]
  },
  {
   "cell_type": "code",
   "execution_count": 12,
   "metadata": {
    "scrolled": false
   },
   "outputs": [
    {
     "data": {
      "text/html": [
       "<div>\n",
       "<style scoped>\n",
       "    .dataframe tbody tr th:only-of-type {\n",
       "        vertical-align: middle;\n",
       "    }\n",
       "\n",
       "    .dataframe tbody tr th {\n",
       "        vertical-align: top;\n",
       "    }\n",
       "\n",
       "    .dataframe thead th {\n",
       "        text-align: right;\n",
       "    }\n",
       "</style>\n",
       "<table border=\"1\" class=\"dataframe\">\n",
       "  <thead>\n",
       "    <tr style=\"text-align: right;\">\n",
       "      <th></th>\n",
       "      <th>title</th>\n",
       "      <th>year</th>\n",
       "      <th>duration</th>\n",
       "      <th>rating</th>\n",
       "      <th>country</th>\n",
       "      <th>poster</th>\n",
       "      <th>genres</th>\n",
       "      <th>tags</th>\n",
       "      <th>imdb_score</th>\n",
       "      <th>rt_score</th>\n",
       "      <th>synopsis</th>\n",
       "      <th>services</th>\n",
       "    </tr>\n",
       "  </thead>\n",
       "  <tbody>\n",
       "    <tr>\n",
       "      <th>0</th>\n",
       "      <td>1</td>\n",
       "      <td>2013</td>\n",
       "      <td>112.0</td>\n",
       "      <td>13+ (PG-13)</td>\n",
       "      <td>America</td>\n",
       "      <td>https://img.reelgood.com/content/movie/9b61df6...</td>\n",
       "      <td>Documentary, Mystery, Thriller, Science-Fictio...</td>\n",
       "      <td>Car, Racing</td>\n",
       "      <td>8</td>\n",
       "      <td>None</td>\n",
       "      <td>Set in the golden era of Grand Prix Racing '1'...</td>\n",
       "      <td>{\"reelgood\": \"1-2013\", \"amazon\": \"B0751Q3J8P\"}</td>\n",
       "    </tr>\n",
       "    <tr>\n",
       "      <th>1</th>\n",
       "      <td>Caged No More</td>\n",
       "      <td>2016</td>\n",
       "      <td>90.0</td>\n",
       "      <td>13+ (PG-13)</td>\n",
       "      <td>Greece</td>\n",
       "      <td>https://img.reelgood.com/content/movie/1ebd7e3...</td>\n",
       "      <td>Action &amp; Adventure, Drama, Thriller, Mystery</td>\n",
       "      <td>Greece, Religion</td>\n",
       "      <td>5.4</td>\n",
       "      <td>None</td>\n",
       "      <td>Aggie, A 67 year-old Black Cajun, has just ste...</td>\n",
       "      <td>{\"reelgood\": \"caged-no-more-2016\", \"amazon\": \"...</td>\n",
       "    </tr>\n",
       "    <tr>\n",
       "      <th>2</th>\n",
       "      <td>George A. Romero Presents: Deadtime Stories, V...</td>\n",
       "      <td>2010</td>\n",
       "      <td>NaN</td>\n",
       "      <td>None</td>\n",
       "      <td>None</td>\n",
       "      <td>https://img.reelgood.com/content/movie/c83ef36...</td>\n",
       "      <td>None</td>\n",
       "      <td>None</td>\n",
       "      <td>None</td>\n",
       "      <td>None</td>\n",
       "      <td>Horror master George A. Romero, writer-directo...</td>\n",
       "      <td>{\"reelgood\": \"george-a-romero-presents-deadtim...</td>\n",
       "    </tr>\n",
       "    <tr>\n",
       "      <th>3</th>\n",
       "      <td>Love Games</td>\n",
       "      <td>2016</td>\n",
       "      <td>114.0</td>\n",
       "      <td>None</td>\n",
       "      <td>India</td>\n",
       "      <td>https://img.reelgood.com/content/movie/6935055...</td>\n",
       "      <td>Romance, Mystery, Thriller</td>\n",
       "      <td>Mature</td>\n",
       "      <td>4.3</td>\n",
       "      <td>None</td>\n",
       "      <td>A pair of nymphomaniacs compete in seducing co...</td>\n",
       "      <td>{\"reelgood\": \"love-games-2016\", \"amazon\": \"B06...</td>\n",
       "    </tr>\n",
       "    <tr>\n",
       "      <th>4</th>\n",
       "      <td>Roller Dreams</td>\n",
       "      <td>2017</td>\n",
       "      <td>82.0</td>\n",
       "      <td>None</td>\n",
       "      <td>None</td>\n",
       "      <td>https://img.reelgood.com/content/movie/e34f31f...</td>\n",
       "      <td>Documentary</td>\n",
       "      <td>None</td>\n",
       "      <td>7.8</td>\n",
       "      <td>86%</td>\n",
       "      <td>It’s 1984 and Venice Beach, CA, is at the epic...</td>\n",
       "      <td>{\"reelgood\": \"roller-dreams-2017\", \"hulu\": \"ro...</td>\n",
       "    </tr>\n",
       "  </tbody>\n",
       "</table>\n",
       "</div>"
      ],
      "text/plain": [
       "                                               title  year  duration  \\\n",
       "0                                                  1  2013     112.0   \n",
       "1                                      Caged No More  2016      90.0   \n",
       "2  George A. Romero Presents: Deadtime Stories, V...  2010       NaN   \n",
       "3                                         Love Games  2016     114.0   \n",
       "4                                      Roller Dreams  2017      82.0   \n",
       "\n",
       "        rating  country                                             poster  \\\n",
       "0  13+ (PG-13)  America  https://img.reelgood.com/content/movie/9b61df6...   \n",
       "1  13+ (PG-13)   Greece  https://img.reelgood.com/content/movie/1ebd7e3...   \n",
       "2         None     None  https://img.reelgood.com/content/movie/c83ef36...   \n",
       "3         None    India  https://img.reelgood.com/content/movie/6935055...   \n",
       "4         None     None  https://img.reelgood.com/content/movie/e34f31f...   \n",
       "\n",
       "                                              genres              tags  \\\n",
       "0  Documentary, Mystery, Thriller, Science-Fictio...       Car, Racing   \n",
       "1       Action & Adventure, Drama, Thriller, Mystery  Greece, Religion   \n",
       "2                                               None              None   \n",
       "3                         Romance, Mystery, Thriller            Mature   \n",
       "4                                        Documentary              None   \n",
       "\n",
       "  imdb_score rt_score                                           synopsis  \\\n",
       "0          8     None  Set in the golden era of Grand Prix Racing '1'...   \n",
       "1        5.4     None  Aggie, A 67 year-old Black Cajun, has just ste...   \n",
       "2       None     None  Horror master George A. Romero, writer-directo...   \n",
       "3        4.3     None  A pair of nymphomaniacs compete in seducing co...   \n",
       "4        7.8      86%  It’s 1984 and Venice Beach, CA, is at the epic...   \n",
       "\n",
       "                                            services  \n",
       "0     {\"reelgood\": \"1-2013\", \"amazon\": \"B0751Q3J8P\"}  \n",
       "1  {\"reelgood\": \"caged-no-more-2016\", \"amazon\": \"...  \n",
       "2  {\"reelgood\": \"george-a-romero-presents-deadtim...  \n",
       "3  {\"reelgood\": \"love-games-2016\", \"amazon\": \"B06...  \n",
       "4  {\"reelgood\": \"roller-dreams-2017\", \"hulu\": \"ro...  "
      ]
     },
     "execution_count": 12,
     "metadata": {},
     "output_type": "execute_result"
    },
    {
     "name": "stdout",
     "output_type": "stream",
     "text": [
      "<class 'pandas.core.frame.DataFrame'>\n",
      "RangeIndex: 7 entries, 0 to 6\n",
      "Data columns (total 12 columns):\n",
      "title         7 non-null object\n",
      "year          7 non-null object\n",
      "duration      6 non-null float64\n",
      "rating        2 non-null object\n",
      "country       4 non-null object\n",
      "poster        7 non-null object\n",
      "genres        5 non-null object\n",
      "tags          4 non-null object\n",
      "imdb_score    6 non-null object\n",
      "rt_score      1 non-null object\n",
      "synopsis      7 non-null object\n",
      "services      7 non-null object\n",
      "dtypes: float64(1), object(11)\n",
      "memory usage: 800.0+ bytes\n"
     ]
    }
   ],
   "source": [
    "movie_df = PD.DataFrame(movie_ls)\n",
    "movie_df.head()\n",
    "movie_df.info()"
   ]
  },
  {
   "cell_type": "code",
   "execution_count": 13,
   "metadata": {},
   "outputs": [
    {
     "name": "stdout",
     "output_type": "stream",
     "text": [
      "time: 25.68 hrs\n"
     ]
    }
   ],
   "source": [
    "# projected scrape time\n",
    "\n",
    "print(f'time: {(t1-t0)/subsample_df.shape[0]*url_df.shape[0]/60/60:.2f} hrs')"
   ]
  },
  {
   "cell_type": "code",
   "execution_count": 21,
   "metadata": {},
   "outputs": [
    {
     "data": {
      "text/plain": [
       "'0.0 mb'"
      ]
     },
     "execution_count": 21,
     "metadata": {},
     "output_type": "execute_result"
    }
   ],
   "source": [
    "save_path = r'/Users/Phil/Documents/Websites/Movies_Proj/Filmophile/backend/movies/notebooks/reelgood_test.csv'\n",
    "movie_df.to_csv(save_path, index=False)\n",
    "f'{round(os.path.getsize(save_path) /1e6, 2)} mb'"
   ]
  },
  {
   "cell_type": "code",
   "execution_count": 18,
   "metadata": {},
   "outputs": [
    {
     "name": "stdout",
     "output_type": "stream",
     "text": [
      "/Users/Phil/Documents/Websites/Movies_Proj/Filmophile/backend/movies/notebooks\r\n"
     ]
    }
   ],
   "source": [
    "! pwd"
   ]
  },
  {
   "cell_type": "code",
   "execution_count": 20,
   "metadata": {},
   "outputs": [
    {
     "data": {
      "text/plain": [
       "'/Users/Phil/Documents/Websites/Movies_Proj/Filmophile/backend/movies/notebooks'"
      ]
     },
     "execution_count": 20,
     "metadata": {},
     "output_type": "execute_result"
    }
   ],
   "source": [
    "os.path.abspath(os.path.dirname(''))"
   ]
  },
  {
   "cell_type": "code",
   "execution_count": null,
   "metadata": {},
   "outputs": [],
   "source": []
  }
 ],
 "metadata": {
  "kernelspec": {
   "display_name": "v5-kernel",
   "language": "python",
   "name": "v5-kernel"
  },
  "language_info": {
   "codemirror_mode": {
    "name": "ipython",
    "version": 3
   },
   "file_extension": ".py",
   "mimetype": "text/x-python",
   "name": "python",
   "nbconvert_exporter": "python",
   "pygments_lexer": "ipython3",
   "version": "3.7.5"
  }
 },
 "nbformat": 4,
 "nbformat_minor": 2
}
