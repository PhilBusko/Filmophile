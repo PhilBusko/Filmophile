{
 "cells": [
  {
   "cell_type": "markdown",
   "metadata": {},
   "source": [
    "# Analysis: Extreme Gradient Boost\n",
    "\n",
    "Workflow: 9 \n",
    "\n",
    "Goal: Load features and target, and run classification.\n",
    "\n",
    "Result:"
   ]
  },
  {
   "cell_type": "code",
   "execution_count": 1,
   "metadata": {},
   "outputs": [],
   "source": [
    "import os, sys, time\n",
    "import pandas as PD\n",
    "import numpy as NP\n",
    "\n",
    "import sklearn.impute as IM\n",
    "import sklearn.preprocessing as PP\n",
    "import sklearn.decomposition as DC\n",
    "import imblearn.pipeline as PL\n",
    "\n",
    "import xgboost as XG\n",
    "import sklearn.model_selection as MS\n",
    "import plotly.graph_objects as GO"
   ]
  },
  {
   "cell_type": "code",
   "execution_count": 2,
   "metadata": {},
   "outputs": [],
   "source": [
    "from IPython.core.interactiveshell import InteractiveShell\n",
    "InteractiveShell.ast_node_interactivity = 'all'"
   ]
  },
  {
   "cell_type": "code",
   "execution_count": 3,
   "metadata": {},
   "outputs": [
    {
     "data": {
      "text/plain": [
       "'app_proj.settings'"
      ]
     },
     "execution_count": 3,
     "metadata": {},
     "output_type": "execute_result"
    }
   ],
   "source": [
    "os.chdir(os.getenv('PWD'))\n",
    "sys.path.insert(0, os.getenv('PWD'))\n",
    "os.environ.setdefault('DJANGO_SETTINGS_MODULE', 'settings.py')\n",
    "import django\n",
    "django.setup()"
   ]
  },
  {
   "cell_type": "code",
   "execution_count": 4,
   "metadata": {},
   "outputs": [
    {
     "name": "stdout",
     "output_type": "stream",
     "text": [
      "/Users/Phil/Documents/Websites/Movies_Proj/Filmophile/backend\r\n"
     ]
    }
   ],
   "source": [
    "! pwd"
   ]
  },
  {
   "cell_type": "code",
   "execution_count": 5,
   "metadata": {},
   "outputs": [],
   "source": [
    "import app_proj.settings as ST\n",
    "import movies.models.models as MD\n",
    "import movies.models.analysis as NL"
   ]
  },
  {
   "cell_type": "markdown",
   "metadata": {},
   "source": [
    "## Target & Features"
   ]
  },
  {
   "cell_type": "code",
   "execution_count": 6,
   "metadata": {},
   "outputs": [
    {
     "name": "stdout",
     "output_type": "stream",
     "text": [
      "<class 'pandas.core.frame.DataFrame'>\n",
      "RangeIndex: 17668 entries, 0 to 17667\n",
      "Columns: 625 entries, Movie_ID to Western\n",
      "dtypes: float64(5), int64(619), object(1)\n",
      "memory usage: 84.2+ MB\n"
     ]
    }
   ],
   "source": [
    "FEATURE_FILE = os.path.join(ST.BASE_DIR, NL.FEATURE_PATH)\n",
    "feature_full_df = PD.read_csv(FEATURE_FILE)\n",
    "feature_full_df.info()"
   ]
  },
  {
   "cell_type": "code",
   "execution_count": 7,
   "metadata": {
    "scrolled": true
   },
   "outputs": [
    {
     "name": "stdout",
     "output_type": "stream",
     "text": [
      "<class 'pandas.core.frame.DataFrame'>\n",
      "RangeIndex: 600 entries, 0 to 599\n",
      "Data columns (total 3 columns):\n",
      "Movie_ID    600 non-null int64\n",
      "User        600 non-null object\n",
      "Vote        600 non-null int64\n",
      "dtypes: int64(2), object(1)\n",
      "memory usage: 14.2+ KB\n"
     ]
    }
   ],
   "source": [
    "target_ls = MD.UserVotes.objects.values()\n",
    "target_full_df = PD.DataFrame(target_ls).drop(columns=['id'])\n",
    "target_full_df.info()"
   ]
  },
  {
   "cell_type": "code",
   "execution_count": 8,
   "metadata": {},
   "outputs": [
    {
     "name": "stdout",
     "output_type": "stream",
     "text": [
      "<class 'pandas.core.frame.DataFrame'>\n",
      "Int64Index: 600 entries, 0 to 599\n",
      "Columns: 627 entries, Movie_ID to Western\n",
      "dtypes: float64(5), int64(620), object(2)\n",
      "memory usage: 2.9+ MB\n"
     ]
    }
   ],
   "source": [
    "full_df = PD.merge(target_full_df, feature_full_df, how='left', left_on='Movie_ID', right_on='Movie_ID')\n",
    "full_df.info()"
   ]
  },
  {
   "cell_type": "code",
   "execution_count": 9,
   "metadata": {},
   "outputs": [
    {
     "name": "stdout",
     "output_type": "stream",
     "text": [
      "<class 'pandas.core.frame.DataFrame'>\n",
      "Int64Index: 600 entries, 0 to 599\n",
      "Columns: 623 entries, Year to Western\n",
      "dtypes: float64(5), int64(618)\n",
      "memory usage: 2.9 MB\n"
     ]
    }
   ],
   "source": [
    "# keep only features for movies that have been voted on\n",
    "\n",
    "feature_df = full_df.drop(columns=['Movie_ID', 'Title', 'User', 'Vote'])\n",
    "feature_df.info()"
   ]
  },
  {
   "cell_type": "code",
   "execution_count": 10,
   "metadata": {},
   "outputs": [
    {
     "name": "stdout",
     "output_type": "stream",
     "text": [
      "<class 'pandas.core.frame.DataFrame'>\n",
      "RangeIndex: 600 entries, 0 to 599\n",
      "Data columns (total 1 columns):\n",
      "Vote    600 non-null int64\n",
      "dtypes: int64(1)\n",
      "memory usage: 4.8 KB\n"
     ]
    }
   ],
   "source": [
    "target_df = target_full_df.drop(columns=['Movie_ID', 'User'])\n",
    "target_df.info()"
   ]
  },
  {
   "cell_type": "markdown",
   "metadata": {},
   "source": [
    "## Run XGBoost"
   ]
  },
  {
   "cell_type": "code",
   "execution_count": 11,
   "metadata": {},
   "outputs": [
    {
     "data": {
      "text/plain": [
       "(600, 623)"
      ]
     },
     "execution_count": 11,
     "metadata": {},
     "output_type": "execute_result"
    },
    {
     "data": {
      "text/plain": [
       "(600,)"
      ]
     },
     "execution_count": 11,
     "metadata": {},
     "output_type": "execute_result"
    }
   ],
   "source": [
    "X_np = NP.array(feature_df)\n",
    "y_np = NP.array(target_df['Vote'])\n",
    "\n",
    "X_np.shape\n",
    "y_np.shape"
   ]
  },
  {
   "cell_type": "code",
   "execution_count": 12,
   "metadata": {},
   "outputs": [
    {
     "data": {
      "text/plain": [
       "(480, 623)"
      ]
     },
     "execution_count": 12,
     "metadata": {},
     "output_type": "execute_result"
    },
    {
     "data": {
      "text/plain": [
       "(480,)"
      ]
     },
     "execution_count": 12,
     "metadata": {},
     "output_type": "execute_result"
    }
   ],
   "source": [
    "# run xgboost with default arguments as the baseline\n",
    "# first get split-test-train \n",
    "\n",
    "y_train, y_test, X_train, X_test = MS.train_test_split(y_np, X_np, stratify=target_df['Vote'], test_size=0.2)\n",
    "X_train.shape\n",
    "y_train.shape"
   ]
  },
  {
   "cell_type": "code",
   "execution_count": 13,
   "metadata": {},
   "outputs": [
    {
     "data": {
      "text/plain": [
       "SimpleImputer(add_indicator=False, copy=True, fill_value=None,\n",
       "              missing_values=nan, strategy='mean', verbose=0)"
      ]
     },
     "execution_count": 13,
     "metadata": {},
     "output_type": "execute_result"
    },
    {
     "data": {
      "text/plain": [
       "(480, 623)"
      ]
     },
     "execution_count": 13,
     "metadata": {},
     "output_type": "execute_result"
    }
   ],
   "source": [
    "# impute values for PCA ?\n",
    "\n",
    "imputer = IM.SimpleImputer(missing_values=NP.nan, strategy='mean')\n",
    "imputer.fit(X_train)\n",
    "X_train_impute = imputer.transform(X_train)\n",
    "X_train_impute.shape"
   ]
  },
  {
   "cell_type": "code",
   "execution_count": 14,
   "metadata": {},
   "outputs": [
    {
     "data": {
      "text/plain": [
       "StandardScaler(copy=True, with_mean=True, with_std=True)"
      ]
     },
     "execution_count": 14,
     "metadata": {},
     "output_type": "execute_result"
    },
    {
     "data": {
      "text/plain": [
       "(480, 623)"
      ]
     },
     "execution_count": 14,
     "metadata": {},
     "output_type": "execute_result"
    }
   ],
   "source": [
    "# scale features\n",
    "\n",
    "scaler = PP.StandardScaler()\n",
    "scaler.fit(X_train_impute)\n",
    "X_train_scale = scaler.transform(X_train_impute)\n",
    "X_train_scale.shape"
   ]
  },
  {
   "cell_type": "code",
   "execution_count": 15,
   "metadata": {},
   "outputs": [],
   "source": [
    "#x_pca = DC.PCA(n_components=)"
   ]
  },
  {
   "cell_type": "code",
   "execution_count": 16,
   "metadata": {},
   "outputs": [
    {
     "data": {
      "text/plain": [
       "XGBClassifier(base_score=0.5, booster='gbtree', colsample_bylevel=1,\n",
       "              colsample_bynode=1, colsample_bytree=1, gamma=0,\n",
       "              learning_rate=0.1, max_delta_step=0, max_depth=3,\n",
       "              min_child_weight=1, missing=None, n_estimators=100, n_jobs=1,\n",
       "              nthread=None, num_class=3, objective='multi:softprob',\n",
       "              random_state=0, reg_alpha=0, reg_lambda=1, scale_pos_weight=1,\n",
       "              seed=None, silent=None, subsample=1, verbosity=1)"
      ]
     },
     "execution_count": 16,
     "metadata": {},
     "output_type": "execute_result"
    },
    {
     "data": {
      "text/plain": [
       "array([1, 2, 1, 1, 1])"
      ]
     },
     "execution_count": 16,
     "metadata": {},
     "output_type": "execute_result"
    },
    {
     "name": "stdout",
     "output_type": "stream",
     "text": [
      "time: 0.07 mins\n"
     ]
    }
   ],
   "source": [
    "xgb = XG.XGBClassifier(booster='gbtree', objective='multi:softmax', num_class=3);\n",
    "t0 = time.time()\n",
    "\n",
    "xgb.fit(X_train_scale, y_train);\n",
    "y_predict = xgb.predict(X_train_scale);\n",
    "y_predict[:5]\n",
    "\n",
    "t1 = time.time()\n",
    "print(f'time: {(t1-t0)/60:.2f} mins')"
   ]
  },
  {
   "cell_type": "code",
   "execution_count": 17,
   "metadata": {},
   "outputs": [
    {
     "name": "stdout",
     "output_type": "stream",
     "text": [
      "train score: 79.6\n"
     ]
    }
   ],
   "source": [
    "# get the training score\n",
    "\n",
    "train_score = xgb.score(X_train_scale, y_train) *100\n",
    "print(f'train score: {train_score:.1f}')"
   ]
  },
  {
   "cell_type": "code",
   "execution_count": 18,
   "metadata": {},
   "outputs": [
    {
     "name": "stdout",
     "output_type": "stream",
     "text": [
      "test score: 56.7\n"
     ]
    }
   ],
   "source": [
    "# get the test score\n",
    "\n",
    "X_test_impute = imputer.transform(X_test)\n",
    "X_test_scale = scaler.transform(X_test_impute)\n",
    "test_score = xgb.score(X_test_scale, y_test) *100\n",
    "print(f'test score: {test_score:.1f}')"
   ]
  },
  {
   "cell_type": "code",
   "execution_count": 20,
   "metadata": {},
   "outputs": [],
   "source": [
    "# run each step of the grid search\n",
    "\n",
    "InteractiveShell.ast_node_interactivity = 'last'"
   ]
  },
  {
   "cell_type": "code",
   "execution_count": 21,
   "metadata": {},
   "outputs": [
    {
     "name": "stderr",
     "output_type": "stream",
     "text": [
      "/Users/Phil/Documents/Websites/Movies_Proj/v5/lib/python3.7/site-packages/sklearn/model_selection/_search.py:814: DeprecationWarning:\n",
      "\n",
      "The default of the `iid` parameter will change from True to False in version 0.22 and will be removed in 0.24. This will change numeric results when test-set sizes are unequal.\n",
      "\n"
     ]
    },
    {
     "name": "stdout",
     "output_type": "stream",
     "text": [
      "time: 0.49 mins\n"
     ]
    }
   ],
   "source": [
    "# booster\n",
    "\n",
    "imputer = IM.SimpleImputer(missing_values=NP.nan, strategy='mean')\n",
    "scaler = PP.StandardScaler()\n",
    "#pca = DC.PCA(n_components=)\n",
    "xgb = XG.XGBClassifier(objective='multi:softmax', num_class=3)\n",
    "pipeline = PL.Pipeline([('imputer', imputer), ('scaler', scaler), ('estimator', xgb)])\n",
    "param_dx = {'estimator__booster': ['gbtree', 'gblinear'],}\n",
    "\n",
    "searcher = MS.GridSearchCV(pipeline, param_dx, scoring='accuracy', cv=5)\n",
    "t0 = time.time()\n",
    "searcher.fit(X_np, y_np);\n",
    "\n",
    "t1 = time.time()\n",
    "print(f'time: {(t1-t0)/60:.2f} mins')"
   ]
  },
  {
   "cell_type": "code",
   "execution_count": 25,
   "metadata": {},
   "outputs": [
    {
     "data": {
      "text/plain": [
       "{'param_name': 'xgb-booster',\n",
       " 'param_values': ['gbtree', 'gblinear'],\n",
       " 'test_scores': [0.6133333333333333, 0.6283333333333333],\n",
       " 'best_value': 'gblinear'}"
      ]
     },
     "execution_count": 25,
     "metadata": {},
     "output_type": "execute_result"
    }
   ],
   "source": [
    "step1_dx = {\n",
    "    'param_name': 'xgb-booster',\n",
    "    'param_values': param_dx['estimator__booster'],\n",
    "    'test_scores': list(searcher.cv_results_['mean_test_score']),\n",
    "    'best_value': searcher.best_params_['estimator__booster'],\n",
    "}\n",
    "step1_dx"
   ]
  },
  {
   "cell_type": "code",
   "execution_count": null,
   "metadata": {},
   "outputs": [],
   "source": []
  },
  {
   "cell_type": "code",
   "execution_count": null,
   "metadata": {},
   "outputs": [],
   "source": []
  },
  {
   "cell_type": "code",
   "execution_count": null,
   "metadata": {},
   "outputs": [],
   "source": []
  },
  {
   "cell_type": "code",
   "execution_count": null,
   "metadata": {},
   "outputs": [],
   "source": []
  },
  {
   "cell_type": "code",
   "execution_count": null,
   "metadata": {},
   "outputs": [],
   "source": []
  },
  {
   "cell_type": "code",
   "execution_count": null,
   "metadata": {},
   "outputs": [],
   "source": []
  },
  {
   "cell_type": "code",
   "execution_count": 23,
   "metadata": {
    "scrolled": false
   },
   "outputs": [
    {
     "ename": "NameError",
     "evalue": "name 'ALPHA' is not defined",
     "output_type": "error",
     "traceback": [
      "\u001b[0;31m---------------------------------------------------------------------------\u001b[0m",
      "\u001b[0;31mNameError\u001b[0m                                 Traceback (most recent call last)",
      "\u001b[0;32m<ipython-input-23-7f1fe1e99f42>\u001b[0m in \u001b[0;36m<module>\u001b[0;34m\u001b[0m\n\u001b[1;32m      4\u001b[0m \u001b[0;32mfor\u001b[0m \u001b[0midx\u001b[0m\u001b[0;34m,\u001b[0m \u001b[0malg\u001b[0m \u001b[0;32min\u001b[0m \u001b[0menumerate\u001b[0m\u001b[0;34m(\u001b[0m\u001b[0malgorithms\u001b[0m\u001b[0;34m)\u001b[0m\u001b[0;34m:\u001b[0m\u001b[0;34m\u001b[0m\u001b[0;34m\u001b[0m\u001b[0m\n\u001b[1;32m      5\u001b[0m     fig.add_trace(\n\u001b[0;32m----> 6\u001b[0;31m         GO.Scatter(x = ALPHA, y = alg['test_scores'],\n\u001b[0m\u001b[1;32m      7\u001b[0m             name=alg['algorithm'], marker={'color': colors[idx]}, mode='lines+markers'))\n\u001b[1;32m      8\u001b[0m \u001b[0;34m\u001b[0m\u001b[0m\n",
      "\u001b[0;31mNameError\u001b[0m: name 'ALPHA' is not defined"
     ]
    }
   ],
   "source": [
    "fig = GO.Figure()\n",
    "colors = ['orange', 'red', 'darkcyan', 'green']\n",
    "\n",
    "for idx, alg in enumerate(algorithms):\n",
    "    fig.add_trace(\n",
    "        GO.Scatter(x = ALPHA, y = alg['test_scores'],\n",
    "            name=alg['algorithm'], marker={'color': colors[idx]}, mode='lines+markers'))\n",
    "\n",
    "fig.update_layout(\n",
    "    title=\"Logistic Regression CV-Test Scores\",\n",
    "    xaxis_title=\"lambda\",\n",
    "    yaxis_title=\"Accuracy\",\n",
    "    width=600,\n",
    "    height=400,\n",
    "    margin=GO.layout.Margin(t=50, r=10, b=50, l=70, pad=0),\n",
    "    paper_bgcolor=\"LightSteelBlue\",\n",
    ")\n",
    "fig.update_xaxes(tickvals=ALPHA, type=\"log\")\n",
    "fig.update_yaxes(range=[0.52, 0.66])"
   ]
  },
  {
   "cell_type": "code",
   "execution_count": null,
   "metadata": {},
   "outputs": [],
   "source": []
  }
 ],
 "metadata": {
  "kernelspec": {
   "display_name": "Django Shell-Plus",
   "language": "python",
   "name": "django_extensions"
  },
  "language_info": {
   "codemirror_mode": {
    "name": "ipython",
    "version": 3
   },
   "file_extension": ".py",
   "mimetype": "text/x-python",
   "name": "python",
   "nbconvert_exporter": "python",
   "pygments_lexer": "ipython3",
   "version": "3.7.5"
  }
 },
 "nbformat": 4,
 "nbformat_minor": 2
}
