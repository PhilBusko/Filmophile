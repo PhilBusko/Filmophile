{
 "cells": [
  {
   "cell_type": "markdown",
   "metadata": {},
   "source": [
    "# Analysis: Extreme Gradient Boost\n",
    "\n",
    "Workflow: 9 \n",
    "\n",
    "Goal: Load features and target, and run classification.\n",
    "\n",
    "Result:"
   ]
  },
  {
   "cell_type": "code",
   "execution_count": 1,
   "metadata": {},
   "outputs": [],
   "source": [
    "import os, sys, time\n",
    "import pandas as PD\n",
    "import numpy as NP\n",
    "\n",
    "import sklearn.impute as IM\n",
    "import sklearn.preprocessing as PP\n",
    "import sklearn.decomposition as DC\n",
    "import imblearn.pipeline as PL\n",
    "\n",
    "import xgboost as XG\n",
    "import sklearn.utils as SU\n",
    "import sklearn.model_selection as MS\n",
    "import plotly.graph_objects as GO"
   ]
  },
  {
   "cell_type": "code",
   "execution_count": 2,
   "metadata": {},
   "outputs": [
    {
     "name": "stdout",
     "output_type": "stream",
     "text": [
      "scikit-learn version: 0.21.3\n"
     ]
    }
   ],
   "source": [
    "import sklearn\n",
    "print(f'scikit-learn version: {sklearn.__version__}')"
   ]
  },
  {
   "cell_type": "code",
   "execution_count": 3,
   "metadata": {},
   "outputs": [],
   "source": [
    "from IPython.core.interactiveshell import InteractiveShell\n",
    "InteractiveShell.ast_node_interactivity = 'all'"
   ]
  },
  {
   "cell_type": "code",
   "execution_count": 4,
   "metadata": {},
   "outputs": [
    {
     "data": {
      "text/plain": [
       "'app_proj.settings'"
      ]
     },
     "execution_count": 4,
     "metadata": {},
     "output_type": "execute_result"
    }
   ],
   "source": [
    "os.chdir(os.getenv('PWD'))\n",
    "sys.path.insert(0, os.getenv('PWD'))\n",
    "os.environ.setdefault('DJANGO_SETTINGS_MODULE', 'settings.py')\n",
    "import django\n",
    "django.setup()"
   ]
  },
  {
   "cell_type": "code",
   "execution_count": 5,
   "metadata": {},
   "outputs": [
    {
     "name": "stdout",
     "output_type": "stream",
     "text": [
      "/Users/Phil/Documents/Websites/Movies_Proj/Filmophile/backend\r\n"
     ]
    }
   ],
   "source": [
    "! pwd"
   ]
  },
  {
   "cell_type": "code",
   "execution_count": 6,
   "metadata": {},
   "outputs": [],
   "source": [
    "import app_proj.settings as ST\n",
    "import movies.models.models as MD\n",
    "import movies.models.analysis as NL"
   ]
  },
  {
   "cell_type": "markdown",
   "metadata": {},
   "source": [
    "## Target & Features"
   ]
  },
  {
   "cell_type": "code",
   "execution_count": 7,
   "metadata": {},
   "outputs": [
    {
     "name": "stdout",
     "output_type": "stream",
     "text": [
      "<class 'pandas.core.frame.DataFrame'>\n",
      "RangeIndex: 17668 entries, 0 to 17667\n",
      "Columns: 594 entries, Movie_ID to Western\n",
      "dtypes: float64(5), int64(588), object(1)\n",
      "memory usage: 80.1+ MB\n"
     ]
    }
   ],
   "source": [
    "FEATURE_FILE = os.path.join(ST.BASE_DIR, NL.FEATURE_PATH)\n",
    "feature_full_df = PD.read_csv(FEATURE_FILE)\n",
    "feature_full_df.info()"
   ]
  },
  {
   "cell_type": "code",
   "execution_count": 8,
   "metadata": {
    "scrolled": true
   },
   "outputs": [
    {
     "name": "stdout",
     "output_type": "stream",
     "text": [
      "<class 'pandas.core.frame.DataFrame'>\n",
      "RangeIndex: 591 entries, 0 to 590\n",
      "Data columns (total 3 columns):\n",
      "Movie_ID    591 non-null int64\n",
      "User        591 non-null object\n",
      "Vote        591 non-null int64\n",
      "dtypes: int64(2), object(1)\n",
      "memory usage: 14.0+ KB\n"
     ]
    }
   ],
   "source": [
    "target_ls = MD.UserVotes.objects.values()\n",
    "target_full_df = PD.DataFrame(target_ls).drop(columns=['id'])\n",
    "target_full_df.info()"
   ]
  },
  {
   "cell_type": "code",
   "execution_count": 9,
   "metadata": {},
   "outputs": [
    {
     "name": "stdout",
     "output_type": "stream",
     "text": [
      "<class 'pandas.core.frame.DataFrame'>\n",
      "Int64Index: 591 entries, 0 to 590\n",
      "Columns: 596 entries, Movie_ID to Western\n",
      "dtypes: float64(5), int64(589), object(2)\n",
      "memory usage: 2.7+ MB\n"
     ]
    }
   ],
   "source": [
    "full_df = PD.merge(target_full_df, feature_full_df, how='left', left_on='Movie_ID', right_on='Movie_ID')\n",
    "full_df.info()"
   ]
  },
  {
   "cell_type": "code",
   "execution_count": 10,
   "metadata": {},
   "outputs": [
    {
     "name": "stdout",
     "output_type": "stream",
     "text": [
      "<class 'pandas.core.frame.DataFrame'>\n",
      "Int64Index: 591 entries, 0 to 590\n",
      "Columns: 592 entries, Year to Western\n",
      "dtypes: float64(5), int64(587)\n",
      "memory usage: 2.7 MB\n"
     ]
    }
   ],
   "source": [
    "# keep only features for movies that have been voted on\n",
    "\n",
    "feature_df = full_df.drop(columns=['Movie_ID', 'Title', 'User', 'Vote'])\n",
    "feature_df.info()"
   ]
  },
  {
   "cell_type": "code",
   "execution_count": 11,
   "metadata": {
    "scrolled": true
   },
   "outputs": [
    {
     "name": "stdout",
     "output_type": "stream",
     "text": [
      "<class 'pandas.core.frame.DataFrame'>\n",
      "RangeIndex: 591 entries, 0 to 590\n",
      "Data columns (total 1 columns):\n",
      "Vote    591 non-null int64\n",
      "dtypes: int64(1)\n",
      "memory usage: 4.7 KB\n"
     ]
    },
    {
     "data": {
      "text/plain": [
       "1    382\n",
       "2    154\n",
       "3     55\n",
       "Name: Vote, dtype: int64"
      ]
     },
     "execution_count": 11,
     "metadata": {},
     "output_type": "execute_result"
    }
   ],
   "source": [
    "target_df = target_full_df.drop(columns=['Movie_ID', 'User'])\n",
    "target_df.info()\n",
    "target_df['Vote'].value_counts()"
   ]
  },
  {
   "cell_type": "code",
   "execution_count": 24,
   "metadata": {},
   "outputs": [
    {
     "data": {
      "text/plain": [
       "64.63620981387479"
      ]
     },
     "execution_count": 24,
     "metadata": {},
     "output_type": "execute_result"
    }
   ],
   "source": [
    "382 / 591 * 100"
   ]
  },
  {
   "cell_type": "markdown",
   "metadata": {},
   "source": [
    "## Run Baseline XGBoost"
   ]
  },
  {
   "cell_type": "code",
   "execution_count": 12,
   "metadata": {},
   "outputs": [
    {
     "data": {
      "text/plain": [
       "(591, 592)"
      ]
     },
     "execution_count": 12,
     "metadata": {},
     "output_type": "execute_result"
    },
    {
     "data": {
      "text/plain": [
       "(591,)"
      ]
     },
     "execution_count": 12,
     "metadata": {},
     "output_type": "execute_result"
    }
   ],
   "source": [
    "X_np = NP.array(feature_df)\n",
    "y_np = NP.array(target_df['Vote'])\n",
    "\n",
    "X_np.shape\n",
    "y_np.shape"
   ]
  },
  {
   "cell_type": "code",
   "execution_count": 13,
   "metadata": {},
   "outputs": [
    {
     "data": {
      "text/plain": [
       "(472, 592)"
      ]
     },
     "execution_count": 13,
     "metadata": {},
     "output_type": "execute_result"
    },
    {
     "data": {
      "text/plain": [
       "(472,)"
      ]
     },
     "execution_count": 13,
     "metadata": {},
     "output_type": "execute_result"
    }
   ],
   "source": [
    "# run xgboost with default arguments as the baseline\n",
    "# first get split-test-train \n",
    "\n",
    "y_train, y_test, X_train, X_test = MS.train_test_split(y_np, X_np, stratify=target_df['Vote'], test_size=0.2)\n",
    "X_train.shape\n",
    "y_train.shape"
   ]
  },
  {
   "cell_type": "code",
   "execution_count": 14,
   "metadata": {},
   "outputs": [
    {
     "data": {
      "text/plain": [
       "SimpleImputer(add_indicator=False, copy=True, fill_value=None,\n",
       "              missing_values=nan, strategy='mean', verbose=0)"
      ]
     },
     "execution_count": 14,
     "metadata": {},
     "output_type": "execute_result"
    },
    {
     "data": {
      "text/plain": [
       "(472, 592)"
      ]
     },
     "execution_count": 14,
     "metadata": {},
     "output_type": "execute_result"
    }
   ],
   "source": [
    "# impute values for PCA ?\n",
    "\n",
    "imputer = IM.SimpleImputer(missing_values=NP.nan, strategy='mean')\n",
    "imputer.fit(X_train)\n",
    "X_train_impute = imputer.transform(X_train)\n",
    "X_train_impute.shape"
   ]
  },
  {
   "cell_type": "code",
   "execution_count": 15,
   "metadata": {},
   "outputs": [
    {
     "data": {
      "text/plain": [
       "StandardScaler(copy=True, with_mean=True, with_std=True)"
      ]
     },
     "execution_count": 15,
     "metadata": {},
     "output_type": "execute_result"
    },
    {
     "data": {
      "text/plain": [
       "(472, 592)"
      ]
     },
     "execution_count": 15,
     "metadata": {},
     "output_type": "execute_result"
    }
   ],
   "source": [
    "# scale features\n",
    "\n",
    "scaler = PP.StandardScaler()\n",
    "scaler.fit(X_train_impute)\n",
    "X_train_scale = scaler.transform(X_train_impute)\n",
    "X_train_scale.shape"
   ]
  },
  {
   "cell_type": "code",
   "execution_count": 16,
   "metadata": {},
   "outputs": [],
   "source": [
    "#x_pca = DC.PCA(n_components=)"
   ]
  },
  {
   "cell_type": "code",
   "execution_count": 17,
   "metadata": {},
   "outputs": [
    {
     "data": {
      "text/plain": [
       "XGBClassifier(base_score=0.5, booster='gbtree', colsample_bylevel=1,\n",
       "              colsample_bynode=1, colsample_bytree=1, gamma=0,\n",
       "              learning_rate=0.1, max_delta_step=0, max_depth=3,\n",
       "              min_child_weight=1, missing=None, n_estimators=100, n_jobs=1,\n",
       "              nthread=None, num_class=3, objective='multi:softprob',\n",
       "              random_state=0, reg_alpha=0, reg_lambda=1, scale_pos_weight=1,\n",
       "              seed=None, silent=None, subsample=1, verbosity=1)"
      ]
     },
     "execution_count": 17,
     "metadata": {},
     "output_type": "execute_result"
    },
    {
     "data": {
      "text/plain": [
       "array([1, 1, 1, 1, 1])"
      ]
     },
     "execution_count": 17,
     "metadata": {},
     "output_type": "execute_result"
    },
    {
     "name": "stdout",
     "output_type": "stream",
     "text": [
      "time: 0.07 mins\n"
     ]
    }
   ],
   "source": [
    "xgb = XG.XGBClassifier(booster='gbtree', objective='multi:softmax', num_class=3);\n",
    "t0 = time.time()\n",
    "\n",
    "xgb.fit(X_train_scale, y_train);\n",
    "y_predict = xgb.predict(X_train_scale);\n",
    "y_predict[:5]\n",
    "\n",
    "t1 = time.time()\n",
    "print(f'time: {(t1-t0)/60:.2f} mins')"
   ]
  },
  {
   "cell_type": "code",
   "execution_count": 18,
   "metadata": {},
   "outputs": [
    {
     "name": "stdout",
     "output_type": "stream",
     "text": [
      "train score: 78.8\n"
     ]
    }
   ],
   "source": [
    "# get the training score\n",
    "\n",
    "train_score = xgb.score(X_train_scale, y_train) *100\n",
    "print(f'train score: {train_score:.1f}')"
   ]
  },
  {
   "cell_type": "code",
   "execution_count": 19,
   "metadata": {},
   "outputs": [
    {
     "name": "stdout",
     "output_type": "stream",
     "text": [
      "test score: 63.9\n"
     ]
    }
   ],
   "source": [
    "# get the test score\n",
    "\n",
    "X_test_impute = imputer.transform(X_test)\n",
    "X_test_scale = scaler.transform(X_test_impute)\n",
    "test_score = xgb.score(X_test_scale, y_test) *100\n",
    "print(f'test score: {test_score:.1f}')"
   ]
  },
  {
   "cell_type": "markdown",
   "metadata": {},
   "source": [
    "## Run Grid Search XGBoost"
   ]
  },
  {
   "cell_type": "code",
   "execution_count": 20,
   "metadata": {},
   "outputs": [],
   "source": [
    "# run each step of the grid search\n",
    "\n",
    "InteractiveShell.ast_node_interactivity = 'last'"
   ]
  },
  {
   "cell_type": "code",
   "execution_count": 25,
   "metadata": {},
   "outputs": [
    {
     "name": "stdout",
     "output_type": "stream",
     "text": [
      "time: 0.55 mins\n"
     ]
    }
   ],
   "source": [
    "# 0] learning rate\n",
    "\n",
    "imputer = IM.SimpleImputer(missing_values=NP.nan, strategy='mean')\n",
    "scaler = PP.StandardScaler()\n",
    "#pca = DC.PCA(n_components=)\n",
    "xgb = XG.XGBClassifier(objective='multi:softmax', num_class=3, booster='gblinear')\n",
    "pipeline = PL.Pipeline([('imputer', imputer), ('scaler', scaler), ('estimator', xgb)])\n",
    "param_dx = {'estimator__learning_rate': [0.001, 0.01, 0.05, 0.1],}\n",
    "\n",
    "searcher = MS.GridSearchCV(pipeline, param_dx, scoring='accuracy', cv=5)\n",
    "t0 = time.time()\n",
    "searcher.fit(X_np, y_np);\n",
    "\n",
    "t1 = time.time()\n",
    "print(f'time: {(t1-t0)/60:.2f} mins')"
   ]
  },
  {
   "cell_type": "code",
   "execution_count": 26,
   "metadata": {},
   "outputs": [
    {
     "data": {
      "text/plain": [
       "{'param_name': 'learning_rate',\n",
       " 'param_values': [0.001, 0.01, 0.05, 0.1],\n",
       " 'test_scores': [62.77, 63.28, 63.62, 63.62],\n",
       " 'best_value': 0.05}"
      ]
     },
     "execution_count": 26,
     "metadata": {},
     "output_type": "execute_result"
    }
   ],
   "source": [
    "param_name = 'learning_rate'\n",
    "step0_dx = {\n",
    "    'param_name': param_name,\n",
    "    'param_values': param_dx[f'estimator__{param_name}'],\n",
    "    'test_scores': [round(s*100,2) for s in list(searcher.cv_results_['mean_test_score'])],\n",
    "    'best_value': searcher.best_params_[f'estimator__{param_name}'],\n",
    "}\n",
    "step0_dx"
   ]
  },
  {
   "cell_type": "code",
   "execution_count": null,
   "metadata": {},
   "outputs": [],
   "source": []
  },
  {
   "cell_type": "code",
   "execution_count": 22,
   "metadata": {},
   "outputs": [
    {
     "ename": "SyntaxError",
     "evalue": "invalid syntax (<ipython-input-22-f3d9a8454a59>, line 1)",
     "output_type": "error",
     "traceback": [
      "\u001b[0;36m  File \u001b[0;32m\"<ipython-input-22-f3d9a8454a59>\"\u001b[0;36m, line \u001b[0;32m1\u001b[0m\n\u001b[0;31m    st op =\u001b[0m\n\u001b[0m        ^\u001b[0m\n\u001b[0;31mSyntaxError\u001b[0m\u001b[0;31m:\u001b[0m invalid syntax\n"
     ]
    }
   ],
   "source": [
    "st op = "
   ]
  },
  {
   "cell_type": "code",
   "execution_count": null,
   "metadata": {
    "scrolled": true
   },
   "outputs": [],
   "source": [
    "# 1] booster\n",
    "\n",
    "imputer = IM.SimpleImputer(missing_values=NP.nan, strategy='mean')\n",
    "scaler = PP.StandardScaler()\n",
    "#pca = DC.PCA(n_components=)\n",
    "xgb = XG.XGBClassifier(objective='multi:softmax', num_class=3)\n",
    "pipeline = PL.Pipeline([('imputer', imputer), ('scaler', scaler), ('estimator', xgb)])\n",
    "param_dx = {'estimator__booster': ['gbtree', 'gblinear', 'dart'],}\n",
    "\n",
    "searcher = MS.GridSearchCV(pipeline, param_dx, scoring='accuracy', cv=5)\n",
    "t0 = time.time()\n",
    "searcher.fit(X_np, y_np);\n",
    "\n",
    "t1 = time.time()\n",
    "print(f'time: {(t1-t0)/60:.2f} mins')"
   ]
  },
  {
   "cell_type": "code",
   "execution_count": null,
   "metadata": {},
   "outputs": [],
   "source": [
    "param_name = 'booster'\n",
    "step1_dx = {\n",
    "    'param_name': param_name,\n",
    "    'param_values': param_dx[f'estimator__{param_name}'],\n",
    "    'test_scores': [round(s*100,2) for s in list(searcher.cv_results_['mean_test_score'])],\n",
    "    'best_value': searcher.best_params_[f'estimator__{param_name}'],\n",
    "}\n",
    "step1_dx"
   ]
  },
  {
   "cell_type": "code",
   "execution_count": null,
   "metadata": {},
   "outputs": [],
   "source": [
    "# get weight class for step 2\n",
    "\n",
    "weights_raw = list(SU.class_weight.compute_class_weight('balanced', NP.unique(y_np), y_np))\n",
    "weights_dx = {1: weights_raw[0], 2: weights_raw[1], 3: weights_raw[2]}\n",
    "weights_dx"
   ]
  },
  {
   "cell_type": "code",
   "execution_count": null,
   "metadata": {
    "scrolled": false
   },
   "outputs": [],
   "source": [
    "# booster with weighted classes\n",
    "\n",
    "imputer = IM.SimpleImputer(missing_values=NP.nan, strategy='mean')\n",
    "scaler = PP.StandardScaler()\n",
    "#pca = DC.PCA(n_components=)\n",
    "xgb = XG.XGBClassifier(objective='multi:softmax', num_class=3, sample_weight2=weights_dx)\n",
    "pipeline = PL.Pipeline([('imputer', imputer), ('scaler', scaler), ('estimator', xgb)])\n",
    "param_dx = {'estimator__booster': ['gbtree', 'gblinear'],}\n",
    "\n",
    "searcher = MS.GridSearchCV(pipeline, param_dx, scoring='accuracy', cv=5, )\n",
    "t0 = time.time()\n",
    "searcher.fit(X_np, y_np);\n",
    "\n",
    "t1 = time.time()\n",
    "print(f'time: {(t1-t0)/60:.2f} mins')"
   ]
  },
  {
   "cell_type": "code",
   "execution_count": null,
   "metadata": {},
   "outputs": [],
   "source": [
    "# param_name = 'booster-weight'\n",
    "# step2_dx = {\n",
    "#     'param_name': param_name,\n",
    "#     'param_values': param_dx[f'estimator__{param_name}'],\n",
    "#     'test_scores': list(searcher.cv_results_['mean_test_score']),\n",
    "#     'best_value': searcher.best_params_[f'estimator__{param_name}'],\n",
    "# }\n",
    "# step2_dx"
   ]
  },
  {
   "cell_type": "code",
   "execution_count": null,
   "metadata": {},
   "outputs": [],
   "source": [
    "# 3] number of estimators\n",
    "\n",
    "imputer = IM.SimpleImputer(missing_values=NP.nan, strategy='mean')\n",
    "scaler = PP.StandardScaler()\n",
    "#pca = DC.PCA(n_components=)\n",
    "xgb = XG.XGBClassifier(objective='multi:softmax', num_class=3, \n",
    "                       booster=step1_dx['best_value'])\n",
    "pipeline = PL.Pipeline([('imputer', imputer), ('scaler', scaler), ('estimator', xgb)])\n",
    "param_dx = {'estimator__n_estimators': [25, 30, 35, 40, 45, 50, 55, 100],}\n",
    "\n",
    "searcher = MS.GridSearchCV(pipeline, param_dx, scoring='accuracy', cv=5, )\n",
    "t0 = time.time()\n",
    "searcher.fit(X_np, y_np);\n",
    "\n",
    "t1 = time.time()\n",
    "print(f'time: {(t1-t0)/60:.2f} mins')"
   ]
  },
  {
   "cell_type": "code",
   "execution_count": null,
   "metadata": {},
   "outputs": [],
   "source": [
    "param_name = 'n_estimators'\n",
    "step3_dx = {\n",
    "    'param_name': param_name,\n",
    "    'param_values': param_dx[f'estimator__{param_name}'],\n",
    "    'test_scores': [round(s*100,2) for s in list(searcher.cv_results_['mean_test_score'])],\n",
    "    'best_value': searcher.best_params_[f'estimator__{param_name}'],\n",
    "}\n",
    "step3_dx"
   ]
  },
  {
   "cell_type": "code",
   "execution_count": null,
   "metadata": {},
   "outputs": [],
   "source": [
    "# 4] maximum depth\n",
    "\n",
    "imputer = IM.SimpleImputer(missing_values=NP.nan, strategy='mean')\n",
    "scaler = PP.StandardScaler()\n",
    "#pca = DC.PCA(n_components=)\n",
    "xgb = XG.XGBClassifier(objective='multi:softmax', num_class=3, \n",
    "                       booster=step1_dx['best_value'], n_estimators=step3_dx['best_value'])\n",
    "pipeline = PL.Pipeline([('imputer', imputer), ('scaler', scaler), ('estimator', xgb)])\n",
    "param_dx = {'estimator__max_depth': [1, 2, 3, 4, 5],}\n",
    "\n",
    "searcher = MS.GridSearchCV(pipeline, param_dx, scoring='accuracy', cv=5, )\n",
    "t0 = time.time()\n",
    "searcher.fit(X_np, y_np);\n",
    "\n",
    "t1 = time.time()\n",
    "print(f'time: {(t1-t0)/60:.2f} mins')"
   ]
  },
  {
   "cell_type": "code",
   "execution_count": null,
   "metadata": {},
   "outputs": [],
   "source": [
    "param_name = 'max_depth'\n",
    "step4_dx = {\n",
    "    'param_name': param_name,\n",
    "    'param_values': param_dx[f'estimator__{param_name}'],\n",
    "    'test_scores': [round(s*100,2) for s in list(searcher.cv_results_['mean_test_score'])],\n",
    "    'best_value': searcher.best_params_[f'estimator__{param_name}'],\n",
    "}\n",
    "step4_dx"
   ]
  },
  {
   "cell_type": "code",
   "execution_count": null,
   "metadata": {},
   "outputs": [],
   "source": [
    "# 5] minimum child weight\n",
    "\n",
    "imputer = IM.SimpleImputer(missing_values=NP.nan, strategy='mean')\n",
    "scaler = PP.StandardScaler()\n",
    "#pca = DC.PCA(n_components=)\n",
    "xgb = XG.XGBClassifier(objective='multi:softmax', num_class=3, \n",
    "                       booster=step1_dx['best_value'], n_estimators=step3_dx['best_value'],\n",
    "                       max_depth=step4_dx['best_value'])\n",
    "pipeline = PL.Pipeline([('imputer', imputer), ('scaler', scaler), ('estimator', xgb)])\n",
    "param_dx = {'estimator__min_child_weight': [1, 2, 3, 4],}\n",
    "\n",
    "searcher = MS.GridSearchCV(pipeline, param_dx, scoring='accuracy', cv=5, )\n",
    "t0 = time.time()\n",
    "searcher.fit(X_np, y_np);\n",
    "\n",
    "t1 = time.time()\n",
    "print(f'time: {(t1-t0)/60:.2f} mins')"
   ]
  },
  {
   "cell_type": "code",
   "execution_count": null,
   "metadata": {},
   "outputs": [],
   "source": [
    "param_name = 'min_child_weight'\n",
    "step5_dx = {\n",
    "    'param_name': param_name,\n",
    "    'param_values': param_dx[f'estimator__{param_name}'],\n",
    "    'test_scores': [round(s*100,2) for s in list(searcher.cv_results_['mean_test_score'])],\n",
    "    'best_value': searcher.best_params_[f'estimator__{param_name}'],\n",
    "}\n",
    "step5_dx"
   ]
  },
  {
   "cell_type": "code",
   "execution_count": null,
   "metadata": {},
   "outputs": [],
   "source": [
    "# 6] gamma\n",
    "\n",
    "imputer = IM.SimpleImputer(missing_values=NP.nan, strategy='mean')\n",
    "scaler = PP.StandardScaler()\n",
    "#pca = DC.PCA(n_components=)\n",
    "xgb = XG.XGBClassifier(objective='multi:softmax', num_class=3, \n",
    "                       booster=step1_dx['best_value'], n_estimators=step3_dx['best_value'],\n",
    "                       max_depth=step4_dx['best_value'], min_child_weight=step5_dx['best_value'],)\n",
    "pipeline = PL.Pipeline([('imputer', imputer), ('scaler', scaler), ('estimator', xgb)])\n",
    "param_dx = {'estimator__gamma': [0, 0.05, 0.1, 0.2, 0.3],}\n",
    "\n",
    "searcher = MS.GridSearchCV(pipeline, param_dx, scoring='accuracy', cv=5, )\n",
    "t0 = time.time()\n",
    "searcher.fit(X_np, y_np);\n",
    "\n",
    "t1 = time.time()\n",
    "print(f'time: {(t1-t0)/60:.2f} mins')"
   ]
  },
  {
   "cell_type": "code",
   "execution_count": null,
   "metadata": {},
   "outputs": [],
   "source": [
    "param_name = 'gamma'\n",
    "step6_dx = {\n",
    "    'param_name': param_name,\n",
    "    'param_values': param_dx[f'estimator__{param_name}'],\n",
    "    'test_scores': [round(s*100,2) for s in list(searcher.cv_results_['mean_test_score'])],\n",
    "    'best_value': searcher.best_params_[f'estimator__{param_name}'],\n",
    "}\n",
    "step6_dx"
   ]
  },
  {
   "cell_type": "code",
   "execution_count": null,
   "metadata": {},
   "outputs": [],
   "source": [
    "# 7] L1 regularization\n",
    "\n",
    "imputer = IM.SimpleImputer(missing_values=NP.nan, strategy='mean')\n",
    "scaler = PP.StandardScaler()\n",
    "#pca = DC.PCA(n_components=)\n",
    "xgb = XG.XGBClassifier(objective='multi:softmax', num_class=3, \n",
    "                       booster=step1_dx['best_value'], \n",
    "                       n_estimators=step3_dx['best_value'], max_depth=step4_dx['best_value'], \n",
    "                       min_child_weight=step5_dx['best_value'], gamma=step6_dx['best_value'],)\n",
    "pipeline = PL.Pipeline([('imputer', imputer), ('scaler', scaler), ('estimator', xgb)])\n",
    "param_dx = {'estimator__reg_alpha': [1e-3, 5e-2, 1e-2, 5e-1, 1e-1, 0, 1e0],}\n",
    "\n",
    "searcher = MS.GridSearchCV(pipeline, param_dx, scoring='accuracy', cv=5, )\n",
    "t0 = time.time()\n",
    "searcher.fit(X_np, y_np);\n",
    "\n",
    "t1 = time.time()\n",
    "print(f'time: {(t1-t0)/60:.2f} mins')"
   ]
  },
  {
   "cell_type": "code",
   "execution_count": null,
   "metadata": {},
   "outputs": [],
   "source": [
    "param_name = 'reg_alpha'\n",
    "step7_dx = {\n",
    "    'param_name': param_name,\n",
    "    'param_values': param_dx[f'estimator__{param_name}'],\n",
    "    'test_scores': [round(s*100,2) for s in list(searcher.cv_results_['mean_test_score'])],\n",
    "    'best_value': searcher.best_params_[f'estimator__{param_name}'],\n",
    "}\n",
    "step7_dx"
   ]
  },
  {
   "cell_type": "code",
   "execution_count": null,
   "metadata": {},
   "outputs": [],
   "source": [
    "# 8] L2 regularization\n",
    "\n",
    "imputer = IM.SimpleImputer(missing_values=NP.nan, strategy='mean')\n",
    "scaler = PP.StandardScaler()\n",
    "#pca = DC.PCA(n_components=)\n",
    "xgb = XG.XGBClassifier(objective='multi:softmax', num_class=3, \n",
    "                       booster=step1_dx['best_value'], \n",
    "                       n_estimators=step3_dx['best_value'], max_depth=step4_dx['best_value'], \n",
    "                       min_child_weight=step5_dx['best_value'], gamma=step6_dx['best_value'],\n",
    "                       reg_alpha=step7_dx['best_value'],)\n",
    "pipeline = PL.Pipeline([('imputer', imputer), ('scaler', scaler), ('estimator', xgb)])\n",
    "param_dx = {'estimator__reg_lambda': [1e-5, 1e-4, 1e-3, 1e-2, 1e-1, 0],}\n",
    "\n",
    "searcher = MS.GridSearchCV(pipeline, param_dx, scoring='accuracy', cv=5, )\n",
    "t0 = time.time()\n",
    "searcher.fit(X_np, y_np);\n",
    "\n",
    "t1 = time.time()\n",
    "print(f'time: {(t1-t0)/60:.2f} mins')"
   ]
  },
  {
   "cell_type": "code",
   "execution_count": null,
   "metadata": {},
   "outputs": [],
   "source": [
    "param_name = 'reg_lambda'\n",
    "step8_dx = {\n",
    "    'param_name': param_name,\n",
    "    'param_values': param_dx[f'estimator__{param_name}'],\n",
    "    'test_scores': [round(s*100,2) for s in list(searcher.cv_results_['mean_test_score'])],\n",
    "    'best_value': searcher.best_params_[f'estimator__{param_name}'],\n",
    "}\n",
    "step8_dx"
   ]
  },
  {
   "cell_type": "code",
   "execution_count": null,
   "metadata": {},
   "outputs": [],
   "source": [
    "# all the best\n",
    "\n",
    "imputer = IM.SimpleImputer(missing_values=NP.nan, strategy='mean')\n",
    "scaler = PP.StandardScaler()\n",
    "#pca = DC.PCA(n_components=)\n",
    "xgb = XG.XGBClassifier(objective='multi:softmax', num_class=3, \n",
    "                        \n",
    "                       n_estimators=step3_dx['best_value'], max_depth=step4_dx['best_value'], \n",
    "                       min_child_weight=step5_dx['best_value'], gamma=step6_dx['best_value'],\n",
    "                       reg_alpha=step7_dx['best_value'], reg_lambda=step8_dx['best_value'],)\n",
    "pipeline = PL.Pipeline([('imputer', imputer), ('scaler', scaler), ('estimator', xgb)])\n",
    "param_dx = {'estimator__booster': ['gbtree', 'gblinear', 'dart'],}\n",
    "\n",
    "searcher = MS.GridSearchCV(pipeline, param_dx, scoring='accuracy', cv=5, )\n",
    "t0 = time.time()\n",
    "searcher.fit(X_np, y_np);\n",
    "\n",
    "t1 = time.time()\n",
    "print(f'time: {(t1-t0)/60:.2f} mins')"
   ]
  },
  {
   "cell_type": "code",
   "execution_count": null,
   "metadata": {},
   "outputs": [],
   "source": [
    "param_name = 'booster'\n",
    "stepF_dx = {\n",
    "    'param_name': param_name,\n",
    "    'param_values': param_dx[f'estimator__{param_name}'],\n",
    "    'test_scores': [round(s*100,2) for s in list(searcher.cv_results_['mean_test_score'])],\n",
    "    'best_value': searcher.best_params_[f'estimator__{param_name}'],\n",
    "}\n",
    "stepF_dx"
   ]
  },
  {
   "cell_type": "code",
   "execution_count": null,
   "metadata": {},
   "outputs": [],
   "source": []
  },
  {
   "cell_type": "code",
   "execution_count": null,
   "metadata": {},
   "outputs": [],
   "source": []
  },
  {
   "cell_type": "code",
   "execution_count": null,
   "metadata": {},
   "outputs": [],
   "source": []
  },
  {
   "cell_type": "code",
   "execution_count": null,
   "metadata": {
    "scrolled": false
   },
   "outputs": [],
   "source": [
    "fig = GO.Figure()\n",
    "colors = ['orange', 'red', 'darkcyan', 'green']\n",
    "\n",
    "for idx, alg in enumerate(algorithms):\n",
    "    fig.add_trace(\n",
    "        GO.Scatter(x = ALPHA, y = alg['test_scores'],\n",
    "            name=alg['algorithm'], marker={'color': colors[idx]}, mode='lines+markers'))\n",
    "\n",
    "fig.update_layout(\n",
    "    title=\"Logistic Regression CV-Test Scores\",\n",
    "    xaxis_title=\"lambda\",\n",
    "    yaxis_title=\"Accuracy\",\n",
    "    width=600,\n",
    "    height=400,\n",
    "    margin=GO.layout.Margin(t=50, r=10, b=50, l=70, pad=0),\n",
    "    paper_bgcolor=\"LightSteelBlue\",\n",
    ")\n",
    "fig.update_xaxes(tickvals=ALPHA, type=\"log\")\n",
    "fig.update_yaxes(range=[0.52, 0.66])"
   ]
  },
  {
   "cell_type": "code",
   "execution_count": null,
   "metadata": {},
   "outputs": [],
   "source": []
  }
 ],
 "metadata": {
  "kernelspec": {
   "display_name": "Django Shell-Plus",
   "language": "python",
   "name": "django_extensions"
  },
  "language_info": {
   "codemirror_mode": {
    "name": "ipython",
    "version": 3
   },
   "file_extension": ".py",
   "mimetype": "text/x-python",
   "name": "python",
   "nbconvert_exporter": "python",
   "pygments_lexer": "ipython3",
   "version": "3.7.5"
  }
 },
 "nbformat": 4,
 "nbformat_minor": 2
}
