{
 "cells": [
  {
   "cell_type": "markdown",
   "metadata": {},
   "source": [
    "# Analysis: Extreme Gradient Boost\n",
    "\n",
    "Workflow: 9 \n",
    "\n",
    "Goal: Load features and target, and run classification.\n",
    "\n",
    "Result:"
   ]
  },
  {
   "cell_type": "code",
   "execution_count": 1,
   "metadata": {},
   "outputs": [],
   "source": [
    "import os, sys, time\n",
    "import pandas as PD\n",
    "import numpy as NP\n",
    "\n",
    "import sklearn.impute as IM\n",
    "import sklearn.preprocessing as PP\n",
    "import sklearn.decomposition as DC\n",
    "import imblearn.pipeline as PL\n",
    "\n",
    "import xgboost as XG\n",
    "import sklearn.utils as SU\n",
    "import sklearn.model_selection as MS\n",
    "import plotly.graph_objects as GO"
   ]
  },
  {
   "cell_type": "code",
   "execution_count": 2,
   "metadata": {},
   "outputs": [
    {
     "name": "stdout",
     "output_type": "stream",
     "text": [
      "scikit-learn version: 0.21.3\n"
     ]
    }
   ],
   "source": [
    "import sklearn\n",
    "print(f'scikit-learn version: {sklearn.__version__}')"
   ]
  },
  {
   "cell_type": "code",
   "execution_count": 3,
   "metadata": {},
   "outputs": [],
   "source": [
    "from IPython.core.interactiveshell import InteractiveShell\n",
    "InteractiveShell.ast_node_interactivity = 'all'"
   ]
  },
  {
   "cell_type": "code",
   "execution_count": 4,
   "metadata": {},
   "outputs": [
    {
     "data": {
      "text/plain": [
       "'app_proj.settings'"
      ]
     },
     "execution_count": 4,
     "metadata": {},
     "output_type": "execute_result"
    }
   ],
   "source": [
    "os.chdir(os.getenv('PWD'))\n",
    "sys.path.insert(0, os.getenv('PWD'))\n",
    "os.environ.setdefault('DJANGO_SETTINGS_MODULE', 'settings.py')\n",
    "import django\n",
    "django.setup()"
   ]
  },
  {
   "cell_type": "code",
   "execution_count": 5,
   "metadata": {},
   "outputs": [
    {
     "name": "stdout",
     "output_type": "stream",
     "text": [
      "/Users/Phil/Documents/Websites/Movies_Proj/Filmophile/backend\r\n"
     ]
    }
   ],
   "source": [
    "! pwd"
   ]
  },
  {
   "cell_type": "code",
   "execution_count": 6,
   "metadata": {},
   "outputs": [],
   "source": [
    "import app_proj.settings as ST\n",
    "import movies.models.models as MD\n",
    "import movies.models.analysis as NL"
   ]
  },
  {
   "cell_type": "markdown",
   "metadata": {},
   "source": [
    "## Target & Features"
   ]
  },
  {
   "cell_type": "code",
   "execution_count": 7,
   "metadata": {},
   "outputs": [
    {
     "name": "stdout",
     "output_type": "stream",
     "text": [
      "<class 'pandas.core.frame.DataFrame'>\n",
      "RangeIndex: 17668 entries, 0 to 17667\n",
      "Columns: 625 entries, Movie_ID to Western\n",
      "dtypes: float64(5), int64(619), object(1)\n",
      "memory usage: 84.2+ MB\n"
     ]
    }
   ],
   "source": [
    "FEATURE_FILE = os.path.join(ST.BASE_DIR, NL.FEATURE_PATH)\n",
    "feature_full_df = PD.read_csv(FEATURE_FILE)\n",
    "feature_full_df.info()"
   ]
  },
  {
   "cell_type": "code",
   "execution_count": 8,
   "metadata": {
    "scrolled": true
   },
   "outputs": [
    {
     "name": "stdout",
     "output_type": "stream",
     "text": [
      "<class 'pandas.core.frame.DataFrame'>\n",
      "RangeIndex: 600 entries, 0 to 599\n",
      "Data columns (total 3 columns):\n",
      "Movie_ID    600 non-null int64\n",
      "User        600 non-null object\n",
      "Vote        600 non-null int64\n",
      "dtypes: int64(2), object(1)\n",
      "memory usage: 14.2+ KB\n"
     ]
    }
   ],
   "source": [
    "target_ls = MD.UserVotes.objects.values()\n",
    "target_full_df = PD.DataFrame(target_ls).drop(columns=['id'])\n",
    "target_full_df.info()"
   ]
  },
  {
   "cell_type": "code",
   "execution_count": 9,
   "metadata": {},
   "outputs": [
    {
     "name": "stdout",
     "output_type": "stream",
     "text": [
      "<class 'pandas.core.frame.DataFrame'>\n",
      "Int64Index: 600 entries, 0 to 599\n",
      "Columns: 627 entries, Movie_ID to Western\n",
      "dtypes: float64(5), int64(620), object(2)\n",
      "memory usage: 2.9+ MB\n"
     ]
    }
   ],
   "source": [
    "full_df = PD.merge(target_full_df, feature_full_df, how='left', left_on='Movie_ID', right_on='Movie_ID')\n",
    "full_df.info()"
   ]
  },
  {
   "cell_type": "code",
   "execution_count": 10,
   "metadata": {},
   "outputs": [
    {
     "name": "stdout",
     "output_type": "stream",
     "text": [
      "<class 'pandas.core.frame.DataFrame'>\n",
      "Int64Index: 600 entries, 0 to 599\n",
      "Columns: 623 entries, Year to Western\n",
      "dtypes: float64(5), int64(618)\n",
      "memory usage: 2.9 MB\n"
     ]
    }
   ],
   "source": [
    "# keep only features for movies that have been voted on\n",
    "\n",
    "feature_df = full_df.drop(columns=['Movie_ID', 'Title', 'User', 'Vote'])\n",
    "feature_df.info()"
   ]
  },
  {
   "cell_type": "code",
   "execution_count": 11,
   "metadata": {},
   "outputs": [
    {
     "name": "stdout",
     "output_type": "stream",
     "text": [
      "<class 'pandas.core.frame.DataFrame'>\n",
      "RangeIndex: 600 entries, 0 to 599\n",
      "Data columns (total 1 columns):\n",
      "Vote    600 non-null int64\n",
      "dtypes: int64(1)\n",
      "memory usage: 4.8 KB\n"
     ]
    },
    {
     "data": {
      "text/plain": [
       "1    383\n",
       "2    159\n",
       "3     58\n",
       "Name: Vote, dtype: int64"
      ]
     },
     "execution_count": 11,
     "metadata": {},
     "output_type": "execute_result"
    }
   ],
   "source": [
    "target_df = target_full_df.drop(columns=['Movie_ID', 'User'])\n",
    "target_df.info()\n",
    "target_df['Vote'].value_counts()"
   ]
  },
  {
   "cell_type": "markdown",
   "metadata": {},
   "source": [
    "## Run Baseline XGBoost"
   ]
  },
  {
   "cell_type": "code",
   "execution_count": 12,
   "metadata": {},
   "outputs": [
    {
     "data": {
      "text/plain": [
       "(600, 623)"
      ]
     },
     "execution_count": 12,
     "metadata": {},
     "output_type": "execute_result"
    },
    {
     "data": {
      "text/plain": [
       "(600,)"
      ]
     },
     "execution_count": 12,
     "metadata": {},
     "output_type": "execute_result"
    }
   ],
   "source": [
    "X_np = NP.array(feature_df)\n",
    "y_np = NP.array(target_df['Vote'])\n",
    "\n",
    "X_np.shape\n",
    "y_np.shape"
   ]
  },
  {
   "cell_type": "code",
   "execution_count": 13,
   "metadata": {},
   "outputs": [
    {
     "data": {
      "text/plain": [
       "(480, 623)"
      ]
     },
     "execution_count": 13,
     "metadata": {},
     "output_type": "execute_result"
    },
    {
     "data": {
      "text/plain": [
       "(480,)"
      ]
     },
     "execution_count": 13,
     "metadata": {},
     "output_type": "execute_result"
    }
   ],
   "source": [
    "# run xgboost with default arguments as the baseline\n",
    "# first get split-test-train \n",
    "\n",
    "y_train, y_test, X_train, X_test = MS.train_test_split(y_np, X_np, stratify=target_df['Vote'], test_size=0.2)\n",
    "X_train.shape\n",
    "y_train.shape"
   ]
  },
  {
   "cell_type": "code",
   "execution_count": 14,
   "metadata": {},
   "outputs": [
    {
     "data": {
      "text/plain": [
       "SimpleImputer(add_indicator=False, copy=True, fill_value=None,\n",
       "              missing_values=nan, strategy='mean', verbose=0)"
      ]
     },
     "execution_count": 14,
     "metadata": {},
     "output_type": "execute_result"
    },
    {
     "data": {
      "text/plain": [
       "(480, 623)"
      ]
     },
     "execution_count": 14,
     "metadata": {},
     "output_type": "execute_result"
    }
   ],
   "source": [
    "# impute values for PCA ?\n",
    "\n",
    "imputer = IM.SimpleImputer(missing_values=NP.nan, strategy='mean')\n",
    "imputer.fit(X_train)\n",
    "X_train_impute = imputer.transform(X_train)\n",
    "X_train_impute.shape"
   ]
  },
  {
   "cell_type": "code",
   "execution_count": 15,
   "metadata": {},
   "outputs": [
    {
     "data": {
      "text/plain": [
       "StandardScaler(copy=True, with_mean=True, with_std=True)"
      ]
     },
     "execution_count": 15,
     "metadata": {},
     "output_type": "execute_result"
    },
    {
     "data": {
      "text/plain": [
       "(480, 623)"
      ]
     },
     "execution_count": 15,
     "metadata": {},
     "output_type": "execute_result"
    }
   ],
   "source": [
    "# scale features\n",
    "\n",
    "scaler = PP.StandardScaler()\n",
    "scaler.fit(X_train_impute)\n",
    "X_train_scale = scaler.transform(X_train_impute)\n",
    "X_train_scale.shape"
   ]
  },
  {
   "cell_type": "code",
   "execution_count": 16,
   "metadata": {},
   "outputs": [],
   "source": [
    "#x_pca = DC.PCA(n_components=)"
   ]
  },
  {
   "cell_type": "code",
   "execution_count": 17,
   "metadata": {},
   "outputs": [
    {
     "data": {
      "text/plain": [
       "XGBClassifier(base_score=0.5, booster='gbtree', colsample_bylevel=1,\n",
       "              colsample_bynode=1, colsample_bytree=1, gamma=0,\n",
       "              learning_rate=0.1, max_delta_step=0, max_depth=3,\n",
       "              min_child_weight=1, missing=None, n_estimators=100, n_jobs=1,\n",
       "              nthread=None, num_class=3, objective='multi:softprob',\n",
       "              random_state=0, reg_alpha=0, reg_lambda=1, scale_pos_weight=1,\n",
       "              seed=None, silent=None, subsample=1, verbosity=1)"
      ]
     },
     "execution_count": 17,
     "metadata": {},
     "output_type": "execute_result"
    },
    {
     "data": {
      "text/plain": [
       "array([1, 1, 1, 3, 1])"
      ]
     },
     "execution_count": 17,
     "metadata": {},
     "output_type": "execute_result"
    },
    {
     "name": "stdout",
     "output_type": "stream",
     "text": [
      "time: 0.07 mins\n"
     ]
    }
   ],
   "source": [
    "xgb = XG.XGBClassifier(booster='gbtree', objective='multi:softmax', num_class=3);\n",
    "t0 = time.time()\n",
    "\n",
    "xgb.fit(X_train_scale, y_train);\n",
    "y_predict = xgb.predict(X_train_scale);\n",
    "y_predict[:5]\n",
    "\n",
    "t1 = time.time()\n",
    "print(f'time: {(t1-t0)/60:.2f} mins')"
   ]
  },
  {
   "cell_type": "code",
   "execution_count": 18,
   "metadata": {},
   "outputs": [
    {
     "name": "stdout",
     "output_type": "stream",
     "text": [
      "train score: 81.9\n"
     ]
    }
   ],
   "source": [
    "# get the training score\n",
    "\n",
    "train_score = xgb.score(X_train_scale, y_train) *100\n",
    "print(f'train score: {train_score:.1f}')"
   ]
  },
  {
   "cell_type": "code",
   "execution_count": 19,
   "metadata": {},
   "outputs": [
    {
     "name": "stdout",
     "output_type": "stream",
     "text": [
      "test score: 59.2\n"
     ]
    }
   ],
   "source": [
    "# get the test score\n",
    "\n",
    "X_test_impute = imputer.transform(X_test)\n",
    "X_test_scale = scaler.transform(X_test_impute)\n",
    "test_score = xgb.score(X_test_scale, y_test) *100\n",
    "print(f'test score: {test_score:.1f}')"
   ]
  },
  {
   "cell_type": "markdown",
   "metadata": {},
   "source": [
    "## Run Grid Search XGBoost"
   ]
  },
  {
   "cell_type": "code",
   "execution_count": 20,
   "metadata": {},
   "outputs": [],
   "source": [
    "# run each step of the grid search\n",
    "\n",
    "InteractiveShell.ast_node_interactivity = 'last'"
   ]
  },
  {
   "cell_type": "code",
   "execution_count": 21,
   "metadata": {
    "scrolled": true
   },
   "outputs": [
    {
     "name": "stderr",
     "output_type": "stream",
     "text": [
      "/Users/Phil/Documents/Websites/Movies_Proj/v5/lib/python3.7/site-packages/sklearn/model_selection/_search.py:814: DeprecationWarning:\n",
      "\n",
      "The default of the `iid` parameter will change from True to False in version 0.22 and will be removed in 0.24. This will change numeric results when test-set sizes are unequal.\n",
      "\n"
     ]
    },
    {
     "name": "stdout",
     "output_type": "stream",
     "text": [
      "time: 0.84 mins\n"
     ]
    }
   ],
   "source": [
    "# 1] booster\n",
    "\n",
    "imputer = IM.SimpleImputer(missing_values=NP.nan, strategy='mean')\n",
    "scaler = PP.StandardScaler()\n",
    "#pca = DC.PCA(n_components=)\n",
    "xgb = XG.XGBClassifier(objective='multi:softmax', num_class=3)\n",
    "pipeline = PL.Pipeline([('imputer', imputer), ('scaler', scaler), ('estimator', xgb)])\n",
    "param_dx = {'estimator__booster': ['gbtree', 'gblinear', 'dart'],}\n",
    "\n",
    "searcher = MS.GridSearchCV(pipeline, param_dx, scoring='accuracy', cv=5)\n",
    "t0 = time.time()\n",
    "searcher.fit(X_np, y_np);\n",
    "\n",
    "t1 = time.time()\n",
    "print(f'time: {(t1-t0)/60:.2f} mins')"
   ]
  },
  {
   "cell_type": "code",
   "execution_count": 22,
   "metadata": {},
   "outputs": [
    {
     "data": {
      "text/plain": [
       "{'param_name': 'booster',\n",
       " 'param_values': ['gbtree', 'gblinear', 'dart'],\n",
       " 'test_scores': [61.33, 62.83, 61.33],\n",
       " 'best_value': 'gblinear'}"
      ]
     },
     "execution_count": 22,
     "metadata": {},
     "output_type": "execute_result"
    }
   ],
   "source": [
    "param_name = 'booster'\n",
    "step1_dx = {\n",
    "    'param_name': param_name,\n",
    "    'param_values': param_dx[f'estimator__{param_name}'],\n",
    "    'test_scores': [round(s*100,2) for s in list(searcher.cv_results_['mean_test_score'])],\n",
    "    'best_value': searcher.best_params_[f'estimator__{param_name}'],\n",
    "}\n",
    "step1_dx"
   ]
  },
  {
   "cell_type": "code",
   "execution_count": 23,
   "metadata": {},
   "outputs": [
    {
     "data": {
      "text/plain": [
       "Pipeline(memory=None,\n",
       "         steps=[('imputer',\n",
       "                 SimpleImputer(add_indicator=False, copy=True, fill_value=None,\n",
       "                               missing_values=nan, strategy='mean',\n",
       "                               verbose=0)),\n",
       "                ('scaler',\n",
       "                 StandardScaler(copy=True, with_mean=True, with_std=True)),\n",
       "                ('estimator',\n",
       "                 XGBClassifier(base_score=0.5, booster='gblinear',\n",
       "                               colsample_bylevel=1, colsample_bynode=1,\n",
       "                               colsample_bytree=1, gamma=0, learning_rate=0.1,\n",
       "                               max_delta_step=0, max_depth=3,\n",
       "                               min_child_weight=1, missing=None,\n",
       "                               n_estimators=100, n_jobs=1, nthread=None,\n",
       "                               num_class=3, objective='multi:softprob',\n",
       "                               random_state=0, reg_alpha=0, reg_lambda=1,\n",
       "                               scale_pos_weight=1, seed=None, silent=None,\n",
       "                               subsample=1, verbosity=1))],\n",
       "         verbose=False)"
      ]
     },
     "execution_count": 23,
     "metadata": {},
     "output_type": "execute_result"
    }
   ],
   "source": [
    "searcher.best_estimator_"
   ]
  },
  {
   "cell_type": "code",
   "execution_count": 24,
   "metadata": {},
   "outputs": [
    {
     "data": {
      "text/plain": [
       "{1: 0.5221932114882507, 2: 1.2578616352201257, 3: 3.4482758620689653}"
      ]
     },
     "execution_count": 24,
     "metadata": {},
     "output_type": "execute_result"
    }
   ],
   "source": [
    "# get weight class for step 2\n",
    "\n",
    "weights_raw = list(SU.class_weight.compute_class_weight('balanced', NP.unique(y_np), y_np))\n",
    "weights_dx = {1: weights_raw[0], 2: weights_raw[1], 3: weights_raw[2]}\n",
    "weights_dx"
   ]
  },
  {
   "cell_type": "code",
   "execution_count": 25,
   "metadata": {
    "scrolled": false
   },
   "outputs": [
    {
     "name": "stderr",
     "output_type": "stream",
     "text": [
      "/Users/Phil/Documents/Websites/Movies_Proj/v5/lib/python3.7/site-packages/sklearn/model_selection/_search.py:814: DeprecationWarning:\n",
      "\n",
      "The default of the `iid` parameter will change from True to False in version 0.22 and will be removed in 0.24. This will change numeric results when test-set sizes are unequal.\n",
      "\n"
     ]
    },
    {
     "name": "stdout",
     "output_type": "stream",
     "text": [
      "time: 0.50 mins\n"
     ]
    }
   ],
   "source": [
    "# booster with weighted classes\n",
    "\n",
    "imputer = IM.SimpleImputer(missing_values=NP.nan, strategy='mean')\n",
    "scaler = PP.StandardScaler()\n",
    "#pca = DC.PCA(n_components=)\n",
    "xgb = XG.XGBClassifier(objective='multi:softmax', num_class=3, sample_weight2=weights_dx)\n",
    "pipeline = PL.Pipeline([('imputer', imputer), ('scaler', scaler), ('estimator', xgb)])\n",
    "param_dx = {'estimator__booster': ['gbtree', 'gblinear'],}\n",
    "\n",
    "searcher = MS.GridSearchCV(pipeline, param_dx, scoring='accuracy', cv=5, )\n",
    "t0 = time.time()\n",
    "searcher.fit(X_np, y_np);\n",
    "\n",
    "t1 = time.time()\n",
    "print(f'time: {(t1-t0)/60:.2f} mins')"
   ]
  },
  {
   "cell_type": "code",
   "execution_count": 26,
   "metadata": {},
   "outputs": [],
   "source": [
    "# param_name = 'booster-weight'\n",
    "# step2_dx = {\n",
    "#     'param_name': param_name,\n",
    "#     'param_values': param_dx[f'estimator__{param_name}'],\n",
    "#     'test_scores': list(searcher.cv_results_['mean_test_score']),\n",
    "#     'best_value': searcher.best_params_[f'estimator__{param_name}'],\n",
    "# }\n",
    "# step2_dx"
   ]
  },
  {
   "cell_type": "code",
   "execution_count": 27,
   "metadata": {},
   "outputs": [
    {
     "name": "stdout",
     "output_type": "stream",
     "text": [
      "time: 0.53 mins\n"
     ]
    }
   ],
   "source": [
    "# 3] number of estimators\n",
    "\n",
    "imputer = IM.SimpleImputer(missing_values=NP.nan, strategy='mean')\n",
    "scaler = PP.StandardScaler()\n",
    "#pca = DC.PCA(n_components=)\n",
    "xgb = XG.XGBClassifier(objective='multi:softmax', num_class=3, \n",
    "                       booster=step1_dx['best_value'])\n",
    "pipeline = PL.Pipeline([('imputer', imputer), ('scaler', scaler), ('estimator', xgb)])\n",
    "param_dx = {'estimator__n_estimators': [25, 30, 35, 40, 45, 50, 55, 100],}\n",
    "\n",
    "searcher = MS.GridSearchCV(pipeline, param_dx, scoring='accuracy', cv=5, )\n",
    "t0 = time.time()\n",
    "searcher.fit(X_np, y_np);\n",
    "\n",
    "t1 = time.time()\n",
    "print(f'time: {(t1-t0)/60:.2f} mins')"
   ]
  },
  {
   "cell_type": "code",
   "execution_count": 28,
   "metadata": {},
   "outputs": [
    {
     "data": {
      "text/plain": [
       "{'param_name': 'n_estimators',\n",
       " 'param_values': [25, 30, 35, 40, 45, 50, 55, 100],\n",
       " 'test_scores': [62.67, 62.83, 62.83, 62.83, 62.83, 62.83, 62.83, 62.83],\n",
       " 'best_value': 30}"
      ]
     },
     "execution_count": 28,
     "metadata": {},
     "output_type": "execute_result"
    }
   ],
   "source": [
    "param_name = 'n_estimators'\n",
    "step3_dx = {\n",
    "    'param_name': param_name,\n",
    "    'param_values': param_dx[f'estimator__{param_name}'],\n",
    "    'test_scores': [round(s*100,2) for s in list(searcher.cv_results_['mean_test_score'])],\n",
    "    'best_value': searcher.best_params_[f'estimator__{param_name}'],\n",
    "}\n",
    "step3_dx"
   ]
  },
  {
   "cell_type": "code",
   "execution_count": 29,
   "metadata": {},
   "outputs": [
    {
     "name": "stdout",
     "output_type": "stream",
     "text": [
      "time: 0.22 mins\n"
     ]
    }
   ],
   "source": [
    "# 4] maximum depth\n",
    "\n",
    "imputer = IM.SimpleImputer(missing_values=NP.nan, strategy='mean')\n",
    "scaler = PP.StandardScaler()\n",
    "#pca = DC.PCA(n_components=)\n",
    "xgb = XG.XGBClassifier(objective='multi:softmax', num_class=3, \n",
    "                       booster=step1_dx['best_value'], n_estimators=step3_dx['best_value'])\n",
    "pipeline = PL.Pipeline([('imputer', imputer), ('scaler', scaler), ('estimator', xgb)])\n",
    "param_dx = {'estimator__max_depth': [1, 2, 3, 4, 5],}\n",
    "\n",
    "searcher = MS.GridSearchCV(pipeline, param_dx, scoring='accuracy', cv=5, )\n",
    "t0 = time.time()\n",
    "searcher.fit(X_np, y_np);\n",
    "\n",
    "t1 = time.time()\n",
    "print(f'time: {(t1-t0)/60:.2f} mins')"
   ]
  },
  {
   "cell_type": "code",
   "execution_count": 30,
   "metadata": {},
   "outputs": [
    {
     "data": {
      "text/plain": [
       "{'param_name': 'max_depth',\n",
       " 'param_values': [1, 2, 3, 4, 5],\n",
       " 'test_scores': [62.83, 62.83, 62.83, 62.83, 62.83],\n",
       " 'best_value': 1}"
      ]
     },
     "execution_count": 30,
     "metadata": {},
     "output_type": "execute_result"
    }
   ],
   "source": [
    "param_name = 'max_depth'\n",
    "step4_dx = {\n",
    "    'param_name': param_name,\n",
    "    'param_values': param_dx[f'estimator__{param_name}'],\n",
    "    'test_scores': [round(s*100,2) for s in list(searcher.cv_results_['mean_test_score'])],\n",
    "    'best_value': searcher.best_params_[f'estimator__{param_name}'],\n",
    "}\n",
    "step4_dx"
   ]
  },
  {
   "cell_type": "code",
   "execution_count": 31,
   "metadata": {},
   "outputs": [
    {
     "name": "stdout",
     "output_type": "stream",
     "text": [
      "time: 0.18 mins\n"
     ]
    }
   ],
   "source": [
    "# 5] minimum child weight\n",
    "\n",
    "imputer = IM.SimpleImputer(missing_values=NP.nan, strategy='mean')\n",
    "scaler = PP.StandardScaler()\n",
    "#pca = DC.PCA(n_components=)\n",
    "xgb = XG.XGBClassifier(objective='multi:softmax', num_class=3, \n",
    "                       booster=step1_dx['best_value'], n_estimators=step3_dx['best_value'],\n",
    "                       max_depth=step4_dx['best_value'])\n",
    "pipeline = PL.Pipeline([('imputer', imputer), ('scaler', scaler), ('estimator', xgb)])\n",
    "param_dx = {'estimator__min_child_weight': [1, 2, 3, 4],}\n",
    "\n",
    "searcher = MS.GridSearchCV(pipeline, param_dx, scoring='accuracy', cv=5, )\n",
    "t0 = time.time()\n",
    "searcher.fit(X_np, y_np);\n",
    "\n",
    "t1 = time.time()\n",
    "print(f'time: {(t1-t0)/60:.2f} mins')"
   ]
  },
  {
   "cell_type": "code",
   "execution_count": 32,
   "metadata": {},
   "outputs": [
    {
     "data": {
      "text/plain": [
       "{'param_name': 'min_child_weight',\n",
       " 'param_values': [1, 2, 3, 4],\n",
       " 'test_scores': [62.83, 62.83, 62.83, 62.83],\n",
       " 'best_value': 1}"
      ]
     },
     "execution_count": 32,
     "metadata": {},
     "output_type": "execute_result"
    }
   ],
   "source": [
    "param_name = 'min_child_weight'\n",
    "step5_dx = {\n",
    "    'param_name': param_name,\n",
    "    'param_values': param_dx[f'estimator__{param_name}'],\n",
    "    'test_scores': [round(s*100,2) for s in list(searcher.cv_results_['mean_test_score'])],\n",
    "    'best_value': searcher.best_params_[f'estimator__{param_name}'],\n",
    "}\n",
    "step5_dx"
   ]
  },
  {
   "cell_type": "code",
   "execution_count": 33,
   "metadata": {},
   "outputs": [
    {
     "name": "stdout",
     "output_type": "stream",
     "text": [
      "time: 0.22 mins\n"
     ]
    }
   ],
   "source": [
    "# 6] gamma\n",
    "\n",
    "imputer = IM.SimpleImputer(missing_values=NP.nan, strategy='mean')\n",
    "scaler = PP.StandardScaler()\n",
    "#pca = DC.PCA(n_components=)\n",
    "xgb = XG.XGBClassifier(objective='multi:softmax', num_class=3, \n",
    "                       booster=step1_dx['best_value'], n_estimators=step3_dx['best_value'],\n",
    "                       max_depth=step4_dx['best_value'], min_child_weight=step5_dx['best_value'],)\n",
    "pipeline = PL.Pipeline([('imputer', imputer), ('scaler', scaler), ('estimator', xgb)])\n",
    "param_dx = {'estimator__gamma': [0, 0.05, 0.1, 0.2, 0.3],}\n",
    "\n",
    "searcher = MS.GridSearchCV(pipeline, param_dx, scoring='accuracy', cv=5, )\n",
    "t0 = time.time()\n",
    "searcher.fit(X_np, y_np);\n",
    "\n",
    "t1 = time.time()\n",
    "print(f'time: {(t1-t0)/60:.2f} mins')"
   ]
  },
  {
   "cell_type": "code",
   "execution_count": 34,
   "metadata": {},
   "outputs": [
    {
     "data": {
      "text/plain": [
       "{'param_name': 'gamma',\n",
       " 'param_values': [0, 0.05, 0.1, 0.2, 0.3],\n",
       " 'test_scores': [62.83, 62.83, 62.83, 62.83, 62.83],\n",
       " 'best_value': 0}"
      ]
     },
     "execution_count": 34,
     "metadata": {},
     "output_type": "execute_result"
    }
   ],
   "source": [
    "param_name = 'gamma'\n",
    "step6_dx = {\n",
    "    'param_name': param_name,\n",
    "    'param_values': param_dx[f'estimator__{param_name}'],\n",
    "    'test_scores': [round(s*100,2) for s in list(searcher.cv_results_['mean_test_score'])],\n",
    "    'best_value': searcher.best_params_[f'estimator__{param_name}'],\n",
    "}\n",
    "step6_dx"
   ]
  },
  {
   "cell_type": "code",
   "execution_count": 35,
   "metadata": {},
   "outputs": [
    {
     "name": "stdout",
     "output_type": "stream",
     "text": [
      "time: 0.28 mins\n"
     ]
    }
   ],
   "source": [
    "# 7] L1 regularization\n",
    "\n",
    "imputer = IM.SimpleImputer(missing_values=NP.nan, strategy='mean')\n",
    "scaler = PP.StandardScaler()\n",
    "#pca = DC.PCA(n_components=)\n",
    "xgb = XG.XGBClassifier(objective='multi:softmax', num_class=3, \n",
    "                       booster=step1_dx['best_value'], \n",
    "                       n_estimators=step3_dx['best_value'], max_depth=step4_dx['best_value'], \n",
    "                       min_child_weight=step5_dx['best_value'], gamma=step6_dx['best_value'],)\n",
    "pipeline = PL.Pipeline([('imputer', imputer), ('scaler', scaler), ('estimator', xgb)])\n",
    "param_dx = {'estimator__reg_alpha': [1e-3, 5e-2, 1e-2, 5e-1, 1e-1, 0, 1e0],}\n",
    "\n",
    "searcher = MS.GridSearchCV(pipeline, param_dx, scoring='accuracy', cv=5, )\n",
    "t0 = time.time()\n",
    "searcher.fit(X_np, y_np);\n",
    "\n",
    "t1 = time.time()\n",
    "print(f'time: {(t1-t0)/60:.2f} mins')"
   ]
  },
  {
   "cell_type": "code",
   "execution_count": 36,
   "metadata": {},
   "outputs": [
    {
     "data": {
      "text/plain": [
       "{'param_name': 'reg_alpha',\n",
       " 'param_values': [0.001, 0.05, 0.01, 0.5, 0.1, 0, 1.0],\n",
       " 'test_scores': [63.0, 63.83, 63.67, 63.83, 63.83, 62.83, 63.83],\n",
       " 'best_value': 0.05}"
      ]
     },
     "execution_count": 36,
     "metadata": {},
     "output_type": "execute_result"
    }
   ],
   "source": [
    "param_name = 'reg_alpha'\n",
    "step7_dx = {\n",
    "    'param_name': param_name,\n",
    "    'param_values': param_dx[f'estimator__{param_name}'],\n",
    "    'test_scores': [round(s*100,2) for s in list(searcher.cv_results_['mean_test_score'])],\n",
    "    'best_value': searcher.best_params_[f'estimator__{param_name}'],\n",
    "}\n",
    "step7_dx"
   ]
  },
  {
   "cell_type": "code",
   "execution_count": 37,
   "metadata": {},
   "outputs": [
    {
     "name": "stdout",
     "output_type": "stream",
     "text": [
      "time: 0.23 mins\n"
     ]
    }
   ],
   "source": [
    "# 8] L2 regularization\n",
    "\n",
    "imputer = IM.SimpleImputer(missing_values=NP.nan, strategy='mean')\n",
    "scaler = PP.StandardScaler()\n",
    "#pca = DC.PCA(n_components=)\n",
    "xgb = XG.XGBClassifier(objective='multi:softmax', num_class=3, \n",
    "                       booster=step1_dx['best_value'], \n",
    "                       n_estimators=step3_dx['best_value'], max_depth=step4_dx['best_value'], \n",
    "                       min_child_weight=step5_dx['best_value'], gamma=step6_dx['best_value'],\n",
    "                       reg_alpha=step7_dx['best_value'],)\n",
    "pipeline = PL.Pipeline([('imputer', imputer), ('scaler', scaler), ('estimator', xgb)])\n",
    "param_dx = {'estimator__reg_lambda': [1e-5, 1e-4, 1e-3, 1e-2, 1e-1, 0],}\n",
    "\n",
    "searcher = MS.GridSearchCV(pipeline, param_dx, scoring='accuracy', cv=5, )\n",
    "t0 = time.time()\n",
    "searcher.fit(X_np, y_np);\n",
    "\n",
    "t1 = time.time()\n",
    "print(f'time: {(t1-t0)/60:.2f} mins')"
   ]
  },
  {
   "cell_type": "code",
   "execution_count": 38,
   "metadata": {},
   "outputs": [
    {
     "data": {
      "text/plain": [
       "{'param_name': 'reg_lambda',\n",
       " 'param_values': [1e-05, 0.0001, 0.001, 0.01, 0.1, 0],\n",
       " 'test_scores': [63.83, 63.83, 63.83, 63.83, 63.83, 63.83],\n",
       " 'best_value': 1e-05}"
      ]
     },
     "execution_count": 38,
     "metadata": {},
     "output_type": "execute_result"
    }
   ],
   "source": [
    "param_name = 'reg_lambda'\n",
    "step8_dx = {\n",
    "    'param_name': param_name,\n",
    "    'param_values': param_dx[f'estimator__{param_name}'],\n",
    "    'test_scores': [round(s*100,2) for s in list(searcher.cv_results_['mean_test_score'])],\n",
    "    'best_value': searcher.best_params_[f'estimator__{param_name}'],\n",
    "}\n",
    "step8_dx"
   ]
  },
  {
   "cell_type": "code",
   "execution_count": 39,
   "metadata": {},
   "outputs": [
    {
     "name": "stdout",
     "output_type": "stream",
     "text": [
      "time: 0.16 mins\n"
     ]
    }
   ],
   "source": [
    "# all the best\n",
    "\n",
    "imputer = IM.SimpleImputer(missing_values=NP.nan, strategy='mean')\n",
    "scaler = PP.StandardScaler()\n",
    "#pca = DC.PCA(n_components=)\n",
    "xgb = XG.XGBClassifier(objective='multi:softmax', num_class=3, \n",
    "                        \n",
    "                       n_estimators=step3_dx['best_value'], max_depth=step4_dx['best_value'], \n",
    "                       min_child_weight=step5_dx['best_value'], gamma=step6_dx['best_value'],\n",
    "                       reg_alpha=step7_dx['best_value'], reg_lambda=step8_dx['best_value'],)\n",
    "pipeline = PL.Pipeline([('imputer', imputer), ('scaler', scaler), ('estimator', xgb)])\n",
    "param_dx = {'estimator__booster': ['gbtree', 'gblinear', 'dart'],}\n",
    "\n",
    "searcher = MS.GridSearchCV(pipeline, param_dx, scoring='accuracy', cv=5, )\n",
    "t0 = time.time()\n",
    "searcher.fit(X_np, y_np);\n",
    "\n",
    "t1 = time.time()\n",
    "print(f'time: {(t1-t0)/60:.2f} mins')"
   ]
  },
  {
   "cell_type": "code",
   "execution_count": 40,
   "metadata": {},
   "outputs": [
    {
     "data": {
      "text/plain": [
       "{'param_name': 'booster',\n",
       " 'param_values': ['gbtree', 'gblinear', 'dart'],\n",
       " 'test_scores': [63.67, 63.83, 63.67],\n",
       " 'best_value': 'gblinear'}"
      ]
     },
     "execution_count": 40,
     "metadata": {},
     "output_type": "execute_result"
    }
   ],
   "source": [
    "param_name = 'booster'\n",
    "stepF_dx = {\n",
    "    'param_name': param_name,\n",
    "    'param_values': param_dx[f'estimator__{param_name}'],\n",
    "    'test_scores': [round(s*100,2) for s in list(searcher.cv_results_['mean_test_score'])],\n",
    "    'best_value': searcher.best_params_[f'estimator__{param_name}'],\n",
    "}\n",
    "stepF_dx"
   ]
  },
  {
   "cell_type": "code",
   "execution_count": null,
   "metadata": {},
   "outputs": [],
   "source": []
  },
  {
   "cell_type": "code",
   "execution_count": null,
   "metadata": {},
   "outputs": [],
   "source": []
  },
  {
   "cell_type": "code",
   "execution_count": null,
   "metadata": {},
   "outputs": [],
   "source": []
  },
  {
   "cell_type": "code",
   "execution_count": 41,
   "metadata": {
    "scrolled": false
   },
   "outputs": [
    {
     "ename": "NameError",
     "evalue": "name 'algorithms' is not defined",
     "output_type": "error",
     "traceback": [
      "\u001b[0;31m---------------------------------------------------------------------------\u001b[0m",
      "\u001b[0;31mNameError\u001b[0m                                 Traceback (most recent call last)",
      "\u001b[0;32m<ipython-input-41-7f1fe1e99f42>\u001b[0m in \u001b[0;36m<module>\u001b[0;34m\u001b[0m\n\u001b[1;32m      2\u001b[0m \u001b[0mcolors\u001b[0m \u001b[0;34m=\u001b[0m \u001b[0;34m[\u001b[0m\u001b[0;34m'orange'\u001b[0m\u001b[0;34m,\u001b[0m \u001b[0;34m'red'\u001b[0m\u001b[0;34m,\u001b[0m \u001b[0;34m'darkcyan'\u001b[0m\u001b[0;34m,\u001b[0m \u001b[0;34m'green'\u001b[0m\u001b[0;34m]\u001b[0m\u001b[0;34m\u001b[0m\u001b[0;34m\u001b[0m\u001b[0m\n\u001b[1;32m      3\u001b[0m \u001b[0;34m\u001b[0m\u001b[0m\n\u001b[0;32m----> 4\u001b[0;31m \u001b[0;32mfor\u001b[0m \u001b[0midx\u001b[0m\u001b[0;34m,\u001b[0m \u001b[0malg\u001b[0m \u001b[0;32min\u001b[0m \u001b[0menumerate\u001b[0m\u001b[0;34m(\u001b[0m\u001b[0malgorithms\u001b[0m\u001b[0;34m)\u001b[0m\u001b[0;34m:\u001b[0m\u001b[0;34m\u001b[0m\u001b[0;34m\u001b[0m\u001b[0m\n\u001b[0m\u001b[1;32m      5\u001b[0m     fig.add_trace(\n\u001b[1;32m      6\u001b[0m         GO.Scatter(x = ALPHA, y = alg['test_scores'],\n",
      "\u001b[0;31mNameError\u001b[0m: name 'algorithms' is not defined"
     ]
    }
   ],
   "source": [
    "fig = GO.Figure()\n",
    "colors = ['orange', 'red', 'darkcyan', 'green']\n",
    "\n",
    "for idx, alg in enumerate(algorithms):\n",
    "    fig.add_trace(\n",
    "        GO.Scatter(x = ALPHA, y = alg['test_scores'],\n",
    "            name=alg['algorithm'], marker={'color': colors[idx]}, mode='lines+markers'))\n",
    "\n",
    "fig.update_layout(\n",
    "    title=\"Logistic Regression CV-Test Scores\",\n",
    "    xaxis_title=\"lambda\",\n",
    "    yaxis_title=\"Accuracy\",\n",
    "    width=600,\n",
    "    height=400,\n",
    "    margin=GO.layout.Margin(t=50, r=10, b=50, l=70, pad=0),\n",
    "    paper_bgcolor=\"LightSteelBlue\",\n",
    ")\n",
    "fig.update_xaxes(tickvals=ALPHA, type=\"log\")\n",
    "fig.update_yaxes(range=[0.52, 0.66])"
   ]
  },
  {
   "cell_type": "code",
   "execution_count": null,
   "metadata": {},
   "outputs": [],
   "source": []
  }
 ],
 "metadata": {
  "kernelspec": {
   "display_name": "Django Shell-Plus",
   "language": "python",
   "name": "django_extensions"
  },
  "language_info": {
   "codemirror_mode": {
    "name": "ipython",
    "version": 3
   },
   "file_extension": ".py",
   "mimetype": "text/x-python",
   "name": "python",
   "nbconvert_exporter": "python",
   "pygments_lexer": "ipython3",
   "version": "3.7.5"
  }
 },
 "nbformat": 4,
 "nbformat_minor": 2
}
