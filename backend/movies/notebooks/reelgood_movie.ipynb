{
 "cells": [
  {
   "cell_type": "markdown",
   "metadata": {},
   "source": [
    "# Reelgood Scraper\n",
    "\n",
    "Workflow: 3  \n",
    "\n",
    "Goal: Start with the list of reelgood movie urls and get the data for each movie. Split the urls into jobs. \n",
    "\n",
    "Result: The file ```reelgood_movie.csv``` is created."
   ]
  },
  {
   "cell_type": "code",
   "execution_count": 1,
   "metadata": {},
   "outputs": [],
   "source": [
    "import os\n",
    "import time\n",
    "import pandas as PD"
   ]
  },
  {
   "cell_type": "code",
   "execution_count": 2,
   "metadata": {},
   "outputs": [],
   "source": [
    "from IPython.core.interactiveshell import InteractiveShell\n",
    "InteractiveShell.ast_node_interactivity = 'all'"
   ]
  },
  {
   "cell_type": "code",
   "execution_count": 3,
   "metadata": {},
   "outputs": [],
   "source": [
    "# can't reload script in a different folder\n",
    "\n",
    "import sys\n",
    "sys.path.append('../models')\n",
    "import reelgood_scraper as RS "
   ]
  },
  {
   "cell_type": "markdown",
   "metadata": {},
   "source": [
    "## Create Scraping Jobs "
   ]
  },
  {
   "cell_type": "code",
   "execution_count": 4,
   "metadata": {},
   "outputs": [
    {
     "data": {
      "text/html": [
       "<div>\n",
       "<style scoped>\n",
       "    .dataframe tbody tr th:only-of-type {\n",
       "        vertical-align: middle;\n",
       "    }\n",
       "\n",
       "    .dataframe tbody tr th {\n",
       "        vertical-align: top;\n",
       "    }\n",
       "\n",
       "    .dataframe thead th {\n",
       "        text-align: right;\n",
       "    }\n",
       "</style>\n",
       "<table border=\"1\" class=\"dataframe\">\n",
       "  <thead>\n",
       "    <tr style=\"text-align: right;\">\n",
       "      <th></th>\n",
       "      <th>title</th>\n",
       "      <th>year</th>\n",
       "      <th>reelgood_id</th>\n",
       "    </tr>\n",
       "  </thead>\n",
       "  <tbody>\n",
       "    <tr>\n",
       "      <th>0</th>\n",
       "      <td>1</td>\n",
       "      <td>2013</td>\n",
       "      <td>1-2013</td>\n",
       "    </tr>\n",
       "    <tr>\n",
       "      <th>1</th>\n",
       "      <td>10,000 BC</td>\n",
       "      <td>2008</td>\n",
       "      <td>10000-bc-2008</td>\n",
       "    </tr>\n",
       "    <tr>\n",
       "      <th>2</th>\n",
       "      <td>1000 Rupee Note</td>\n",
       "      <td>2016</td>\n",
       "      <td>1000-rupee-note-2016</td>\n",
       "    </tr>\n",
       "    <tr>\n",
       "      <th>3</th>\n",
       "      <td>1000 To 1</td>\n",
       "      <td>2014</td>\n",
       "      <td>1000-to-1-2014</td>\n",
       "    </tr>\n",
       "    <tr>\n",
       "      <th>4</th>\n",
       "      <td>$100 and a T-Shirt: A Documentary About Zines ...</td>\n",
       "      <td>2004</td>\n",
       "      <td>100-and-a-tshirt-a-documentary-about-zines-in-...</td>\n",
       "    </tr>\n",
       "  </tbody>\n",
       "</table>\n",
       "</div>"
      ],
      "text/plain": [
       "                                               title  year  \\\n",
       "0                                                  1  2013   \n",
       "1                                          10,000 BC  2008   \n",
       "2                                    1000 Rupee Note  2016   \n",
       "3                                          1000 To 1  2014   \n",
       "4  $100 and a T-Shirt: A Documentary About Zines ...  2004   \n",
       "\n",
       "                                         reelgood_id  \n",
       "0                                             1-2013  \n",
       "1                                      10000-bc-2008  \n",
       "2                               1000-rupee-note-2016  \n",
       "3                                     1000-to-1-2014  \n",
       "4  100-and-a-tshirt-a-documentary-about-zines-in-...  "
      ]
     },
     "execution_count": 4,
     "metadata": {},
     "output_type": "execute_result"
    },
    {
     "name": "stdout",
     "output_type": "stream",
     "text": [
      "<class 'pandas.core.frame.DataFrame'>\n",
      "RangeIndex: 18496 entries, 0 to 18495\n",
      "Data columns (total 3 columns):\n",
      "title          18496 non-null object\n",
      "year           18496 non-null int64\n",
      "reelgood_id    18496 non-null object\n",
      "dtypes: int64(1), object(2)\n",
      "memory usage: 433.6+ KB\n"
     ]
    }
   ],
   "source": [
    "URL_FILE = '../data/reelgood_url.csv'\n",
    "url_df = PD.read_csv(URL_FILE)\n",
    "url_df.head()\n",
    "url_df.info()"
   ]
  },
  {
   "cell_type": "code",
   "execution_count": 5,
   "metadata": {},
   "outputs": [
    {
     "data": {
      "text/plain": [
       "(3054, 3)"
      ]
     },
     "execution_count": 5,
     "metadata": {},
     "output_type": "execute_result"
    },
    {
     "data": {
      "text/plain": [
       "(5944, 3)"
      ]
     },
     "execution_count": 5,
     "metadata": {},
     "output_type": "execute_result"
    },
    {
     "data": {
      "text/plain": [
       "(4499, 3)"
      ]
     },
     "execution_count": 5,
     "metadata": {},
     "output_type": "execute_result"
    },
    {
     "data": {
      "text/plain": [
       "(4996, 3)"
      ]
     },
     "execution_count": 5,
     "metadata": {},
     "output_type": "execute_result"
    }
   ],
   "source": [
    "url_1_df = url_df[0:3054]\n",
    "url_2_df = url_df[3055:8999]\n",
    "url_3_df = url_df[9000:13499]\n",
    "url_4_df = url_df[13500:]\n",
    "\n",
    "url_1_df.shape\n",
    "url_2_df.shape\n",
    "url_3_df.shape\n",
    "url_4_df.shape"
   ]
  },
  {
   "cell_type": "markdown",
   "metadata": {},
   "source": [
    "## Scrape Rotation"
   ]
  },
  {
   "cell_type": "code",
   "execution_count": 6,
   "metadata": {
    "scrolled": true
   },
   "outputs": [
    {
     "name": "stdout",
     "output_type": "stream",
     "text": [
      "<selenium.webdriver.firefox.webdriver.WebDriver (session=\"c4c79acf-646b-6e4c-9b27-551e3cfb78ee\")>\n",
      "https://reelgood.com/?login=true\n"
     ]
    }
   ],
   "source": [
    "scraper = RS.ReelgoodScraper()\n",
    "scraper.log_in()"
   ]
  },
  {
   "cell_type": "code",
   "execution_count": 7,
   "metadata": {
    "scrolled": false
   },
   "outputs": [
    {
     "name": "stdout",
     "output_type": "stream",
     "text": [
      "row: 3500\n",
      "row: 4000\n",
      "row: 4500\n",
      "row: 5000\n",
      "row: 5500\n",
      "row: 6000\n",
      "row: 6500\n",
      "row: 7000\n",
      "row: 7500\n",
      "row: 8000\n",
      "row: 8500\n",
      "time: 4.45 hrs\n"
     ]
    }
   ],
   "source": [
    "t0 = time.time()\n",
    "movie_ls = []\n",
    "\n",
    "for idx, row in url_3_df.iterrows():\n",
    "    if idx % 500 == 0:\n",
    "        print(f'row: {idx}')\n",
    "        \n",
    "    rg_id = row['reelgood_id']\n",
    "    movie_dx = scraper.get_movie_data(rg_id)\n",
    "    movie_ls.append(movie_dx)\n",
    "\n",
    "scraper.close()\n",
    "t1 = time.time()\n",
    "print(f'time: {(t1-t0)/60/60:.2f} hrs')"
   ]
  },
  {
   "cell_type": "code",
   "execution_count": 8,
   "metadata": {
    "scrolled": false
   },
   "outputs": [
    {
     "data": {
      "text/html": [
       "<div>\n",
       "<style scoped>\n",
       "    .dataframe tbody tr th:only-of-type {\n",
       "        vertical-align: middle;\n",
       "    }\n",
       "\n",
       "    .dataframe tbody tr th {\n",
       "        vertical-align: top;\n",
       "    }\n",
       "\n",
       "    .dataframe thead th {\n",
       "        text-align: right;\n",
       "    }\n",
       "</style>\n",
       "<table border=\"1\" class=\"dataframe\">\n",
       "  <thead>\n",
       "    <tr style=\"text-align: right;\">\n",
       "      <th></th>\n",
       "      <th>title</th>\n",
       "      <th>year</th>\n",
       "      <th>duration</th>\n",
       "      <th>rating</th>\n",
       "      <th>country</th>\n",
       "      <th>poster</th>\n",
       "      <th>genres</th>\n",
       "      <th>tags</th>\n",
       "      <th>imdb_score</th>\n",
       "      <th>rt_score</th>\n",
       "      <th>synopsis</th>\n",
       "      <th>services</th>\n",
       "    </tr>\n",
       "  </thead>\n",
       "  <tbody>\n",
       "    <tr>\n",
       "      <th>0</th>\n",
       "      <td>Canadian Bacon</td>\n",
       "      <td>1995</td>\n",
       "      <td>91.0</td>\n",
       "      <td>7+ (PG)</td>\n",
       "      <td>None</td>\n",
       "      <td>https://img.reelgood.com/content/movie/802bc7d...</td>\n",
       "      <td>Comedy</td>\n",
       "      <td>None</td>\n",
       "      <td>6</td>\n",
       "      <td>14%</td>\n",
       "      <td>The U.S. President, low in the opinion polls, ...</td>\n",
       "      <td>{\"reelgood\": \"canadian-bacon-1995\", \"amazon\": ...</td>\n",
       "    </tr>\n",
       "    <tr>\n",
       "      <th>1</th>\n",
       "      <td>Candle in the Dark: The Story of William Carey</td>\n",
       "      <td>1998</td>\n",
       "      <td>95.0</td>\n",
       "      <td>None</td>\n",
       "      <td>None</td>\n",
       "      <td>https://img.reelgood.com/content/movie/ac47914...</td>\n",
       "      <td>Biography, Drama</td>\n",
       "      <td>None</td>\n",
       "      <td>6.8</td>\n",
       "      <td>None</td>\n",
       "      <td>William Carey sailed in 1793 to India with a r...</td>\n",
       "      <td>{\"reelgood\": \"candle-in-the-dark-the-story-of-...</td>\n",
       "    </tr>\n",
       "    <tr>\n",
       "      <th>2</th>\n",
       "      <td>Candlestick</td>\n",
       "      <td>2014</td>\n",
       "      <td>83.0</td>\n",
       "      <td>None</td>\n",
       "      <td>United Kingdom</td>\n",
       "      <td>https://img.reelgood.com/content/movie/d942e62...</td>\n",
       "      <td>Drama, Mystery, Thriller</td>\n",
       "      <td>Psychology, Religion, Video Games</td>\n",
       "      <td>5.6</td>\n",
       "      <td>None</td>\n",
       "      <td>A social gathering is rocked to its core when ...</td>\n",
       "      <td>{\"reelgood\": \"candlestick-2014\", \"amazon\": \"B0...</td>\n",
       "    </tr>\n",
       "    <tr>\n",
       "      <th>3</th>\n",
       "      <td>Can Dostlar</td>\n",
       "      <td>2019</td>\n",
       "      <td>103.0</td>\n",
       "      <td>None</td>\n",
       "      <td>None</td>\n",
       "      <td>https://img.reelgood.com/content/movie/ad0ab1c...</td>\n",
       "      <td>Comedy, Family</td>\n",
       "      <td>None</td>\n",
       "      <td>5.4</td>\n",
       "      <td>None</td>\n",
       "      <td>Children who play constantly with their phones...</td>\n",
       "      <td>{\"reelgood\": \"can-dostlar-2019\", \"netflix\": \"8...</td>\n",
       "    </tr>\n",
       "    <tr>\n",
       "      <th>4</th>\n",
       "      <td>Candyflip</td>\n",
       "      <td>2019</td>\n",
       "      <td>105.0</td>\n",
       "      <td>None</td>\n",
       "      <td>None</td>\n",
       "      <td>https://img.reelgood.com/content/movie/30d2d8e...</td>\n",
       "      <td>Fantasy, Mystery, Thriller</td>\n",
       "      <td>None</td>\n",
       "      <td>6</td>\n",
       "      <td>None</td>\n",
       "      <td>Every year, Goa, one of the biggest party and ...</td>\n",
       "      <td>{\"reelgood\": \"candyflip-2019\", \"netflix\": \"810...</td>\n",
       "    </tr>\n",
       "  </tbody>\n",
       "</table>\n",
       "</div>"
      ],
      "text/plain": [
       "                                            title  year  duration   rating  \\\n",
       "0                                  Canadian Bacon  1995      91.0  7+ (PG)   \n",
       "1  Candle in the Dark: The Story of William Carey  1998      95.0     None   \n",
       "2                                     Candlestick  2014      83.0     None   \n",
       "3                                     Can Dostlar  2019     103.0     None   \n",
       "4                                       Candyflip  2019     105.0     None   \n",
       "\n",
       "          country                                             poster  \\\n",
       "0            None  https://img.reelgood.com/content/movie/802bc7d...   \n",
       "1            None  https://img.reelgood.com/content/movie/ac47914...   \n",
       "2  United Kingdom  https://img.reelgood.com/content/movie/d942e62...   \n",
       "3            None  https://img.reelgood.com/content/movie/ad0ab1c...   \n",
       "4            None  https://img.reelgood.com/content/movie/30d2d8e...   \n",
       "\n",
       "                       genres                               tags imdb_score  \\\n",
       "0                      Comedy                               None          6   \n",
       "1            Biography, Drama                               None        6.8   \n",
       "2    Drama, Mystery, Thriller  Psychology, Religion, Video Games        5.6   \n",
       "3              Comedy, Family                               None        5.4   \n",
       "4  Fantasy, Mystery, Thriller                               None          6   \n",
       "\n",
       "  rt_score                                           synopsis  \\\n",
       "0      14%  The U.S. President, low in the opinion polls, ...   \n",
       "1     None  William Carey sailed in 1793 to India with a r...   \n",
       "2     None  A social gathering is rocked to its core when ...   \n",
       "3     None  Children who play constantly with their phones...   \n",
       "4     None  Every year, Goa, one of the biggest party and ...   \n",
       "\n",
       "                                            services  \n",
       "0  {\"reelgood\": \"canadian-bacon-1995\", \"amazon\": ...  \n",
       "1  {\"reelgood\": \"candle-in-the-dark-the-story-of-...  \n",
       "2  {\"reelgood\": \"candlestick-2014\", \"amazon\": \"B0...  \n",
       "3  {\"reelgood\": \"can-dostlar-2019\", \"netflix\": \"8...  \n",
       "4  {\"reelgood\": \"candyflip-2019\", \"netflix\": \"810...  "
      ]
     },
     "execution_count": 8,
     "metadata": {},
     "output_type": "execute_result"
    },
    {
     "name": "stdout",
     "output_type": "stream",
     "text": [
      "<class 'pandas.core.frame.DataFrame'>\n",
      "RangeIndex: 5944 entries, 0 to 5943\n",
      "Data columns (total 12 columns):\n",
      "title         5944 non-null object\n",
      "year          5944 non-null object\n",
      "duration      5782 non-null float64\n",
      "rating        2555 non-null object\n",
      "country       2169 non-null object\n",
      "poster        5944 non-null object\n",
      "genres        5701 non-null object\n",
      "tags          2479 non-null object\n",
      "imdb_score    5704 non-null object\n",
      "rt_score      1707 non-null object\n",
      "synopsis      5944 non-null object\n",
      "services      5944 non-null object\n",
      "dtypes: float64(1), object(11)\n",
      "memory usage: 557.4+ KB\n"
     ]
    }
   ],
   "source": [
    "movie_df = PD.DataFrame(movie_ls)\n",
    "movie_df.head()\n",
    "movie_df.info()"
   ]
  },
  {
   "cell_type": "code",
   "execution_count": 11,
   "metadata": {},
   "outputs": [
    {
     "data": {
      "text/plain": [
       "'3.33 mb'"
      ]
     },
     "execution_count": 11,
     "metadata": {},
     "output_type": "execute_result"
    }
   ],
   "source": [
    "save_path = r'../data/reelgood_mov_3.csv'\n",
    "movie_df.to_csv(save_path, index=False)\n",
    "f'{round(os.path.getsize(save_path) /1e6, 2)} mb'"
   ]
  },
  {
   "cell_type": "markdown",
   "metadata": {},
   "source": [
    "## Merge Job Files"
   ]
  },
  {
   "cell_type": "code",
   "execution_count": 10,
   "metadata": {},
   "outputs": [
    {
     "ename": "SyntaxError",
     "evalue": "invalid syntax (<ipython-input-10-c99616cd8c13>, line 1)",
     "output_type": "error",
     "traceback": [
      "\u001b[0;36m  File \u001b[0;32m\"<ipython-input-10-c99616cd8c13>\"\u001b[0;36m, line \u001b[0;32m1\u001b[0m\n\u001b[0;31m    st op =\u001b[0m\n\u001b[0m        ^\u001b[0m\n\u001b[0;31mSyntaxError\u001b[0m\u001b[0;31m:\u001b[0m invalid syntax\n"
     ]
    }
   ],
   "source": [
    "st op = \n",
    "movie_1_df = PD.read_csv('../data/reelgood_mov_1.csv')\n",
    "movie_2_df = PD.read_csv('../data/reelgood_mov_2.csv')\n",
    "movie_3_df = PD.read_csv('../data/reelgood_mov_3.csv')\n",
    "movie_4_df = PD.read_csv('../data/reelgood_mov_4.csv')\n",
    "\n",
    "movie_1_df.shape\n",
    "movie_2_df.shape\n",
    "movie_3_df.shape\n",
    "movie_4_df.shape"
   ]
  },
  {
   "cell_type": "code",
   "execution_count": null,
   "metadata": {},
   "outputs": [],
   "source": [
    "# remove duplicates\n",
    "\n"
   ]
  },
  {
   "cell_type": "code",
   "execution_count": null,
   "metadata": {},
   "outputs": [],
   "source": [
    "movie_df = PD.concat([movie_1_df, movie_2_df, movie_3_df, movie_4_df])\n",
    "movie_df.head()\n",
    "movie_df.info()"
   ]
  },
  {
   "cell_type": "code",
   "execution_count": null,
   "metadata": {},
   "outputs": [],
   "source": [
    "save_path = r'../data/reelgood_movie.csv'\n",
    "movie_df.to_csv(save_path, index=False)\n",
    "f'{round(os.path.getsize(save_path) /1e6, 2)} mb'"
   ]
  }
 ],
 "metadata": {
  "kernelspec": {
   "display_name": "v5-kernel",
   "language": "python",
   "name": "v5-kernel"
  },
  "language_info": {
   "codemirror_mode": {
    "name": "ipython",
    "version": 3
   },
   "file_extension": ".py",
   "mimetype": "text/x-python",
   "name": "python",
   "nbconvert_exporter": "python",
   "pygments_lexer": "ipython3",
   "version": "3.7.5"
  }
 },
 "nbformat": 4,
 "nbformat_minor": 2
}
