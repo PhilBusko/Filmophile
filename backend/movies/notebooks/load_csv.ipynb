{
 "cells": [
  {
   "cell_type": "markdown",
   "metadata": {},
   "source": [
    "# Load CSVs to Postgres\n",
    "\n",
    "Workflow: 6 \n",
    "\n",
    "Goal: Load all source files, TMDB, Reelgood, IMDB to database.\n",
    "\n",
    "Result: The 3 database _Load tables are populated."
   ]
  },
  {
   "cell_type": "code",
   "execution_count": 1,
   "metadata": {},
   "outputs": [],
   "source": [
    "import os, sys\n",
    "import time\n",
    "import pandas as PD"
   ]
  },
  {
   "cell_type": "code",
   "execution_count": 2,
   "metadata": {},
   "outputs": [],
   "source": [
    "from IPython.core.interactiveshell import InteractiveShell\n",
    "InteractiveShell.ast_node_interactivity = 'all'"
   ]
  },
  {
   "cell_type": "code",
   "execution_count": 3,
   "metadata": {},
   "outputs": [
    {
     "data": {
      "text/plain": [
       "'app_proj.settings'"
      ]
     },
     "execution_count": 3,
     "metadata": {},
     "output_type": "execute_result"
    }
   ],
   "source": [
    "os.chdir(os.getenv('PWD'))\n",
    "sys.path.insert(0, os.getenv('PWD'))\n",
    "os.environ.setdefault(\"DJANGO_SETTINGS_MODULE\", \"settings.py\")\n",
    "import django\n",
    "django.setup()"
   ]
  },
  {
   "cell_type": "code",
   "execution_count": 4,
   "metadata": {},
   "outputs": [],
   "source": [
    "import app_proj.utility as UT\n",
    "import movies.models.tables as TB\n",
    "import movies.models.data_manager as DM"
   ]
  },
  {
   "cell_type": "markdown",
   "metadata": {},
   "source": [
    "## Read & Insert CSVs"
   ]
  },
  {
   "cell_type": "code",
   "execution_count": 5,
   "metadata": {},
   "outputs": [],
   "source": [
    "MOVIEDB_FILE = os.path.join(UT.BASE_DIR, 'movies/data/moviedb_movie.csv')\n",
    "REELGOOD_FILE = os.path.join(UT.BASE_DIR, 'movies/data/reelgood_movie.csv')\n",
    "IMDB_FILE = os.path.join(UT.BASE_DIR, 'movies/data/imdb_movie.csv')"
   ]
  },
  {
   "cell_type": "code",
   "execution_count": 6,
   "metadata": {
    "scrolled": false
   },
   "outputs": [],
   "source": [
    "#MD.Editor.DeleteTable('All')"
   ]
  },
  {
   "cell_type": "code",
   "execution_count": 7,
   "metadata": {},
   "outputs": [
    {
     "data": {
      "text/plain": [
       "17668"
      ]
     },
     "execution_count": 7,
     "metadata": {},
     "output_type": "execute_result"
    }
   ],
   "source": [
    "# the movie DB\n",
    "\n",
    "moviedb_ls = DM.Editor.CSVtoDict(MOVIEDB_FILE)\n",
    "len(moviedb_ls)"
   ]
  },
  {
   "cell_type": "code",
   "execution_count": 8,
   "metadata": {},
   "outputs": [],
   "source": [
    "#moviedb_ls[12]"
   ]
  },
  {
   "cell_type": "code",
   "execution_count": 9,
   "metadata": {
    "scrolled": false
   },
   "outputs": [
    {
     "data": {
      "text/plain": [
       "17668"
      ]
     },
     "execution_count": 9,
     "metadata": {},
     "output_type": "execute_result"
    }
   ],
   "source": [
    "DM.Editor.InsertDictToTable(moviedb_ls, 'MovieDB_Load')\n",
    "TB.MovieDB_Load.objects.all().count()"
   ]
  },
  {
   "cell_type": "code",
   "execution_count": 10,
   "metadata": {},
   "outputs": [
    {
     "ename": "SyntaxError",
     "evalue": "invalid syntax (<ipython-input-10-ed5eda3dc24a>, line 3)",
     "output_type": "error",
     "traceback": [
      "\u001b[0;36m  File \u001b[0;32m\"<ipython-input-10-ed5eda3dc24a>\"\u001b[0;36m, line \u001b[0;32m3\u001b[0m\n\u001b[0;31m    reelgood _ls = MD.Editor.CSVtoDict(REELGOOD_FILE)\u001b[0m\n\u001b[0m               ^\u001b[0m\n\u001b[0;31mSyntaxError\u001b[0m\u001b[0;31m:\u001b[0m invalid syntax\n"
     ]
    }
   ],
   "source": [
    "# reelgood\n",
    "\n",
    "reelgood _ls = MD.Editor.CSVtoDict(REELGOOD_FILE)\n",
    "len(reelgood_ls)"
   ]
  },
  {
   "cell_type": "code",
   "execution_count": null,
   "metadata": {},
   "outputs": [],
   "source": [
    "#reelgood_ls[90]"
   ]
  },
  {
   "cell_type": "code",
   "execution_count": null,
   "metadata": {
    "scrolled": true
   },
   "outputs": [],
   "source": [
    "DM.Editor.InsertDictToTable(reelgood_ls, 'Reelgood_Load')\n",
    "TB.Reelgood_Load.objects.all().count()"
   ]
  },
  {
   "cell_type": "code",
   "execution_count": null,
   "metadata": {},
   "outputs": [],
   "source": [
    "# imdb\n",
    "\n",
    "imdb_ls = MD.Editor.CSVtoDict(IMDB_FILE)\n",
    "len(imdb_ls)"
   ]
  },
  {
   "cell_type": "code",
   "execution_count": null,
   "metadata": {},
   "outputs": [],
   "source": [
    "#imdb_ls[0]"
   ]
  },
  {
   "cell_type": "code",
   "execution_count": null,
   "metadata": {
    "scrolled": true
   },
   "outputs": [],
   "source": [
    "MD.Editor.InsertDictToTable(imdb_ls, 'IMDB_Load')\n",
    "MD.IMDB_Load.objects.all().count()"
   ]
  },
  {
   "cell_type": "markdown",
   "metadata": {},
   "source": [
    "## Create Master Movie Table"
   ]
  },
  {
   "cell_type": "code",
   "execution_count": null,
   "metadata": {
    "scrolled": false
   },
   "outputs": [],
   "source": [
    "master_ls = MD.Editor.RunMasterMovies()\n",
    "MD.Editor.DeleteTable('MasterMovie')\n",
    "MD.Editor.InsertDictToTable(master_ls, 'MasterMovie')\n",
    "MD.MasterMovie.objects.all().count()"
   ]
  },
  {
   "cell_type": "code",
   "execution_count": null,
   "metadata": {
    "scrolled": false
   },
   "outputs": [],
   "source": [
    "#master_df = PD.DataFrame(master_ls)\n",
    "#master_df.head()\n",
    "#master_df.info()"
   ]
  },
  {
   "cell_type": "code",
   "execution_count": null,
   "metadata": {
    "scrolled": false
   },
   "outputs": [],
   "source": [
    "history_ls = MD.Reporter.GetDataHistory()\n",
    "history_df = PD.DataFrame(history_ls).set_index('Column')\n",
    "history_df"
   ]
  },
  {
   "cell_type": "code",
   "execution_count": null,
   "metadata": {
    "scrolled": true
   },
   "outputs": [],
   "source": [
    "# for development, return the merged dataframe\n",
    "\n",
    "df = MD.Editor.RunMaster Movies()\n",
    "df[150:152]"
   ]
  },
  {
   "cell_type": "code",
   "execution_count": null,
   "metadata": {
    "scrolled": false
   },
   "outputs": [],
   "source": [
    "df.info()"
   ]
  },
  {
   "cell_type": "code",
   "execution_count": null,
   "metadata": {
    "scrolled": false
   },
   "outputs": [],
   "source": [
    "df.loc[ df['Companies_tmdb'].str.contains(', The')==True , [ 'Companies_tmdb', 'Companies_imdb']][40:80]"
   ]
  },
  {
   "cell_type": "code",
   "execution_count": null,
   "metadata": {
    "scrolled": true
   },
   "outputs": [],
   "source": [
    "df['Rating_rlgd'].value_counts()"
   ]
  },
  {
   "cell_type": "code",
   "execution_count": null,
   "metadata": {},
   "outputs": [],
   "source": [
    "tmdb_ genre = []\n",
    "rlgd_genre = []\n",
    "imdb_genre = []\n",
    "for idx, row in df.iterrows():\n",
    "    tmdb = row['Genres_tmdb'] or ''\n",
    "    rlgd = row['Genres_rlgd'] or ''\n",
    "    imdb = row['Genres_imdb'] or ''\n",
    "    \n",
    "    tmdb_genre += tmdb.split(', ') if type(tmdb)==str else []\n",
    "    rlgd_genre += rlgd.split(', ') if type(rlgd)==str else []\n",
    "    imdb_genre += imdb.split(', ') if type(imdb)==str else []\n",
    "    \n",
    "    tmdb_ct = PD.Series(tmdb_genre).value_counts()\n",
    "    rlgd_ct = PD.Series(rlgd_genre).value_counts()\n",
    "    imdb_ct = PD.Series(imdb_genre).value_counts()\n",
    "    \n",
    "#tmdb_ct"
   ]
  },
  {
   "cell_type": "code",
   "execution_count": null,
   "metadata": {},
   "outputs": [],
   "source": [
    "df.loc[[111, 136, 148, 269, 272, 19, 44, 47], ['Title_tmdb', 'Budget_tmdb', 'Budget_imdb']]"
   ]
  },
  {
   "cell_type": "code",
   "execution_count": null,
   "metadata": {},
   "outputs": [],
   "source": [
    "round( ((6.8 * 293) + (5.8 * 6457))/(293+6457) , 2)\n",
    "\n",
    "df.dropna(subset=['Votes_imdb'])['Votes_tmdb'].astype('int').sum()\n",
    "df.dropna(subset=['Votes_imdb'])['Votes_imdb'].astype('int').sum()"
   ]
  },
  {
   "cell_type": "code",
   "execution_count": null,
   "metadata": {
    "scrolled": false
   },
   "outputs": [],
   "source": [
    "MD.Editor.GetMasterMovie(df.iloc[56])"
   ]
  },
  {
   "cell_type": "code",
   "execution_count": null,
   "metadata": {},
   "outputs": [],
   "source": [
    "MD.Editor.GetMasterMovie(df.iloc[166])"
   ]
  }
 ],
 "metadata": {
  "kernelspec": {
   "display_name": "Django Shell-Plus",
   "language": "python",
   "name": "django_extensions"
  },
  "language_info": {
   "codemirror_mode": {
    "name": "ipython",
    "version": 3
   },
   "file_extension": ".py",
   "mimetype": "text/x-python",
   "name": "python",
   "nbconvert_exporter": "python",
   "pygments_lexer": "ipython3",
   "version": "3.7.5"
  }
 },
 "nbformat": 4,
 "nbformat_minor": 2
}
