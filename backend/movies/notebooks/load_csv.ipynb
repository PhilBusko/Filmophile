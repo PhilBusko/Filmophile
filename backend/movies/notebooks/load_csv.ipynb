{
 "cells": [
  {
   "cell_type": "markdown",
   "metadata": {},
   "source": [
    "# Load CSVs to Postgres\n",
    "\n",
    "Workflow: 6 \n",
    "\n",
    "Goal: Load all source files, TMDB, Reelgood, IMDB to database.\n",
    "\n",
    "Result: The 3 database _Load tables are populated."
   ]
  },
  {
   "cell_type": "code",
   "execution_count": 1,
   "metadata": {},
   "outputs": [],
   "source": [
    "import os, sys\n",
    "import time\n",
    "import pandas as PD"
   ]
  },
  {
   "cell_type": "code",
   "execution_count": 2,
   "metadata": {},
   "outputs": [],
   "source": [
    "from IPython.core.interactiveshell import InteractiveShell\n",
    "InteractiveShell.ast_node_interactivity = 'all'"
   ]
  },
  {
   "cell_type": "code",
   "execution_count": 3,
   "metadata": {},
   "outputs": [
    {
     "data": {
      "text/plain": [
       "'app_proj.settings'"
      ]
     },
     "execution_count": 3,
     "metadata": {},
     "output_type": "execute_result"
    }
   ],
   "source": [
    "os.chdir(os.getenv('PWD'))\n",
    "sys.path.insert(0, os.getenv('PWD'))\n",
    "os.environ.setdefault(\"DJANGO_SETTINGS_MODULE\", \"settings.py\")\n",
    "import django\n",
    "django.setup()"
   ]
  },
  {
   "cell_type": "code",
   "execution_count": 4,
   "metadata": {},
   "outputs": [],
   "source": [
    "import app_proj.settings as ST\n",
    "import movies.models.models as MD"
   ]
  },
  {
   "cell_type": "markdown",
   "metadata": {},
   "source": [
    "## Read & Insert CSVs"
   ]
  },
  {
   "cell_type": "code",
   "execution_count": 5,
   "metadata": {},
   "outputs": [],
   "source": [
    "MOVIEDB_FILE = os.path.join(ST.BASE_DIR, 'movies/data/moviedb_subsample.csv')\n",
    "REELGOOD_FILE = os.path.join(ST.BASE_DIR, 'movies/data/reelgood_subsample.csv')\n",
    "IMDB_FILE = os.path.join(ST.BASE_DIR, 'movies/data/imdb_subsample.csv')"
   ]
  },
  {
   "cell_type": "code",
   "execution_count": 6,
   "metadata": {
    "scrolled": false
   },
   "outputs": [],
   "source": [
    "#MD.Editor.DeleteTable('All')"
   ]
  },
  {
   "cell_type": "code",
   "execution_count": 7,
   "metadata": {},
   "outputs": [
    {
     "data": {
      "text/plain": [
       "319"
      ]
     },
     "execution_count": 7,
     "metadata": {},
     "output_type": "execute_result"
    }
   ],
   "source": [
    "# the movie DB\n",
    "\n",
    "moviedb_ls = MD.Editor.CSVtoDict(MOVIEDB_FILE)\n",
    "len(moviedb_ls)"
   ]
  },
  {
   "cell_type": "code",
   "execution_count": 8,
   "metadata": {},
   "outputs": [],
   "source": [
    "#moviedb_ls[12]"
   ]
  },
  {
   "cell_type": "code",
   "execution_count": 9,
   "metadata": {
    "scrolled": false
   },
   "outputs": [
    {
     "data": {
      "text/plain": [
       "319"
      ]
     },
     "execution_count": 9,
     "metadata": {},
     "output_type": "execute_result"
    }
   ],
   "source": [
    "MD.Editor.InsertDictToTable(moviedb_ls, 'MovieDB_Load')\n",
    "MD.MovieDB_Load.objects.all().count()"
   ]
  },
  {
   "cell_type": "code",
   "execution_count": 10,
   "metadata": {},
   "outputs": [
    {
     "data": {
      "text/plain": [
       "325"
      ]
     },
     "execution_count": 10,
     "metadata": {},
     "output_type": "execute_result"
    }
   ],
   "source": [
    "# reelgood\n",
    "\n",
    "reelgood_ls = MD.Editor.CSVtoDict(REELGOOD_FILE)\n",
    "len(reelgood_ls)"
   ]
  },
  {
   "cell_type": "code",
   "execution_count": 11,
   "metadata": {},
   "outputs": [],
   "source": [
    "#reelgood_ls[90]"
   ]
  },
  {
   "cell_type": "code",
   "execution_count": 12,
   "metadata": {
    "scrolled": false
   },
   "outputs": [
    {
     "data": {
      "text/plain": [
       "325"
      ]
     },
     "execution_count": 12,
     "metadata": {},
     "output_type": "execute_result"
    }
   ],
   "source": [
    "MD.Editor.InsertDictToTable(reelgood_ls, 'Reelgood_Load')\n",
    "MD.Reelgood_Load.objects.all().count()"
   ]
  },
  {
   "cell_type": "code",
   "execution_count": 13,
   "metadata": {},
   "outputs": [
    {
     "data": {
      "text/plain": [
       "275"
      ]
     },
     "execution_count": 13,
     "metadata": {},
     "output_type": "execute_result"
    }
   ],
   "source": [
    "# imdb\n",
    "\n",
    "imdb_ls = MD.Editor.CSVtoDict(IMDB_FILE)\n",
    "len(imdb_ls)"
   ]
  },
  {
   "cell_type": "code",
   "execution_count": 14,
   "metadata": {},
   "outputs": [],
   "source": [
    "#imdb_ls[0]"
   ]
  },
  {
   "cell_type": "code",
   "execution_count": 15,
   "metadata": {
    "scrolled": false
   },
   "outputs": [
    {
     "data": {
      "text/plain": [
       "275"
      ]
     },
     "execution_count": 15,
     "metadata": {},
     "output_type": "execute_result"
    }
   ],
   "source": [
    "MD.Editor.InsertDictToTable(imdb_ls, 'IMDB_Load')\n",
    "MD.IMDB_Load.objects.all().count()"
   ]
  },
  {
   "cell_type": "markdown",
   "metadata": {},
   "source": [
    "## Create Master Movie Table"
   ]
  },
  {
   "cell_type": "code",
   "execution_count": 16,
   "metadata": {
    "scrolled": false
   },
   "outputs": [
    {
     "data": {
      "text/html": [
       "<div>\n",
       "<style scoped>\n",
       "    .dataframe tbody tr th:only-of-type {\n",
       "        vertical-align: middle;\n",
       "    }\n",
       "\n",
       "    .dataframe tbody tr th {\n",
       "        vertical-align: top;\n",
       "    }\n",
       "\n",
       "    .dataframe thead th {\n",
       "        text-align: right;\n",
       "    }\n",
       "</style>\n",
       "<table border=\"1\" class=\"dataframe\">\n",
       "  <thead>\n",
       "    <tr style=\"text-align: right;\">\n",
       "      <th></th>\n",
       "      <th>TmdbId_tmdb</th>\n",
       "      <th>Title_tmdb</th>\n",
       "      <th>OriginalTitle_tmdb</th>\n",
       "      <th>Year_tmdb</th>\n",
       "      <th>Companies_tmdb</th>\n",
       "      <th>Country_tmdb</th>\n",
       "      <th>Language_tmdb</th>\n",
       "      <th>RunTime_tmdb</th>\n",
       "      <th>Crew_tmdb</th>\n",
       "      <th>Cast_tmdb</th>\n",
       "      <th>...</th>\n",
       "      <th>Duration_imdb</th>\n",
       "      <th>Directors_imdb</th>\n",
       "      <th>Writers_imdb</th>\n",
       "      <th>Actors_imdb</th>\n",
       "      <th>Genres_imdb</th>\n",
       "      <th>Synopsis_imdb</th>\n",
       "      <th>Budget_imdb</th>\n",
       "      <th>GrossWorldwide_imdb</th>\n",
       "      <th>Score_imdb</th>\n",
       "      <th>Votes_imdb</th>\n",
       "    </tr>\n",
       "  </thead>\n",
       "  <tbody>\n",
       "    <tr>\n",
       "      <th>150</th>\n",
       "      <td>540871</td>\n",
       "      <td>Leal</td>\n",
       "      <td>Leal</td>\n",
       "      <td>2018</td>\n",
       "      <td>Arco Libre, Hei Films</td>\n",
       "      <td>Argentina</td>\n",
       "      <td>Spanish; Castilian</td>\n",
       "      <td>NaN</td>\n",
       "      <td>Rodrigo Salomón, Pietro Scappini, Andrés Gelós</td>\n",
       "      <td>Luis Aguirre, Fini Bocchino, Bruno Sosa Bofinger</td>\n",
       "      <td>...</td>\n",
       "      <td>107.0</td>\n",
       "      <td>Rodrigo Salomón</td>\n",
       "      <td>Andrés Gelós</td>\n",
       "      <td>Luis Aguirre, Fini Bocchino, Bruno Sosa Bofinger</td>\n",
       "      <td>Action, Crime, Drama</td>\n",
       "      <td>Former Colonel Fernandez is appointed Minister...</td>\n",
       "      <td>None</td>\n",
       "      <td>405016.0</td>\n",
       "      <td>6.0</td>\n",
       "      <td>451.0</td>\n",
       "    </tr>\n",
       "    <tr>\n",
       "      <th>151</th>\n",
       "      <td>2325</td>\n",
       "      <td>Leningrad</td>\n",
       "      <td>Leningrad</td>\n",
       "      <td>2009</td>\n",
       "      <td>KoBura Film, Ministerstvo kultury Rossiyskoy F...</td>\n",
       "      <td>Russia</td>\n",
       "      <td>English</td>\n",
       "      <td>120.0</td>\n",
       "      <td>Aleksandr Buravsky, Peter Doyle, David Gamburg</td>\n",
       "      <td>Gabriel Byrne, Mira Sorvino, Armin Mueller-Stahl</td>\n",
       "      <td>...</td>\n",
       "      <td>110.0</td>\n",
       "      <td>Aleksandr Buravskiy</td>\n",
       "      <td>Aleksandr Buravskiy</td>\n",
       "      <td>Mira Sorvino, Armin Mueller-Stahl, Olga Sutulova</td>\n",
       "      <td>Drama, War</td>\n",
       "      <td>When in 1941 Nazi Germany invaded the Soviet U...</td>\n",
       "      <td>7000000</td>\n",
       "      <td>NaN</td>\n",
       "      <td>6.1</td>\n",
       "      <td>4267.0</td>\n",
       "    </tr>\n",
       "  </tbody>\n",
       "</table>\n",
       "<p>2 rows × 46 columns</p>\n",
       "</div>"
      ],
      "text/plain": [
       "     TmdbId_tmdb Title_tmdb OriginalTitle_tmdb Year_tmdb  \\\n",
       "150       540871       Leal               Leal      2018   \n",
       "151         2325  Leningrad          Leningrad      2009   \n",
       "\n",
       "                                        Companies_tmdb Country_tmdb  \\\n",
       "150                              Arco Libre, Hei Films    Argentina   \n",
       "151  KoBura Film, Ministerstvo kultury Rossiyskoy F...       Russia   \n",
       "\n",
       "          Language_tmdb  RunTime_tmdb  \\\n",
       "150  Spanish; Castilian           NaN   \n",
       "151             English         120.0   \n",
       "\n",
       "                                          Crew_tmdb  \\\n",
       "150  Rodrigo Salomón, Pietro Scappini, Andrés Gelós   \n",
       "151  Aleksandr Buravsky, Peter Doyle, David Gamburg   \n",
       "\n",
       "                                            Cast_tmdb  ... Duration_imdb  \\\n",
       "150  Luis Aguirre, Fini Bocchino, Bruno Sosa Bofinger  ...         107.0   \n",
       "151  Gabriel Byrne, Mira Sorvino, Armin Mueller-Stahl  ...         110.0   \n",
       "\n",
       "          Directors_imdb         Writers_imdb  \\\n",
       "150      Rodrigo Salomón         Andrés Gelós   \n",
       "151  Aleksandr Buravskiy  Aleksandr Buravskiy   \n",
       "\n",
       "                                          Actors_imdb           Genres_imdb  \\\n",
       "150  Luis Aguirre, Fini Bocchino, Bruno Sosa Bofinger  Action, Crime, Drama   \n",
       "151  Mira Sorvino, Armin Mueller-Stahl, Olga Sutulova            Drama, War   \n",
       "\n",
       "                                         Synopsis_imdb Budget_imdb  \\\n",
       "150  Former Colonel Fernandez is appointed Minister...        None   \n",
       "151  When in 1941 Nazi Germany invaded the Soviet U...     7000000   \n",
       "\n",
       "    GrossWorldwide_imdb Score_imdb Votes_imdb  \n",
       "150            405016.0        6.0      451.0  \n",
       "151                 NaN        6.1     4267.0  \n",
       "\n",
       "[2 rows x 46 columns]"
      ]
     },
     "execution_count": 16,
     "metadata": {},
     "output_type": "execute_result"
    }
   ],
   "source": [
    "df = MD.Editor.RunMasterMovies()\n",
    "df[150:152]"
   ]
  },
  {
   "cell_type": "code",
   "execution_count": 17,
   "metadata": {
    "scrolled": true
   },
   "outputs": [
    {
     "name": "stdout",
     "output_type": "stream",
     "text": [
      "<class 'pandas.core.frame.DataFrame'>\n",
      "Int64Index: 319 entries, 0 to 318\n",
      "Data columns (total 46 columns):\n",
      "TmdbId_tmdb            319 non-null int64\n",
      "Title_tmdb             319 non-null object\n",
      "OriginalTitle_tmdb     319 non-null object\n",
      "Year_tmdb              319 non-null object\n",
      "Companies_tmdb         214 non-null object\n",
      "Country_tmdb           245 non-null object\n",
      "Language_tmdb          319 non-null object\n",
      "RunTime_tmdb           290 non-null float64\n",
      "Crew_tmdb              303 non-null object\n",
      "Cast_tmdb              288 non-null object\n",
      "Poster_tmdb            311 non-null object\n",
      "Genres_tmdb            285 non-null object\n",
      "Synopsis_tmdb          317 non-null object\n",
      "Budget_tmdb            57 non-null float64\n",
      "Gross_tmdb             29 non-null float64\n",
      "Score_tmdb             319 non-null object\n",
      "Votes_tmdb             319 non-null object\n",
      "Title_rlgd             319 non-null object\n",
      "Year_rlgd              319 non-null object\n",
      "Rating_rlgd            137 non-null object\n",
      "Country_rlgd           121 non-null object\n",
      "Duration_rlgd          317 non-null float64\n",
      "Poster_rlgd            319 non-null object\n",
      "Genres_rlgd            315 non-null object\n",
      "Synopsis_rlgd          319 non-null object\n",
      "ImdbScore_rlgd         314 non-null float64\n",
      "RtScore_rlgd           97 non-null object\n",
      "Services_rlgd          319 non-null object\n",
      "ImdbId_imdb            275 non-null object\n",
      "Title_imdb             275 non-null object\n",
      "OriginalTitle_imdb     40 non-null object\n",
      "Year_imdb              275 non-null object\n",
      "Rating_imdb            199 non-null object\n",
      "Companies_imdb         248 non-null object\n",
      "Country_imdb           272 non-null object\n",
      "Language_imdb          271 non-null object\n",
      "Duration_imdb          263 non-null float64\n",
      "Directors_imdb         275 non-null object\n",
      "Writers_imdb           246 non-null object\n",
      "Actors_imdb            257 non-null object\n",
      "Genres_imdb            275 non-null object\n",
      "Synopsis_imdb          275 non-null object\n",
      "Budget_imdb            85 non-null object\n",
      "GrossWorldwide_imdb    87 non-null float64\n",
      "Score_imdb             273 non-null float64\n",
      "Votes_imdb             273 non-null float64\n",
      "dtypes: float64(9), int64(1), object(36)\n",
      "memory usage: 117.1+ KB\n"
     ]
    }
   ],
   "source": [
    "df.info()"
   ]
  },
  {
   "cell_type": "code",
   "execution_count": 18,
   "metadata": {},
   "outputs": [
    {
     "data": {
      "text/plain": [
       "{'Movie_ID': 68551,\n",
       " 'Title': 'Shades',\n",
       " 'OriginalTitle': 'Shades',\n",
       " 'Year': '1999',\n",
       " 'Rating': None,\n",
       " 'Companies': None,\n",
       " 'Country': None,\n",
       " 'Language': 'English',\n",
       " 'RunTime': None,\n",
       " 'Crew': None,\n",
       " 'Cast': None,\n",
       " 'Poster': None,\n",
       " 'Genres': None,\n",
       " 'Collection': None,\n",
       " 'Synopsis': None,\n",
       " 'Budget': None,\n",
       " 'Gross': None,\n",
       " 'Scores': None,\n",
       " 'Indeces': None}"
      ]
     },
     "execution_count": 18,
     "metadata": {},
     "output_type": "execute_result"
    }
   ],
   "source": [
    "MD.Editor.GetMasterMovie(df.iloc[219])"
   ]
  },
  {
   "cell_type": "code",
   "execution_count": null,
   "metadata": {},
   "outputs": [],
   "source": []
  }
 ],
 "metadata": {
  "kernelspec": {
   "display_name": "Django Shell-Plus",
   "language": "python",
   "name": "django_extensions"
  },
  "language_info": {
   "codemirror_mode": {
    "name": "ipython",
    "version": 3
   },
   "file_extension": ".py",
   "mimetype": "text/x-python",
   "name": "python",
   "nbconvert_exporter": "python",
   "pygments_lexer": "ipython3",
   "version": "3.7.5"
  }
 },
 "nbformat": 4,
 "nbformat_minor": 2
}
