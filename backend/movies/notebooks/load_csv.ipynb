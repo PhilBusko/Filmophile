{
 "cells": [
  {
   "cell_type": "markdown",
   "metadata": {},
   "source": [
    "# Load CSVs to Postgres\n",
    "\n",
    "Workflow: 6 \n",
    "\n",
    "Goal: Load all source files, TMDB, Reelgood, IMDB to database.\n",
    "\n",
    "Result: The 3 database _Load tables are populated."
   ]
  },
  {
   "cell_type": "code",
   "execution_count": 1,
   "metadata": {},
   "outputs": [],
   "source": [
    "import os, sys\n",
    "import time\n",
    "import pandas as PD"
   ]
  },
  {
   "cell_type": "code",
   "execution_count": 2,
   "metadata": {},
   "outputs": [],
   "source": [
    "from IPython.core.interactiveshell import InteractiveShell\n",
    "InteractiveShell.ast_node_interactivity = 'all'"
   ]
  },
  {
   "cell_type": "code",
   "execution_count": 3,
   "metadata": {},
   "outputs": [
    {
     "data": {
      "text/plain": [
       "'app_proj.settings'"
      ]
     },
     "execution_count": 3,
     "metadata": {},
     "output_type": "execute_result"
    }
   ],
   "source": [
    "os.chdir(os.getenv('PWD'))\n",
    "sys.path.insert(0, os.getenv('PWD'))\n",
    "os.environ.setdefault(\"DJANGO_SETTINGS_MODULE\", \"settings.py\")\n",
    "import django\n",
    "django.setup()"
   ]
  },
  {
   "cell_type": "code",
   "execution_count": 4,
   "metadata": {},
   "outputs": [],
   "source": [
    "import app_proj.settings as ST\n",
    "import movies.models.models as MD"
   ]
  },
  {
   "cell_type": "markdown",
   "metadata": {},
   "source": [
    "## Read & Insert CSVs"
   ]
  },
  {
   "cell_type": "code",
   "execution_count": 5,
   "metadata": {},
   "outputs": [],
   "source": [
    "MOVIEDB_FILE = os.path.join(ST.BASE_DIR, 'movies/data/moviedb_subsample.csv')\n",
    "REELGOOD_FILE = os.path.join(ST.BASE_DIR, 'movies/data/reelgood_subsample.csv')\n",
    "IMDB_FILE = os.path.join(ST.BASE_DIR, 'movies/data/imdb_subsample.csv')"
   ]
  },
  {
   "cell_type": "code",
   "execution_count": 6,
   "metadata": {
    "scrolled": false
   },
   "outputs": [],
   "source": [
    "MD.Editor.DeleteTable('All')"
   ]
  },
  {
   "cell_type": "code",
   "execution_count": 7,
   "metadata": {},
   "outputs": [
    {
     "data": {
      "text/plain": [
       "319"
      ]
     },
     "execution_count": 7,
     "metadata": {},
     "output_type": "execute_result"
    }
   ],
   "source": [
    "# the movie DB\n",
    "\n",
    "moviedb_ls = MD.Editor.CSVtoDict(MOVIEDB_FILE)\n",
    "len(moviedb_ls)"
   ]
  },
  {
   "cell_type": "code",
   "execution_count": 8,
   "metadata": {},
   "outputs": [],
   "source": [
    "#moviedb_ls[12]"
   ]
  },
  {
   "cell_type": "code",
   "execution_count": 9,
   "metadata": {
    "scrolled": false
   },
   "outputs": [
    {
     "data": {
      "text/plain": [
       "319"
      ]
     },
     "execution_count": 9,
     "metadata": {},
     "output_type": "execute_result"
    }
   ],
   "source": [
    "MD.Editor.InsertDictToTable(moviedb_ls, 'MovieDB_Load')\n",
    "MD.MovieDB_Load.objects.all().count()"
   ]
  },
  {
   "cell_type": "code",
   "execution_count": 10,
   "metadata": {},
   "outputs": [
    {
     "data": {
      "text/plain": [
       "325"
      ]
     },
     "execution_count": 10,
     "metadata": {},
     "output_type": "execute_result"
    }
   ],
   "source": [
    "# reelgood\n",
    "\n",
    "reelgood_ls = MD.Editor.CSVtoDict(REELGOOD_FILE)\n",
    "len(reelgood_ls)"
   ]
  },
  {
   "cell_type": "code",
   "execution_count": 11,
   "metadata": {},
   "outputs": [],
   "source": [
    "#reelgood_ls[90]"
   ]
  },
  {
   "cell_type": "code",
   "execution_count": 12,
   "metadata": {
    "scrolled": false
   },
   "outputs": [
    {
     "data": {
      "text/plain": [
       "325"
      ]
     },
     "execution_count": 12,
     "metadata": {},
     "output_type": "execute_result"
    }
   ],
   "source": [
    "MD.Editor.InsertDictToTable(reelgood_ls, 'Reelgood_Load')\n",
    "MD.Reelgood_Load.objects.all().count()"
   ]
  },
  {
   "cell_type": "code",
   "execution_count": 13,
   "metadata": {},
   "outputs": [
    {
     "data": {
      "text/plain": [
       "317"
      ]
     },
     "execution_count": 13,
     "metadata": {},
     "output_type": "execute_result"
    }
   ],
   "source": [
    "# imdb\n",
    "\n",
    "imdb_ls = MD.Editor.CSVtoDict(IMDB_FILE)\n",
    "len(imdb_ls)"
   ]
  },
  {
   "cell_type": "code",
   "execution_count": 14,
   "metadata": {},
   "outputs": [],
   "source": [
    "#imdb_ls[0]"
   ]
  },
  {
   "cell_type": "code",
   "execution_count": 15,
   "metadata": {
    "scrolled": false
   },
   "outputs": [
    {
     "data": {
      "text/plain": [
       "317"
      ]
     },
     "execution_count": 15,
     "metadata": {},
     "output_type": "execute_result"
    }
   ],
   "source": [
    "MD.Editor.InsertDictToTable(imdb_ls, 'IMDB_Load')\n",
    "MD.IMDB_Load.objects.all().count()"
   ]
  },
  {
   "cell_type": "markdown",
   "metadata": {},
   "source": [
    "## Create Master Movie Table"
   ]
  },
  {
   "cell_type": "code",
   "execution_count": 16,
   "metadata": {
    "scrolled": false
   },
   "outputs": [
    {
     "data": {
      "text/plain": [
       "319"
      ]
     },
     "execution_count": 16,
     "metadata": {},
     "output_type": "execute_result"
    }
   ],
   "source": [
    "master_ls = MD.Editor.RunMasterMovies()\n",
    "MD.Editor.InsertDictToTable(master_ls, 'MasterMovie')\n",
    "MD.MasterMovie.objects.all().count()"
   ]
  },
  {
   "cell_type": "code",
   "execution_count": 17,
   "metadata": {},
   "outputs": [
    {
     "data": {
      "text/html": [
       "<div>\n",
       "<style scoped>\n",
       "    .dataframe tbody tr th:only-of-type {\n",
       "        vertical-align: middle;\n",
       "    }\n",
       "\n",
       "    .dataframe tbody tr th {\n",
       "        vertical-align: top;\n",
       "    }\n",
       "\n",
       "    .dataframe thead th {\n",
       "        text-align: right;\n",
       "    }\n",
       "</style>\n",
       "<table border=\"1\" class=\"dataframe\">\n",
       "  <thead>\n",
       "    <tr style=\"text-align: right;\">\n",
       "      <th></th>\n",
       "      <th>Movie_ID</th>\n",
       "      <th>Title</th>\n",
       "      <th>OriginalTitle</th>\n",
       "      <th>Year</th>\n",
       "      <th>Rating</th>\n",
       "      <th>Companies</th>\n",
       "      <th>Country</th>\n",
       "      <th>Language</th>\n",
       "      <th>RunTime</th>\n",
       "      <th>Crew</th>\n",
       "      <th>Cast</th>\n",
       "      <th>Poster</th>\n",
       "      <th>Genres</th>\n",
       "      <th>Synopsis</th>\n",
       "      <th>Budget</th>\n",
       "      <th>Gross</th>\n",
       "      <th>ScoreImdb</th>\n",
       "      <th>VotesImdb</th>\n",
       "      <th>Indeces</th>\n",
       "    </tr>\n",
       "  </thead>\n",
       "  <tbody>\n",
       "    <tr>\n",
       "      <th>0</th>\n",
       "      <td>217316</td>\n",
       "      <td>1</td>\n",
       "      <td>1</td>\n",
       "      <td>2013</td>\n",
       "      <td>PG-13</td>\n",
       "      <td>Exclusive Media, Flat-Out Films</td>\n",
       "      <td>USA</td>\n",
       "      <td>English</td>\n",
       "      <td>112</td>\n",
       "      <td>Mark Monroe, Paul Crowder</td>\n",
       "      <td>Niki Lauda, Lewis Hamilton</td>\n",
       "      <td>/4uIPXX8DjTsCzUAdtMKHTpojYLq.jpg</td>\n",
       "      <td>Documentary, Sport, History</td>\n",
       "      <td>Set in the golden era of Grand Prix Racing '1'...</td>\n",
       "      <td>NaN</td>\n",
       "      <td>NaN</td>\n",
       "      <td>8.0</td>\n",
       "      <td>3535.0</td>\n",
       "      <td>{\"reelgood\": \"1-2013\", \"amazon\": \"B0751Q3J8P\",...</td>\n",
       "    </tr>\n",
       "    <tr>\n",
       "      <th>1</th>\n",
       "      <td>386666</td>\n",
       "      <td>13 Times Evil</td>\n",
       "      <td>13 Times Evil</td>\n",
       "      <td>2016</td>\n",
       "      <td>R</td>\n",
       "      <td>NaN</td>\n",
       "      <td>NaN</td>\n",
       "      <td>English</td>\n",
       "      <td>90</td>\n",
       "      <td>None</td>\n",
       "      <td>None</td>\n",
       "      <td>/tcdAJMNPAlqtsNPtYK0F0GUgHKG.jpg</td>\n",
       "      <td>Documentary</td>\n",
       "      <td>History is replete with psychotic killers with...</td>\n",
       "      <td>NaN</td>\n",
       "      <td>NaN</td>\n",
       "      <td>NaN</td>\n",
       "      <td>NaN</td>\n",
       "      <td>{\"reelgood\": \"13-times-evil-2016\", \"amazon\": \"...</td>\n",
       "    </tr>\n",
       "    <tr>\n",
       "      <th>2</th>\n",
       "      <td>341957</td>\n",
       "      <td>21 Days</td>\n",
       "      <td>21 Days</td>\n",
       "      <td>2014</td>\n",
       "      <td>R</td>\n",
       "      <td>Nopal Army, Tortilla Flats Productions</td>\n",
       "      <td>USA</td>\n",
       "      <td>English</td>\n",
       "      <td>89</td>\n",
       "      <td>Kathleen Behun</td>\n",
       "      <td>Max Hambleton, Whitney Rose Pynn, Mickey River</td>\n",
       "      <td>/1IXt1E6i6tH8gaCFG6jhlsKM4V5.jpg</td>\n",
       "      <td>Thriller, Horror</td>\n",
       "      <td>Three filmmakers embark on a paranormal challe...</td>\n",
       "      <td>NaN</td>\n",
       "      <td>NaN</td>\n",
       "      <td>4.5</td>\n",
       "      <td>493.0</td>\n",
       "      <td>{\"reelgood\": \"21-days-2014\", \"amazon\": \"B01N9Z...</td>\n",
       "    </tr>\n",
       "    <tr>\n",
       "      <th>3</th>\n",
       "      <td>441453</td>\n",
       "      <td>36 Hour Layover</td>\n",
       "      <td>36 Hour Layover</td>\n",
       "      <td>2016</td>\n",
       "      <td>None</td>\n",
       "      <td>RLJ Entertainment</td>\n",
       "      <td>USA</td>\n",
       "      <td>English</td>\n",
       "      <td>88</td>\n",
       "      <td>Mark Harris</td>\n",
       "      <td>None</td>\n",
       "      <td>/vZCoqQecIEGqfDr4Q3Ppvg3ZXIF.jpg</td>\n",
       "      <td>Comedy, Romance</td>\n",
       "      <td>This film is a romantic comedy about a steward...</td>\n",
       "      <td>1000000.0</td>\n",
       "      <td>NaN</td>\n",
       "      <td>5.8</td>\n",
       "      <td>74.0</td>\n",
       "      <td>{\"reelgood\": \"36-hour-layover-2016\", \"amazon\":...</td>\n",
       "    </tr>\n",
       "    <tr>\n",
       "      <th>4</th>\n",
       "      <td>270802</td>\n",
       "      <td>666: Devilish Charm</td>\n",
       "      <td>666: Devilish Charm</td>\n",
       "      <td>2014</td>\n",
       "      <td>None</td>\n",
       "      <td>Rapid Heart Pictures</td>\n",
       "      <td>USA</td>\n",
       "      <td>English</td>\n",
       "      <td>78</td>\n",
       "      <td>David DeCoteau, Rolfe Kanefsky</td>\n",
       "      <td>R.J. Cantu, Ryan Walker</td>\n",
       "      <td>/cauliUwjBwVEFWGBhlpjnBmWec5.jpg</td>\n",
       "      <td>Thriller, Horror</td>\n",
       "      <td>When a cursed devil's charm' bracelet shows up...</td>\n",
       "      <td>1000000.0</td>\n",
       "      <td>NaN</td>\n",
       "      <td>3.4</td>\n",
       "      <td>110.0</td>\n",
       "      <td>{\"reelgood\": \"666-devilish-charm-2014\", \"amazo...</td>\n",
       "    </tr>\n",
       "  </tbody>\n",
       "</table>\n",
       "</div>"
      ],
      "text/plain": [
       "   Movie_ID                Title        OriginalTitle  Year Rating  \\\n",
       "0    217316                    1                    1  2013  PG-13   \n",
       "1    386666        13 Times Evil        13 Times Evil  2016      R   \n",
       "2    341957              21 Days              21 Days  2014      R   \n",
       "3    441453      36 Hour Layover      36 Hour Layover  2016   None   \n",
       "4    270802  666: Devilish Charm  666: Devilish Charm  2014   None   \n",
       "\n",
       "                                Companies Country Language  RunTime  \\\n",
       "0         Exclusive Media, Flat-Out Films     USA  English      112   \n",
       "1                                     NaN     NaN  English       90   \n",
       "2  Nopal Army, Tortilla Flats Productions     USA  English       89   \n",
       "3                       RLJ Entertainment     USA  English       88   \n",
       "4                    Rapid Heart Pictures     USA  English       78   \n",
       "\n",
       "                             Crew  \\\n",
       "0       Mark Monroe, Paul Crowder   \n",
       "1                            None   \n",
       "2                  Kathleen Behun   \n",
       "3                     Mark Harris   \n",
       "4  David DeCoteau, Rolfe Kanefsky   \n",
       "\n",
       "                                             Cast  \\\n",
       "0                      Niki Lauda, Lewis Hamilton   \n",
       "1                                            None   \n",
       "2  Max Hambleton, Whitney Rose Pynn, Mickey River   \n",
       "3                                            None   \n",
       "4                         R.J. Cantu, Ryan Walker   \n",
       "\n",
       "                             Poster                       Genres  \\\n",
       "0  /4uIPXX8DjTsCzUAdtMKHTpojYLq.jpg  Documentary, Sport, History   \n",
       "1  /tcdAJMNPAlqtsNPtYK0F0GUgHKG.jpg                  Documentary   \n",
       "2  /1IXt1E6i6tH8gaCFG6jhlsKM4V5.jpg             Thriller, Horror   \n",
       "3  /vZCoqQecIEGqfDr4Q3Ppvg3ZXIF.jpg              Comedy, Romance   \n",
       "4  /cauliUwjBwVEFWGBhlpjnBmWec5.jpg             Thriller, Horror   \n",
       "\n",
       "                                            Synopsis     Budget  Gross  \\\n",
       "0  Set in the golden era of Grand Prix Racing '1'...        NaN    NaN   \n",
       "1  History is replete with psychotic killers with...        NaN    NaN   \n",
       "2  Three filmmakers embark on a paranormal challe...        NaN    NaN   \n",
       "3  This film is a romantic comedy about a steward...  1000000.0    NaN   \n",
       "4  When a cursed devil's charm' bracelet shows up...  1000000.0    NaN   \n",
       "\n",
       "   ScoreImdb  VotesImdb                                            Indeces  \n",
       "0        8.0     3535.0  {\"reelgood\": \"1-2013\", \"amazon\": \"B0751Q3J8P\",...  \n",
       "1        NaN        NaN  {\"reelgood\": \"13-times-evil-2016\", \"amazon\": \"...  \n",
       "2        4.5      493.0  {\"reelgood\": \"21-days-2014\", \"amazon\": \"B01N9Z...  \n",
       "3        5.8       74.0  {\"reelgood\": \"36-hour-layover-2016\", \"amazon\":...  \n",
       "4        3.4      110.0  {\"reelgood\": \"666-devilish-charm-2014\", \"amazo...  "
      ]
     },
     "execution_count": 17,
     "metadata": {},
     "output_type": "execute_result"
    },
    {
     "name": "stdout",
     "output_type": "stream",
     "text": [
      "<class 'pandas.core.frame.DataFrame'>\n",
      "RangeIndex: 319 entries, 0 to 318\n",
      "Data columns (total 19 columns):\n",
      "Movie_ID         319 non-null int64\n",
      "Title            319 non-null object\n",
      "OriginalTitle    319 non-null object\n",
      "Year             319 non-null object\n",
      "Rating           149 non-null object\n",
      "Companies        295 non-null object\n",
      "Country          314 non-null object\n",
      "Language         319 non-null object\n",
      "RunTime          319 non-null int64\n",
      "Crew             301 non-null object\n",
      "Cast             256 non-null object\n",
      "Poster           319 non-null object\n",
      "Genres           318 non-null object\n",
      "Synopsis         319 non-null object\n",
      "Budget           84 non-null float64\n",
      "Gross            102 non-null float64\n",
      "ScoreImdb        312 non-null float64\n",
      "VotesImdb        312 non-null float64\n",
      "Indeces          319 non-null object\n",
      "dtypes: float64(4), int64(2), object(13)\n",
      "memory usage: 47.5+ KB\n"
     ]
    }
   ],
   "source": [
    "master_df = PD.DataFrame(master_ls)\n",
    "master_df.head()\n",
    "master_df.info()"
   ]
  },
  {
   "cell_type": "code",
   "execution_count": null,
   "metadata": {},
   "outputs": [],
   "source": []
  },
  {
   "cell_type": "code",
   "execution_count": 18,
   "metadata": {
    "scrolled": false
   },
   "outputs": [
    {
     "ename": "SyntaxError",
     "evalue": "invalid syntax (<ipython-input-18-4a2bd81442f3>, line 3)",
     "output_type": "error",
     "traceback": [
      "\u001b[0;36m  File \u001b[0;32m\"<ipython-input-18-4a2bd81442f3>\"\u001b[0;36m, line \u001b[0;32m3\u001b[0m\n\u001b[0;31m    df = MD.Editor.RunMaster Movies()\u001b[0m\n\u001b[0m                                  ^\u001b[0m\n\u001b[0;31mSyntaxError\u001b[0m\u001b[0;31m:\u001b[0m invalid syntax\n"
     ]
    }
   ],
   "source": [
    "# for development, return the merged dataframe\n",
    "\n",
    "df = MD.Editor.RunMaster Movies()\n",
    "df[150:152]"
   ]
  },
  {
   "cell_type": "code",
   "execution_count": null,
   "metadata": {
    "scrolled": false
   },
   "outputs": [],
   "source": [
    "df.info()"
   ]
  },
  {
   "cell_type": "code",
   "execution_count": null,
   "metadata": {
    "scrolled": false
   },
   "outputs": [],
   "source": [
    "df.loc[list(range(140,160)), ['Title_tmdb', 'Score_tmdb', 'Votes_tmdb', 'Score_imdb', 'Votes_imdb']]"
   ]
  },
  {
   "cell_type": "code",
   "execution_count": null,
   "metadata": {},
   "outputs": [],
   "source": []
  },
  {
   "cell_type": "code",
   "execution_count": null,
   "metadata": {
    "scrolled": true
   },
   "outputs": [],
   "source": [
    "df['Rating_rlgd'].value_counts()"
   ]
  },
  {
   "cell_type": "code",
   "execution_count": null,
   "metadata": {},
   "outputs": [],
   "source": [
    "tmdb_genre = []\n",
    "rlgd_genre = []\n",
    "imdb_genre = []\n",
    "for idx, row in df.iterrows():\n",
    "    tmdb = row['Genres_tmdb'] or ''\n",
    "    rlgd = row['Genres_rlgd'] or ''\n",
    "    imdb = row['Genres_imdb'] or ''\n",
    "    \n",
    "    tmdb_genre += tmdb.split(', ') if type(tmdb)==str else []\n",
    "    rlgd_genre += rlgd.split(', ') if type(rlgd)==str else []\n",
    "    imdb_genre += imdb.split(', ') if type(imdb)==str else []\n",
    "    \n",
    "    tmdb_ct = PD.Series(tmdb_genre).value_counts()\n",
    "    rlgd_ct = PD.Series(rlgd_genre).value_counts()\n",
    "    imdb_ct = PD.Series(imdb_genre).value_counts()\n",
    "    \n",
    "#tmdb_ct"
   ]
  },
  {
   "cell_type": "code",
   "execution_count": null,
   "metadata": {},
   "outputs": [],
   "source": [
    "df.loc[[111, 136, 148, 269, 272, 19, 44, 47], ['Title_tmdb', 'Budget_tmdb', 'Budget_imdb']]"
   ]
  },
  {
   "cell_type": "code",
   "execution_count": null,
   "metadata": {},
   "outputs": [],
   "source": [
    "round( ((6.8 * 293) + (5.8 * 6457))/(293+6457) , 2)\n",
    "\n",
    "df.dropna(subset=['Votes_imdb'])['Votes_tmdb'].astype('int').sum()\n",
    "df.dropna(subset=['Votes_imdb'])['Votes_imdb'].astype('int').sum()"
   ]
  },
  {
   "cell_type": "code",
   "execution_count": null,
   "metadata": {
    "scrolled": false
   },
   "outputs": [],
   "source": [
    "MD.Editor.GetMasterMovie(df.iloc[56])"
   ]
  },
  {
   "cell_type": "code",
   "execution_count": null,
   "metadata": {},
   "outputs": [],
   "source": [
    "MD.Editor.GetMasterMovie(df.iloc[166])"
   ]
  },
  {
   "cell_type": "code",
   "execution_count": null,
   "metadata": {},
   "outputs": [],
   "source": []
  }
 ],
 "metadata": {
  "kernelspec": {
   "display_name": "Django Shell-Plus",
   "language": "python",
   "name": "django_extensions"
  },
  "language_info": {
   "codemirror_mode": {
    "name": "ipython",
    "version": 3
   },
   "file_extension": ".py",
   "mimetype": "text/x-python",
   "name": "python",
   "nbconvert_exporter": "python",
   "pygments_lexer": "ipython3",
   "version": "3.7.5"
  }
 },
 "nbformat": 4,
 "nbformat_minor": 2
}
