{
 "cells": [
  {
   "cell_type": "markdown",
   "metadata": {},
   "source": [
    "# IMDb Scraper"
   ]
  },
  {
   "cell_type": "code",
   "execution_count": 1,
   "metadata": {},
   "outputs": [],
   "source": [
    "import os\n",
    "import time\n",
    "import pandas as PD"
   ]
  },
  {
   "cell_type": "code",
   "execution_count": 2,
   "metadata": {},
   "outputs": [],
   "source": [
    "from IPython.core.interactiveshell import InteractiveShell\n",
    "InteractiveShell.ast_node_interactivity = 'all'"
   ]
  },
  {
   "cell_type": "code",
   "execution_count": 3,
   "metadata": {},
   "outputs": [],
   "source": [
    "# can't reload script in a different folder\n",
    "\n",
    "import sys\n",
    "sys.path.append('../')\n",
    "import imdb_scraper as MB "
   ]
  },
  {
   "cell_type": "markdown",
   "metadata": {},
   "source": [
    "## Scrape One Movie"
   ]
  },
  {
   "cell_type": "code",
   "execution_count": 4,
   "metadata": {},
   "outputs": [
    {
     "name": "stdout",
     "output_type": "stream",
     "text": [
      "<selenium.webdriver.firefox.webdriver.WebDriver (session=\"43335efa-13ad-084e-b8d4-95441aad3592\")>\n"
     ]
    }
   ],
   "source": [
    "scraper = MB.ImdbScraper()\n",
    "title = 'Crouching Tiger, Hidden Dragon: Sword of Destiny'\n",
    "year = '2016'"
   ]
  },
  {
   "cell_type": "code",
   "execution_count": 5,
   "metadata": {},
   "outputs": [],
   "source": [
    "scraper.open_imdb()\n",
    "scraper.search_any(title)"
   ]
  },
  {
   "cell_type": "code",
   "execution_count": 6,
   "metadata": {
    "scrolled": false
   },
   "outputs": [
    {
     "name": "stdout",
     "output_type": "stream",
     "text": [
      "\n",
      "crouching tiger hidden dragon sword of destiny\n",
      "None\n",
      "2016\n",
      "crouching tiger hidden dragon sword of destiny\n",
      "None\n",
      "2016\n"
     ]
    },
    {
     "data": {
      "text/plain": [
       "True"
      ]
     },
     "execution_count": 6,
     "metadata": {},
     "output_type": "execute_result"
    }
   ],
   "source": [
    "scraper.find_movie_result(title, year)"
   ]
  },
  {
   "cell_type": "code",
   "execution_count": 7,
   "metadata": {
    "scrolled": false
   },
   "outputs": [
    {
     "data": {
      "text/plain": [
       "{'title_imdb': 'Crouching Tiger, Hidden Dragon: Sword of Destiny',\n",
       " 'title_original': None,\n",
       " 'title_stream': 'Crouching Tiger, Hidden Dragon: Sword of Destiny',\n",
       " 'year': '2016',\n",
       " 'imdb_id': 'tt2652118',\n",
       " 'score': '6.1',\n",
       " 'votes': '16293',\n",
       " 'rating': 'PG-13',\n",
       " 'duration': 96,\n",
       " 'genres': 'Action, Adventure, Drama',\n",
       " 'synopsis': 'A story of lost love, young love, a legendary sword and one last opportunity at redemption.',\n",
       " 'director': 'Woo-Ping Yuen',\n",
       " 'writer': 'John Fusco',\n",
       " 'actors': 'Donnie Yen, Michelle Yeoh, Harry Shum Jr.',\n",
       " 'country': 'China',\n",
       " 'language': 'English',\n",
       " 'budget': '20000000',\n",
       " 'gross_us': None,\n",
       " 'gross_worldwide': '38659039',\n",
       " 'company': 'Netflix'}"
      ]
     },
     "execution_count": 7,
     "metadata": {},
     "output_type": "execute_result"
    }
   ],
   "source": [
    "movie_dx = scraper.get_movie_data(title)\n",
    "movie_dx "
   ]
  },
  {
   "cell_type": "code",
   "execution_count": 8,
   "metadata": {},
   "outputs": [],
   "source": [
    "scraper.close()"
   ]
  },
  {
   "cell_type": "markdown",
   "metadata": {},
   "source": [
    "## Scrape All Netflix Movies"
   ]
  },
  {
   "cell_type": "code",
   "execution_count": 9,
   "metadata": {
    "scrolled": false
   },
   "outputs": [
    {
     "ename": "SyntaxError",
     "evalue": "invalid syntax (<ipython-input-9-b66e670b1431>, line 1)",
     "output_type": "error",
     "traceback": [
      "\u001b[0;36m  File \u001b[0;32m\"<ipython-input-9-b66e670b1431>\"\u001b[0;36m, line \u001b[0;32m1\u001b[0m\n\u001b[0;31m    INDEX_ FILE = '../data/whatson_index.csv'\u001b[0m\n\u001b[0m              ^\u001b[0m\n\u001b[0;31mSyntaxError\u001b[0m\u001b[0;31m:\u001b[0m invalid syntax\n"
     ]
    }
   ],
   "source": [
    "INDEX_ FILE = '../data/whatson_index.csv'\n",
    "index_df = PD.read_csv(INDEX_FILE)\n",
    "index_df.head()\n",
    "index_df.info()"
   ]
  },
  {
   "cell_type": "code",
   "execution_count": null,
   "metadata": {
    "scrolled": false
   },
   "outputs": [],
   "source": [
    "scraper = MB.ImdbScraper()\n",
    "scraper.open_imdb()\n",
    "movie_ls = []\n",
    "t0 = time.time()\n",
    "\n",
    "for idx, row in index_df[300:600].iterrows():\n",
    "    title = row['title']\n",
    "    year = row['year']\n",
    "    \n",
    "    try:\n",
    "        scraper.search_any(title)\n",
    "        found = scraper.find_movie_result(title, year)\n",
    "        if not found:\n",
    "            print(f'Not found: {title} {year}')\n",
    "            continue\n",
    "        \n",
    "        movie_dx = scraper.get_movie_data(title)\n",
    "        movie_ls.append(movie_dx)\n",
    "    except:\n",
    "        print(f'Error: {title} {year}')\n",
    "\n",
    "scraper.close()\n",
    "t1 = time.time()\n",
    "print(f'movies: {len(movie_ls)}')\n",
    "print(f'time: {(t1-t0)/60:.2f} mins')"
   ]
  },
  {
   "cell_type": "code",
   "execution_count": null,
   "metadata": {
    "scrolled": false
   },
   "outputs": [],
   "source": [
    "movie_df = PD.DataFrame(movie_ls)\n",
    "movie_df.head()\n",
    "movie_df.info()"
   ]
  },
  {
   "cell_type": "code",
   "execution_count": null,
   "metadata": {},
   "outputs": [],
   "source": [
    "save_path = r'../data/imdb_movie_data.csv'\n",
    "movie_df.to_csv(save_path, index=False)\n",
    "f'{round(os.path.getsize(save_path) /1e6, 2)} mb'"
   ]
  }
 ],
 "metadata": {
  "kernelspec": {
   "display_name": "v5-kernel",
   "language": "python",
   "name": "v5-kernel"
  },
  "language_info": {
   "codemirror_mode": {
    "name": "ipython",
    "version": 3
   },
   "file_extension": ".py",
   "mimetype": "text/x-python",
   "name": "python",
   "nbconvert_exporter": "python",
   "pygments_lexer": "ipython3",
   "version": "3.7.5"
  }
 },
 "nbformat": 4,
 "nbformat_minor": 2
}
