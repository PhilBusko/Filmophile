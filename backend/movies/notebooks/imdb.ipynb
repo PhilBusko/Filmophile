{
 "cells": [
  {
   "cell_type": "markdown",
   "metadata": {},
   "source": [
    "# IMDb Scraper\n",
    "\n",
    "Workflow: 5 \n",
    "\n",
    "Goal: Start with TMDB ids and get all data from IMDB.\n",
    "\n",
    "Result: The file ```imdb_movie.csv``` is created."
   ]
  },
  {
   "cell_type": "code",
   "execution_count": 1,
   "metadata": {},
   "outputs": [],
   "source": [
    "import os\n",
    "import time\n",
    "import pandas as PD"
   ]
  },
  {
   "cell_type": "code",
   "execution_count": 2,
   "metadata": {},
   "outputs": [],
   "source": [
    "from IPython.core.interactiveshell import InteractiveShell\n",
    "InteractiveShell.ast_node_interactivity = 'all'"
   ]
  },
  {
   "cell_type": "code",
   "execution_count": 3,
   "metadata": {},
   "outputs": [],
   "source": [
    "# can't reload script in a different folder\n",
    "\n",
    "import sys\n",
    "sys.path.append('../models')\n",
    "import imdb_scraper as MB "
   ]
  },
  {
   "cell_type": "markdown",
   "metadata": {},
   "source": [
    "## Scrape One Movie"
   ]
  },
  {
   "cell_type": "code",
   "execution_count": 4,
   "metadata": {},
   "outputs": [
    {
     "name": "stdout",
     "output_type": "stream",
     "text": [
      "<selenium.webdriver.firefox.webdriver.WebDriver (session=\"638dbf1f-c617-634d-bccf-78da2e24256d\")>\n"
     ]
    }
   ],
   "source": [
    "scraper = MB.ImdbScraper()\n",
    "scraper.open_imdb()"
   ]
  },
  {
   "cell_type": "code",
   "execution_count": 5,
   "metadata": {},
   "outputs": [],
   "source": [
    "title = 'Kaaliyan'\n",
    "year = '2017'\n",
    "# scraper.search_any(title)"
   ]
  },
  {
   "cell_type": "code",
   "execution_count": 6,
   "metadata": {
    "scrolled": false
   },
   "outputs": [],
   "source": [
    "# scraper.goto_movie_result(title, year)"
   ]
  },
  {
   "cell_type": "code",
   "execution_count": 7,
   "metadata": {
    "scrolled": false
   },
   "outputs": [],
   "source": [
    "# movie_dx = scraper.get_movie_data()\n",
    "# movie_dx"
   ]
  },
  {
   "cell_type": "code",
   "execution_count": 8,
   "metadata": {
    "scrolled": false
   },
   "outputs": [
    {
     "data": {
      "text/plain": [
       "{'imdb_id': 'tt3170504',\n",
       " 'title': 'Last Love Lost',\n",
       " 'original_title': None,\n",
       " 'year': '2015',\n",
       " 'rating': 'Not Rated',\n",
       " 'companies': None,\n",
       " 'country': None,\n",
       " 'language': None,\n",
       " 'duration': 83,\n",
       " 'directors': 'Jahmar Hill',\n",
       " 'writers': 'Jahmar Hill',\n",
       " 'actors': 'Jahmar Hill, Toni Belafonte, Talli Clemons',\n",
       " 'genres': 'Drama',\n",
       " 'synopsis': 'Antonio (Jahmar Hill) is awakened from a coma he was in for a year and a half after being shot by his father while trying to break up a domestic dispute between him and his mother. When ',\n",
       " 'budget': None,\n",
       " 'gross_us': None,\n",
       " 'gross_worldwide': None,\n",
       " 'score': '7.5',\n",
       " 'votes': '15'}"
      ]
     },
     "execution_count": 8,
     "metadata": {},
     "output_type": "execute_result"
    }
   ],
   "source": [
    "movie_dx = scraper.get_movie_by_id('tt3170504')\n",
    "movie_dx "
   ]
  },
  {
   "cell_type": "code",
   "execution_count": 9,
   "metadata": {},
   "outputs": [],
   "source": [
    "scraper.close()"
   ]
  },
  {
   "cell_type": "markdown",
   "metadata": {},
   "source": [
    "## Scrape Based on TMDB"
   ]
  },
  {
   "cell_type": "code",
   "execution_count": 14,
   "metadata": {
    "scrolled": false
   },
   "outputs": [
    {
     "data": {
      "text/html": [
       "<div>\n",
       "<style scoped>\n",
       "    .dataframe tbody tr th:only-of-type {\n",
       "        vertical-align: middle;\n",
       "    }\n",
       "\n",
       "    .dataframe tbody tr th {\n",
       "        vertical-align: top;\n",
       "    }\n",
       "\n",
       "    .dataframe thead th {\n",
       "        text-align: right;\n",
       "    }\n",
       "</style>\n",
       "<table border=\"1\" class=\"dataframe\">\n",
       "  <thead>\n",
       "    <tr style=\"text-align: right;\">\n",
       "      <th></th>\n",
       "      <th>title</th>\n",
       "      <th>original_title</th>\n",
       "      <th>year</th>\n",
       "      <th>companies</th>\n",
       "      <th>country</th>\n",
       "      <th>language</th>\n",
       "      <th>run_time</th>\n",
       "      <th>crew</th>\n",
       "      <th>cast</th>\n",
       "      <th>poster</th>\n",
       "      <th>genres</th>\n",
       "      <th>collection</th>\n",
       "      <th>synopsis</th>\n",
       "      <th>budget</th>\n",
       "      <th>gross</th>\n",
       "      <th>score</th>\n",
       "      <th>votes</th>\n",
       "      <th>tmdb_id</th>\n",
       "      <th>imdb_id</th>\n",
       "    </tr>\n",
       "  </thead>\n",
       "  <tbody>\n",
       "    <tr>\n",
       "      <th>0</th>\n",
       "      <td>1</td>\n",
       "      <td>1</td>\n",
       "      <td>2013</td>\n",
       "      <td>Exclusive Media, Flat-Out Films</td>\n",
       "      <td>United States of America</td>\n",
       "      <td>English</td>\n",
       "      <td>112</td>\n",
       "      <td>Paul Crowder, Mark Monroe, Michael Shevloff</td>\n",
       "      <td>Niki Lauda, Michael Schumacher, Lewis Hamilton</td>\n",
       "      <td>/4uIPXX8DjTsCzUAdtMKHTpojYLq.jpg</td>\n",
       "      <td>Documentary</td>\n",
       "      <td>NaN</td>\n",
       "      <td>Set in the golden era of Grand Prix Racing '1'...</td>\n",
       "      <td>NaN</td>\n",
       "      <td>NaN</td>\n",
       "      <td>7.4</td>\n",
       "      <td>59.0</td>\n",
       "      <td>217316.0</td>\n",
       "      <td>tt2518788</td>\n",
       "    </tr>\n",
       "    <tr>\n",
       "      <th>1</th>\n",
       "      <td>10,000 BC</td>\n",
       "      <td>10,000 BC</td>\n",
       "      <td>2008</td>\n",
       "      <td>Centropolis Entertainment, Legendary Entertain...</td>\n",
       "      <td>United States of America</td>\n",
       "      <td>English</td>\n",
       "      <td>109</td>\n",
       "      <td>Roland Emmerich, Sarah Bradshaw, Tom Karnowski</td>\n",
       "      <td>Steven Strait, Camilla Belle, Cliff Curtis</td>\n",
       "      <td>/rnGR3EHkL4ryhQd50XBrtRrV8nq.jpg</td>\n",
       "      <td>Adventure, Action, Drama, Fantasy</td>\n",
       "      <td>NaN</td>\n",
       "      <td>A prehistoric epic that follows a young mammot...</td>\n",
       "      <td>105000000.0</td>\n",
       "      <td>266000000.0</td>\n",
       "      <td>5.3</td>\n",
       "      <td>1766.0</td>\n",
       "      <td>7840.0</td>\n",
       "      <td>tt0443649</td>\n",
       "    </tr>\n",
       "    <tr>\n",
       "      <th>2</th>\n",
       "      <td>1000 Rupee Note</td>\n",
       "      <td>Ek Hazarachi Note</td>\n",
       "      <td>2016</td>\n",
       "      <td>NaN</td>\n",
       "      <td>India</td>\n",
       "      <td>Marathi (Marāṭhī)</td>\n",
       "      <td>89</td>\n",
       "      <td>Shrihari Sathe, Shrikant Bojewar</td>\n",
       "      <td>Sandeep Pathak</td>\n",
       "      <td>/pNNxwXAReV4kh7TCZGqBrl9I72v.jpg</td>\n",
       "      <td>Drama</td>\n",
       "      <td>NaN</td>\n",
       "      <td>Poor Parobudhi receives a thousand rupee note ...</td>\n",
       "      <td>NaN</td>\n",
       "      <td>NaN</td>\n",
       "      <td>6.9</td>\n",
       "      <td>7.0</td>\n",
       "      <td>318654.0</td>\n",
       "      <td>tt2937158</td>\n",
       "    </tr>\n",
       "    <tr>\n",
       "      <th>3</th>\n",
       "      <td>1000 To 1</td>\n",
       "      <td>1000 To 1</td>\n",
       "      <td>2014</td>\n",
       "      <td>NaN</td>\n",
       "      <td>United States of America</td>\n",
       "      <td>English</td>\n",
       "      <td>99</td>\n",
       "      <td>Michael Levine</td>\n",
       "      <td>David Henrie, Hannah Marks, Luke Kleintank</td>\n",
       "      <td>/sGKWrPbYykh6H943XQODN5N8wxi.jpg</td>\n",
       "      <td>Drama</td>\n",
       "      <td>NaN</td>\n",
       "      <td>Cory Weissman is a college basketball player w...</td>\n",
       "      <td>NaN</td>\n",
       "      <td>NaN</td>\n",
       "      <td>5.9</td>\n",
       "      <td>19.0</td>\n",
       "      <td>268245.0</td>\n",
       "      <td>tt2391950</td>\n",
       "    </tr>\n",
       "    <tr>\n",
       "      <th>4</th>\n",
       "      <td>100% arabica</td>\n",
       "      <td>100% arabica</td>\n",
       "      <td>1997</td>\n",
       "      <td>NaN</td>\n",
       "      <td>NaN</td>\n",
       "      <td>French</td>\n",
       "      <td>NaN</td>\n",
       "      <td>Mahmoud Zemmouri</td>\n",
       "      <td>NaN</td>\n",
       "      <td>/f5oXyQ1EZqb6gGlKZzxDoI161dQ.jpg</td>\n",
       "      <td>Drama</td>\n",
       "      <td>NaN</td>\n",
       "      <td>The movie takes place in a poverty-stricken, r...</td>\n",
       "      <td>NaN</td>\n",
       "      <td>NaN</td>\n",
       "      <td>6.0</td>\n",
       "      <td>1.0</td>\n",
       "      <td>99800.0</td>\n",
       "      <td>tt0156245</td>\n",
       "    </tr>\n",
       "  </tbody>\n",
       "</table>\n",
       "</div>"
      ],
      "text/plain": [
       "             title     original_title  year  \\\n",
       "0                1                  1  2013   \n",
       "1        10,000 BC          10,000 BC  2008   \n",
       "2  1000 Rupee Note  Ek Hazarachi Note  2016   \n",
       "3        1000 To 1          1000 To 1  2014   \n",
       "4     100% arabica       100% arabica  1997   \n",
       "\n",
       "                                           companies  \\\n",
       "0                    Exclusive Media, Flat-Out Films   \n",
       "1  Centropolis Entertainment, Legendary Entertain...   \n",
       "2                                                NaN   \n",
       "3                                                NaN   \n",
       "4                                                NaN   \n",
       "\n",
       "                    country           language run_time  \\\n",
       "0  United States of America            English      112   \n",
       "1  United States of America            English      109   \n",
       "2                     India  Marathi (Marāṭhī)       89   \n",
       "3  United States of America            English       99   \n",
       "4                       NaN             French      NaN   \n",
       "\n",
       "                                             crew  \\\n",
       "0     Paul Crowder, Mark Monroe, Michael Shevloff   \n",
       "1  Roland Emmerich, Sarah Bradshaw, Tom Karnowski   \n",
       "2                Shrihari Sathe, Shrikant Bojewar   \n",
       "3                                  Michael Levine   \n",
       "4                                Mahmoud Zemmouri   \n",
       "\n",
       "                                             cast  \\\n",
       "0  Niki Lauda, Michael Schumacher, Lewis Hamilton   \n",
       "1      Steven Strait, Camilla Belle, Cliff Curtis   \n",
       "2                                  Sandeep Pathak   \n",
       "3      David Henrie, Hannah Marks, Luke Kleintank   \n",
       "4                                             NaN   \n",
       "\n",
       "                             poster                             genres  \\\n",
       "0  /4uIPXX8DjTsCzUAdtMKHTpojYLq.jpg                        Documentary   \n",
       "1  /rnGR3EHkL4ryhQd50XBrtRrV8nq.jpg  Adventure, Action, Drama, Fantasy   \n",
       "2  /pNNxwXAReV4kh7TCZGqBrl9I72v.jpg                              Drama   \n",
       "3  /sGKWrPbYykh6H943XQODN5N8wxi.jpg                              Drama   \n",
       "4  /f5oXyQ1EZqb6gGlKZzxDoI161dQ.jpg                              Drama   \n",
       "\n",
       "  collection                                           synopsis       budget  \\\n",
       "0        NaN  Set in the golden era of Grand Prix Racing '1'...          NaN   \n",
       "1        NaN  A prehistoric epic that follows a young mammot...  105000000.0   \n",
       "2        NaN  Poor Parobudhi receives a thousand rupee note ...          NaN   \n",
       "3        NaN  Cory Weissman is a college basketball player w...          NaN   \n",
       "4        NaN  The movie takes place in a poverty-stricken, r...          NaN   \n",
       "\n",
       "         gross  score   votes   tmdb_id    imdb_id  \n",
       "0          NaN    7.4    59.0  217316.0  tt2518788  \n",
       "1  266000000.0    5.3  1766.0    7840.0  tt0443649  \n",
       "2          NaN    6.9     7.0  318654.0  tt2937158  \n",
       "3          NaN    5.9    19.0  268245.0  tt2391950  \n",
       "4          NaN    6.0     1.0   99800.0  tt0156245  "
      ]
     },
     "execution_count": 14,
     "metadata": {},
     "output_type": "execute_result"
    },
    {
     "name": "stdout",
     "output_type": "stream",
     "text": [
      "<class 'pandas.core.frame.DataFrame'>\n",
      "RangeIndex: 197766 entries, 0 to 197765\n",
      "Data columns (total 19 columns):\n",
      "title             197766 non-null object\n",
      "original_title    33925 non-null object\n",
      "year              33925 non-null object\n",
      "companies         11603 non-null object\n",
      "country           13587 non-null object\n",
      "language          33925 non-null object\n",
      "run_time          32765 non-null object\n",
      "crew              32977 non-null object\n",
      "cast              16017 non-null object\n",
      "poster            33553 non-null object\n",
      "genres            16124 non-null object\n",
      "collection        1189 non-null object\n",
      "synopsis          33794 non-null object\n",
      "budget            2865 non-null float64\n",
      "gross             1910 non-null float64\n",
      "score             17683 non-null float64\n",
      "votes             17683 non-null float64\n",
      "tmdb_id           17683 non-null float64\n",
      "imdb_id           17471 non-null object\n",
      "dtypes: float64(5), object(14)\n",
      "memory usage: 28.7+ MB\n"
     ]
    }
   ],
   "source": [
    "INDEX_FILE = '../data/moviedb_movie.csv'\n",
    "index_df = PD.read_csv(INDEX_FILE, dtype={'title': str, 'year': str})\n",
    "index_df.head(3)\n",
    "index_df.info()"
   ]
  },
  {
   "cell_type": "code",
   "execution_count": 16,
   "metadata": {},
   "outputs": [
    {
     "data": {
      "text/plain": [
       "(17675, 19)"
      ]
     },
     "execution_count": 16,
     "metadata": {},
     "output_type": "execute_result"
    }
   ],
   "source": [
    "# not sure why pandas is creating all these duplicates\n",
    "\n",
    "doop_df = index_df.duplicated()\n",
    "doop_df.shape"
   ]
  },
  {
   "cell_type": "code",
   "execution_count": 11,
   "metadata": {},
   "outputs": [
    {
     "ename": "SyntaxError",
     "evalue": "invalid syntax (<ipython-input-11-119553be072d>, line 3)",
     "output_type": "error",
     "traceback": [
      "\u001b[0;36m  File \u001b[0;32m\"<ipython-input-11-119553be072d>\"\u001b[0;36m, line \u001b[0;32m3\u001b[0m\n\u001b[0;31m    index_1_ df = index_df[0:5359]\u001b[0m\n\u001b[0m              ^\u001b[0m\n\u001b[0;31mSyntaxError\u001b[0m\u001b[0;31m:\u001b[0m invalid syntax\n"
     ]
    }
   ],
   "source": [
    "# create jobs\n",
    "\n",
    "index_1_ df = index_df[0:5349]\n",
    "index_2_df = index_df[5350:9999]\n",
    "index_3_df = index_df[10000:13999]\n",
    "index_4_df = index_df[14000:]\n",
    "\n",
    "index_1_df.shape\n",
    "index_2_df.shape\n",
    "index_3_df.shape\n",
    "index_4_df.shape"
   ]
  },
  {
   "cell_type": "code",
   "execution_count": null,
   "metadata": {},
   "outputs": [],
   "source": []
  },
  {
   "cell_type": "code",
   "execution_count": null,
   "metadata": {},
   "outputs": [],
   "source": [
    "# investigate errors\n",
    "\n",
    "error_titles = ['13 Times Evil', 'There Is a New World Somewhere', 'The Scarlet and the Black', 'The Sleeping Tiger', \n",
    "                'The Untold Story', 'Zombiegeddon', 'To Love The Soul Of A Woman', 'Tree Man']\n",
    "index_df.loc[index_df['title'].isin(error_titles)][['title', 'year', 'imdb_id']]"
   ]
  },
  {
   "cell_type": "code",
   "execution_count": null,
   "metadata": {},
   "outputs": [],
   "source": [
    "#index_df.tail(20)['title']"
   ]
  },
  {
   "cell_type": "code",
   "execution_count": null,
   "metadata": {
    "scrolled": true
   },
   "outputs": [],
   "source": [
    "scraper = MB.ImdbScraper()\n",
    "scraper.open_imdb()\n",
    "movie_ls = []\n",
    "t0 = time.time()\n",
    "\n",
    "for idx, row in index_2_df.iterrows():\n",
    "    title = row['title']\n",
    "    year = row['year']\n",
    "    imdb_id = row['imdb_id']\n",
    "    movie_dx = None\n",
    "\n",
    "    try:\n",
    "        movie_dx = scraper.get_movie_by_id(imdb_id)\n",
    "    except Exception as ex:\n",
    "        print('')\n",
    "        print(f'Error 1: {title} {year} {imdb_id}')\n",
    "        print(ex)\n",
    "\n",
    "    if not movie_dx:\n",
    "        try:\n",
    "            scraper.open_imdb()\n",
    "            scraper.search_any(title)\n",
    "            found = scraper.goto_movie_result(title, year)\n",
    "            if found:\n",
    "                print(f'found by title: {title} {year} {imdb_id}')\n",
    "                movie_dx = scraper.get_movie_data()\n",
    "            else:\n",
    "                print(f'NOT found by title: {title} {year}')\n",
    "        except Exception as ex:\n",
    "            print(f'Error 2: {title} {year} {imdb_id}')\n",
    "            print(ex)\n",
    "\n",
    "    if movie_dx:\n",
    "        movie_ls.append(movie_dx)\n",
    "\n",
    "scraper.close()\n",
    "t1 = time.time()\n",
    "print(f'movies: {len(movie_ls)}')\n",
    "print(f'time: {(t1-t0)/60:.2f} mins')"
   ]
  },
  {
   "cell_type": "code",
   "execution_count": null,
   "metadata": {},
   "outputs": [],
   "source": [
    "# projected time\n",
    "\n",
    "print(f'projected time: {(t1-t0)/60/60*18450/index_df.shape[0]:.2f} hrs')"
   ]
  },
  {
   "cell_type": "markdown",
   "metadata": {},
   "source": [
    "## Output To CSV"
   ]
  },
  {
   "cell_type": "code",
   "execution_count": null,
   "metadata": {
    "scrolled": false
   },
   "outputs": [],
   "source": [
    "movie_df = PD.DataFrame(movie_ls)\n",
    "movie_df[10:15]\n",
    "movie_df.info()"
   ]
  },
  {
   "cell_type": "code",
   "execution_count": null,
   "metadata": {},
   "outputs": [],
   "source": [
    "save_path = r'../data/imdb_mov_2.csv'\n",
    "movie_df.to_csv(save_path, index=False)\n",
    "f'{round(os.path.getsize(save_path) /1e6, 2)} mb'"
   ]
  },
  {
   "cell_type": "code",
   "execution_count": 20,
   "metadata": {},
   "outputs": [
    {
     "data": {
      "text/html": [
       "<div>\n",
       "<style scoped>\n",
       "    .dataframe tbody tr th:only-of-type {\n",
       "        vertical-align: middle;\n",
       "    }\n",
       "\n",
       "    .dataframe tbody tr th {\n",
       "        vertical-align: top;\n",
       "    }\n",
       "\n",
       "    .dataframe thead th {\n",
       "        text-align: right;\n",
       "    }\n",
       "</style>\n",
       "<table border=\"1\" class=\"dataframe\">\n",
       "  <thead>\n",
       "    <tr style=\"text-align: right;\">\n",
       "      <th></th>\n",
       "      <th>imdb_id</th>\n",
       "      <th>title</th>\n",
       "      <th>original_title</th>\n",
       "      <th>year</th>\n",
       "      <th>rating</th>\n",
       "      <th>companies</th>\n",
       "      <th>country</th>\n",
       "      <th>language</th>\n",
       "      <th>duration</th>\n",
       "      <th>directors</th>\n",
       "      <th>writers</th>\n",
       "      <th>actors</th>\n",
       "      <th>genres</th>\n",
       "      <th>synopsis</th>\n",
       "      <th>budget</th>\n",
       "      <th>gross_us</th>\n",
       "      <th>gross_worldwide</th>\n",
       "      <th>score</th>\n",
       "      <th>votes</th>\n",
       "    </tr>\n",
       "  </thead>\n",
       "  <tbody>\n",
       "    <tr>\n",
       "      <th>0</th>\n",
       "      <td>tt2518788</td>\n",
       "      <td>1</td>\n",
       "      <td>NaN</td>\n",
       "      <td>2013</td>\n",
       "      <td>Not Rated</td>\n",
       "      <td>Diamond Docs, Exclusive Media Group</td>\n",
       "      <td>USA</td>\n",
       "      <td>English</td>\n",
       "      <td>112.0</td>\n",
       "      <td>Paul Crowder</td>\n",
       "      <td>Mark Monroe</td>\n",
       "      <td>Michael Fassbender, Niki Lauda, Lewis Hamilton</td>\n",
       "      <td>Documentary, History, Sport</td>\n",
       "      <td>Set in the golden era of Grand Prix Racing '1'...</td>\n",
       "      <td>NaN</td>\n",
       "      <td>NaN</td>\n",
       "      <td>NaN</td>\n",
       "      <td>8.0</td>\n",
       "      <td>3535.0</td>\n",
       "    </tr>\n",
       "    <tr>\n",
       "      <th>1</th>\n",
       "      <td>tt0443649</td>\n",
       "      <td>10,000 BC</td>\n",
       "      <td>NaN</td>\n",
       "      <td>2008</td>\n",
       "      <td>PG-13</td>\n",
       "      <td>Warner Bros., Legendary Entertainment</td>\n",
       "      <td>USA</td>\n",
       "      <td>English</td>\n",
       "      <td>109.0</td>\n",
       "      <td>Roland Emmerich</td>\n",
       "      <td>Roland Emmerich, Harald Kloser</td>\n",
       "      <td>Camilla Belle, Steven Strait, Marco Khan</td>\n",
       "      <td>Action, Adventure, Drama</td>\n",
       "      <td>In the prehistoric past, D'Leh is a mammoth hu...</td>\n",
       "      <td>105000000</td>\n",
       "      <td>94784201.0</td>\n",
       "      <td>269784201</td>\n",
       "      <td>5.1</td>\n",
       "      <td>121431.0</td>\n",
       "    </tr>\n",
       "    <tr>\n",
       "      <th>2</th>\n",
       "      <td>tt2937158</td>\n",
       "      <td>Ek Hazarachi Note</td>\n",
       "      <td>NaN</td>\n",
       "      <td>2014</td>\n",
       "      <td>Not Rated</td>\n",
       "      <td>Infinitum Productions</td>\n",
       "      <td>India</td>\n",
       "      <td>Marathi</td>\n",
       "      <td>89.0</td>\n",
       "      <td>Shrihari Sathe</td>\n",
       "      <td>Shrikant Bojewar</td>\n",
       "      <td>Devendra Gaikwad, Usha Naik, Pooja Nayak</td>\n",
       "      <td>Drama</td>\n",
       "      <td>In this exploration of money and conscience, a...</td>\n",
       "      <td>NaN</td>\n",
       "      <td>2404.0</td>\n",
       "      <td>2404</td>\n",
       "      <td>7.3</td>\n",
       "      <td>309.0</td>\n",
       "    </tr>\n",
       "  </tbody>\n",
       "</table>\n",
       "</div>"
      ],
      "text/plain": [
       "     imdb_id              title original_title  year     rating  \\\n",
       "0  tt2518788                  1            NaN  2013  Not Rated   \n",
       "1  tt0443649          10,000 BC            NaN  2008      PG-13   \n",
       "2  tt2937158  Ek Hazarachi Note            NaN  2014  Not Rated   \n",
       "\n",
       "                               companies country language  duration  \\\n",
       "0    Diamond Docs, Exclusive Media Group     USA  English     112.0   \n",
       "1  Warner Bros., Legendary Entertainment     USA  English     109.0   \n",
       "2                  Infinitum Productions   India  Marathi      89.0   \n",
       "\n",
       "         directors                         writers  \\\n",
       "0     Paul Crowder                     Mark Monroe   \n",
       "1  Roland Emmerich  Roland Emmerich, Harald Kloser   \n",
       "2   Shrihari Sathe                Shrikant Bojewar   \n",
       "\n",
       "                                           actors  \\\n",
       "0  Michael Fassbender, Niki Lauda, Lewis Hamilton   \n",
       "1        Camilla Belle, Steven Strait, Marco Khan   \n",
       "2        Devendra Gaikwad, Usha Naik, Pooja Nayak   \n",
       "\n",
       "                        genres  \\\n",
       "0  Documentary, History, Sport   \n",
       "1     Action, Adventure, Drama   \n",
       "2                        Drama   \n",
       "\n",
       "                                            synopsis     budget    gross_us  \\\n",
       "0  Set in the golden era of Grand Prix Racing '1'...        NaN         NaN   \n",
       "1  In the prehistoric past, D'Leh is a mammoth hu...  105000000  94784201.0   \n",
       "2  In this exploration of money and conscience, a...        NaN      2404.0   \n",
       "\n",
       "  gross_worldwide  score     votes  \n",
       "0             NaN    8.0    3535.0  \n",
       "1       269784201    5.1  121431.0  \n",
       "2            2404    7.3     309.0  "
      ]
     },
     "execution_count": 20,
     "metadata": {},
     "output_type": "execute_result"
    },
    {
     "data": {
      "text/plain": [
       "(5364, 19)"
      ]
     },
     "execution_count": 20,
     "metadata": {},
     "output_type": "execute_result"
    }
   ],
   "source": [
    "# duplicates in output file ?\n",
    "\n",
    "test_1_df = PD.read_csv('../data/imdb_mov_1.csv')\n",
    "test_1_df.head(3)\n",
    "test_1_df.shape"
   ]
  },
  {
   "cell_type": "code",
   "execution_count": 21,
   "metadata": {},
   "outputs": [
    {
     "data": {
      "text/plain": [
       "(5358, 19)"
      ]
     },
     "execution_count": 21,
     "metadata": {},
     "output_type": "execute_result"
    }
   ],
   "source": [
    "test_1_df = test_1_df.drop_duplicates()\n",
    "test_1_df.shape"
   ]
  },
  {
   "cell_type": "code",
   "execution_count": null,
   "metadata": {},
   "outputs": [],
   "source": []
  }
 ],
 "metadata": {
  "kernelspec": {
   "display_name": "v5-kernel",
   "language": "python",
   "name": "v5-kernel"
  },
  "language_info": {
   "codemirror_mode": {
    "name": "ipython",
    "version": 3
   },
   "file_extension": ".py",
   "mimetype": "text/x-python",
   "name": "python",
   "nbconvert_exporter": "python",
   "pygments_lexer": "ipython3",
   "version": "3.7.5"
  }
 },
 "nbformat": 4,
 "nbformat_minor": 2
}
