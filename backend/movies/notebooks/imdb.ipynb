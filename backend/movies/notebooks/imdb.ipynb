{
 "cells": [
  {
   "cell_type": "markdown",
   "metadata": {},
   "source": [
    "# IMDb Scraper\n",
    "\n",
    "Workflow: 5 \n",
    "\n",
    "Goal: Start with TMDB ids and get all data from IMDB.\n",
    "\n",
    "Result: The file ```imdb_movie.csv``` is created."
   ]
  },
  {
   "cell_type": "code",
   "execution_count": 1,
   "metadata": {},
   "outputs": [],
   "source": [
    "import os\n",
    "import time\n",
    "import pandas as PD"
   ]
  },
  {
   "cell_type": "code",
   "execution_count": 2,
   "metadata": {},
   "outputs": [],
   "source": [
    "from IPython.core.interactiveshell import InteractiveShell\n",
    "InteractiveShell.ast_node_interactivity = 'all'"
   ]
  },
  {
   "cell_type": "code",
   "execution_count": 3,
   "metadata": {},
   "outputs": [],
   "source": [
    "# can't reload script in a different folder\n",
    "\n",
    "import sys\n",
    "sys.path.append('../models')\n",
    "import imdb_scraper as MB "
   ]
  },
  {
   "cell_type": "markdown",
   "metadata": {},
   "source": [
    "## Scrape One Movie"
   ]
  },
  {
   "cell_type": "code",
   "execution_count": 4,
   "metadata": {},
   "outputs": [
    {
     "name": "stdout",
     "output_type": "stream",
     "text": [
      "<selenium.webdriver.firefox.webdriver.WebDriver (session=\"26ffc363-d55e-1a4a-a5bb-d5399154025c\")>\n"
     ]
    }
   ],
   "source": [
    "scraper = MB.ImdbScraper()\n",
    "scraper.open_imdb()"
   ]
  },
  {
   "cell_type": "code",
   "execution_count": 5,
   "metadata": {},
   "outputs": [],
   "source": [
    "title = 'Kaaliyan'\n",
    "year = '2017'\n",
    "# scraper.search_any(title)"
   ]
  },
  {
   "cell_type": "code",
   "execution_count": 6,
   "metadata": {
    "scrolled": false
   },
   "outputs": [],
   "source": [
    "# scraper.goto_movie_result(title, year)"
   ]
  },
  {
   "cell_type": "code",
   "execution_count": 7,
   "metadata": {
    "scrolled": false
   },
   "outputs": [],
   "source": [
    "# movie_dx = scraper.get_movie_data()\n",
    "# movie_dx"
   ]
  },
  {
   "cell_type": "code",
   "execution_count": 8,
   "metadata": {
    "scrolled": false
   },
   "outputs": [
    {
     "data": {
      "text/plain": [
       "{'imdb_id': 'tt3170504',\n",
       " 'title': 'Last Love Lost',\n",
       " 'original_title': None,\n",
       " 'year': '2015',\n",
       " 'rating': 'Not Rated',\n",
       " 'companies': None,\n",
       " 'country': None,\n",
       " 'language': None,\n",
       " 'duration': 83,\n",
       " 'directors': 'Jahmar Hill',\n",
       " 'writers': 'Jahmar Hill',\n",
       " 'actors': 'Jahmar Hill, Toni Belafonte, Talli Clemons',\n",
       " 'genres': 'Drama',\n",
       " 'synopsis': 'Antonio (Jahmar Hill) is awakened from a coma he was in for a year and a half after being shot by his father while trying to break up a domestic dispute between him and his mother. When ',\n",
       " 'budget': None,\n",
       " 'gross_us': None,\n",
       " 'gross_worldwide': None,\n",
       " 'score': '7.5',\n",
       " 'votes': '15'}"
      ]
     },
     "execution_count": 8,
     "metadata": {},
     "output_type": "execute_result"
    }
   ],
   "source": [
    "movie_dx = scraper.get_movie_by_id('tt3170504')\n",
    "movie_dx "
   ]
  },
  {
   "cell_type": "code",
   "execution_count": 9,
   "metadata": {},
   "outputs": [],
   "source": [
    "scraper.close()"
   ]
  },
  {
   "cell_type": "markdown",
   "metadata": {},
   "source": [
    "## Scrape Based on TMDB"
   ]
  },
  {
   "cell_type": "code",
   "execution_count": 10,
   "metadata": {
    "scrolled": false
   },
   "outputs": [
    {
     "data": {
      "text/html": [
       "<div>\n",
       "<style scoped>\n",
       "    .dataframe tbody tr th:only-of-type {\n",
       "        vertical-align: middle;\n",
       "    }\n",
       "\n",
       "    .dataframe tbody tr th {\n",
       "        vertical-align: top;\n",
       "    }\n",
       "\n",
       "    .dataframe thead th {\n",
       "        text-align: right;\n",
       "    }\n",
       "</style>\n",
       "<table border=\"1\" class=\"dataframe\">\n",
       "  <thead>\n",
       "    <tr style=\"text-align: right;\">\n",
       "      <th></th>\n",
       "      <th>title</th>\n",
       "      <th>original_title</th>\n",
       "      <th>year</th>\n",
       "      <th>companies</th>\n",
       "      <th>country</th>\n",
       "      <th>language</th>\n",
       "      <th>run_time</th>\n",
       "      <th>crew</th>\n",
       "      <th>cast</th>\n",
       "      <th>poster</th>\n",
       "      <th>genres</th>\n",
       "      <th>collection</th>\n",
       "      <th>synopsis</th>\n",
       "      <th>budget</th>\n",
       "      <th>gross</th>\n",
       "      <th>score</th>\n",
       "      <th>votes</th>\n",
       "      <th>tmdb_id</th>\n",
       "      <th>imdb_id</th>\n",
       "    </tr>\n",
       "  </thead>\n",
       "  <tbody>\n",
       "    <tr>\n",
       "      <th>0</th>\n",
       "      <td>1</td>\n",
       "      <td>1</td>\n",
       "      <td>2013</td>\n",
       "      <td>Exclusive Media, Flat-Out Films</td>\n",
       "      <td>United States of America</td>\n",
       "      <td>English</td>\n",
       "      <td>112.0</td>\n",
       "      <td>Paul Crowder, Mark Monroe, Michael Shevloff</td>\n",
       "      <td>Niki Lauda, Michael Schumacher, Lewis Hamilton</td>\n",
       "      <td>/4uIPXX8DjTsCzUAdtMKHTpojYLq.jpg</td>\n",
       "      <td>Documentary</td>\n",
       "      <td>NaN</td>\n",
       "      <td>Set in the golden era of Grand Prix Racing '1'...</td>\n",
       "      <td>NaN</td>\n",
       "      <td>NaN</td>\n",
       "      <td>7.4</td>\n",
       "      <td>59</td>\n",
       "      <td>217316</td>\n",
       "      <td>tt2518788</td>\n",
       "    </tr>\n",
       "    <tr>\n",
       "      <th>1</th>\n",
       "      <td>10,000 BC</td>\n",
       "      <td>10,000 BC</td>\n",
       "      <td>2008</td>\n",
       "      <td>Centropolis Entertainment, Legendary Entertain...</td>\n",
       "      <td>United States of America</td>\n",
       "      <td>English</td>\n",
       "      <td>109.0</td>\n",
       "      <td>Roland Emmerich, Sarah Bradshaw, Tom Karnowski</td>\n",
       "      <td>Steven Strait, Camilla Belle, Cliff Curtis</td>\n",
       "      <td>/rnGR3EHkL4ryhQd50XBrtRrV8nq.jpg</td>\n",
       "      <td>Adventure, Action, Drama, Fantasy</td>\n",
       "      <td>NaN</td>\n",
       "      <td>A prehistoric epic that follows a young mammot...</td>\n",
       "      <td>105000000.0</td>\n",
       "      <td>266000000.0</td>\n",
       "      <td>5.3</td>\n",
       "      <td>1766</td>\n",
       "      <td>7840</td>\n",
       "      <td>tt0443649</td>\n",
       "    </tr>\n",
       "    <tr>\n",
       "      <th>2</th>\n",
       "      <td>1000 Rupee Note</td>\n",
       "      <td>Ek Hazarachi Note</td>\n",
       "      <td>2016</td>\n",
       "      <td>NaN</td>\n",
       "      <td>India</td>\n",
       "      <td>Marathi (Marāṭhī)</td>\n",
       "      <td>89.0</td>\n",
       "      <td>Shrihari Sathe, Shrikant Bojewar</td>\n",
       "      <td>Sandeep Pathak</td>\n",
       "      <td>/pNNxwXAReV4kh7TCZGqBrl9I72v.jpg</td>\n",
       "      <td>Drama</td>\n",
       "      <td>NaN</td>\n",
       "      <td>Poor Parobudhi receives a thousand rupee note ...</td>\n",
       "      <td>NaN</td>\n",
       "      <td>NaN</td>\n",
       "      <td>6.9</td>\n",
       "      <td>7</td>\n",
       "      <td>318654</td>\n",
       "      <td>tt2937158</td>\n",
       "    </tr>\n",
       "  </tbody>\n",
       "</table>\n",
       "</div>"
      ],
      "text/plain": [
       "             title     original_title  year  \\\n",
       "0                1                  1  2013   \n",
       "1        10,000 BC          10,000 BC  2008   \n",
       "2  1000 Rupee Note  Ek Hazarachi Note  2016   \n",
       "\n",
       "                                           companies  \\\n",
       "0                    Exclusive Media, Flat-Out Films   \n",
       "1  Centropolis Entertainment, Legendary Entertain...   \n",
       "2                                                NaN   \n",
       "\n",
       "                    country           language  run_time  \\\n",
       "0  United States of America            English     112.0   \n",
       "1  United States of America            English     109.0   \n",
       "2                     India  Marathi (Marāṭhī)      89.0   \n",
       "\n",
       "                                             crew  \\\n",
       "0     Paul Crowder, Mark Monroe, Michael Shevloff   \n",
       "1  Roland Emmerich, Sarah Bradshaw, Tom Karnowski   \n",
       "2                Shrihari Sathe, Shrikant Bojewar   \n",
       "\n",
       "                                             cast  \\\n",
       "0  Niki Lauda, Michael Schumacher, Lewis Hamilton   \n",
       "1      Steven Strait, Camilla Belle, Cliff Curtis   \n",
       "2                                  Sandeep Pathak   \n",
       "\n",
       "                             poster                             genres  \\\n",
       "0  /4uIPXX8DjTsCzUAdtMKHTpojYLq.jpg                        Documentary   \n",
       "1  /rnGR3EHkL4ryhQd50XBrtRrV8nq.jpg  Adventure, Action, Drama, Fantasy   \n",
       "2  /pNNxwXAReV4kh7TCZGqBrl9I72v.jpg                              Drama   \n",
       "\n",
       "  collection                                           synopsis       budget  \\\n",
       "0        NaN  Set in the golden era of Grand Prix Racing '1'...          NaN   \n",
       "1        NaN  A prehistoric epic that follows a young mammot...  105000000.0   \n",
       "2        NaN  Poor Parobudhi receives a thousand rupee note ...          NaN   \n",
       "\n",
       "         gross  score  votes  tmdb_id    imdb_id  \n",
       "0          NaN    7.4     59   217316  tt2518788  \n",
       "1  266000000.0    5.3   1766     7840  tt0443649  \n",
       "2          NaN    6.9      7   318654  tt2937158  "
      ]
     },
     "execution_count": 10,
     "metadata": {},
     "output_type": "execute_result"
    },
    {
     "name": "stdout",
     "output_type": "stream",
     "text": [
      "<class 'pandas.core.frame.DataFrame'>\n",
      "RangeIndex: 17668 entries, 0 to 17667\n",
      "Data columns (total 19 columns):\n",
      "title             17668 non-null object\n",
      "original_title    17668 non-null object\n",
      "year              17668 non-null object\n",
      "companies         11589 non-null object\n",
      "country           13571 non-null object\n",
      "language          17667 non-null object\n",
      "run_time          16507 non-null float64\n",
      "crew              16720 non-null object\n",
      "cast              16002 non-null object\n",
      "poster            17296 non-null object\n",
      "genres            16109 non-null object\n",
      "collection        1189 non-null object\n",
      "synopsis          17537 non-null object\n",
      "budget            2863 non-null float64\n",
      "gross             1908 non-null float64\n",
      "score             17668 non-null float64\n",
      "votes             17668 non-null int64\n",
      "tmdb_id           17668 non-null int64\n",
      "imdb_id           17456 non-null object\n",
      "dtypes: float64(4), int64(2), object(13)\n",
      "memory usage: 2.6+ MB\n"
     ]
    }
   ],
   "source": [
    "INDEX_FILE = '../data/moviedb_movie.csv'\n",
    "index_df = PD.read_csv(INDEX_FILE, dtype={'title': str, 'year': str})\n",
    "index_df.head(3)\n",
    "index_df.info()"
   ]
  },
  {
   "cell_type": "code",
   "execution_count": 11,
   "metadata": {},
   "outputs": [
    {
     "data": {
      "text/plain": [
       "(5349, 19)"
      ]
     },
     "execution_count": 11,
     "metadata": {},
     "output_type": "execute_result"
    },
    {
     "data": {
      "text/plain": [
       "(4649, 19)"
      ]
     },
     "execution_count": 11,
     "metadata": {},
     "output_type": "execute_result"
    },
    {
     "data": {
      "text/plain": [
       "(3999, 19)"
      ]
     },
     "execution_count": 11,
     "metadata": {},
     "output_type": "execute_result"
    },
    {
     "data": {
      "text/plain": [
       "(3668, 19)"
      ]
     },
     "execution_count": 11,
     "metadata": {},
     "output_type": "execute_result"
    }
   ],
   "source": [
    "# create jobs\n",
    "\n",
    "index_1_df = index_df[0:5349]\n",
    "index_2_df = index_df[5350:9999]\n",
    "index_3_df = index_df[10000:13999]\n",
    "index_4_df = index_df[14000:]\n",
    "\n",
    "index_1_df.shape\n",
    "index_2_df.shape\n",
    "index_3_df.shape\n",
    "index_4_df.shape"
   ]
  },
  {
   "cell_type": "code",
   "execution_count": 12,
   "metadata": {},
   "outputs": [
    {
     "data": {
      "text/html": [
       "<div>\n",
       "<style scoped>\n",
       "    .dataframe tbody tr th:only-of-type {\n",
       "        vertical-align: middle;\n",
       "    }\n",
       "\n",
       "    .dataframe tbody tr th {\n",
       "        vertical-align: top;\n",
       "    }\n",
       "\n",
       "    .dataframe thead th {\n",
       "        text-align: right;\n",
       "    }\n",
       "</style>\n",
       "<table border=\"1\" class=\"dataframe\">\n",
       "  <thead>\n",
       "    <tr style=\"text-align: right;\">\n",
       "      <th></th>\n",
       "      <th>title</th>\n",
       "      <th>year</th>\n",
       "      <th>imdb_id</th>\n",
       "    </tr>\n",
       "  </thead>\n",
       "  <tbody>\n",
       "    <tr>\n",
       "      <th>56</th>\n",
       "      <td>13 Times Evil</td>\n",
       "      <td>2016</td>\n",
       "      <td>NaN</td>\n",
       "    </tr>\n",
       "    <tr>\n",
       "      <th>15415</th>\n",
       "      <td>There Is a New World Somewhere</td>\n",
       "      <td>2015</td>\n",
       "      <td>tt3281502</td>\n",
       "    </tr>\n",
       "    <tr>\n",
       "      <th>15524</th>\n",
       "      <td>The Scarlet and the Black</td>\n",
       "      <td>1983</td>\n",
       "      <td>tt0086251</td>\n",
       "    </tr>\n",
       "    <tr>\n",
       "      <th>15634</th>\n",
       "      <td>The Sleeping Tiger</td>\n",
       "      <td>1954</td>\n",
       "      <td>tt0047505</td>\n",
       "    </tr>\n",
       "    <tr>\n",
       "      <th>15910</th>\n",
       "      <td>The Untold Story</td>\n",
       "      <td>1993</td>\n",
       "      <td>tt0103743</td>\n",
       "    </tr>\n",
       "    <tr>\n",
       "      <th>16288</th>\n",
       "      <td>To Love The Soul Of A Woman</td>\n",
       "      <td>2017</td>\n",
       "      <td>NaN</td>\n",
       "    </tr>\n",
       "    <tr>\n",
       "      <th>16452</th>\n",
       "      <td>Tree Man</td>\n",
       "      <td>2016</td>\n",
       "      <td>tt3246684</td>\n",
       "    </tr>\n",
       "    <tr>\n",
       "      <th>17642</th>\n",
       "      <td>Zombiegeddon</td>\n",
       "      <td>2003</td>\n",
       "      <td>tt0316946</td>\n",
       "    </tr>\n",
       "  </tbody>\n",
       "</table>\n",
       "</div>"
      ],
      "text/plain": [
       "                                title  year    imdb_id\n",
       "56                      13 Times Evil  2016        NaN\n",
       "15415  There Is a New World Somewhere  2015  tt3281502\n",
       "15524       The Scarlet and the Black  1983  tt0086251\n",
       "15634              The Sleeping Tiger  1954  tt0047505\n",
       "15910                The Untold Story  1993  tt0103743\n",
       "16288     To Love The Soul Of A Woman  2017        NaN\n",
       "16452                        Tree Man  2016  tt3246684\n",
       "17642                    Zombiegeddon  2003  tt0316946"
      ]
     },
     "execution_count": 12,
     "metadata": {},
     "output_type": "execute_result"
    }
   ],
   "source": [
    "# investigate errors\n",
    "\n",
    "error_titles = ['13 Times Evil', 'There Is a New World Somewhere', 'The Scarlet and the Black', 'The Sleeping Tiger', \n",
    "                'The Untold Story', 'Zombiegeddon', 'To Love The Soul Of A Woman', 'Tree Man']\n",
    "index_df.loc[index_df['title'].isin(error_titles)][['title', 'year', 'imdb_id']]"
   ]
  },
  {
   "cell_type": "code",
   "execution_count": 13,
   "metadata": {},
   "outputs": [],
   "source": [
    "#index_df.tail(20)['title']"
   ]
  },
  {
   "cell_type": "code",
   "execution_count": 14,
   "metadata": {
    "scrolled": true
   },
   "outputs": [
    {
     "name": "stdout",
     "output_type": "stream",
     "text": [
      "<selenium.webdriver.firefox.webdriver.WebDriver (session=\"28eef395-5ff2-2741-82ca-edbccd4ee2c6\")>\n",
      "\n",
      "Error 1: The Fairies: Fairy Beach 2007 nan\n",
      "Message: Unable to locate element: .title_wrapper\n",
      "\n",
      "found by title: The Fairies: Fairy Beach 2007 nan\n",
      "\n",
      "Error 1: The Fence (La Barda) 2010 tt1853700\n",
      "get_movie_data(): title error: tt1853700\n",
      "NOT found by title: The Fence (La Barda) 2010\n",
      "\n",
      "Error 1: The GiggleBellies Sweet Songs & Lullabies 2013 nan\n",
      "Message: Unable to locate element: .title_wrapper\n",
      "\n",
      "Error 2: The GiggleBellies Sweet Songs & Lullabies 2013 nan\n",
      "Message: Unable to locate element: //*[h3/text()=\"Titles\"]\n",
      "\n",
      "\n",
      "Error 1: The Gray Seasons 2013 nan\n",
      "Message: Unable to locate element: .title_wrapper\n",
      "\n",
      "NOT found by title: The Gray Seasons 2013\n",
      "\n",
      "Error 1: The Great Buddha+ 2017 tt7010412\n",
      "get_movie_data(): title error: tt7010412\n",
      "NOT found by title: The Great Buddha+ 2017\n",
      "\n",
      "Error 1: The Green Planet 2012 nan\n",
      "Message: Unable to locate element: .title_wrapper\n",
      "\n",
      "found by title: The Green Planet 2012 nan\n",
      "\n",
      "Error 1: The Gut: Our Second Brain 2013 nan\n",
      "Message: Unable to locate element: .title_wrapper\n",
      "\n",
      "found by title: The Gut: Our Second Brain 2013 nan\n",
      "\n",
      "Error 1: The Heat: A Kitchen (R)evolution 2018 tt8663942\n",
      "get_movie_data(): title error: tt8663942\n",
      "NOT found by title: The Heat: A Kitchen (R)evolution 2018\n",
      "\n",
      "Error 1: The Iceman Tapes: Conversations with a Killer 1992 tt0874289\n",
      "get_movie_data(): title error: tt0874289\n",
      "NOT found by title: The Iceman Tapes: Conversations with a Killer 1992\n",
      "\n",
      "Error 1: The Impossible Spy 1987 tt0093248\n",
      "get_movie_data(): title error: tt0093248\n",
      "NOT found by title: The Impossible Spy 1987\n",
      "\n",
      "Error 1: The Independent Game 2014 nan\n",
      "Message: Unable to locate element: .title_wrapper\n",
      "\n",
      "NOT found by title: The Independent Game 2014\n",
      "\n",
      "Error 1: The Killing$ of Tony Blair 2016 tt3489996\n",
      "get_movie_data(): title error: tt3489996\n",
      "NOT found by title: The Killing$ of Tony Blair 2016\n",
      "\n",
      "Error 1: The Legend of Bruce Lee 2010 nan\n",
      "Message: Unable to locate element: .title_wrapper\n",
      "\n",
      "NOT found by title: The Legend of Bruce Lee 2010\n",
      "\n",
      "Error 1: The Lindt Cafe Siege 2017 nan\n",
      "Message: Unable to locate element: .title_wrapper\n",
      "\n",
      "Error 2: The Lindt Cafe Siege 2017 nan\n",
      "Message: Unable to locate element: //*[h3/text()=\"Titles\"]\n",
      "\n",
      "\n",
      "Error 1: The Lion In Your Living Room 2015 tt6368348\n",
      "get_movie_data(): title error: tt6368348\n",
      "NOT found by title: The Lion In Your Living Room 2015\n",
      "\n",
      "Error 1: The Medicine Game 2014 tt2632296\n",
      "get_movie_data(): title error: tt2632296\n",
      "NOT found by title: The Medicine Game 2014\n",
      "\n",
      "Error 1: The Mitfords: A Tale of Two Sisters 2017 nan\n",
      "Message: Unable to locate element: .title_wrapper\n",
      "\n",
      "NOT found by title: The Mitfords: A Tale of Two Sisters 2017\n",
      "\n",
      "Error 1: The Monkey Hustle 1976 tt0076404\n",
      "get_movie_data(): title error: tt0076404\n",
      "NOT found by title: The Monkey Hustle 1976\n",
      "\n",
      "Error 1: The Mystery Beneath 2015 nan\n",
      "Message: Unable to locate element: .title_wrapper\n",
      "\n",
      "found by title: The Mystery Beneath 2015 nan\n",
      "\n",
      "Error 1: The Odyssey 2016 tt5661826\n",
      "get_movie_data(): title error: tt5661506\n",
      "found by title: The Odyssey 2016 tt5661826\n",
      "\n",
      "Error 1: The Possessed 1975 nan\n",
      "Message: Unable to locate element: .title_wrapper\n",
      "\n",
      "NOT found by title: The Possessed 1975\n",
      "\n",
      "Error 1: The Private Life of Deer 2013 tt2784002\n",
      "get_movie_data(): title error: tt2784002\n",
      "found by title: The Private Life of Deer 2013 tt2784002\n",
      "\n",
      "Error 1: The Race Underground 2017 tt6504350\n",
      "get_movie_data(): title error: tt6504350\n",
      "NOT found by title: The Race Underground 2017\n",
      "\n",
      "Error 1: The Railway Children 2000 tt0215111\n",
      "get_movie_data(): title error: tt0215111\n",
      "NOT found by title: The Railway Children 2000\n",
      "\n",
      "Error 1: The Real Death Star 2002 tt1406010\n",
      "get_movie_data(): title error: tt1406010\n",
      "found by title: The Real Death Star 2002 tt1406010\n",
      "\n",
      "Error 1: The Republic Of Imbaba 2015 nan\n",
      "Message: Unable to locate element: .title_wrapper\n",
      "\n",
      "Error 2: The Republic Of Imbaba 2015 nan\n",
      "Message: Unable to locate element: //*[h3/text()=\"Titles\"]\n",
      "\n",
      "\n",
      "Error 1: The Rise & Fall of Penn Station 2004 tt2657296\n",
      "get_movie_data(): title error: tt2657296\n",
      "NOT found by title: The Rise & Fall of Penn Station 2004\n",
      "\n",
      "Error 1: The Truth About Alcohol 2016 tt5628260\n",
      "get_movie_data(): title error: tt5628260\n",
      "NOT found by title: The Truth About Alcohol 2016\n",
      "\n",
      "Error 1: The View From Here 2017 nan\n",
      "Message: Unable to locate element: .title_wrapper\n",
      "\n",
      "found by title: The View From Here 2017 nan\n",
      "\n",
      "Error 1: The Waiter 2015 nan\n",
      "Message: Unable to locate element: .title_wrapper\n",
      "\n",
      "NOT found by title: The Waiter 2015\n",
      "\n",
      "Error 1: The Wiggles - Apples and Bananas 2014 nan\n",
      "Message: Unable to locate element: .title_wrapper\n",
      "\n",
      "NOT found by title: The Wiggles - Apples and Bananas 2014\n",
      "\n",
      "Error 1: The Wiggles - Dance, Dance! 2016 nan\n",
      "Message: Unable to locate element: .title_wrapper\n",
      "\n",
      "NOT found by title: The Wiggles - Dance, Dance! 2016\n",
      "\n",
      "Error 1: The Wiggles - Dial E For Emma 2016 nan\n",
      "Message: Unable to locate element: .title_wrapper\n",
      "\n",
      "NOT found by title: The Wiggles - Dial E For Emma 2016\n",
      "\n",
      "Error 1: The Wiggles: Go Santa Go 2013 nan\n",
      "Message: Unable to locate element: .title_wrapper\n",
      "\n",
      "found by title: The Wiggles: Go Santa Go 2013 nan\n",
      "\n",
      "Error 1: The Wiggles - Lachy! 2016 nan\n",
      "Message: Unable to locate element: .title_wrapper\n",
      "\n",
      "NOT found by title: The Wiggles - Lachy! 2016\n",
      "\n",
      "Error 1: The Wiggles Meet The Orchestra 2015 nan\n",
      "Message: Unable to locate element: .title_wrapper\n",
      "\n",
      "found by title: The Wiggles Meet The Orchestra 2015 nan\n",
      "\n",
      "Error 1: The Wiggles - Rock and Roll Preschool 2015 nan\n",
      "Message: Unable to locate element: .title_wrapper\n",
      "\n",
      "NOT found by title: The Wiggles - Rock and Roll Preschool 2015\n",
      "\n",
      "Error 1: The Wiggles - Taking Off! 2013 nan\n",
      "Message: Unable to locate element: .title_wrapper\n",
      "\n",
      "NOT found by title: The Wiggles - Taking Off! 2013\n",
      "\n",
      "Error 1: The Wiggles - Wiggle Town 2016 nan\n",
      "Message: Unable to locate element: .title_wrapper\n",
      "\n",
      "NOT found by title: The Wiggles - Wiggle Town 2016\n",
      "\n",
      "Error 1: The World's Most Wanted Animal 2018 tt8653894\n",
      "get_movie_data(): title error: tt8653894\n",
      "NOT found by title: The World's Most Wanted Animal 2018\n",
      "\n",
      "Error 1: This Is the Day 2012 nan\n",
      "Message: Unable to locate element: .title_wrapper\n",
      "\n",
      "found by title: This Is the Day 2012 nan\n",
      "\n",
      "Error 1: Thomas & Friends: Songs from the Station 2005 nan\n",
      "Message: Unable to locate element: .title_wrapper\n",
      "\n",
      "Error 2: Thomas & Friends: Songs from the Station 2005 nan\n",
      "Message: Unable to locate element: //*[h3/text()=\"Titles\"]\n",
      "\n",
      "\n",
      "Error 1: Three 2016 nan\n",
      "Message: Unable to locate element: .title_wrapper\n",
      "\n",
      "NOT found by title: Three 2016\n",
      "\n",
      "Error 1: Tim Minchin: So F**king Rock Live 2008 tt5286440\n",
      "get_movie_data(): title error: tt5286440\n",
      "NOT found by title: Tim Minchin: So F**king Rock Live 2008\n",
      "\n",
      "Error 1: Titanic's Tragic Twin: The Britannic Disaster 2016 nan\n",
      "Message: Unable to locate element: .title_wrapper\n",
      "\n",
      "found by title: Titanic's Tragic Twin: The Britannic Disaster 2016 nan\n",
      "\n",
      "Error 1: To Love The Soul Of A Woman 2017 nan\n",
      "Message: Unable to locate element: .title_wrapper\n",
      "\n",
      "found by title: To Love The Soul Of A Woman 2017 nan\n",
      "\n",
      "Error 1: Trailer Park Boys - Live in F**kin' Dublin 2014 tt3580052\n",
      "get_movie_data(): title error: tt3580052\n",
      "NOT found by title: Trailer Park Boys - Live in F**kin' Dublin 2014\n",
      "\n",
      "Error 1: Truck Tunes 2007 nan\n",
      "Message: Unable to locate element: .title_wrapper\n",
      "\n",
      "found by title: Truck Tunes 2007 nan\n",
      "\n",
      "Error 1: Truck Tunes 2 2014 nan\n",
      "Message: Unable to locate element: .title_wrapper\n",
      "\n",
      "found by title: Truck Tunes 2 2014 nan\n",
      "\n",
      "Error 1: True: Happy Hearts Day 2019 nan\n",
      "Message: Unable to locate element: .title_wrapper\n",
      "\n",
      "NOT found by title: True: Happy Hearts Day 2019\n",
      "\n",
      "Error 1: Twice 2010 nan\n",
      "Message: Unable to locate element: .title_wrapper\n",
      "\n",
      "NOT found by title: Twice 2010\n",
      "\n",
      "Error 1: Un + une 2015 tt1918911\n",
      "get_movie_data(): title error: tt1918911\n",
      "NOT found by title: Un + une 2015\n",
      "\n",
      "Error 1: Used Goods 2018 nan\n",
      "Message: Unable to locate element: .title_wrapper\n",
      "\n",
      "found by title: Used Goods 2018 nan\n",
      "\n",
      "Error 1: Uyghurs: Prisoners of the Absurd 2014 nan\n",
      "Message: Unable to locate element: .title_wrapper\n",
      "\n",
      "found by title: Uyghurs: Prisoners of the Absurd 2014 nan\n",
      "\n",
      "Error 1: Valemont 2011 tt1430794\n",
      "get_movie_data(): title error: tt1430794\n",
      "NOT found by title: Valemont 2011\n",
      "\n",
      "Error 1: VA: The Human Cost of War 2017 nan\n",
      "Message: Unable to locate element: .title_wrapper\n",
      "\n"
     ]
    },
    {
     "name": "stdout",
     "output_type": "stream",
     "text": [
      "found by title: VA: The Human Cost of War 2017 nan\n",
      "\n",
      "Error 1: Walk By Faith 2014 nan\n",
      "Message: Unable to locate element: .title_wrapper\n",
      "\n",
      "found by title: Walk By Faith 2014 nan\n",
      "\n",
      "Error 1: What Makes a Psychopath? 2017 tt7314990\n",
      "get_movie_data(): title error: tt7314990\n",
      "NOT found by title: What Makes a Psychopath? 2017\n",
      "\n",
      "Error 1: When They Were Young 2011 nan\n",
      "Message: Unable to locate element: .title_wrapper\n",
      "\n",
      "NOT found by title: When They Were Young 2011\n",
      "\n",
      "Error 1: Who Is Harry Nilsson (And Why Is Everybody Talkin' About Him?) 2010 tt0756727\n",
      "get_movie_data(): title error: tt0756727\n",
      "NOT found by title: Who Is Harry Nilsson (And Why Is Everybody Talkin' About Him?) 2010\n",
      "\n",
      "Error 1: Who Put The Klan Into Ku Klux Klan 2018 nan\n",
      "Message: Unable to locate element: .title_wrapper\n",
      "\n",
      "Error 2: Who Put The Klan Into Ku Klux Klan 2018 nan\n",
      "Message: Unable to locate element: //*[h3/text()=\"Titles\"]\n",
      "\n",
      "\n",
      "Error 1: Wild Kratts: Creepy Creatures 2018 nan\n",
      "Message: Unable to locate element: .title_wrapper\n",
      "\n",
      "NOT found by title: Wild Kratts: Creepy Creatures 2018\n",
      "\n",
      "Error 1: Woody Allen: A Documentary 2011 tt1895299\n",
      "get_movie_data(): title error: tt1895299\n",
      "NOT found by title: Woody Allen: A Documentary 2011\n",
      "\n",
      "Error 1: Worms 2013 nan\n",
      "Message: Unable to locate element: .title_wrapper\n",
      "\n",
      "found by title: Worms 2013 nan\n",
      "\n",
      "Error 1: Yesterday Is Still Gone 2014 nan\n",
      "Message: Unable to locate element: .title_wrapper\n",
      "\n",
      "NOT found by title: Yesterday Is Still Gone 2014\n",
      "movies: 3623\n",
      "time: 4.99 hrs\n"
     ]
    }
   ],
   "source": [
    "scraper = MB.ImdbScraper()\n",
    "scraper.open_imdb()\n",
    "movie_ls = []\n",
    "t0 = time.time()\n",
    "\n",
    "for idx, row in index_4_df.iterrows():\n",
    "    title = row['title']\n",
    "    year = row['year']\n",
    "    imdb_id = row['imdb_id']\n",
    "    movie_dx = None\n",
    "\n",
    "    try:\n",
    "        movie_dx = scraper.get_movie_by_id(imdb_id)\n",
    "    except Exception as ex:\n",
    "        print('')\n",
    "        print(f'Error 1: {title} {year} {imdb_id}')\n",
    "        print(ex)\n",
    "\n",
    "    if not movie_dx:\n",
    "        try:\n",
    "            scraper.open_imdb()\n",
    "            scraper.search_any(title)\n",
    "            found = scraper.goto_movie_result(title, year)\n",
    "            if found:\n",
    "                print(f'found by title: {title} {year} {imdb_id}')\n",
    "                movie_dx = scraper.get_movie_data()\n",
    "            else:\n",
    "                print(f'NOT found by title: {title} {year}')\n",
    "        except Exception as ex:\n",
    "            print(f'Error 2: {title} {year} {imdb_id}')\n",
    "            print(ex)\n",
    "\n",
    "    if movie_dx:\n",
    "        movie_ls.append(movie_dx)\n",
    "\n",
    "scraper.close()\n",
    "t1 = time.time()\n",
    "print(f'movies: {len(movie_ls)}')\n",
    "print(f'time: {(t1-t0)/60/60:.2f} hrs')"
   ]
  },
  {
   "cell_type": "code",
   "execution_count": 15,
   "metadata": {},
   "outputs": [],
   "source": [
    "# projected time\n",
    "\n",
    "#print(f'projected time: {(t1-t0)/60/60*18450/index_df.shape[0]:.2f} hrs')"
   ]
  },
  {
   "cell_type": "code",
   "execution_count": 16,
   "metadata": {
    "scrolled": false
   },
   "outputs": [
    {
     "name": "stdout",
     "output_type": "stream",
     "text": [
      "<class 'pandas.core.frame.DataFrame'>\n",
      "RangeIndex: 3623 entries, 0 to 3622\n",
      "Data columns (total 19 columns):\n",
      "imdb_id            3623 non-null object\n",
      "title              3623 non-null object\n",
      "original_title     556 non-null object\n",
      "year               3623 non-null object\n",
      "rating             2796 non-null object\n",
      "companies          3329 non-null object\n",
      "country            3607 non-null object\n",
      "language           3569 non-null object\n",
      "duration           3481 non-null float64\n",
      "directors          3601 non-null object\n",
      "writers            3295 non-null object\n",
      "actors             3435 non-null object\n",
      "genres             3623 non-null object\n",
      "synopsis           3623 non-null object\n",
      "budget             1113 non-null object\n",
      "gross_us           774 non-null object\n",
      "gross_worldwide    1202 non-null object\n",
      "score              3599 non-null object\n",
      "votes              3599 non-null object\n",
      "dtypes: float64(1), object(18)\n",
      "memory usage: 537.9+ KB\n"
     ]
    }
   ],
   "source": [
    "movie_df = PD.DataFrame(movie_ls)\n",
    "movie_df.info()"
   ]
  },
  {
   "cell_type": "code",
   "execution_count": 17,
   "metadata": {},
   "outputs": [
    {
     "data": {
      "text/plain": [
       "'1.35 mb'"
      ]
     },
     "execution_count": 17,
     "metadata": {},
     "output_type": "execute_result"
    }
   ],
   "source": [
    "save_path = r'../data/imdb_mov_4.csv'\n",
    "movie_df.to_csv(save_path, index=False)\n",
    "f'{round(os.path.getsize(save_path) /1e6, 2)} mb'"
   ]
  },
  {
   "cell_type": "markdown",
   "metadata": {},
   "source": [
    "## Combine Job Files"
   ]
  },
  {
   "cell_type": "code",
   "execution_count": 18,
   "metadata": {},
   "outputs": [
    {
     "data": {
      "text/plain": [
       "(5358, 19)"
      ]
     },
     "execution_count": 18,
     "metadata": {},
     "output_type": "execute_result"
    },
    {
     "data": {
      "text/plain": [
       "(4590, 19)"
      ]
     },
     "execution_count": 18,
     "metadata": {},
     "output_type": "execute_result"
    },
    {
     "data": {
      "text/plain": [
       "(3956, 19)"
      ]
     },
     "execution_count": 18,
     "metadata": {},
     "output_type": "execute_result"
    },
    {
     "data": {
      "text/plain": [
       "(3623, 19)"
      ]
     },
     "execution_count": 18,
     "metadata": {},
     "output_type": "execute_result"
    }
   ],
   "source": [
    "#stop = 0 0\n",
    "imdb_1_df = PD.read_csv('../data/imdb_mov_1.csv')\n",
    "imdb_2_df = PD.read_csv('../data/imdb_mov_2.csv')\n",
    "imdb_3_df = PD.read_csv('../data/imdb_mov_3.csv')\n",
    "imdb_4_df = PD.read_csv('../data/imdb_mov_4.csv')\n",
    "\n",
    "imdb_1_df.shape\n",
    "imdb_2_df.shape\n",
    "imdb_3_df.shape\n",
    "imdb_4_df.shape"
   ]
  },
  {
   "cell_type": "code",
   "execution_count": 19,
   "metadata": {
    "scrolled": false
   },
   "outputs": [
    {
     "data": {
      "text/html": [
       "<div>\n",
       "<style scoped>\n",
       "    .dataframe tbody tr th:only-of-type {\n",
       "        vertical-align: middle;\n",
       "    }\n",
       "\n",
       "    .dataframe tbody tr th {\n",
       "        vertical-align: top;\n",
       "    }\n",
       "\n",
       "    .dataframe thead th {\n",
       "        text-align: right;\n",
       "    }\n",
       "</style>\n",
       "<table border=\"1\" class=\"dataframe\">\n",
       "  <thead>\n",
       "    <tr style=\"text-align: right;\">\n",
       "      <th></th>\n",
       "      <th>imdb_id</th>\n",
       "      <th>title</th>\n",
       "      <th>original_title</th>\n",
       "      <th>year</th>\n",
       "      <th>rating</th>\n",
       "      <th>companies</th>\n",
       "      <th>country</th>\n",
       "      <th>language</th>\n",
       "      <th>duration</th>\n",
       "      <th>directors</th>\n",
       "      <th>writers</th>\n",
       "      <th>actors</th>\n",
       "      <th>genres</th>\n",
       "      <th>synopsis</th>\n",
       "      <th>budget</th>\n",
       "      <th>gross_us</th>\n",
       "      <th>gross_worldwide</th>\n",
       "      <th>score</th>\n",
       "      <th>votes</th>\n",
       "    </tr>\n",
       "  </thead>\n",
       "  <tbody>\n",
       "    <tr>\n",
       "      <th>0</th>\n",
       "      <td>tt2518788</td>\n",
       "      <td>1</td>\n",
       "      <td>NaN</td>\n",
       "      <td>2013</td>\n",
       "      <td>Not Rated</td>\n",
       "      <td>Diamond Docs, Exclusive Media Group</td>\n",
       "      <td>USA</td>\n",
       "      <td>English</td>\n",
       "      <td>112.0</td>\n",
       "      <td>Paul Crowder</td>\n",
       "      <td>Mark Monroe</td>\n",
       "      <td>Michael Fassbender, Niki Lauda, Lewis Hamilton</td>\n",
       "      <td>Documentary, History, Sport</td>\n",
       "      <td>Set in the golden era of Grand Prix Racing '1'...</td>\n",
       "      <td>NaN</td>\n",
       "      <td>NaN</td>\n",
       "      <td>NaN</td>\n",
       "      <td>8.0</td>\n",
       "      <td>3535.0</td>\n",
       "    </tr>\n",
       "    <tr>\n",
       "      <th>1</th>\n",
       "      <td>tt0443649</td>\n",
       "      <td>10,000 BC</td>\n",
       "      <td>NaN</td>\n",
       "      <td>2008</td>\n",
       "      <td>PG-13</td>\n",
       "      <td>Warner Bros., Legendary Entertainment</td>\n",
       "      <td>USA</td>\n",
       "      <td>English</td>\n",
       "      <td>109.0</td>\n",
       "      <td>Roland Emmerich</td>\n",
       "      <td>Roland Emmerich, Harald Kloser</td>\n",
       "      <td>Camilla Belle, Steven Strait, Marco Khan</td>\n",
       "      <td>Action, Adventure, Drama</td>\n",
       "      <td>In the prehistoric past, D'Leh is a mammoth hu...</td>\n",
       "      <td>105000000</td>\n",
       "      <td>9.47842e+07</td>\n",
       "      <td>269784201</td>\n",
       "      <td>5.1</td>\n",
       "      <td>121431.0</td>\n",
       "    </tr>\n",
       "    <tr>\n",
       "      <th>2</th>\n",
       "      <td>tt2937158</td>\n",
       "      <td>Ek Hazarachi Note</td>\n",
       "      <td>NaN</td>\n",
       "      <td>2014</td>\n",
       "      <td>Not Rated</td>\n",
       "      <td>Infinitum Productions</td>\n",
       "      <td>India</td>\n",
       "      <td>Marathi</td>\n",
       "      <td>89.0</td>\n",
       "      <td>Shrihari Sathe</td>\n",
       "      <td>Shrikant Bojewar</td>\n",
       "      <td>Devendra Gaikwad, Usha Naik, Pooja Nayak</td>\n",
       "      <td>Drama</td>\n",
       "      <td>In this exploration of money and conscience, a...</td>\n",
       "      <td>NaN</td>\n",
       "      <td>2404</td>\n",
       "      <td>2404</td>\n",
       "      <td>7.3</td>\n",
       "      <td>309.0</td>\n",
       "    </tr>\n",
       "  </tbody>\n",
       "</table>\n",
       "</div>"
      ],
      "text/plain": [
       "     imdb_id              title original_title  year     rating  \\\n",
       "0  tt2518788                  1            NaN  2013  Not Rated   \n",
       "1  tt0443649          10,000 BC            NaN  2008      PG-13   \n",
       "2  tt2937158  Ek Hazarachi Note            NaN  2014  Not Rated   \n",
       "\n",
       "                               companies country language  duration  \\\n",
       "0    Diamond Docs, Exclusive Media Group     USA  English     112.0   \n",
       "1  Warner Bros., Legendary Entertainment     USA  English     109.0   \n",
       "2                  Infinitum Productions   India  Marathi      89.0   \n",
       "\n",
       "         directors                         writers  \\\n",
       "0     Paul Crowder                     Mark Monroe   \n",
       "1  Roland Emmerich  Roland Emmerich, Harald Kloser   \n",
       "2   Shrihari Sathe                Shrikant Bojewar   \n",
       "\n",
       "                                           actors  \\\n",
       "0  Michael Fassbender, Niki Lauda, Lewis Hamilton   \n",
       "1        Camilla Belle, Steven Strait, Marco Khan   \n",
       "2        Devendra Gaikwad, Usha Naik, Pooja Nayak   \n",
       "\n",
       "                        genres  \\\n",
       "0  Documentary, History, Sport   \n",
       "1     Action, Adventure, Drama   \n",
       "2                        Drama   \n",
       "\n",
       "                                            synopsis     budget     gross_us  \\\n",
       "0  Set in the golden era of Grand Prix Racing '1'...        NaN          NaN   \n",
       "1  In the prehistoric past, D'Leh is a mammoth hu...  105000000  9.47842e+07   \n",
       "2  In this exploration of money and conscience, a...        NaN         2404   \n",
       "\n",
       "  gross_worldwide  score     votes  \n",
       "0             NaN    8.0    3535.0  \n",
       "1       269784201    5.1  121431.0  \n",
       "2            2404    7.3     309.0  "
      ]
     },
     "execution_count": 19,
     "metadata": {},
     "output_type": "execute_result"
    },
    {
     "name": "stdout",
     "output_type": "stream",
     "text": [
      "<class 'pandas.core.frame.DataFrame'>\n",
      "Int64Index: 17527 entries, 0 to 3622\n",
      "Data columns (total 19 columns):\n",
      "imdb_id            17527 non-null object\n",
      "title              17527 non-null object\n",
      "original_title     2316 non-null object\n",
      "year               17527 non-null int64\n",
      "rating             13288 non-null object\n",
      "companies          16175 non-null object\n",
      "country            17444 non-null object\n",
      "language           17288 non-null object\n",
      "duration           16674 non-null float64\n",
      "directors          17420 non-null object\n",
      "writers            15969 non-null object\n",
      "actors             16446 non-null object\n",
      "genres             17517 non-null object\n",
      "synopsis           17432 non-null object\n",
      "budget             5198 non-null object\n",
      "gross_us           3393 non-null object\n",
      "gross_worldwide    5419 non-null object\n",
      "score              17406 non-null float64\n",
      "votes              17406 non-null float64\n",
      "dtypes: float64(3), int64(1), object(15)\n",
      "memory usage: 2.7+ MB\n"
     ]
    }
   ],
   "source": [
    "movie_df = PD.concat([imdb_1_df, imdb_2_df, imdb_3_df, imdb_4_df])\n",
    "movie_df.head(3)\n",
    "movie_df.info()"
   ]
  },
  {
   "cell_type": "code",
   "execution_count": 20,
   "metadata": {},
   "outputs": [
    {
     "data": {
      "text/plain": [
       "(17398, 19)"
      ]
     },
     "execution_count": 20,
     "metadata": {},
     "output_type": "execute_result"
    }
   ],
   "source": [
    "# remove duplicates\n",
    "\n",
    "movie_df = movie_df.drop_duplicates()\n",
    "movie_df = movie_df.drop_duplicates(subset=['imdb_id'])\n",
    "movie_df.shape"
   ]
  },
  {
   "cell_type": "code",
   "execution_count": 21,
   "metadata": {},
   "outputs": [],
   "source": [
    "# fix up column types\n",
    "\n",
    "movie_df['duration'] = movie_df['duration'].astype('Int64')\n",
    "movie_df['votes'] = movie_df['votes'].astype('Int64')"
   ]
  },
  {
   "cell_type": "code",
   "execution_count": 22,
   "metadata": {},
   "outputs": [
    {
     "data": {
      "text/plain": [
       "'6.38 mb'"
      ]
     },
     "execution_count": 22,
     "metadata": {},
     "output_type": "execute_result"
    }
   ],
   "source": [
    "save_path = r'../data/imdb_movie.csv'\n",
    "movie_df.to_csv(save_path, index=False)\n",
    "f'{round(os.path.getsize(save_path) /1e6, 2)} mb'"
   ]
  }
 ],
 "metadata": {
  "kernelspec": {
   "display_name": "v5-kernel",
   "language": "python",
   "name": "v5-kernel"
  },
  "language_info": {
   "codemirror_mode": {
    "name": "ipython",
    "version": 3
   },
   "file_extension": ".py",
   "mimetype": "text/x-python",
   "name": "python",
   "nbconvert_exporter": "python",
   "pygments_lexer": "ipython3",
   "version": "3.7.5"
  }
 },
 "nbformat": 4,
 "nbformat_minor": 2
}
