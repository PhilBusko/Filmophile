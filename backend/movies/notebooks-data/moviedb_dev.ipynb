{
 "cells": [
  {
   "cell_type": "markdown",
   "metadata": {},
   "source": [
    "# TMDB Helper Development\n",
    "\n",
    "Workflow: 0  \n",
    "\n",
    "Goal: To develop the TMDB helper class by exploring the functionality of the ```tmdbsimple``` package.   \n",
    "\n",
    "Result: The file ```moviedb_helper.py``` file is created.  \n",
    "\n",
    "Notes: The rate limit is stated at 40 request per 10 secs. Therefore a pause of 0.5 secs is enough.  "
   ]
  },
  {
   "cell_type": "code",
   "execution_count": 1,
   "metadata": {},
   "outputs": [],
   "source": [
    "import os\n",
    "import time\n",
    "import random as RD\n",
    "import pandas as PD"
   ]
  },
  {
   "cell_type": "code",
   "execution_count": 2,
   "metadata": {},
   "outputs": [],
   "source": [
    "from IPython.core.interactiveshell import InteractiveShell\n",
    "InteractiveShell.ast_node_interactivity = 'all'"
   ]
  },
  {
   "cell_type": "code",
   "execution_count": 3,
   "metadata": {},
   "outputs": [],
   "source": [
    "# can't reload script in a different folder\n",
    "\n",
    "import sys\n",
    "sys.path.append('../models')\n",
    "import moviedb_helper as MH "
   ]
  },
  {
   "cell_type": "code",
   "execution_count": 4,
   "metadata": {},
   "outputs": [
    {
     "data": {
      "text/plain": [
       "'https://api.themoviedb.org/3'"
      ]
     },
     "execution_count": 4,
     "metadata": {},
     "output_type": "execute_result"
    },
    {
     "data": {
      "text/plain": [
       "{'Content-Type': 'application/json',\n",
       " 'Accept': 'application/json',\n",
       " 'Connection': 'close'}"
      ]
     },
     "execution_count": 4,
     "metadata": {},
     "output_type": "execute_result"
    },
    {
     "data": {
      "text/plain": [
       "{'images': {'base_url': 'http://image.tmdb.org/t/p/',\n",
       "  'secure_base_url': 'https://image.tmdb.org/t/p/',\n",
       "  'backdrop_sizes': ['w300', 'w780', 'w1280', 'original'],\n",
       "  'logo_sizes': ['w45', 'w92', 'w154', 'w185', 'w300', 'w500', 'original'],\n",
       "  'poster_sizes': ['w92', 'w154', 'w185', 'w342', 'w500', 'w780', 'original'],\n",
       "  'profile_sizes': ['w45', 'w185', 'h632', 'original'],\n",
       "  'still_sizes': ['w92', 'w185', 'w300', 'original']},\n",
       " 'change_keys': ['adult',\n",
       "  'air_date',\n",
       "  'also_known_as',\n",
       "  'alternative_titles',\n",
       "  'biography',\n",
       "  'birthday',\n",
       "  'budget',\n",
       "  'cast',\n",
       "  'certifications',\n",
       "  'character_names',\n",
       "  'created_by',\n",
       "  'crew',\n",
       "  'deathday',\n",
       "  'episode',\n",
       "  'episode_number',\n",
       "  'episode_run_time',\n",
       "  'freebase_id',\n",
       "  'freebase_mid',\n",
       "  'general',\n",
       "  'genres',\n",
       "  'guest_stars',\n",
       "  'homepage',\n",
       "  'images',\n",
       "  'imdb_id',\n",
       "  'languages',\n",
       "  'name',\n",
       "  'network',\n",
       "  'origin_country',\n",
       "  'original_name',\n",
       "  'original_title',\n",
       "  'overview',\n",
       "  'parts',\n",
       "  'place_of_birth',\n",
       "  'plot_keywords',\n",
       "  'production_code',\n",
       "  'production_companies',\n",
       "  'production_countries',\n",
       "  'releases',\n",
       "  'revenue',\n",
       "  'runtime',\n",
       "  'season',\n",
       "  'season_number',\n",
       "  'season_regular',\n",
       "  'spoken_languages',\n",
       "  'status',\n",
       "  'tagline',\n",
       "  'title',\n",
       "  'translations',\n",
       "  'tvdb_id',\n",
       "  'tvrage_id',\n",
       "  'type',\n",
       "  'video',\n",
       "  'videos']}"
      ]
     },
     "execution_count": 4,
     "metadata": {},
     "output_type": "execute_result"
    }
   ],
   "source": [
    "config = MH.MB.Configuration()\n",
    "config.base_uri\n",
    "config.headers\n",
    "config.info()"
   ]
  },
  {
   "cell_type": "markdown",
   "metadata": {},
   "source": [
    "## Get Data For One Movie "
   ]
  },
  {
   "cell_type": "code",
   "execution_count": 5,
   "metadata": {},
   "outputs": [
    {
     "ename": "SyntaxError",
     "evalue": "invalid syntax (<ipython-input-5-2c34924d37c5>, line 1)",
     "output_type": "error",
     "traceback": [
      "\u001b[0;36m  File \u001b[0;32m\"<ipython-input-5-2c34924d37c5>\"\u001b[0;36m, line \u001b[0;32m1\u001b[0m\n\u001b[0;31m    URL_ FILE = '../data/reelgood_url.csv'\u001b[0m\n\u001b[0m            ^\u001b[0m\n\u001b[0;31mSyntaxError\u001b[0m\u001b[0;31m:\u001b[0m invalid syntax\n"
     ]
    }
   ],
   "source": [
    "URL_ FILE = '../data/reelgood_url.csv'\n",
    "url_df = PD.read_csv(URL_FILE)\n",
    "url_df.head()\n",
    "url_df.shape"
   ]
  },
  {
   "cell_type": "code",
   "execution_count": null,
   "metadata": {},
   "outputs": [],
   "source": [
    "# get sample movie\n",
    "\n",
    "sample_idx = RD.randint(1,url_df.shape[0])\n",
    "sample_idx  \n",
    "url_dx = url_df.iloc[sample_idx].to_dict()\n",
    "url_dx"
   ]
  },
  {
   "cell_type": "code",
   "execution_count": null,
   "metadata": {
    "scrolled": true
   },
   "outputs": [],
   "source": [
    "client = MH.MovieDBHelper()\n",
    "\n",
    "tmdb_id = client.get_movie_id(url_dx['title'], url_dx['year'])\n",
    "movie_dx = client.get_movie_by_id(tmdb_id)\n",
    "movie_dx"
   ]
  },
  {
   "cell_type": "code",
   "execution_count": null,
   "metadata": {},
   "outputs": [],
   "source": [
    "# investigate errors from bulk search\n",
    "# won't be using search anymore, will use discover instead? (still need to match discovered results)\n",
    "\n",
    "title = 'film about Veterans'.lower()\n",
    "year = '2018'\n",
    "tmdb_id = client.get_movie_id(title, year)\n",
    "movie_dx = client.get_movie_by_id(tmdb_id)\n",
    "movie_dx"
   ]
  },
  {
   "cell_type": "markdown",
   "metadata": {},
   "source": [
    "### Explore Discover()"
   ]
  },
  {
   "cell_type": "code",
   "execution_count": null,
   "metadata": {
    "scrolled": false
   },
   "outputs": [],
   "source": [
    "client.get_movie _by_id(449924)"
   ]
  },
  {
   "cell_type": "code",
   "execution_count": null,
   "metadata": {
    "scrolled": false
   },
   "outputs": [],
   "source": [
    "client = MH.MovieDBHelper()\n",
    "\n",
    "t0 = time.time()\n",
    "movie_ls = client.discover_movies('2015')\n",
    "\n",
    "t1 = time.time()\n",
    "print(f'movies: {len(movie_ls)}')\n",
    "print(f'time: {(t1-t0)/60:.2f} mins')\n",
    "\n",
    "# takes 1+ hrs for one quarter of a year"
   ]
  },
  {
   "cell_type": "code",
   "execution_count": null,
   "metadata": {},
   "outputs": [],
   "source": [
    "\n"
   ]
  },
  {
   "cell_type": "code",
   "execution_count": null,
   "metadata": {
    "scrolled": false
   },
   "outputs": [],
   "source": [
    "movie_df = PD.DataFrame(movie_ls)\n",
    "movie_df.head()\n",
    "movie_df.info()"
   ]
  },
  {
   "cell_type": "code",
   "execution_count": null,
   "metadata": {
    "scrolled": false
   },
   "outputs": [],
   "source": [
    "PD.DataFrame(discover_results['results'])"
   ]
  },
  {
   "cell_type": "code",
   "execution_count": null,
   "metadata": {},
   "outputs": [],
   "source": []
  },
  {
   "cell_type": "markdown",
   "metadata": {},
   "source": [
    "### Explore Movies() "
   ]
  },
  {
   "cell_type": "code",
   "execution_count": null,
   "metadata": {
    "scrolled": false
   },
   "outputs": [],
   "source": [
    "#movie_id = client.get_movie_id(movie_dx['title'], movie_dx['year'])\n",
    "movie_id = client.get_mo vie_id(\"Out of the Blue\",  2002)\n",
    "\n",
    "movie_res = MH.MB.Movies(movie_id)\n",
    "#dir(movie_res)"
   ]
  },
  {
   "cell_type": "code",
   "execution_count": null,
   "metadata": {},
   "outputs": [],
   "source": [
    "movie_res.base_uri"
   ]
  },
  {
   "cell_type": "code",
   "execution_count": null,
   "metadata": {},
   "outputs": [],
   "source": [
    "#PD.DataFrame(movie_res.changes()['changes'][0]['items'])"
   ]
  },
  {
   "cell_type": "code",
   "execution_count": null,
   "metadata": {
    "scrolled": false
   },
   "outputs": [],
   "source": [
    "# credits \n",
    "\n",
    "cast = movie_res.credits()['cast']\n",
    "cast\n",
    "cast_df = PD.DataFrame(cast)\n",
    "cast_df.head()"
   ]
  },
  {
   "cell_type": "code",
   "execution_count": null,
   "metadata": {},
   "outputs": [],
   "source": [
    "crew = movie_res.credits()['crew']\n",
    "crew_df = PD.DataFrame(crew)\n",
    "crew_df.head()"
   ]
  },
  {
   "cell_type": "code",
   "execution_count": null,
   "metadata": {},
   "outputs": [],
   "source": [
    "crew_df['department'].value_counts()"
   ]
  },
  {
   "cell_type": "code",
   "execution_count": null,
   "metadata": {},
   "outputs": [],
   "source": [
    "#crew_df.loc[crew_df['department'].isin(['Production', 'Writing', 'Directing'])]\n",
    "crew_df.loc[crew_df['job'].isin(['Producer', 'Director', 'Writer', 'Executive Producer'])]\n",
    "\n",
    "# comparing the crews of random movies against the IMDB profile shows good overlap\n",
    "# take the first director found, and then (from the start) the next 2 different crew\n",
    "# this gives perfect agreement of the top 2 crew with imdb and wikipedia"
   ]
  },
  {
   "cell_type": "code",
   "execution_count": null,
   "metadata": {},
   "outputs": [],
   "source": [
    "movie_res.external_ids()"
   ]
  },
  {
   "cell_type": "code",
   "execution_count": null,
   "metadata": {},
   "outputs": [],
   "source": [
    "# info: collection, budget, genres, imdb_id, production_companies, production_countries?, revenue, runtime, language\n",
    "# get all data from info()\n",
    "\n",
    "movie_res.info()"
   ]
  },
  {
   "cell_type": "code",
   "execution_count": null,
   "metadata": {
    "scrolled": false
   },
   "outputs": [],
   "source": [
    "movie_res.keywords()"
   ]
  },
  {
   "cell_type": "code",
   "execution_count": null,
   "metadata": {},
   "outputs": [],
   "source": [
    "# nothing to do with current movie\n",
    "\n",
    "#movie_res.latest()"
   ]
  },
  {
   "cell_type": "code",
   "execution_count": null,
   "metadata": {
    "scrolled": false
   },
   "outputs": [],
   "source": [
    "# users that have the movie in their list\n",
    "\n",
    "movie_res.lists()['total_pages']"
   ]
  },
  {
   "cell_type": "code",
   "execution_count": null,
   "metadata": {
    "scrolled": false
   },
   "outputs": [],
   "source": [
    "# nothing to do with current movie\n",
    "\n",
    "#movie_res.now_playing()"
   ]
  },
  {
   "cell_type": "code",
   "execution_count": null,
   "metadata": {
    "scrolled": true
   },
   "outputs": [],
   "source": [
    "# nothing to do with current movie\n",
    "\n",
    "#movie_res.popular()"
   ]
  },
  {
   "cell_type": "code",
   "execution_count": null,
   "metadata": {},
   "outputs": [],
   "source": [
    "# 401 Client Error\n",
    "\n",
    "#movie_res.rating()"
   ]
  },
  {
   "cell_type": "code",
   "execution_count": null,
   "metadata": {
    "scrolled": false
   },
   "outputs": [],
   "source": [
    "# similar movies\n",
    "\n",
    "#movie_res.recommendations()"
   ]
  },
  {
   "cell_type": "code",
   "execution_count": null,
   "metadata": {
    "scrolled": false
   },
   "outputs": [],
   "source": [
    "len(movie_res.release_dates()['results'])"
   ]
  },
  {
   "cell_type": "code",
   "execution_count": null,
   "metadata": {
    "scrolled": false
   },
   "outputs": [],
   "source": [
    "len(movie_res.releases()['countries'])"
   ]
  },
  {
   "cell_type": "code",
   "execution_count": null,
   "metadata": {},
   "outputs": [],
   "source": [
    "len(movie_res.reviews()['results'])"
   ]
  },
  {
   "cell_type": "code",
   "execution_count": null,
   "metadata": {
    "scrolled": false
   },
   "outputs": [],
   "source": [
    "len(movie_res.similar_movies()['results'])"
   ]
  },
  {
   "cell_type": "code",
   "execution_count": null,
   "metadata": {
    "scrolled": false
   },
   "outputs": [],
   "source": [
    "# nothing to do with current movie\n",
    "\n",
    "#movie_res.top_rated()"
   ]
  },
  {
   "cell_type": "code",
   "execution_count": null,
   "metadata": {
    "scrolled": false
   },
   "outputs": [],
   "source": [
    "len(movie_res.translations()['translations'])"
   ]
  },
  {
   "cell_type": "code",
   "execution_count": null,
   "metadata": {
    "scrolled": true
   },
   "outputs": [],
   "source": [
    "# nothing to do with current movie\n",
    "\n",
    "#movie_res.upcoming()"
   ]
  },
  {
   "cell_type": "code",
   "execution_count": null,
   "metadata": {},
   "outputs": [],
   "source": [
    "# trailers and crap\n",
    "\n",
    "len(movie_res.videos()['results'])"
   ]
  },
  {
   "cell_type": "code",
   "execution_count": null,
   "metadata": {},
   "outputs": [],
   "source": []
  }
 ],
 "metadata": {
  "kernelspec": {
   "display_name": "Django Shell-Plus",
   "language": "python",
   "name": "django_extensions"
  },
  "language_info": {
   "codemirror_mode": {
    "name": "ipython",
    "version": 3
   },
   "file_extension": ".py",
   "mimetype": "text/x-python",
   "name": "python",
   "nbconvert_exporter": "python",
   "pygments_lexer": "ipython3",
   "version": "3.7.5"
  }
 },
 "nbformat": 4,
 "nbformat_minor": 2
}
