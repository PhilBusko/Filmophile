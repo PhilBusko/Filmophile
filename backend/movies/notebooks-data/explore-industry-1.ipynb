{
 "cells": [
  {
   "cell_type": "markdown",
   "metadata": {},
   "source": [
    "# EDA Industry Part 1\n",
    "\n",
    "Workflow: 0 \n",
    "\n",
    "Goal: To create plots for Exploration page."
   ]
  },
  {
   "cell_type": "code",
   "execution_count": 1,
   "metadata": {},
   "outputs": [],
   "source": [
    "import os, sys, time, json\n",
    "import pandas as PD\n",
    "import numpy as NP\n",
    "\n",
    "import plotly.graph_objects as GO\n",
    "import plotly.figure_factory as FF\n",
    "import plotly.subplots as SB"
   ]
  },
  {
   "cell_type": "code",
   "execution_count": 2,
   "metadata": {},
   "outputs": [],
   "source": [
    "from IPython.core.interactiveshell import InteractiveShell\n",
    "InteractiveShell.ast_node_interactivity = 'last'"
   ]
  },
  {
   "cell_type": "code",
   "execution_count": 3,
   "metadata": {},
   "outputs": [],
   "source": [
    "os.chdir(os.getenv('PWD'))\n",
    "sys.path.insert(0, os.getenv('PWD'))\n",
    "os.environ.setdefault(\"DJANGO_SETTINGS_MODULE\", \"settings.py\")\n",
    "import django\n",
    "django.setup()"
   ]
  },
  {
   "cell_type": "code",
   "execution_count": 4,
   "metadata": {},
   "outputs": [],
   "source": [
    "import movies.models.tables as TB\n",
    "import movies.models.exploration as XT\n",
    "import movies.models.analysis as NL"
   ]
  },
  {
   "cell_type": "markdown",
   "metadata": {},
   "source": [
    "## Movies Per Year"
   ]
  },
  {
   "cell_type": "code",
   "execution_count": 6,
   "metadata": {},
   "outputs": [
    {
     "ename": "AttributeError",
     "evalue": "module 'movies.models.tables' has no attribute 'Reporter'",
     "output_type": "error",
     "traceback": [
      "\u001b[0;31m---------------------------------------------------------------------------\u001b[0m",
      "\u001b[0;31mAttributeError\u001b[0m                            Traceback (most recent call last)",
      "\u001b[0;32m<ipython-input-6-55ea04f986e8>\u001b[0m in \u001b[0;36m<module>\u001b[0;34m\u001b[0m\n\u001b[0;32m----> 1\u001b[0;31m \u001b[0mXT\u001b[0m\u001b[0;34m.\u001b[0m\u001b[0mExplore\u001b[0m\u001b[0;34m.\u001b[0m\u001b[0mGetYearPlot\u001b[0m\u001b[0;34m(\u001b[0m\u001b[0;34m)\u001b[0m\u001b[0;34m\u001b[0m\u001b[0;34m\u001b[0m\u001b[0m\n\u001b[0m",
      "\u001b[0;32m~/Documents/Websites/Movies_Proj/Filmophile/backend/movies/models/exploration.py\u001b[0m in \u001b[0;36mGetYearPlot\u001b[0;34m()\u001b[0m\n\u001b[1;32m     72\u001b[0m         \u001b[0;31m# format and send to frontend\u001b[0m\u001b[0;34m\u001b[0m\u001b[0;34m\u001b[0m\u001b[0;34m\u001b[0m\u001b[0m\n\u001b[1;32m     73\u001b[0m \u001b[0;34m\u001b[0m\u001b[0m\n\u001b[0;32m---> 74\u001b[0;31m         \u001b[0;32mreturn\u001b[0m \u001b[0mTB\u001b[0m\u001b[0;34m.\u001b[0m\u001b[0mReporter\u001b[0m\u001b[0;34m.\u001b[0m\u001b[0mConvertFigureToJson\u001b[0m\u001b[0;34m(\u001b[0m\u001b[0mfig\u001b[0m\u001b[0;34m)\u001b[0m\u001b[0;34m\u001b[0m\u001b[0;34m\u001b[0m\u001b[0m\n\u001b[0m\u001b[1;32m     75\u001b[0m \u001b[0;34m\u001b[0m\u001b[0m\n\u001b[1;32m     76\u001b[0m \u001b[0;34m\u001b[0m\u001b[0m\n",
      "\u001b[0;31mAttributeError\u001b[0m: module 'movies.models.tables' has no attribute 'Reporter'"
     ]
    }
   ],
   "source": [
    "XT.Explore.GetYearPlot()"
   ]
  },
  {
   "cell_type": "code",
   "execution_count": null,
   "metadata": {
    "scrolled": true
   },
   "outputs": [],
   "source": [
    "master _ls = list(MD.MasterMovie.objects.values())\n",
    "master_df = PD.DataFrame(master_ls)\n",
    "master_df = master_df.drop(columns=['id', 'OriginalTitle', 'Poster', 'Synopsis', 'Indeces'])\n",
    "master_df.info()"
   ]
  },
  {
   "cell_type": "code",
   "execution_count": null,
   "metadata": {},
   "outputs": [],
   "source": [
    "master_df = master_df.loc[master_df['Year']>='1980']\n",
    "master_df.shape"
   ]
  },
  {
   "cell_type": "code",
   "execution_count": null,
   "metadata": {},
   "outputs": [],
   "source": [
    "fig = GO.Figure()\n",
    "fig.add_trace(GO.Histogram(x=master_df['Year'], xbins={'size': 1}, marker_color='DarkOliveGreen'))\n",
    "\n",
    "fig.update_layout(\n",
    "    title=\"Number of Movies Per Year\",\n",
    "    xaxis_title=\"Year\",\n",
    "    yaxis_title=\"Movies Count\",\n",
    "    width=700,\n",
    "    height=500,\n",
    "    margin=GO.layout.Margin(t=50, r=20, b=50, l=80, pad=0),\n",
    "    paper_bgcolor=\"LightSteelBlue\",\n",
    ")\n",
    "#fig.update_xaxes(categoryorder=\"total descending\")"
   ]
  },
  {
   "cell_type": "markdown",
   "metadata": {},
   "source": [
    "## Movie Countries"
   ]
  },
  {
   "cell_type": "code",
   "execution_count": null,
   "metadata": {
    "scrolled": true
   },
   "outputs": [],
   "source": [
    "XT.Explore.GetCountriesPlot()"
   ]
  },
  {
   "cell_type": "code",
   "execution_count": null,
   "metadata": {},
   "outputs": [],
   "source": [
    "master_ls = list(MD.MasterMovie.objects.values())\n",
    "master_df = PD.DataFrame(master_ls)\n",
    "master_df = master_df.drop(columns=['id', 'OriginalTitle', 'Poster', 'Synopsis', 'Indeces'])\n",
    "master_df.info()"
   ]
  },
  {
   "cell_type": "code",
   "execution_count": null,
   "metadata": {
    "scrolled": false
   },
   "outputs": [],
   "source": [
    "# drop nan's \n",
    "\n",
    "master_df = master_df.dropna(axis=0, subset=['Country'])\n",
    "master_df = master_df.loc[master_df['Country']!='nan'].reset_index().copy()\n",
    "master_df.info()"
   ]
  },
  {
   "cell_type": "code",
   "execution_count": null,
   "metadata": {},
   "outputs": [],
   "source": [
    "group_df = master_df.groupby('Country').count()['Movie_ID'].sort_values(ascending=False)\n",
    "group_df.head(10)"
   ]
  },
  {
   "cell_type": "code",
   "execution_count": null,
   "metadata": {},
   "outputs": [],
   "source": [
    "others_df = group_df.loc[group_df.index!='USA']\n",
    "others_df.head()"
   ]
  },
  {
   "cell_type": "code",
   "execution_count": null,
   "metadata": {},
   "outputs": [],
   "source": [
    "primary_x = ['USA', 'All Others']\n",
    "primary_y = [group_df[group_df.index=='USA'].values[0], others_df.sum()]\n",
    "primary_y"
   ]
  },
  {
   "cell_type": "code",
   "execution_count": null,
   "metadata": {},
   "outputs": [],
   "source": [
    "plot_df = others_df[:12]"
   ]
  },
  {
   "cell_type": "code",
   "execution_count": null,
   "metadata": {
    "scrolled": false
   },
   "outputs": [],
   "source": [
    "COLOR = 'mediumpurple'\n",
    "fig = SB.make_subplots(rows=1, cols=2, column_widths=[0.25, 0.75], \n",
    "                       subplot_titles=(\"Top Countries\", \"Secondary Countries\"))\n",
    "\n",
    "fig.add_trace(\n",
    "    GO.Bar(x=primary_x, y=primary_y, marker_color=COLOR, hoverlabel={'namelength': 0}), \n",
    "    row=1, col=1)\n",
    "fig.add_trace(\n",
    "    GO.Bar(x=plot_df.index, y=plot_df.values, marker_color=COLOR, hoverlabel={'namelength': 0}), \n",
    "    row=1, col=2)\n",
    "\n",
    "fig.update_layout(\n",
    "    title={'text': \"Countries That Make Movies\", 'x':0.5, 'y':0.99,  \n",
    "        'xanchor': 'center', 'yanchor': 'top'},\n",
    "    width=700,\n",
    "    height=500,\n",
    "    margin=GO.layout.Margin(t=50, r=20, b=50, l=70, pad=0),\n",
    "    paper_bgcolor=\"LightSteelBlue\",\n",
    "    showlegend=False,\n",
    ")\n",
    "\n",
    "# extend annotations so they don't override the subplot titles\n",
    "\n",
    "annotations = [a.to_plotly_json() for a in fig[\"layout\"][\"annotations\"]]\n",
    "#annotations.append(dict(x=0.5, y=-0.06, text=\"User Votes\"))\n",
    "# annotations.append({'font': {'size': 16}, 'showarrow': False, 'text': 'User Votes', \n",
    "#                     'x': 0.5, 'xanchor': 'center', 'xref': 'paper', \n",
    "#                     'y': -0.06, 'yanchor': 'bottom', 'yref': 'paper'})\n",
    "#annotations.append(dict(x=-0.05, y=0.4, text=\"Movies Count\", textangle=-90))\n",
    "annotations.append({'font': {'size': 16}, 'showarrow': False, 'text': 'Movie Counts', \n",
    "                    'x': -0.08, 'xanchor': 'center', 'xref': 'paper', \n",
    "                    'y': 0.4, 'yanchor': 'bottom', 'yref': 'paper', 'textangle':-90})\n",
    "fig[\"layout\"][\"annotations\"] = annotations\n",
    "\n",
    "# fig.update_xaxes(tickvals=vote_classes, range=[0.4, 3.6])\n",
    "# fig.update_yaxes(range=[0, 17000])\n",
    "\n",
    "fig.show()"
   ]
  },
  {
   "cell_type": "code",
   "execution_count": null,
   "metadata": {},
   "outputs": [],
   "source": [
    "fig = GO.Figure()\n",
    "fig.add_trace(\n",
    "    GO.Bar(x=plot_df.index, y=plot_df.values, marker_color='mediumpurple') )\n",
    "\n",
    "fig.update_layout(\n",
    "    title=\"Countries That Make Movies\",\n",
    "    xaxis_title=\"\",\n",
    "    yaxis_title=\"Movie Count\",\n",
    "    width=600,\n",
    "    height=500,\n",
    "    margin=GO.layout.Margin(t=50, r=20, b=10, l=70, pad=0),\n",
    "    paper_bgcolor=\"LightSteelBlue\",\n",
    ")\n",
    "# fig.update_xaxes(tickvals=vote_xy[0])\n",
    "# fig.update_yaxes(tickvals=list(range(0, 1000, 100)))"
   ]
  },
  {
   "cell_type": "code",
   "execution_count": null,
   "metadata": {},
   "outputs": [],
   "source": []
  }
 ],
 "metadata": {
  "kernelspec": {
   "display_name": "Django Shell-Plus",
   "language": "python",
   "name": "django_extensions"
  },
  "language_info": {
   "codemirror_mode": {
    "name": "ipython",
    "version": 3
   },
   "file_extension": ".py",
   "mimetype": "text/x-python",
   "name": "python",
   "nbconvert_exporter": "python",
   "pygments_lexer": "ipython3",
   "version": "3.7.5"
  }
 },
 "nbformat": 4,
 "nbformat_minor": 2
}
