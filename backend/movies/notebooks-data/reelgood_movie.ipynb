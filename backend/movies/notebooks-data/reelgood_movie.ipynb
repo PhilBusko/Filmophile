{
 "cells": [
  {
   "cell_type": "markdown",
   "metadata": {},
   "source": [
    "# Reelgood Scraper\n",
    "\n",
    "Workflow: 3  \n",
    "\n",
    "Goal: Start with the list of reelgood movie urls and get the data for each movie. Split the urls into jobs. \n",
    "\n",
    "Result: The file ```reelgood_movie.csv``` is created."
   ]
  },
  {
   "cell_type": "code",
   "execution_count": 1,
   "metadata": {},
   "outputs": [],
   "source": [
    "import os\n",
    "import time\n",
    "import pandas as PD"
   ]
  },
  {
   "cell_type": "code",
   "execution_count": 2,
   "metadata": {},
   "outputs": [],
   "source": [
    "from IPython.core.interactiveshell import InteractiveShell\n",
    "InteractiveShell.ast_node_interactivity = 'all'"
   ]
  },
  {
   "cell_type": "code",
   "execution_count": 3,
   "metadata": {},
   "outputs": [],
   "source": [
    "# can't reload script in a different folder\n",
    "\n",
    "import sys\n",
    "sys.path.append('../models')\n",
    "import reelgood_scraper as RS "
   ]
  },
  {
   "cell_type": "markdown",
   "metadata": {},
   "source": [
    "## Create Scraping Jobs "
   ]
  },
  {
   "cell_type": "code",
   "execution_count": 4,
   "metadata": {},
   "outputs": [
    {
     "data": {
      "text/html": [
       "<div>\n",
       "<style scoped>\n",
       "    .dataframe tbody tr th:only-of-type {\n",
       "        vertical-align: middle;\n",
       "    }\n",
       "\n",
       "    .dataframe tbody tr th {\n",
       "        vertical-align: top;\n",
       "    }\n",
       "\n",
       "    .dataframe thead th {\n",
       "        text-align: right;\n",
       "    }\n",
       "</style>\n",
       "<table border=\"1\" class=\"dataframe\">\n",
       "  <thead>\n",
       "    <tr style=\"text-align: right;\">\n",
       "      <th></th>\n",
       "      <th>title</th>\n",
       "      <th>year</th>\n",
       "      <th>reelgood_id</th>\n",
       "    </tr>\n",
       "  </thead>\n",
       "  <tbody>\n",
       "    <tr>\n",
       "      <th>0</th>\n",
       "      <td>1</td>\n",
       "      <td>2013</td>\n",
       "      <td>1-2013</td>\n",
       "    </tr>\n",
       "    <tr>\n",
       "      <th>1</th>\n",
       "      <td>10,000 BC</td>\n",
       "      <td>2008</td>\n",
       "      <td>10000-bc-2008</td>\n",
       "    </tr>\n",
       "    <tr>\n",
       "      <th>2</th>\n",
       "      <td>1000 Rupee Note</td>\n",
       "      <td>2016</td>\n",
       "      <td>1000-rupee-note-2016</td>\n",
       "    </tr>\n",
       "    <tr>\n",
       "      <th>3</th>\n",
       "      <td>1000 To 1</td>\n",
       "      <td>2014</td>\n",
       "      <td>1000-to-1-2014</td>\n",
       "    </tr>\n",
       "    <tr>\n",
       "      <th>4</th>\n",
       "      <td>$100 and a T-Shirt: A Documentary About Zines ...</td>\n",
       "      <td>2004</td>\n",
       "      <td>100-and-a-tshirt-a-documentary-about-zines-in-...</td>\n",
       "    </tr>\n",
       "  </tbody>\n",
       "</table>\n",
       "</div>"
      ],
      "text/plain": [
       "                                               title  year  \\\n",
       "0                                                  1  2013   \n",
       "1                                          10,000 BC  2008   \n",
       "2                                    1000 Rupee Note  2016   \n",
       "3                                          1000 To 1  2014   \n",
       "4  $100 and a T-Shirt: A Documentary About Zines ...  2004   \n",
       "\n",
       "                                         reelgood_id  \n",
       "0                                             1-2013  \n",
       "1                                      10000-bc-2008  \n",
       "2                               1000-rupee-note-2016  \n",
       "3                                     1000-to-1-2014  \n",
       "4  100-and-a-tshirt-a-documentary-about-zines-in-...  "
      ]
     },
     "execution_count": 4,
     "metadata": {},
     "output_type": "execute_result"
    },
    {
     "name": "stdout",
     "output_type": "stream",
     "text": [
      "<class 'pandas.core.frame.DataFrame'>\n",
      "RangeIndex: 18496 entries, 0 to 18495\n",
      "Data columns (total 3 columns):\n",
      "title          18496 non-null object\n",
      "year           18496 non-null int64\n",
      "reelgood_id    18496 non-null object\n",
      "dtypes: int64(1), object(2)\n",
      "memory usage: 433.6+ KB\n"
     ]
    }
   ],
   "source": [
    "URL_FILE = '../data/reelgood_url.csv'\n",
    "url_df = PD.read_csv(URL_FILE)\n",
    "url_df.head()\n",
    "url_df.info()"
   ]
  },
  {
   "cell_type": "code",
   "execution_count": 5,
   "metadata": {},
   "outputs": [
    {
     "data": {
      "text/plain": [
       "(3054, 3)"
      ]
     },
     "execution_count": 5,
     "metadata": {},
     "output_type": "execute_result"
    },
    {
     "data": {
      "text/plain": [
       "(5944, 3)"
      ]
     },
     "execution_count": 5,
     "metadata": {},
     "output_type": "execute_result"
    },
    {
     "data": {
      "text/plain": [
       "(3323, 3)"
      ]
     },
     "execution_count": 5,
     "metadata": {},
     "output_type": "execute_result"
    },
    {
     "data": {
      "text/plain": [
       "(6172, 3)"
      ]
     },
     "execution_count": 5,
     "metadata": {},
     "output_type": "execute_result"
    }
   ],
   "source": [
    "url_1_df = url_df[0:3054]\n",
    "url_2_df = url_df[3055:8999]\n",
    "url_3_df = url_df[9000:12323]\n",
    "url_4_df = url_df[12324:]\n",
    "\n",
    "url_1_df.shape\n",
    "url_2_df.shape\n",
    "url_3_df.shape\n",
    "url_4_df.shape"
   ]
  },
  {
   "cell_type": "markdown",
   "metadata": {},
   "source": [
    "## Scrape Rotation"
   ]
  },
  {
   "cell_type": "code",
   "execution_count": 6,
   "metadata": {
    "scrolled": true
   },
   "outputs": [
    {
     "name": "stdout",
     "output_type": "stream",
     "text": [
      "<selenium.webdriver.firefox.webdriver.WebDriver (session=\"fcabd134-f658-7e40-8e54-aa42bf5442fd\")>\n",
      "https://reelgood.com/login\n"
     ]
    }
   ],
   "source": [
    "scraper = RS.ReelgoodScraper()\n",
    "scraper.log_in()"
   ]
  },
  {
   "cell_type": "code",
   "execution_count": 7,
   "metadata": {
    "scrolled": false
   },
   "outputs": [
    {
     "name": "stdout",
     "output_type": "stream",
     "text": [
      "row: 12500\n",
      "row: 13000\n",
      "row: 13500\n",
      "row: 14000\n",
      "row: 14500\n",
      "row: 15000\n",
      "row: 15500\n",
      "row: 16000\n",
      "row: 16500\n",
      "row: 17000\n",
      "row: 17500\n",
      "row: 18000\n",
      "time: 4.76 hrs\n"
     ]
    }
   ],
   "source": [
    "t0 = time.time()\n",
    "movie_ls = []\n",
    "\n",
    "for idx, row in url_4_df.iterrows():\n",
    "    if idx % 500 == 0:\n",
    "        print(f'row: {idx}')\n",
    "        \n",
    "    rg_id = row['reelgood_id']\n",
    "    movie_dx = scraper.get_movie_data(rg_id)\n",
    "    movie_ls.append(movie_dx)\n",
    "\n",
    "scraper.close()\n",
    "t1 = time.time()\n",
    "print(f'time: {(t1-t0)/60/60:.2f} hrs')"
   ]
  },
  {
   "cell_type": "code",
   "execution_count": 8,
   "metadata": {
    "scrolled": false
   },
   "outputs": [
    {
     "data": {
      "text/html": [
       "<div>\n",
       "<style scoped>\n",
       "    .dataframe tbody tr th:only-of-type {\n",
       "        vertical-align: middle;\n",
       "    }\n",
       "\n",
       "    .dataframe tbody tr th {\n",
       "        vertical-align: top;\n",
       "    }\n",
       "\n",
       "    .dataframe thead th {\n",
       "        text-align: right;\n",
       "    }\n",
       "</style>\n",
       "<table border=\"1\" class=\"dataframe\">\n",
       "  <thead>\n",
       "    <tr style=\"text-align: right;\">\n",
       "      <th></th>\n",
       "      <th>title</th>\n",
       "      <th>year</th>\n",
       "      <th>duration</th>\n",
       "      <th>rating</th>\n",
       "      <th>country</th>\n",
       "      <th>poster</th>\n",
       "      <th>genres</th>\n",
       "      <th>tags</th>\n",
       "      <th>imdb_score</th>\n",
       "      <th>rt_score</th>\n",
       "      <th>synopsis</th>\n",
       "      <th>services</th>\n",
       "    </tr>\n",
       "  </thead>\n",
       "  <tbody>\n",
       "    <tr>\n",
       "      <th>0</th>\n",
       "      <td>Say You Will</td>\n",
       "      <td>2017</td>\n",
       "      <td>95.0</td>\n",
       "      <td>13+ (PG-13)</td>\n",
       "      <td>America</td>\n",
       "      <td>https://img.reelgood.com/content/movie/2c0cb45...</td>\n",
       "      <td>Drama</td>\n",
       "      <td>High School</td>\n",
       "      <td>6.7</td>\n",
       "      <td>None</td>\n",
       "      <td>A recent high school graduate cares for his mo...</td>\n",
       "      <td>{\"reelgood\": \"say-you-will-2018\", \"amazon\": \"B...</td>\n",
       "    </tr>\n",
       "    <tr>\n",
       "      <th>1</th>\n",
       "      <td>Scaffolding</td>\n",
       "      <td>2018</td>\n",
       "      <td>88.0</td>\n",
       "      <td>None</td>\n",
       "      <td>None</td>\n",
       "      <td>https://img.reelgood.com/content/movie/25d095a...</td>\n",
       "      <td>Drama</td>\n",
       "      <td>None</td>\n",
       "      <td>6.8</td>\n",
       "      <td>82%</td>\n",
       "      <td>17-year-old Asher is split between his charism...</td>\n",
       "      <td>{\"reelgood\": \"scaffolding-2018\", \"amazon\": \"B0...</td>\n",
       "    </tr>\n",
       "    <tr>\n",
       "      <th>2</th>\n",
       "      <td>Scalpel</td>\n",
       "      <td>1977</td>\n",
       "      <td>95.0</td>\n",
       "      <td>18+ (R)</td>\n",
       "      <td>America</td>\n",
       "      <td>https://img.reelgood.com/content/movie/c1f2206...</td>\n",
       "      <td>Drama, Thriller, Mystery</td>\n",
       "      <td>Doctor, Medical</td>\n",
       "      <td>6.3</td>\n",
       "      <td>None</td>\n",
       "      <td>A psychopathic plastic surgeon transforms a yo...</td>\n",
       "      <td>{\"reelgood\": \"scalpel-1977\", \"amazon\": \"B07KCT...</td>\n",
       "    </tr>\n",
       "    <tr>\n",
       "      <th>3</th>\n",
       "      <td>Scandal Makers</td>\n",
       "      <td>2008</td>\n",
       "      <td>108.0</td>\n",
       "      <td>None</td>\n",
       "      <td>None</td>\n",
       "      <td>https://img.reelgood.com/content/movie/91e9ec0...</td>\n",
       "      <td>Comedy, Drama</td>\n",
       "      <td>None</td>\n",
       "      <td>7.2</td>\n",
       "      <td>None</td>\n",
       "      <td>Former teen idol Nam Hyeon-soo is now in his t...</td>\n",
       "      <td>{\"reelgood\": \"speed-scandal-2008\", \"amazon\": \"...</td>\n",
       "    </tr>\n",
       "    <tr>\n",
       "      <th>4</th>\n",
       "      <td>Scare Campaign</td>\n",
       "      <td>2016</td>\n",
       "      <td>76.0</td>\n",
       "      <td>None</td>\n",
       "      <td>None</td>\n",
       "      <td>https://img.reelgood.com/content/movie/5fb3339...</td>\n",
       "      <td>Horror</td>\n",
       "      <td>None</td>\n",
       "      <td>5.8</td>\n",
       "      <td>None</td>\n",
       "      <td>Popular prank TV show, Scare Campaign, has bee...</td>\n",
       "      <td>{\"reelgood\": \"scare-campaign-2016\", \"amazon\": ...</td>\n",
       "    </tr>\n",
       "  </tbody>\n",
       "</table>\n",
       "</div>"
      ],
      "text/plain": [
       "            title  year  duration       rating  country  \\\n",
       "0    Say You Will  2017      95.0  13+ (PG-13)  America   \n",
       "1     Scaffolding  2018      88.0         None     None   \n",
       "2         Scalpel  1977      95.0      18+ (R)  America   \n",
       "3  Scandal Makers  2008     108.0         None     None   \n",
       "4  Scare Campaign  2016      76.0         None     None   \n",
       "\n",
       "                                              poster  \\\n",
       "0  https://img.reelgood.com/content/movie/2c0cb45...   \n",
       "1  https://img.reelgood.com/content/movie/25d095a...   \n",
       "2  https://img.reelgood.com/content/movie/c1f2206...   \n",
       "3  https://img.reelgood.com/content/movie/91e9ec0...   \n",
       "4  https://img.reelgood.com/content/movie/5fb3339...   \n",
       "\n",
       "                     genres             tags imdb_score rt_score  \\\n",
       "0                     Drama      High School        6.7     None   \n",
       "1                     Drama             None        6.8      82%   \n",
       "2  Drama, Thriller, Mystery  Doctor, Medical        6.3     None   \n",
       "3             Comedy, Drama             None        7.2     None   \n",
       "4                    Horror             None        5.8     None   \n",
       "\n",
       "                                            synopsis  \\\n",
       "0  A recent high school graduate cares for his mo...   \n",
       "1  17-year-old Asher is split between his charism...   \n",
       "2  A psychopathic plastic surgeon transforms a yo...   \n",
       "3  Former teen idol Nam Hyeon-soo is now in his t...   \n",
       "4  Popular prank TV show, Scare Campaign, has bee...   \n",
       "\n",
       "                                            services  \n",
       "0  {\"reelgood\": \"say-you-will-2018\", \"amazon\": \"B...  \n",
       "1  {\"reelgood\": \"scaffolding-2018\", \"amazon\": \"B0...  \n",
       "2  {\"reelgood\": \"scalpel-1977\", \"amazon\": \"B07KCT...  \n",
       "3  {\"reelgood\": \"speed-scandal-2008\", \"amazon\": \"...  \n",
       "4  {\"reelgood\": \"scare-campaign-2016\", \"amazon\": ...  "
      ]
     },
     "execution_count": 8,
     "metadata": {},
     "output_type": "execute_result"
    },
    {
     "name": "stdout",
     "output_type": "stream",
     "text": [
      "<class 'pandas.core.frame.DataFrame'>\n",
      "RangeIndex: 6172 entries, 0 to 6171\n",
      "Data columns (total 12 columns):\n",
      "title         6172 non-null object\n",
      "year          6172 non-null object\n",
      "duration      6048 non-null float64\n",
      "rating        2690 non-null object\n",
      "country       2560 non-null object\n",
      "poster        6172 non-null object\n",
      "genres        5972 non-null object\n",
      "tags          2875 non-null object\n",
      "imdb_score    5994 non-null object\n",
      "rt_score      2002 non-null object\n",
      "synopsis      6172 non-null object\n",
      "services      6172 non-null object\n",
      "dtypes: float64(1), object(11)\n",
      "memory usage: 578.8+ KB\n"
     ]
    }
   ],
   "source": [
    "movie_df = PD.DataFrame(movie_ls)\n",
    "movie_df.head()\n",
    "movie_df.info()"
   ]
  },
  {
   "cell_type": "code",
   "execution_count": 9,
   "metadata": {},
   "outputs": [
    {
     "data": {
      "text/plain": [
       "'3.51 mb'"
      ]
     },
     "execution_count": 9,
     "metadata": {},
     "output_type": "execute_result"
    }
   ],
   "source": [
    "save_path = r'../data/reelgood_mov_4.csv'\n",
    "movie_df.to_csv(save_path, index=False)\n",
    "f'{round(os.path.getsize(save_path) /1e6, 2)} mb'"
   ]
  },
  {
   "cell_type": "markdown",
   "metadata": {},
   "source": [
    "## Merge Job Files"
   ]
  },
  {
   "cell_type": "code",
   "execution_count": 10,
   "metadata": {},
   "outputs": [
    {
     "data": {
      "text/plain": [
       "(3056, 12)"
      ]
     },
     "execution_count": 10,
     "metadata": {},
     "output_type": "execute_result"
    },
    {
     "data": {
      "text/plain": [
       "(5944, 12)"
      ]
     },
     "execution_count": 10,
     "metadata": {},
     "output_type": "execute_result"
    },
    {
     "data": {
      "text/plain": [
       "(3326, 12)"
      ]
     },
     "execution_count": 10,
     "metadata": {},
     "output_type": "execute_result"
    },
    {
     "data": {
      "text/plain": [
       "(6172, 12)"
      ]
     },
     "execution_count": 10,
     "metadata": {},
     "output_type": "execute_result"
    }
   ],
   "source": [
    "movie_1_df = PD.read_csv('../data/reelgood_mov_1.csv')\n",
    "movie_2_df = PD.read_csv('../data/reelgood_mov_2.csv')\n",
    "movie_3_df = PD.read_csv('../data/reelgood_mov_3.csv')\n",
    "movie_4_df = PD.read_csv('../data/reelgood_mov_4.csv')\n",
    "\n",
    "movie_1_df.shape\n",
    "movie_2_df.shape\n",
    "movie_3_df.shape\n",
    "movie_4_df.shape"
   ]
  },
  {
   "cell_type": "code",
   "execution_count": 11,
   "metadata": {},
   "outputs": [],
   "source": [
    "# remove duplicates\n",
    "\n"
   ]
  },
  {
   "cell_type": "code",
   "execution_count": 12,
   "metadata": {},
   "outputs": [
    {
     "data": {
      "text/html": [
       "<div>\n",
       "<style scoped>\n",
       "    .dataframe tbody tr th:only-of-type {\n",
       "        vertical-align: middle;\n",
       "    }\n",
       "\n",
       "    .dataframe tbody tr th {\n",
       "        vertical-align: top;\n",
       "    }\n",
       "\n",
       "    .dataframe thead th {\n",
       "        text-align: right;\n",
       "    }\n",
       "</style>\n",
       "<table border=\"1\" class=\"dataframe\">\n",
       "  <thead>\n",
       "    <tr style=\"text-align: right;\">\n",
       "      <th></th>\n",
       "      <th>title</th>\n",
       "      <th>year</th>\n",
       "      <th>duration</th>\n",
       "      <th>rating</th>\n",
       "      <th>country</th>\n",
       "      <th>poster</th>\n",
       "      <th>genres</th>\n",
       "      <th>tags</th>\n",
       "      <th>imdb_score</th>\n",
       "      <th>rt_score</th>\n",
       "      <th>synopsis</th>\n",
       "      <th>services</th>\n",
       "    </tr>\n",
       "  </thead>\n",
       "  <tbody>\n",
       "    <tr>\n",
       "      <th>0</th>\n",
       "      <td>1</td>\n",
       "      <td>2013</td>\n",
       "      <td>112.0</td>\n",
       "      <td>13+ (PG-13)</td>\n",
       "      <td>America</td>\n",
       "      <td>https://img.reelgood.com/content/movie/9b61df6...</td>\n",
       "      <td>Documentary, Mystery, Thriller, Science-Fictio...</td>\n",
       "      <td>Car, Racing</td>\n",
       "      <td>8.0</td>\n",
       "      <td>NaN</td>\n",
       "      <td>Set in the golden era of Grand Prix Racing '1'...</td>\n",
       "      <td>{\"reelgood\": \"1-2013\", \"amazon\": \"B0751Q3J8P\"}</td>\n",
       "    </tr>\n",
       "    <tr>\n",
       "      <th>1</th>\n",
       "      <td>10,000 BC</td>\n",
       "      <td>2008</td>\n",
       "      <td>109.0</td>\n",
       "      <td>13+ (PG-13)</td>\n",
       "      <td>South Africa</td>\n",
       "      <td>https://img.reelgood.com/content/movie/84ff615...</td>\n",
       "      <td>Action &amp; Adventure, Drama, Fantasy, History</td>\n",
       "      <td>Egypt, Animal, Fighting, Hunting</td>\n",
       "      <td>5.1</td>\n",
       "      <td>8%</td>\n",
       "      <td>A prehistoric epic that follows a young mammot...</td>\n",
       "      <td>{\"reelgood\": \"10000-bc-2008\", \"netflix\": \"7006...</td>\n",
       "    </tr>\n",
       "    <tr>\n",
       "      <th>2</th>\n",
       "      <td>1000 Rupee Note</td>\n",
       "      <td>2016</td>\n",
       "      <td>89.0</td>\n",
       "      <td>NaN</td>\n",
       "      <td>NaN</td>\n",
       "      <td>https://img.reelgood.com/content/movie/08248c1...</td>\n",
       "      <td>Drama</td>\n",
       "      <td>NaN</td>\n",
       "      <td>7.3</td>\n",
       "      <td>80%</td>\n",
       "      <td>Poor Parobudhi receives a thousand rupee note ...</td>\n",
       "      <td>{\"reelgood\": \"1000-rupee-note-2016\", \"netflix\"...</td>\n",
       "    </tr>\n",
       "    <tr>\n",
       "      <th>3</th>\n",
       "      <td>1000 To 1</td>\n",
       "      <td>2014</td>\n",
       "      <td>99.0</td>\n",
       "      <td>NaN</td>\n",
       "      <td>NaN</td>\n",
       "      <td>https://img.reelgood.com/content/movie/dcc9187...</td>\n",
       "      <td>Drama, Biography</td>\n",
       "      <td>NaN</td>\n",
       "      <td>6.9</td>\n",
       "      <td>NaN</td>\n",
       "      <td>Cory Weissman is a college basketball player w...</td>\n",
       "      <td>{\"reelgood\": \"1000-to-1-2014\", \"amazon\": \"B07D...</td>\n",
       "    </tr>\n",
       "    <tr>\n",
       "      <th>4</th>\n",
       "      <td>$100 and a T-Shirt: A Documentary About Zines ...</td>\n",
       "      <td>2004</td>\n",
       "      <td>51.0</td>\n",
       "      <td>NaN</td>\n",
       "      <td>NaN</td>\n",
       "      <td>https://img.reelgood.com/content/movie/d2a26a5...</td>\n",
       "      <td>Documentary</td>\n",
       "      <td>NaN</td>\n",
       "      <td>6.3</td>\n",
       "      <td>NaN</td>\n",
       "      <td>A  cultural analysis of what causes zine maker...</td>\n",
       "      <td>{\"reelgood\": \"100-and-a-tshirt-a-documentary-a...</td>\n",
       "    </tr>\n",
       "  </tbody>\n",
       "</table>\n",
       "</div>"
      ],
      "text/plain": [
       "                                               title  year  duration  \\\n",
       "0                                                  1  2013     112.0   \n",
       "1                                          10,000 BC  2008     109.0   \n",
       "2                                    1000 Rupee Note  2016      89.0   \n",
       "3                                          1000 To 1  2014      99.0   \n",
       "4  $100 and a T-Shirt: A Documentary About Zines ...  2004      51.0   \n",
       "\n",
       "        rating       country  \\\n",
       "0  13+ (PG-13)       America   \n",
       "1  13+ (PG-13)  South Africa   \n",
       "2          NaN           NaN   \n",
       "3          NaN           NaN   \n",
       "4          NaN           NaN   \n",
       "\n",
       "                                              poster  \\\n",
       "0  https://img.reelgood.com/content/movie/9b61df6...   \n",
       "1  https://img.reelgood.com/content/movie/84ff615...   \n",
       "2  https://img.reelgood.com/content/movie/08248c1...   \n",
       "3  https://img.reelgood.com/content/movie/dcc9187...   \n",
       "4  https://img.reelgood.com/content/movie/d2a26a5...   \n",
       "\n",
       "                                              genres  \\\n",
       "0  Documentary, Mystery, Thriller, Science-Fictio...   \n",
       "1        Action & Adventure, Drama, Fantasy, History   \n",
       "2                                              Drama   \n",
       "3                                   Drama, Biography   \n",
       "4                                        Documentary   \n",
       "\n",
       "                               tags  imdb_score rt_score  \\\n",
       "0                       Car, Racing         8.0      NaN   \n",
       "1  Egypt, Animal, Fighting, Hunting         5.1       8%   \n",
       "2                               NaN         7.3      80%   \n",
       "3                               NaN         6.9      NaN   \n",
       "4                               NaN         6.3      NaN   \n",
       "\n",
       "                                            synopsis  \\\n",
       "0  Set in the golden era of Grand Prix Racing '1'...   \n",
       "1  A prehistoric epic that follows a young mammot...   \n",
       "2  Poor Parobudhi receives a thousand rupee note ...   \n",
       "3  Cory Weissman is a college basketball player w...   \n",
       "4  A  cultural analysis of what causes zine maker...   \n",
       "\n",
       "                                            services  \n",
       "0     {\"reelgood\": \"1-2013\", \"amazon\": \"B0751Q3J8P\"}  \n",
       "1  {\"reelgood\": \"10000-bc-2008\", \"netflix\": \"7006...  \n",
       "2  {\"reelgood\": \"1000-rupee-note-2016\", \"netflix\"...  \n",
       "3  {\"reelgood\": \"1000-to-1-2014\", \"amazon\": \"B07D...  \n",
       "4  {\"reelgood\": \"100-and-a-tshirt-a-documentary-a...  "
      ]
     },
     "execution_count": 12,
     "metadata": {},
     "output_type": "execute_result"
    },
    {
     "name": "stdout",
     "output_type": "stream",
     "text": [
      "<class 'pandas.core.frame.DataFrame'>\n",
      "Int64Index: 18498 entries, 0 to 6171\n",
      "Data columns (total 12 columns):\n",
      "title         18498 non-null object\n",
      "year          18498 non-null int64\n",
      "duration      18074 non-null float64\n",
      "rating        7998 non-null object\n",
      "country       7158 non-null object\n",
      "poster        18498 non-null object\n",
      "genres        17826 non-null object\n",
      "tags          8091 non-null object\n",
      "imdb_score    17895 non-null float64\n",
      "rt_score      5512 non-null object\n",
      "synopsis      18498 non-null object\n",
      "services      18498 non-null object\n",
      "dtypes: float64(2), int64(1), object(9)\n",
      "memory usage: 1.8+ MB\n"
     ]
    }
   ],
   "source": [
    "movie_df = PD.concat([movie_1_df, movie_2_df, movie_3_df, movie_4_df])\n",
    "movie_df.head()\n",
    "movie_df.info()"
   ]
  },
  {
   "cell_type": "code",
   "execution_count": 13,
   "metadata": {},
   "outputs": [
    {
     "data": {
      "text/plain": [
       "'10.43 mb'"
      ]
     },
     "execution_count": 13,
     "metadata": {},
     "output_type": "execute_result"
    }
   ],
   "source": [
    "save_path = r'../data/reelgood_movie.csv'\n",
    "movie_df.to_csv(save_path, index=False)\n",
    "f'{round(os.path.getsize(save_path) /1e6, 2)} mb'"
   ]
  }
 ],
 "metadata": {
  "kernelspec": {
   "display_name": "v5-kernel",
   "language": "python",
   "name": "v5-kernel"
  },
  "language_info": {
   "codemirror_mode": {
    "name": "ipython",
    "version": 3
   },
   "file_extension": ".py",
   "mimetype": "text/x-python",
   "name": "python",
   "nbconvert_exporter": "python",
   "pygments_lexer": "ipython3",
   "version": "3.7.5"
  }
 },
 "nbformat": 4,
 "nbformat_minor": 2
}
