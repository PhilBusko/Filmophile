{
 "cells": [
  {
   "cell_type": "markdown",
   "metadata": {},
   "source": [
    "# Target Engineering\n",
    "\n",
    "Workflow: 8 \n",
    "\n",
    "Goal: Create contrived votes for movies, just to have something to show quickly.\n",
    "\n",
    "Result: "
   ]
  },
  {
   "cell_type": "code",
   "execution_count": 1,
   "metadata": {},
   "outputs": [],
   "source": [
    "import os, sys\n",
    "import time\n",
    "import pandas as PD"
   ]
  },
  {
   "cell_type": "code",
   "execution_count": 2,
   "metadata": {},
   "outputs": [],
   "source": [
    "from IPython.core.interactiveshell import InteractiveShell\n",
    "InteractiveShell.ast_node_interactivity = 'all'"
   ]
  },
  {
   "cell_type": "code",
   "execution_count": 3,
   "metadata": {},
   "outputs": [
    {
     "data": {
      "text/plain": [
       "'app_proj.settings'"
      ]
     },
     "execution_count": 3,
     "metadata": {},
     "output_type": "execute_result"
    }
   ],
   "source": [
    "os.chdir(os.getenv('PWD'))\n",
    "sys.path.insert(0, os.getenv('PWD'))\n",
    "os.environ.setdefault(\"DJANGO_SETTINGS_MODULE\", \"settings.py\")\n",
    "import django\n",
    "django.setup()"
   ]
  },
  {
   "cell_type": "code",
   "execution_count": 4,
   "metadata": {},
   "outputs": [],
   "source": [
    "import movies.models.data_manager as DM\n",
    "import movies.models.analysis as NL"
   ]
  },
  {
   "cell_type": "markdown",
   "metadata": {},
   "source": [
    "## Synthetic Votes"
   ]
  },
  {
   "cell_type": "code",
   "execution_count": 5,
   "metadata": {},
   "outputs": [
    {
     "ename": "NameError",
     "evalue": "name 'DB' is not defined",
     "output_type": "error",
     "traceback": [
      "\u001b[0;31m---------------------------------------------------------------------------\u001b[0m",
      "\u001b[0;31mNameError\u001b[0m                                 Traceback (most recent call last)",
      "\u001b[0;32m<ipython-input-5-f72ef4fe64a1>\u001b[0m in \u001b[0;36m<module>\u001b[0;34m\u001b[0m\n\u001b[0;32m----> 1\u001b[0;31m \u001b[0mDM\u001b[0m\u001b[0;34m.\u001b[0m\u001b[0mReporter\u001b[0m\u001b[0;34m.\u001b[0m\u001b[0mRunVotePlot\u001b[0m\u001b[0;34m(\u001b[0m\u001b[0;34m)\u001b[0m\u001b[0;34m\u001b[0m\u001b[0;34m\u001b[0m\u001b[0m\n\u001b[0m",
      "\u001b[0;32m~/Documents/Websites/Movies_Proj/Filmophile/backend/movies/models/data_manager.py\u001b[0m in \u001b[0;36mRunVotePlot\u001b[0;34m()\u001b[0m\n\u001b[1;32m    635\u001b[0m     \u001b[0;34m@\u001b[0m\u001b[0mstaticmethod\u001b[0m\u001b[0;34m\u001b[0m\u001b[0;34m\u001b[0m\u001b[0m\n\u001b[1;32m    636\u001b[0m     \u001b[0;32mdef\u001b[0m \u001b[0mRunVotePlot\u001b[0m\u001b[0;34m(\u001b[0m\u001b[0;34m)\u001b[0m\u001b[0;34m:\u001b[0m\u001b[0;34m\u001b[0m\u001b[0;34m\u001b[0m\u001b[0m\n\u001b[0;32m--> 637\u001b[0;31m         \u001b[0mvote_md_ls\u001b[0m \u001b[0;34m=\u001b[0m \u001b[0mReporter\u001b[0m\u001b[0;34m.\u001b[0m\u001b[0mGetVoteCounts\u001b[0m\u001b[0;34m(\u001b[0m\u001b[0;34m)\u001b[0m\u001b[0;34m\u001b[0m\u001b[0;34m\u001b[0m\u001b[0m\n\u001b[0m\u001b[1;32m    638\u001b[0m         \u001b[0mvote_xy\u001b[0m \u001b[0;34m=\u001b[0m \u001b[0mReporter\u001b[0m\u001b[0;34m.\u001b[0m\u001b[0mConvertToHistogramSeries\u001b[0m\u001b[0;34m(\u001b[0m\u001b[0mvote_md_ls\u001b[0m\u001b[0;34m)\u001b[0m\u001b[0;34m\u001b[0m\u001b[0;34m\u001b[0m\u001b[0m\n\u001b[1;32m    639\u001b[0m         \u001b[0mfigure\u001b[0m \u001b[0;34m=\u001b[0m \u001b[0mReporter\u001b[0m\u001b[0;34m.\u001b[0m\u001b[0mGetVoteFigure\u001b[0m\u001b[0;34m(\u001b[0m\u001b[0mvote_xy\u001b[0m\u001b[0;34m)\u001b[0m\u001b[0;34m\u001b[0m\u001b[0;34m\u001b[0m\u001b[0m\n",
      "\u001b[0;32m~/Documents/Websites/Movies_Proj/Filmophile/backend/movies/models/data_manager.py\u001b[0m in \u001b[0;36mGetVoteCounts\u001b[0;34m()\u001b[0m\n\u001b[1;32m    645\u001b[0m     \u001b[0;32mdef\u001b[0m \u001b[0mGetVoteCounts\u001b[0m\u001b[0;34m(\u001b[0m\u001b[0;34m)\u001b[0m\u001b[0;34m:\u001b[0m\u001b[0;34m\u001b[0m\u001b[0;34m\u001b[0m\u001b[0m\n\u001b[1;32m    646\u001b[0m         vote_hist = list(   TB.UserVotes.objects.all().values('Vote').\n\u001b[0;32m--> 647\u001b[0;31m                             \u001b[0mannotate\u001b[0m\u001b[0;34m(\u001b[0m\u001b[0mtotal\u001b[0m\u001b[0;34m=\u001b[0m\u001b[0mDB\u001b[0m\u001b[0;34m.\u001b[0m\u001b[0mmodels\u001b[0m\u001b[0;34m.\u001b[0m\u001b[0mCount\u001b[0m\u001b[0;34m(\u001b[0m\u001b[0;34m'Vote'\u001b[0m\u001b[0;34m)\u001b[0m\u001b[0;34m)\u001b[0m\u001b[0;34m.\u001b[0m\u001b[0;34m\u001b[0m\u001b[0;34m\u001b[0m\u001b[0m\n\u001b[0m\u001b[1;32m    648\u001b[0m                             order_by('Vote') )\n\u001b[1;32m    649\u001b[0m         \u001b[0;32mreturn\u001b[0m \u001b[0mvote_hist\u001b[0m\u001b[0;34m\u001b[0m\u001b[0;34m\u001b[0m\u001b[0m\n",
      "\u001b[0;31mNameError\u001b[0m: name 'DB' is not defined"
     ]
    }
   ],
   "source": [
    "DM.Reporter.RunVotePlot()"
   ]
  },
  {
   "cell_type": "code",
   "execution_count": null,
   "metadata": {},
   "outputs": [],
   "source": []
  },
  {
   "cell_type": "code",
   "execution_count": null,
   "metadata": {
    "scrolled": true
   },
   "outputs": [],
   "source": [
    "MD.Edi tor.CreateSyntheticVotes()\n",
    "MD.UserVotes.objects.all().count()"
   ]
  },
  {
   "cell_type": "code",
   "execution_count": null,
   "metadata": {},
   "outputs": [],
   "source": [
    "InteractiveShell.ast_node_interactivity = 'last'"
   ]
  },
  {
   "cell_type": "code",
   "execution_count": null,
   "metadata": {},
   "outputs": [],
   "source": [
    "vote_md_ls = MD.Reporter.GetVoteCounts()\n",
    "vote_xy = MD.Reporter.ConvertToHistogramSeries(vote_md_ls)"
   ]
  },
  {
   "cell_type": "code",
   "execution_count": null,
   "metadata": {
    "scrolled": false
   },
   "outputs": [],
   "source": [
    "import plotly.graph_objects as GO\n",
    "\n",
    "fig = GO.Figure()\n",
    "fig.add_trace(\n",
    "    GO.Bar(\n",
    "        x= vote_xy[0],\n",
    "        y= vote_xy[1],\n",
    "        marker_color=['crimson', 'seagreen', 'gold']\n",
    "    ))\n",
    "fig.update_layout(\n",
    "    title=\"User Movie Votes\",\n",
    "    xaxis_title=\"Number of Stars\",\n",
    "    yaxis_title=\"Movie Count\",\n",
    "    width=500,\n",
    "    height=400,\n",
    "    margin=GO.layout.Margin(t=50, r=20, b=50, l=70, pad=0),\n",
    "    paper_bgcolor=\"LightSteelBlue\",\n",
    ")\n",
    "fig.update_xaxes(tickvals=vote_xy[0])\n",
    "fig.update_yaxes(tickvals=list(range(0, 500, 100)))"
   ]
  },
  {
   "cell_type": "code",
   "execution_count": null,
   "metadata": {},
   "outputs": [],
   "source": [
    "# figure = MD.Reporter.GetVoteFigure(vote_xy)\n",
    "# figure.show()"
   ]
  },
  {
   "cell_type": "code",
   "execution_count": null,
   "metadata": {},
   "outputs": [],
   "source": [
    "#MD.Reporter.RunVotePlot()"
   ]
  },
  {
   "cell_type": "code",
   "execution_count": null,
   "metadata": {},
   "outputs": [],
   "source": []
  }
 ],
 "metadata": {
  "kernelspec": {
   "display_name": "Django Shell-Plus",
   "language": "python",
   "name": "django_extensions"
  },
  "language_info": {
   "codemirror_mode": {
    "name": "ipython",
    "version": 3
   },
   "file_extension": ".py",
   "mimetype": "text/x-python",
   "name": "python",
   "nbconvert_exporter": "python",
   "pygments_lexer": "ipython3",
   "version": "3.7.5"
  }
 },
 "nbformat": 4,
 "nbformat_minor": 2
}
