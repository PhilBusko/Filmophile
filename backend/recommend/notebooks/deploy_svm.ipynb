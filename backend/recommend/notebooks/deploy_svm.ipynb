{
 "cells": [
  {
   "cell_type": "markdown",
   "metadata": {},
   "source": [
    "# Analysis: SVM for Development\n",
    "\n",
    "Workflow: 9D\n",
    "\n",
    "Goal: Create classification code that can run on server, and store results to database."
   ]
  },
  {
   "cell_type": "code",
   "execution_count": 1,
   "metadata": {},
   "outputs": [],
   "source": [
    "import os, sys, time\n",
    "import pandas as PD\n",
    "import numpy as NP\n",
    "\n",
    "import sklearn.impute as IM\n",
    "import sklearn.preprocessing as PP\n",
    "import sklearn.decomposition as DC\n",
    "import sklearn.linear_model as LM"
   ]
  },
  {
   "cell_type": "code",
   "execution_count": 2,
   "metadata": {},
   "outputs": [],
   "source": [
    "from IPython.core.interactiveshell import InteractiveShell\n",
    "InteractiveShell.ast_node_interactivity = 'all'"
   ]
  },
  {
   "cell_type": "code",
   "execution_count": 3,
   "metadata": {},
   "outputs": [
    {
     "data": {
      "text/plain": [
       "'app_proj.settings'"
      ]
     },
     "execution_count": 3,
     "metadata": {},
     "output_type": "execute_result"
    }
   ],
   "source": [
    "os.chdir(os.getenv('PWD'))\n",
    "sys.path.insert(0, os.getenv('PWD'))\n",
    "os.environ.setdefault('DJANGO_SETTINGS_MODULE', 'settings.py')\n",
    "import django\n",
    "django.setup()"
   ]
  },
  {
   "cell_type": "code",
   "execution_count": 4,
   "metadata": {},
   "outputs": [],
   "source": [
    "import app_proj.utility as UT\n",
    "import movies.models.tables as MT\n",
    "import recommend.models.tables as RT\n",
    "import recommend.models.analysis as NL"
   ]
  },
  {
   "cell_type": "markdown",
   "metadata": {},
   "source": [
    "## Server Version"
   ]
  },
  {
   "cell_type": "code",
   "execution_count": 5,
   "metadata": {},
   "outputs": [
    {
     "name": "stdout",
     "output_type": "stream",
     "text": [
      "<class 'pandas.core.frame.DataFrame'>\n",
      "Int64Index: 881 entries, 29 to 17612\n",
      "Columns: 878 entries, Year to Western\n",
      "dtypes: float64(5), int64(873)\n",
      "memory usage: 5.9 MB\n"
     ]
    },
    {
     "data": {
      "text/plain": [
       "(881,)"
      ]
     },
     "execution_count": 5,
     "metadata": {},
     "output_type": "execute_result"
    },
    {
     "name": "stdout",
     "output_type": "stream",
     "text": [
      "<class 'pandas.core.frame.DataFrame'>\n",
      "Int64Index: 16787 entries, 0 to 17667\n",
      "Columns: 880 entries, Movie_ID to Western\n",
      "dtypes: float64(5), int64(874), object(1)\n",
      "memory usage: 112.8+ MB\n"
     ]
    }
   ],
   "source": [
    "feature_wtarget_df, target_df, feature_topred_df = NL.FeatureEngineer.GetTargetNFeatures()\n",
    "\n",
    "feature_wtarget_df.info()\n",
    "target_df.shape\n",
    "feature_topred_df.info()"
   ]
  },
  {
   "cell_type": "code",
   "execution_count": 6,
   "metadata": {},
   "outputs": [
    {
     "data": {
      "text/plain": [
       "SGDClassifier(alpha=0.0001, average=False, class_weight=None,\n",
       "              early_stopping=False, epsilon=0.1, eta0=0.01, fit_intercept=True,\n",
       "              l1_ratio=0.15, learning_rate='invscaling',\n",
       "              loss='epsilon_insensitive', max_iter=200, n_iter_no_change=5,\n",
       "              n_jobs=None, penalty='l2', power_t=0.5, random_state=None,\n",
       "              shuffle=True, tol=0.001, validation_fraction=0.1, verbose=0,\n",
       "              warm_start=False)"
      ]
     },
     "execution_count": 6,
     "metadata": {},
     "output_type": "execute_result"
    }
   ],
   "source": [
    "svm = NL.SvmClassifier.TrainSvm(feature_wtarget_df, target_df)\n",
    "svm"
   ]
  },
  {
   "cell_type": "code",
   "execution_count": 7,
   "metadata": {},
   "outputs": [
    {
     "data": {
      "text/plain": [
       "16787"
      ]
     },
     "execution_count": 7,
     "metadata": {},
     "output_type": "execute_result"
    },
    {
     "ename": "NameError",
     "evalue": "name 'predic_ls' is not defined",
     "output_type": "error",
     "traceback": [
      "\u001b[0;31m---------------------------------------------------------------------------\u001b[0m",
      "\u001b[0;31mNameError\u001b[0m                                 Traceback (most recent call last)",
      "\u001b[0;32m<ipython-input-7-20f428dd64bb>\u001b[0m in \u001b[0;36m<module>\u001b[0;34m\u001b[0m\n\u001b[1;32m      1\u001b[0m \u001b[0mpredict_ls\u001b[0m \u001b[0;34m=\u001b[0m \u001b[0mNL\u001b[0m\u001b[0;34m.\u001b[0m\u001b[0mSvmClassifier\u001b[0m\u001b[0;34m.\u001b[0m\u001b[0mPredictUnwatched\u001b[0m\u001b[0;34m(\u001b[0m\u001b[0msvm\u001b[0m\u001b[0;34m,\u001b[0m \u001b[0mfeature_wtarget_df\u001b[0m\u001b[0;34m,\u001b[0m \u001b[0mfeature_topred_df\u001b[0m\u001b[0;34m)\u001b[0m\u001b[0;34m\u001b[0m\u001b[0;34m\u001b[0m\u001b[0m\n\u001b[1;32m      2\u001b[0m \u001b[0mlen\u001b[0m\u001b[0;34m(\u001b[0m\u001b[0mpredict_ls\u001b[0m\u001b[0;34m)\u001b[0m\u001b[0;34m\u001b[0m\u001b[0;34m\u001b[0m\u001b[0m\n\u001b[0;32m----> 3\u001b[0;31m \u001b[0mpredic_ls\u001b[0m\u001b[0;34m[\u001b[0m\u001b[0;34m:\u001b[0m\u001b[0;36m3\u001b[0m\u001b[0;34m]\u001b[0m\u001b[0;34m\u001b[0m\u001b[0;34m\u001b[0m\u001b[0m\n\u001b[0m",
      "\u001b[0;31mNameError\u001b[0m: name 'predic_ls' is not defined"
     ]
    }
   ],
   "source": [
    "predict_ls = NL.SvmClassifier.PredictUnwatched(svm, feature_wtarget_df, feature_topred_df)\n",
    "len(predict_ls)\n",
    "predict_ls[:3]"
   ]
  },
  {
   "cell_type": "code",
   "execution_count": 8,
   "metadata": {},
   "outputs": [
    {
     "data": {
      "text/plain": [
       "16787"
      ]
     },
     "execution_count": 8,
     "metadata": {},
     "output_type": "execute_result"
    }
   ],
   "source": [
    "# put it all together\n",
    "\n",
    "NL.SvmClassifier.RunRecommendations()\n",
    "RT.UserRecommendations.objects.count()"
   ]
  },
  {
   "cell_type": "code",
   "execution_count": null,
   "metadata": {},
   "outputs": [],
   "source": []
  },
  {
   "cell_type": "markdown",
   "metadata": {},
   "source": [
    "## Target & Features"
   ]
  },
  {
   "cell_type": "code",
   "execution_count": null,
   "metadata": {},
   "outputs": [],
   "source": [
    "FEATURE_ FILE = os.path.join(UT.BASE_DIR, NL.FEATURE_PATH)\n",
    "feature_all_df = PD.read_csv(FEATURE_FILE)\n",
    "feature_all_df.info()"
   ]
  },
  {
   "cell_type": "code",
   "execution_count": null,
   "metadata": {
    "scrolled": false
   },
   "outputs": [],
   "source": [
    "target_ls = RT.UserScores.objects.values()\n",
    "target_df = PD.DataFrame(target_ls).drop(columns=['id'])\n",
    "target_df.info()"
   ]
  },
  {
   "cell_type": "code",
   "execution_count": null,
   "metadata": {},
   "outputs": [],
   "source": [
    "target_df['Score'].value_counts()"
   ]
  },
  {
   "cell_type": "code",
   "execution_count": null,
   "metadata": {},
   "outputs": [],
   "source": [
    "feature_wtarget_df = feature_all_df.loc[feature_all_df['Movie_ID'].isin(target_df['Movie_ID'])==True]\n",
    "feature_wtarget_df.info()"
   ]
  },
  {
   "cell_type": "code",
   "execution_count": null,
   "metadata": {
    "scrolled": false
   },
   "outputs": [],
   "source": [
    "feature_topred_df = feature_all_df.loc[feature_all_df['Movie_ID'].isin(target_df['Movie_ID'])==False]\n",
    "feature_topred_df.info()"
   ]
  },
  {
   "cell_type": "markdown",
   "metadata": {},
   "source": [
    "## Train Algorithm"
   ]
  },
  {
   "cell_type": "code",
   "execution_count": null,
   "metadata": {},
   "outputs": [],
   "source": [
    "X_np = NP.array(feature_wtarget_df.drop(columns=['Movie_ID', 'Title']))\n",
    "y_np = NP.array(target_df['Score'])\n",
    "\n",
    "X_np.shape\n",
    "y_np.shape"
   ]
  },
  {
   "cell_type": "code",
   "execution_count": null,
   "metadata": {},
   "outputs": [],
   "source": [
    "imputer = IM.SimpleImputer(missing_values=NP.nan, strategy='mean')\n",
    "X_impute = imputer.fit_transform(X_np)\n",
    "X_impute.shape"
   ]
  },
  {
   "cell_type": "code",
   "execution_count": null,
   "metadata": {},
   "outputs": [],
   "source": [
    "scaler = PP.StandardScaler()\n",
    "X_scale = scaler.fit_transform(X_impute)\n",
    "X_scale.shape"
   ]
  },
  {
   "cell_type": "code",
   "execution_count": null,
   "metadata": {},
   "outputs": [],
   "source": [
    "LEARNING = 'invscaling'\n",
    "ETA0 = 0.01\n",
    "POWERT = None\n",
    "MAX_ITER = 200\n",
    "LOSS = 'epsilon_insensitive'\n",
    "PENALTY= None\n",
    "CLASS = None\n",
    "\n",
    "svm = LM.SGDClassifier(learning_rate=LEARNING, eta0=ETA0, max_iter=MAX_ITER, loss=LOSS);\n",
    "svm.fit(X_scale, y_np)"
   ]
  },
  {
   "cell_type": "markdown",
   "metadata": {},
   "source": [
    "## Predict Unwatched Movies"
   ]
  },
  {
   "cell_type": "code",
   "execution_count": null,
   "metadata": {
    "scrolled": true
   },
   "outputs": [],
   "source": [
    "X_pred = NP.array(feature_topred_df.drop(columns=['Movie_ID', 'Title']))\n",
    "X_pred.shape"
   ]
  },
  {
   "cell_type": "code",
   "execution_count": null,
   "metadata": {},
   "outputs": [],
   "source": [
    "X_pred_impute = imputer.transform(X_pred)\n",
    "X_pred_scale = scaler.transform(X_pred_impute)\n",
    "X_pred_scale.shape"
   ]
  },
  {
   "cell_type": "code",
   "execution_count": null,
   "metadata": {
    "scrolled": true
   },
   "outputs": [],
   "source": [
    "predict_np = svm.predict(X_pred_scale)\n",
    "predict_np.shape"
   ]
  },
  {
   "cell_type": "code",
   "execution_count": null,
   "metadata": {},
   "outputs": [],
   "source": [
    "NP.average(predict_np)"
   ]
  },
  {
   "cell_type": "code",
   "execution_count": null,
   "metadata": {},
   "outputs": [],
   "source": [
    "# reset index of target-to-predict so iterrows matches output of predict\n",
    "# pray that reset_index doesn't alter the order ...\n",
    "\n",
    "feature_tpreset_df = feature_topred_df.reset_index()\n",
    "feature_tpreset_df.info()"
   ]
  },
  {
   "cell_type": "code",
   "execution_count": null,
   "metadata": {
    "scrolled": true
   },
   "outputs": [],
   "source": [
    "predict_ls = []\n",
    "for idx, row in feature_tpreset_df.iterrows():\n",
    "    movie_id = int(row['Movie_ID'])\n",
    "    # get movie by Movie_ID, since features aren't part of db yet, though Movie_ID is unique\n",
    "    movie_md = MT.MasterMovie.objects.get(Movie_ID=movie_id)\n",
    "    new_dx = {\n",
    "        'Movie_FK': movie_md,\n",
    "        'User': 'main',\n",
    "        'RecomLevel': predict_np[idx],\n",
    "    }\n",
    "    predict_ls.append(new_dx)\n",
    "\n",
    "predict_ls[:2]"
   ]
  },
  {
   "cell_type": "code",
   "execution_count": null,
   "metadata": {},
   "outputs": [],
   "source": [
    "predict_df = PD.DataFrame(predict_ls)\n",
    "predict_df.info()"
   ]
  },
  {
   "cell_type": "code",
   "execution_count": null,
   "metadata": {},
   "outputs": [],
   "source": [
    "predict_df['RecomLevel'].value_counts()"
   ]
  },
  {
   "cell_type": "code",
   "execution_count": null,
   "metadata": {},
   "outputs": [],
   "source": [
    "InteractiveShell.ast_node_interactivity = 'last'"
   ]
  },
  {
   "cell_type": "code",
   "execution_count": null,
   "metadata": {
    "scrolled": false
   },
   "outputs": [],
   "source": [
    "# insert to db\n",
    "\n",
    "RT.UserRecommendations.objects.all().delete()\n",
    "data_obj_ls = [RT.UserRecommendations(**r) for r in predict_ls];\n",
    "RT.UserRecommendations.objects.bulk_create(data_obj_ls);\n",
    "RT.UserRecommendations.objects.count()"
   ]
  },
  {
   "cell_type": "code",
   "execution_count": null,
   "metadata": {},
   "outputs": [],
   "source": []
  }
 ],
 "metadata": {
  "kernelspec": {
   "display_name": "Django Shell-Plus",
   "language": "python",
   "name": "django_extensions"
  },
  "language_info": {
   "codemirror_mode": {
    "name": "ipython",
    "version": 3
   },
   "file_extension": ".py",
   "mimetype": "text/x-python",
   "name": "python",
   "nbconvert_exporter": "python",
   "pygments_lexer": "ipython3",
   "version": "3.7.5"
  }
 },
 "nbformat": 4,
 "nbformat_minor": 2
}
