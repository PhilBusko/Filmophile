{
 "cells": [
  {
   "cell_type": "markdown",
   "metadata": {},
   "source": [
    "# Algorithm Tuning: SVM\n",
    "\n",
    "Workflow: 2 \n",
    "\n",
    "Goal: Load features and target, and run classification.\n",
    "\n",
    "Result: For the tuned algorithm, the accuracy is ~6% higher than for the default config."
   ]
  },
  {
   "cell_type": "code",
   "execution_count": 1,
   "metadata": {},
   "outputs": [],
   "source": [
    "import os, sys, time\n",
    "import pandas as PD\n",
    "import numpy as NP\n",
    "\n",
    "import sklearn.impute as IM\n",
    "import sklearn.preprocessing as PP\n",
    "import sklearn.decomposition as DC\n",
    "import imblearn.pipeline as PL\n",
    "\n",
    "import sklearn.linear_model as LM\n",
    "import sklearn.model_selection as MS\n",
    "import plotly.graph_objects as GO"
   ]
  },
  {
   "cell_type": "code",
   "execution_count": 2,
   "metadata": {},
   "outputs": [],
   "source": [
    "import warnings\n",
    "warnings.filterwarnings('ignore')\n",
    "from IPython.core.interactiveshell import InteractiveShell\n",
    "InteractiveShell.ast_node_interactivity = 'all'"
   ]
  },
  {
   "cell_type": "code",
   "execution_count": 3,
   "metadata": {},
   "outputs": [
    {
     "data": {
      "text/plain": [
       "'app_proj.settings'"
      ]
     },
     "execution_count": 3,
     "metadata": {},
     "output_type": "execute_result"
    }
   ],
   "source": [
    "os.chdir(os.getenv('PWD'))\n",
    "sys.path.insert(0, os.getenv('PWD'))\n",
    "os.environ.setdefault('DJANGO_SETTINGS_MODULE', 'settings.py')\n",
    "import django\n",
    "django.setup()"
   ]
  },
  {
   "cell_type": "code",
   "execution_count": 4,
   "metadata": {},
   "outputs": [],
   "source": [
    "import app_proj.settings as ST\n",
    "import movies.models.models as MD\n",
    "import movies.models.analysis as NL"
   ]
  },
  {
   "cell_type": "markdown",
   "metadata": {},
   "source": [
    "## Target & Features"
   ]
  },
  {
   "cell_type": "code",
   "execution_count": 5,
   "metadata": {},
   "outputs": [
    {
     "name": "stdout",
     "output_type": "stream",
     "text": [
      "<class 'pandas.core.frame.DataFrame'>\n",
      "RangeIndex: 17668 entries, 0 to 17667\n",
      "Columns: 879 entries, Movie_ID to Western\n",
      "dtypes: float64(5), int64(873), object(1)\n",
      "memory usage: 118.5+ MB\n"
     ]
    }
   ],
   "source": [
    "FEATURE_FILE = os.path.join(ST.BASE_DIR, NL.FEATURE_PATH)\n",
    "feature_full_df = PD.read_csv(FEATURE_FILE)\n",
    "feature_full_df.info()"
   ]
  },
  {
   "cell_type": "code",
   "execution_count": 6,
   "metadata": {
    "scrolled": true
   },
   "outputs": [
    {
     "name": "stdout",
     "output_type": "stream",
     "text": [
      "<class 'pandas.core.frame.DataFrame'>\n",
      "RangeIndex: 881 entries, 0 to 880\n",
      "Data columns (total 3 columns):\n",
      "Movie_ID    881 non-null int64\n",
      "User        881 non-null object\n",
      "Vote        881 non-null int64\n",
      "dtypes: int64(2), object(1)\n",
      "memory usage: 20.8+ KB\n"
     ]
    }
   ],
   "source": [
    "target_ls = MD.UserVotes.objects.values()\n",
    "target_full_df = PD.DataFrame(target_ls).drop(columns=['id'])\n",
    "target_full_df.info()"
   ]
  },
  {
   "cell_type": "code",
   "execution_count": 7,
   "metadata": {},
   "outputs": [
    {
     "name": "stdout",
     "output_type": "stream",
     "text": [
      "<class 'pandas.core.frame.DataFrame'>\n",
      "Int64Index: 881 entries, 0 to 880\n",
      "Columns: 881 entries, Movie_ID to Western\n",
      "dtypes: float64(5), int64(874), object(2)\n",
      "memory usage: 5.9+ MB\n"
     ]
    }
   ],
   "source": [
    "full_df = PD.merge(target_full_df, feature_full_df, how='left', left_on='Movie_ID', right_on='Movie_ID')\n",
    "full_df.info()"
   ]
  },
  {
   "cell_type": "code",
   "execution_count": 8,
   "metadata": {},
   "outputs": [
    {
     "name": "stdout",
     "output_type": "stream",
     "text": [
      "<class 'pandas.core.frame.DataFrame'>\n",
      "Int64Index: 881 entries, 0 to 880\n",
      "Columns: 877 entries, Year to Western\n",
      "dtypes: float64(5), int64(872)\n",
      "memory usage: 5.9 MB\n"
     ]
    }
   ],
   "source": [
    "# keep only features for movies that have been voted on\n",
    "\n",
    "feature_df = full_df.drop(columns=['Movie_ID', 'Title', 'User', 'Vote'])\n",
    "feature_df.info()"
   ]
  },
  {
   "cell_type": "code",
   "execution_count": 9,
   "metadata": {
    "scrolled": true
   },
   "outputs": [
    {
     "name": "stdout",
     "output_type": "stream",
     "text": [
      "<class 'pandas.core.frame.DataFrame'>\n",
      "RangeIndex: 881 entries, 0 to 880\n",
      "Data columns (total 1 columns):\n",
      "Vote    881 non-null int64\n",
      "dtypes: int64(1)\n",
      "memory usage: 7.0 KB\n"
     ]
    },
    {
     "data": {
      "text/plain": [
       "1    574\n",
       "2    231\n",
       "3     76\n",
       "Name: Vote, dtype: int64"
      ]
     },
     "execution_count": 9,
     "metadata": {},
     "output_type": "execute_result"
    }
   ],
   "source": [
    "target_df = target_full_df.drop(columns=['Movie_ID', 'User'])\n",
    "target_df.info()\n",
    "target_df['Vote'].value_counts()"
   ]
  },
  {
   "cell_type": "code",
   "execution_count": 10,
   "metadata": {},
   "outputs": [
    {
     "data": {
      "text/plain": [
       "64.63620981387479"
      ]
     },
     "execution_count": 10,
     "metadata": {},
     "output_type": "execute_result"
    }
   ],
   "source": [
    "382 / 591 * 100"
   ]
  },
  {
   "cell_type": "markdown",
   "metadata": {},
   "source": [
    "## Run Baseline SVM"
   ]
  },
  {
   "cell_type": "code",
   "execution_count": 11,
   "metadata": {},
   "outputs": [
    {
     "data": {
      "text/plain": [
       "(881, 877)"
      ]
     },
     "execution_count": 11,
     "metadata": {},
     "output_type": "execute_result"
    },
    {
     "data": {
      "text/plain": [
       "(881,)"
      ]
     },
     "execution_count": 11,
     "metadata": {},
     "output_type": "execute_result"
    }
   ],
   "source": [
    "X_np = NP.array(feature_df)\n",
    "y_np = NP.array(target_df['Vote'])\n",
    "\n",
    "X_np.shape\n",
    "y_np.shape"
   ]
  },
  {
   "cell_type": "code",
   "execution_count": 12,
   "metadata": {},
   "outputs": [
    {
     "data": {
      "text/plain": [
       "(704, 877)"
      ]
     },
     "execution_count": 12,
     "metadata": {},
     "output_type": "execute_result"
    },
    {
     "data": {
      "text/plain": [
       "(704,)"
      ]
     },
     "execution_count": 12,
     "metadata": {},
     "output_type": "execute_result"
    }
   ],
   "source": [
    "# run xgboost with default arguments as the baseline\n",
    "# first get split-test-train \n",
    "\n",
    "y_train, y_test, X_train, X_test = MS.train_test_split(y_np, X_np, stratify=target_df['Vote'], test_size=0.2)\n",
    "X_train.shape\n",
    "y_train.shape"
   ]
  },
  {
   "cell_type": "code",
   "execution_count": 13,
   "metadata": {},
   "outputs": [
    {
     "data": {
      "text/plain": [
       "SimpleImputer(add_indicator=False, copy=True, fill_value=None,\n",
       "              missing_values=nan, strategy='mean', verbose=0)"
      ]
     },
     "execution_count": 13,
     "metadata": {},
     "output_type": "execute_result"
    },
    {
     "data": {
      "text/plain": [
       "(704, 877)"
      ]
     },
     "execution_count": 13,
     "metadata": {},
     "output_type": "execute_result"
    }
   ],
   "source": [
    "# impute values for PCA ?\n",
    "\n",
    "imputer = IM.SimpleImputer(missing_values=NP.nan, strategy='mean')\n",
    "imputer.fit(X_train)\n",
    "X_train_impute = imputer.transform(X_train)\n",
    "X_train_impute.shape"
   ]
  },
  {
   "cell_type": "code",
   "execution_count": 14,
   "metadata": {},
   "outputs": [
    {
     "data": {
      "text/plain": [
       "StandardScaler(copy=True, with_mean=True, with_std=True)"
      ]
     },
     "execution_count": 14,
     "metadata": {},
     "output_type": "execute_result"
    },
    {
     "data": {
      "text/plain": [
       "(704, 877)"
      ]
     },
     "execution_count": 14,
     "metadata": {},
     "output_type": "execute_result"
    }
   ],
   "source": [
    "# scale features\n",
    "\n",
    "scaler = PP.StandardScaler()\n",
    "scaler.fit(X_train_impute)\n",
    "X_train_scale = scaler.transform(X_train_impute)\n",
    "X_train_scale.shape"
   ]
  },
  {
   "cell_type": "code",
   "execution_count": 15,
   "metadata": {},
   "outputs": [],
   "source": [
    "#x_pca = DC.PCA(n_components=)"
   ]
  },
  {
   "cell_type": "code",
   "execution_count": 16,
   "metadata": {},
   "outputs": [
    {
     "data": {
      "text/plain": [
       "SGDClassifier(alpha=0.0001, average=False, class_weight=None,\n",
       "              early_stopping=False, epsilon=0.1, eta0=0.0, fit_intercept=True,\n",
       "              l1_ratio=0.15, learning_rate='optimal', loss='hinge',\n",
       "              max_iter=1000, n_iter_no_change=5, n_jobs=None, penalty='l2',\n",
       "              power_t=0.5, random_state=None, shuffle=True, tol=0.001,\n",
       "              validation_fraction=0.1, verbose=0, warm_start=False)"
      ]
     },
     "execution_count": 16,
     "metadata": {},
     "output_type": "execute_result"
    },
    {
     "data": {
      "text/plain": [
       "1    508\n",
       "2    158\n",
       "3     38\n",
       "Name: 0, dtype: int64"
      ]
     },
     "execution_count": 16,
     "metadata": {},
     "output_type": "execute_result"
    },
    {
     "name": "stdout",
     "output_type": "stream",
     "text": [
      "time: 0.00 mins\n"
     ]
    }
   ],
   "source": [
    "svm = LM.SGDClassifier();\n",
    "t0 = time.time()\n",
    "\n",
    "svm.fit(X_train_scale, y_train);\n",
    "y_predict = svm.predict(X_train_scale);\n",
    "PD.DataFrame(y_predict)[0].value_counts()\n",
    "\n",
    "t1 = time.time()\n",
    "print(f'time: {(t1-t0)/60:.2f} mins')"
   ]
  },
  {
   "cell_type": "code",
   "execution_count": 17,
   "metadata": {},
   "outputs": [
    {
     "name": "stdout",
     "output_type": "stream",
     "text": [
      "train score: 74.3\n",
      "test score: 54.2\n"
     ]
    }
   ],
   "source": [
    "# get the scores\n",
    "\n",
    "train_score = svm.score(X_train_scale, y_train) *100\n",
    "X_test_impute = imputer.transform(X_test)\n",
    "X_test_scale = scaler.transform(X_test_impute)\n",
    "test_score = svm.score(X_test_scale, y_test) *100\n",
    "\n",
    "print(f'train score: {train_score:.1f}')\n",
    "print(f'test score: {test_score:.1f}')"
   ]
  },
  {
   "cell_type": "markdown",
   "metadata": {},
   "source": [
    "## Run Grid Search\n",
    "\n",
    "steps: \n",
    "1. learning rate, eta0, power_t\n",
    "2. number of iterations   \n",
    "3. kernel optimization\n",
    "4. type of regularization, and penalty \n",
    "5. loss type\n",
    "6. class balance"
   ]
  },
  {
   "cell_type": "code",
   "execution_count": 18,
   "metadata": {},
   "outputs": [],
   "source": [
    "LEARNING = 'invscaling'\n",
    "ETA0 = 0.01\n",
    "POWERT = None\n",
    "MAX_ITER = 200\n",
    "LOSS = 'epsilon_insensitive'\n",
    "PENALTY= None\n",
    "CLASS = None\n",
    "\n",
    "#InteractiveShell.ast_node_interactivity = 'last'"
   ]
  },
  {
   "cell_type": "code",
   "execution_count": 19,
   "metadata": {},
   "outputs": [],
   "source": [
    "# define the tuner function \n",
    "\n",
    "import copy \n",
    "\n",
    "def svm_tuner(trials, algorithm, param_name, param_values):\n",
    "\n",
    "    param_dx = {f'estimator__{param_name}': param_values}\n",
    "    best_ls = []\n",
    "    t0 = time.time()\n",
    "\n",
    "    score_mx = {}\n",
    "    for pv in param_values:\n",
    "        if not pv: pv = 'none'\n",
    "        score_mx[pv] = []\n",
    "\n",
    "    for t in range(0, trials):\n",
    "\n",
    "        if t % 10 == 0: print(f'trial: {t}')\n",
    "\n",
    "        imputer = IM.SimpleImputer(missing_values=NP.nan, strategy='mean')\n",
    "        scaler = PP.StandardScaler()\n",
    "        estimator = copy.deepcopy(algorithm)\n",
    "        pipeline = PL.Pipeline([('imputer', imputer), ('scaler', scaler), ('estimator', estimator)])\n",
    "        searcher = MS.GridSearchCV(pipeline, param_dx, scoring='accuracy', cv=5)\n",
    "        searcher.fit(X_np, y_np);\n",
    "\n",
    "        best_ls.append(searcher.best_params_[f'estimator__{param_name}'])\n",
    "        score_per_value_ls = list(searcher.cv_results_['mean_test_score'])\n",
    "\n",
    "        for idx, pv in enumerate(param_values):\n",
    "            if not pv: pv = 'none'\n",
    "            percent = score_per_value_ls[idx] *100\n",
    "            rounded = float(f'{percent:.1f}')\n",
    "            score_mx[pv].append(rounded)\n",
    "\n",
    "    t1 = time.time()\n",
    "    best_value = PD.DataFrame(best_ls)[0].value_counts().index[0]\n",
    "    mean_trials_ls = [ float(f'{NP.array(score_mx[scr]).mean():.1f}') for scr in score_mx ]\n",
    "    scores_dx = dict(zip(param_values, mean_trials_ls ))\n",
    "\n",
    "    print('')\n",
    "    print(f'best value: {best_value}')\n",
    "    print(f'best score: {scores_dx[best_value]}')\n",
    "    print('')\n",
    "    print(f'time: {(t1-t0)/60:.2f} mins')\n",
    "    print(f'scores: {scores_dx}')\n",
    "    print('')\n",
    "    print( PD.DataFrame(best_ls)[0].value_counts() )"
   ]
  },
  {
   "cell_type": "markdown",
   "metadata": {},
   "source": [
    "## Run Tuner"
   ]
  },
  {
   "cell_type": "code",
   "execution_count": 20,
   "metadata": {},
   "outputs": [
    {
     "data": {
      "text/plain": [
       "SGDClassifier(alpha=0.0001, average=False, class_weight=None,\n",
       "              early_stopping=False, epsilon=0.1, eta0=0.01, fit_intercept=True,\n",
       "              l1_ratio=0.15, learning_rate='invscaling',\n",
       "              loss='epsilon_insensitive', max_iter=200, n_iter_no_change=5,\n",
       "              n_jobs=None, penalty='l2', power_t=0.5, random_state=None,\n",
       "              shuffle=True, tol=0.001, validation_fraction=0.1, verbose=0,\n",
       "              warm_start=False)"
      ]
     },
     "execution_count": 20,
     "metadata": {},
     "output_type": "execute_result"
    },
    {
     "data": {
      "text/plain": [
       "1    599\n",
       "2     78\n",
       "3     27\n",
       "Name: 0, dtype: int64"
      ]
     },
     "execution_count": 20,
     "metadata": {},
     "output_type": "execute_result"
    },
    {
     "name": "stdout",
     "output_type": "stream",
     "text": [
      "time: 0.00 mins\n"
     ]
    }
   ],
   "source": [
    "# best parameters from tuning\n",
    "\n",
    "svm = LM.SGDClassifier(learning_rate=LEARNING, eta0=ETA0, max_iter=MAX_ITER, loss=LOSS);\n",
    "t0 = time.time()\n",
    "\n",
    "svm.fit(X_train_scale, y_train);\n",
    "y_predict = svm.predict(X_train_scale);\n",
    "PD.DataFrame(y_predict)[0].value_counts()\n",
    "\n",
    "t1 = time.time()\n",
    "print(f'time: {(t1-t0)/60:.2f} mins')"
   ]
  },
  {
   "cell_type": "code",
   "execution_count": 21,
   "metadata": {
    "scrolled": true
   },
   "outputs": [
    {
     "name": "stdout",
     "output_type": "stream",
     "text": [
      "train score: 78.1\n",
      "test score: 60.5\n"
     ]
    }
   ],
   "source": [
    "# get the scores\n",
    "\n",
    "train_score = svm.score(X_train_scale, y_train) *100\n",
    "X_test_impute = imputer.transform(X_test)\n",
    "X_test_scale = scaler.transform(X_test_impute)\n",
    "test_score = svm.score(X_test_scale, y_test) *100\n",
    "\n",
    "print(f'train score: {train_score:.1f}')\n",
    "print(f'test score: {test_score:.1f}')"
   ]
  },
  {
   "cell_type": "markdown",
   "metadata": {},
   "source": []
  },
  {
   "cell_type": "code",
   "execution_count": 22,
   "metadata": {
    "scrolled": true
   },
   "outputs": [
    {
     "ename": "SyntaxError",
     "evalue": "invalid syntax (<ipython-input-22-4a2d087e35f5>, line 3)",
     "output_type": "error",
     "traceback": [
      "\u001b[0;36m  File \u001b[0;32m\"<ipython-input-22-4a2d087e35f5>\"\u001b[0;36m, line \u001b[0;32m3\u001b[0m\n\u001b[0;31m    tri als = 20\u001b[0m\n\u001b[0m          ^\u001b[0m\n\u001b[0;31mSyntaxError\u001b[0m\u001b[0;31m:\u001b[0m invalid syntax\n"
     ]
    }
   ],
   "source": [
    "# 7 class balance \n",
    "\n",
    "tri als = 20\n",
    "algorithm = LM.SGDClassifier(learning_rate=LEARNING, eta0=ETA0, max_iter=MAX_ITER,\n",
    "                            loss=LOSS);\n",
    "param_name = 'class_weight'\n",
    "param_values = ['balanced'] #, {1: 1, 2: 3, 3: 6}] \n",
    "\n",
    "svm_tuner(trials, algorithm, param_name, param_values)"
   ]
  },
  {
   "cell_type": "code",
   "execution_count": null,
   "metadata": {},
   "outputs": [],
   "source": [
    "# balancing the classes drops the accuracy by 5%\n",
    "\n",
    "\"\"\"\n",
    "best value: balanced\n",
    "best score: 55.9\n",
    "\n",
    "time: 0.37 mins\n",
    "scores: {'balanced': 55.9}\n",
    "\n",
    "balanced    20\n",
    "\"\"\""
   ]
  },
  {
   "cell_type": "code",
   "execution_count": null,
   "metadata": {},
   "outputs": [],
   "source": [
    "# 6 regularization \n",
    "\n",
    "trials = 50\n",
    "algorithm = LM.SGDClassifier(learning_rate=LEARNING, eta0=ETA0, max_iter=MAX_ITER,\n",
    "                            loss=LOSS);\n",
    "param_name = 'penalty'\n",
    "param_values = ['none', 'l2', 'l1'] \n",
    "\n",
    "svm_tuner(trials, algorithm, param_name, param_values)"
   ]
  },
  {
   "cell_type": "code",
   "execution_count": null,
   "metadata": {},
   "outputs": [],
   "source": [
    "# results are not better than default values\n",
    "\"\"\"\n",
    "best value: l2\n",
    "best score: 60.4\n",
    "\n",
    "time: 2.44 mins\n",
    "scores: {'none': 60.4, 'l2': 60.4, 'l1': 60.5}\n",
    "\n",
    "l2      18\n",
    "none    18\n",
    "l1      14\n",
    "\"\"\""
   ]
  },
  {
   "cell_type": "code",
   "execution_count": null,
   "metadata": {},
   "outputs": [],
   "source": [
    "# 5 loss type \n",
    "\n",
    "tri als = 50\n",
    "algorithm = LM.SGDClassifier(learning_rate=LEARNING, eta0=ETA0, max_iter=MAX_ITER);\n",
    "param_name = 'loss'\n",
    "param_values = ['hinge', 'log', 'modified_huber', 'squared_hinge', 'perceptron', 'squared_loss', \n",
    "                'huber', 'epsilon_insensitive', 'squared_epsilon_insensitive'] \n",
    "\n",
    "svm_tuner(trials, algorithm, param_name, param_values)"
   ]
  },
  {
   "cell_type": "code",
   "execution_count": null,
   "metadata": {},
   "outputs": [],
   "source": [
    "\"\"\"\n",
    "best value: epsilon_insensitive\n",
    "best score: 60.5\n",
    "\n",
    "time: 5.32 mins\n",
    "scores: {'hinge': 59.6, 'log': 59.2, 'modified_huber': 58.4, 'squared_hinge': 58.4, 'perceptron': 52.3, 'squared_loss': 59.6, 'huber': 57.3, 'epsilon_insensitive': 60.5, 'squared_epsilon_insensitive': 59.0}\n",
    "\n",
    "epsilon_insensitive    48\n",
    "squared_loss            2\n",
    "\"\"\""
   ]
  },
  {
   "cell_type": "code",
   "execution_count": null,
   "metadata": {},
   "outputs": [],
   "source": [
    "# 4 max iterations\n",
    "\n",
    "tri als = 100\n",
    "algorithm = LM.SGDClassifier(learning_rate=LEARNING, eta0=ETA0);\n",
    "param_name = 'max_iter'\n",
    "param_values = [100, 150, 200, 250, 300, 350] \n",
    "\n",
    "svm_tuner(trials, algorithm, param_name, param_values)"
   ]
  },
  {
   "cell_type": "code",
   "execution_count": null,
   "metadata": {},
   "outputs": [],
   "source": [
    "\"\"\"\n",
    "best value: 100\n",
    "best score: 59.6\n",
    "\n",
    "time: 7.48 mins\n",
    "scores: {100: 59.6, 150: 59.6, 200: 59.6, 250: 59.6, 300: 59.6, 350: 59.6}\n",
    "\n",
    "100    26\n",
    "250    19\n",
    "200    18\n",
    "150    17\n",
    "300    11\n",
    "350     9\n",
    "\n",
    "200    19\n",
    "100    17\n",
    "300    14\n",
    "400    14\n",
    "600    13\n",
    "500    11\n",
    "700     7\n",
    "800     5\n",
    "\"\"\""
   ]
  },
  {
   "cell_type": "code",
   "execution_count": null,
   "metadata": {},
   "outputs": [],
   "source": [
    "# 3 learning power-t\n",
    "\n",
    "tri als = 50\n",
    "algorithm = LM.SGDClassifier(learning_rate=LEARNING, eta0=ETA0);\n",
    "param_name = 'power_t'\n",
    "param_values = [1e-4, 1e-3, 1e-2, 1e-1, 1e0, 1e1, 1e2]\n",
    "\n",
    "svm_tuner(trials, algorithm, param_name, param_values)"
   ]
  },
  {
   "cell_type": "code",
   "execution_count": null,
   "metadata": {},
   "outputs": [],
   "source": [
    "\"\"\"\n",
    "best value: 0.1\n",
    "best score: 57.7\n",
    "\n",
    "time: 2.62 mins\n",
    "scores: {0.0001: 56.2, 0.001: 56.4, 0.01: 56.5, 0.1: 57.7, 1.0: 48.1, 10.0: 33.5, 100.0: 33.4}\n",
    "\n",
    "0.1000    44\n",
    "0.0010     3\n",
    "0.0100     2\n",
    "0.0001     1\n",
    "\"\"\""
   ]
  },
  {
   "cell_type": "code",
   "execution_count": null,
   "metadata": {},
   "outputs": [],
   "source": [
    "# 2 learning eta\n",
    "\n",
    "trials = 50\n",
    "algorithm = LM.SGDClassifier(learning_rate=LEARNING, eta0=0.1);\n",
    "param_name = 'eta0'\n",
    "param_values = [1e-4, 1e-3, 1e-2, 1e-1, 1e0, 1e1]\n",
    "\n",
    "svm_tuner(trials, algorithm, param_name, param_values)"
   ]
  },
  {
   "cell_type": "code",
   "execution_count": null,
   "metadata": {},
   "outputs": [],
   "source": [
    "\"\"\"\n",
    "best value: 0.01\n",
    "best score: 59.5\n",
    "\n",
    "time: 6.34 mins\n",
    "scores: {0.0001: 57.1, 0.001: 57.8, 0.01: 59.5, 0.1: 58.4, 1.0: 56.7, 10.0: 54.4}\n",
    "\n",
    "0.01    49\n",
    "0.10     1\n",
    "\"\"\""
   ]
  },
  {
   "cell_type": "code",
   "execution_count": null,
   "metadata": {},
   "outputs": [],
   "source": [
    "# 1 learning rate\n",
    "\n",
    "trials = 50\n",
    "algorithm = LM.SGDClassifier(eta0=0.1);\n",
    "param_name = 'learning_rate'\n",
    "param_values = ['constant', 'optimal', 'invscaling', 'adaptive']\n",
    "\n",
    "svm_tuner(trials, algorithm, param_name, param_values)"
   ]
  },
  {
   "cell_type": "code",
   "execution_count": null,
   "metadata": {},
   "outputs": [],
   "source": [
    "\"\"\"\n",
    "best value: invscaling\n",
    "best score: 58.5\n",
    "\n",
    "time: 2.87 mins\n",
    "scores: {'constant': 53.6, 'optimal': 53.5, 'invscaling': 58.5, 'adaptive': 56.0}\n",
    "\n",
    "invscaling    50\n",
    "\"\"\""
   ]
  }
 ],
 "metadata": {
  "kernelspec": {
   "display_name": "Django Shell-Plus",
   "language": "python",
   "name": "django_extensions"
  },
  "language_info": {
   "codemirror_mode": {
    "name": "ipython",
    "version": 3
   },
   "file_extension": ".py",
   "mimetype": "text/x-python",
   "name": "python",
   "nbconvert_exporter": "python",
   "pygments_lexer": "ipython3",
   "version": "3.7.5"
  }
 },
 "nbformat": 4,
 "nbformat_minor": 2
}
