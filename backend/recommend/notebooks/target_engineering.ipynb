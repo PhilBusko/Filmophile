{
 "cells": [
  {
   "cell_type": "markdown",
   "metadata": {},
   "source": [
    "# Target Engineering\n",
    "\n",
    "Workflow: 2 \n",
    "\n",
    "Goal: Create contrived votes for movies, just to have something to show quickly.\n",
    "\n",
    "Result: The UserVotes table has movies assigned to it. "
   ]
  },
  {
   "cell_type": "code",
   "execution_count": 1,
   "metadata": {},
   "outputs": [],
   "source": [
    "import os, sys\n",
    "import time\n",
    "import pandas as PD\n",
    "import plotly.graph_objects as GO"
   ]
  },
  {
   "cell_type": "code",
   "execution_count": 2,
   "metadata": {},
   "outputs": [],
   "source": [
    "from IPython.core.interactiveshell import InteractiveShell\n",
    "InteractiveShell.ast_node_interactivity = 'all'"
   ]
  },
  {
   "cell_type": "code",
   "execution_count": 3,
   "metadata": {},
   "outputs": [
    {
     "data": {
      "text/plain": [
       "'app_proj.settings'"
      ]
     },
     "execution_count": 3,
     "metadata": {},
     "output_type": "execute_result"
    }
   ],
   "source": [
    "os.chdir(os.getenv('PWD'))\n",
    "sys.path.insert(0, os.getenv('PWD'))\n",
    "os.environ.setdefault(\"DJANGO_SETTINGS_MODULE\", \"settings.py\")\n",
    "import django\n",
    "django.setup()"
   ]
  },
  {
   "cell_type": "code",
   "execution_count": 4,
   "metadata": {},
   "outputs": [],
   "source": [
    "import django.db as DB\n",
    "import app_proj.utility as UT\n",
    "import movies.models.tables as MT\n",
    "import movies.extract.moviedb_helper as MH\n",
    "import recommend.models.tables as RT\n",
    "import recommend.models.analysis as NL"
   ]
  },
  {
   "cell_type": "markdown",
   "metadata": {},
   "source": [
    "## Synthetic Votes"
   ]
  },
  {
   "cell_type": "code",
   "execution_count": 5,
   "metadata": {
    "scrolled": false
   },
   "outputs": [
    {
     "data": {
      "text/plain": [
       "881"
      ]
     },
     "execution_count": 5,
     "metadata": {},
     "output_type": "execute_result"
    }
   ],
   "source": [
    "NL.FeatureEngineer.CreateSyntheticVotes()\n",
    "RT.UserScores.objects.all().count()"
   ]
  },
  {
   "cell_type": "code",
   "execution_count": 6,
   "metadata": {},
   "outputs": [],
   "source": [
    "InteractiveShell.ast_node_interactivity = 'last'"
   ]
  },
  {
   "cell_type": "code",
   "execution_count": 7,
   "metadata": {},
   "outputs": [],
   "source": [
    "def GetScorePlot():\n",
    "    \n",
    "    score_hist = list(  RT.UserVotes.objects.all().values('Vote').\n",
    "                        annotate(total=DB.models.Count('Vote')).\n",
    "                        order_by('Vote') )\n",
    "    \n",
    "    x_ls = []\n",
    "    y_ls = []\n",
    "\n",
    "    for dt in score_hist:\n",
    "        x = dt[list(dt.keys())[0]]\n",
    "        y = dt[list(dt.keys())[1]]\n",
    "\n",
    "        x_ls.append(x)\n",
    "        y_ls.append(y)\n",
    "\n",
    "    fig = GO.Figure()\n",
    "    fig.add_trace(\n",
    "        GO.Bar( x=x_ls, y=y_ls,\n",
    "                marker_color=['crimson', 'seagreen', 'gold']\n",
    "        ))\n",
    "    fig.update_layout(\n",
    "        title=\"User Movie Scores\",\n",
    "        xaxis_title=\"Number of Stars\",\n",
    "        yaxis_title=\"Movie Count\",\n",
    "        width=400,\n",
    "        height=300,\n",
    "        margin=GO.layout.Margin(t=50, r=20, b=50, l=70, pad=0),\n",
    "        paper_bgcolor=\"LightSteelBlue\",\n",
    "    )\n",
    "    fig.update_xaxes(tickvals=x_ls)\n",
    "    fig.update_yaxes(tickvals=list(range(0, 1000, 100)))\n",
    "    \n",
    "    fig.show()\n",
    "    \n",
    "    json = UT.ConvertFigureToJson(fig)\n",
    "\n",
    "    return json"
   ]
  },
  {
   "cell_type": "code",
   "execution_count": null,
   "metadata": {},
   "outputs": [],
   "source": []
  },
  {
   "cell_type": "code",
   "execution_count": 8,
   "metadata": {},
   "outputs": [
    {
     "ename": "AttributeError",
     "evalue": "module 'recommend.models.tables' has no attribute 'UserVotes'",
     "output_type": "error",
     "traceback": [
      "\u001b[0;31m---------------------------------------------------------------------------\u001b[0m",
      "\u001b[0;31mAttributeError\u001b[0m                            Traceback (most recent call last)",
      "\u001b[0;32m<ipython-input-8-17e4b1e314e0>\u001b[0m in \u001b[0;36m<module>\u001b[0;34m\u001b[0m\n\u001b[0;32m----> 1\u001b[0;31m \u001b[0mGetScorePlot\u001b[0m\u001b[0;34m(\u001b[0m\u001b[0;34m)\u001b[0m\u001b[0;34m\u001b[0m\u001b[0;34m\u001b[0m\u001b[0m\n\u001b[0m",
      "\u001b[0;32m<ipython-input-7-895abac75920>\u001b[0m in \u001b[0;36mGetScorePlot\u001b[0;34m()\u001b[0m\n\u001b[1;32m      1\u001b[0m \u001b[0;32mdef\u001b[0m \u001b[0mGetScorePlot\u001b[0m\u001b[0;34m(\u001b[0m\u001b[0;34m)\u001b[0m\u001b[0;34m:\u001b[0m\u001b[0;34m\u001b[0m\u001b[0;34m\u001b[0m\u001b[0m\n\u001b[1;32m      2\u001b[0m \u001b[0;34m\u001b[0m\u001b[0m\n\u001b[0;32m----> 3\u001b[0;31m     score_hist = list(  RT.UserVotes.objects.all().values('Vote').\n\u001b[0m\u001b[1;32m      4\u001b[0m                         \u001b[0mannotate\u001b[0m\u001b[0;34m(\u001b[0m\u001b[0mtotal\u001b[0m\u001b[0;34m=\u001b[0m\u001b[0mDB\u001b[0m\u001b[0;34m.\u001b[0m\u001b[0mmodels\u001b[0m\u001b[0;34m.\u001b[0m\u001b[0mCount\u001b[0m\u001b[0;34m(\u001b[0m\u001b[0;34m'Vote'\u001b[0m\u001b[0;34m)\u001b[0m\u001b[0;34m)\u001b[0m\u001b[0;34m.\u001b[0m\u001b[0;34m\u001b[0m\u001b[0;34m\u001b[0m\u001b[0m\n\u001b[1;32m      5\u001b[0m                         order_by('Vote') )\n",
      "\u001b[0;31mAttributeError\u001b[0m: module 'recommend.models.tables' has no attribute 'UserVotes'"
     ]
    }
   ],
   "source": [
    "GetScorePlot()"
   ]
  },
  {
   "cell_type": "code",
   "execution_count": null,
   "metadata": {},
   "outputs": [],
   "source": []
  }
 ],
 "metadata": {
  "kernelspec": {
   "display_name": "Django Shell-Plus",
   "language": "python",
   "name": "django_extensions"
  },
  "language_info": {
   "codemirror_mode": {
    "name": "ipython",
    "version": 3
   },
   "file_extension": ".py",
   "mimetype": "text/x-python",
   "name": "python",
   "nbconvert_exporter": "python",
   "pygments_lexer": "ipython3",
   "version": "3.7.5"
  }
 },
 "nbformat": 4,
 "nbformat_minor": 2
}
